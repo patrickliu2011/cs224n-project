{
 "cells": [
  {
   "cell_type": "code",
   "execution_count": 116,
   "id": "1b69697b-f36e-4b6c-9d28-d99ac14cb1ee",
   "metadata": {},
   "outputs": [],
   "source": [
    "import transformers\n",
    "from transformers import AutoTokenizer, AutoModelForSequenceClassification\n",
    "from transformers import RobertaForSequenceClassification\n",
    "import torch\n",
    "import pandas as pd\n",
    "import matplotlib.pyplot as plt\n",
    "import os, sys"
   ]
  },
  {
   "cell_type": "code",
   "execution_count": 6,
   "id": "9b0409b3-ee93-4dca-95f3-0ceeea3a0862",
   "metadata": {},
   "outputs": [
    {
     "data": {
      "text/plain": [
       "device(type='cpu')"
      ]
     },
     "execution_count": 6,
     "metadata": {},
     "output_type": "execute_result"
    }
   ],
   "source": [
    "device = torch.device(\"cuda\" if torch.cuda.is_available() else \"cpu\")\n",
    "device"
   ]
  },
  {
   "cell_type": "markdown",
   "id": "dd0178a6-9831-49d4-9917-9320c700d5fc",
   "metadata": {},
   "source": [
    "# Load Data"
   ]
  },
  {
   "cell_type": "code",
   "execution_count": 7,
   "id": "f4ba86b0-f569-4e7b-b1aa-917079d1386e",
   "metadata": {},
   "outputs": [
    {
     "name": "stdout",
     "output_type": "stream",
     "text": [
      "beliefbank_data/silver_sentences.csv\n"
     ]
    }
   ],
   "source": [
    "!ls beliefbank_data/silver_sentences.csv"
   ]
  },
  {
   "cell_type": "code",
   "execution_count": 8,
   "id": "f997a500-bd20-4482-a614-12d4a55e6f24",
   "metadata": {},
   "outputs": [
    {
     "data": {
      "text/html": [
       "<div>\n",
       "<style scoped>\n",
       "    .dataframe tbody tr th:only-of-type {\n",
       "        vertical-align: middle;\n",
       "    }\n",
       "\n",
       "    .dataframe tbody tr th {\n",
       "        vertical-align: top;\n",
       "    }\n",
       "\n",
       "    .dataframe thead th {\n",
       "        text-align: right;\n",
       "    }\n",
       "</style>\n",
       "<table border=\"1\" class=\"dataframe\">\n",
       "  <thead>\n",
       "    <tr style=\"text-align: right;\">\n",
       "      <th></th>\n",
       "      <th>0</th>\n",
       "    </tr>\n",
       "  </thead>\n",
       "  <tbody>\n",
       "    <tr>\n",
       "      <th>0</th>\n",
       "      <td>A american bison is a mammal.</td>\n",
       "    </tr>\n",
       "    <tr>\n",
       "      <th>1</th>\n",
       "      <td>A american bison is a american bison.</td>\n",
       "    </tr>\n",
       "    <tr>\n",
       "      <th>2</th>\n",
       "      <td>A american bison is an animal.</td>\n",
       "    </tr>\n",
       "    <tr>\n",
       "      <th>3</th>\n",
       "      <td>A american bison is a vertebrate.</td>\n",
       "    </tr>\n",
       "    <tr>\n",
       "      <th>4</th>\n",
       "      <td>A american bison is a warm blooded animal.</td>\n",
       "    </tr>\n",
       "    <tr>\n",
       "      <th>...</th>\n",
       "      <td>...</td>\n",
       "    </tr>\n",
       "    <tr>\n",
       "      <th>12631</th>\n",
       "      <td>A peony is not a building.</td>\n",
       "    </tr>\n",
       "    <tr>\n",
       "      <th>12632</th>\n",
       "      <td>A peony is not a salad.</td>\n",
       "    </tr>\n",
       "    <tr>\n",
       "      <th>12633</th>\n",
       "      <td>A peony is not a soda.</td>\n",
       "    </tr>\n",
       "    <tr>\n",
       "      <th>12634</th>\n",
       "      <td>A peony is not a toy.</td>\n",
       "    </tr>\n",
       "    <tr>\n",
       "      <th>12635</th>\n",
       "      <td>A peony is not a water.</td>\n",
       "    </tr>\n",
       "  </tbody>\n",
       "</table>\n",
       "<p>12636 rows × 1 columns</p>\n",
       "</div>"
      ],
      "text/plain": [
       "                                                0\n",
       "0                   A american bison is a mammal.\n",
       "1           A american bison is a american bison.\n",
       "2                  A american bison is an animal.\n",
       "3               A american bison is a vertebrate.\n",
       "4      A american bison is a warm blooded animal.\n",
       "...                                           ...\n",
       "12631                  A peony is not a building.\n",
       "12632                     A peony is not a salad.\n",
       "12633                      A peony is not a soda.\n",
       "12634                       A peony is not a toy.\n",
       "12635                     A peony is not a water.\n",
       "\n",
       "[12636 rows x 1 columns]"
      ]
     },
     "execution_count": 8,
     "metadata": {},
     "output_type": "execute_result"
    }
   ],
   "source": [
    "df = pd.read_csv(\"beliefbank_data/silver_sentences.csv\", header=None)\n",
    "df"
   ]
  },
  {
   "cell_type": "markdown",
   "id": "c7c1347d-7499-43ba-8060-2c42c5632b26",
   "metadata": {},
   "source": [
    "# Load NLI model"
   ]
  },
  {
   "cell_type": "code",
   "execution_count": 80,
   "id": "336ea870-c763-4c09-89c8-179a5921efa2",
   "metadata": {},
   "outputs": [
    {
     "name": "stderr",
     "output_type": "stream",
     "text": [
      "Some weights of the model checkpoint at ynie/roberta-large-snli_mnli_fever_anli_R1_R2_R3-nli were not used when initializing RobertaForSequenceClassification: ['roberta.pooler.dense.bias', 'roberta.pooler.dense.weight']\n",
      "- This IS expected if you are initializing RobertaForSequenceClassification from the checkpoint of a model trained on another task or with another architecture (e.g. initializing a BertForSequenceClassification model from a BertForPreTraining model).\n",
      "- This IS NOT expected if you are initializing RobertaForSequenceClassification from the checkpoint of a model that you expect to be exactly identical (initializing a BertForSequenceClassification model from a BertForSequenceClassification model).\n"
     ]
    }
   ],
   "source": [
    "max_length = 256\n",
    "nli_tokenizer = AutoTokenizer.from_pretrained(\"ynie/roberta-large-snli_mnli_fever_anli_R1_R2_R3-nli\")\n",
    "nli_model = AutoModelForSequenceClassification.from_pretrained(\"ynie/roberta-large-snli_mnli_fever_anli_R1_R2_R3-nli\")"
   ]
  },
  {
   "cell_type": "markdown",
   "id": "4529f0a1-7a50-45ad-a7e4-68162d270ee2",
   "metadata": {},
   "source": [
    "# Example NLI on pair of sentences"
   ]
  },
  {
   "cell_type": "code",
   "execution_count": 81,
   "id": "944ca5a6-d075-4847-b4e2-bf8cd2f365fa",
   "metadata": {},
   "outputs": [
    {
     "name": "stdout",
     "output_type": "stream",
     "text": [
      "A american bison is a mammal.\n",
      "A american bison is a american bison.\n"
     ]
    }
   ],
   "source": [
    "sent1 = df.iloc[0][0]\n",
    "sent2 = df.iloc[1][0]\n",
    "print(sent1)\n",
    "print(sent2)"
   ]
  },
  {
   "cell_type": "code",
   "execution_count": 82,
   "id": "f1725ac2-812e-434f-a3e9-5161ff124b87",
   "metadata": {},
   "outputs": [],
   "source": [
    "tokenized = nli_tokenizer.encode_plus(sent1, sent2, \n",
    "                                  max_length=max_length, \n",
    "                                  return_token_type_ids=True, \n",
    "                                  truncation=True)"
   ]
  },
  {
   "cell_type": "code",
   "execution_count": 83,
   "id": "b2b092b6-9fad-4566-ae09-61e7c9ccbc63",
   "metadata": {},
   "outputs": [],
   "source": [
    "input_ids = torch.Tensor(tokenized['input_ids']).to(device).long().unsqueeze(0)\n",
    "token_type_ids = torch.Tensor(tokenized['token_type_ids']).to(device).long().unsqueeze(0)\n",
    "attention_mask = torch.Tensor(tokenized['attention_mask']).to(device).long().unsqueeze(0)"
   ]
  },
  {
   "cell_type": "code",
   "execution_count": 84,
   "id": "40afe733-acbd-48e6-84b1-08936cd45e1f",
   "metadata": {},
   "outputs": [
    {
     "data": {
      "text/plain": [
       "SequenceClassifierOutput(loss=None, logits=tensor([[ 2.8142,  0.5934, -3.2098]], grad_fn=<AddmmBackward>), hidden_states=None, attentions=None)"
      ]
     },
     "execution_count": 84,
     "metadata": {},
     "output_type": "execute_result"
    }
   ],
   "source": [
    "nli_outputs = nli_model(input_ids,\n",
    "                        attention_mask=attention_mask,\n",
    "                        token_type_ids=token_type_ids,\n",
    "                        labels=None)\n",
    "nli_outputs"
   ]
  },
  {
   "cell_type": "code",
   "execution_count": 85,
   "id": "5ae615a8-0b1f-4552-b342-674febbd877e",
   "metadata": {},
   "outputs": [],
   "source": [
    "predicted_probability = torch.softmax(nli_outputs.logits, dim=1)[0].tolist()"
   ]
  },
  {
   "cell_type": "code",
   "execution_count": 86,
   "id": "ddb1aab9-8194-4e77-82e8-cfa0436817b3",
   "metadata": {},
   "outputs": [
    {
     "name": "stdout",
     "output_type": "stream",
     "text": [
      "Entailment: 0.9001360535621643\n",
      "Neutral: 0.09768573939800262\n",
      "Contradiction: 0.0021782959811389446\n"
     ]
    }
   ],
   "source": [
    "print(\"Entailment:\", predicted_probability[0])\n",
    "print(\"Neutral:\", predicted_probability[1])\n",
    "print(\"Contradiction:\", predicted_probability[2])"
   ]
  },
  {
   "cell_type": "code",
   "execution_count": 87,
   "id": "1767f4cf-6b3f-4c4f-871c-e41524efe39b",
   "metadata": {},
   "outputs": [],
   "source": [
    "def example_pair(sent1, sent2, nli_tokenizer, nli_model):\n",
    "    tokenized = nli_tokenizer.encode_plus(sent1, sent2, \n",
    "                                  max_length=max_length, \n",
    "                                  return_token_type_ids=True, \n",
    "                                  truncation=True)\n",
    "    \n",
    "    input_ids = torch.Tensor(tokenized['input_ids']).to(device).long().unsqueeze(0)\n",
    "    token_type_ids = torch.Tensor(tokenized['token_type_ids']).to(device).long().unsqueeze(0)\n",
    "    attention_mask = torch.Tensor(tokenized['attention_mask']).to(device).long().unsqueeze(0)\n",
    "    \n",
    "    nli_outputs = nli_model(input_ids,\n",
    "                        attention_mask=attention_mask,\n",
    "                        token_type_ids=token_type_ids,\n",
    "                        labels=None)\n",
    "    predicted_probability = torch.softmax(nli_outputs.logits, dim=1)\n",
    "    return predicted_probability"
   ]
  },
  {
   "cell_type": "code",
   "execution_count": 88,
   "id": "ef1da638-20ac-43d8-9a5e-9aab5cd02c42",
   "metadata": {},
   "outputs": [
    {
     "name": "stdout",
     "output_type": "stream",
     "text": [
      "Entailment: 0.9001360535621643\n",
      "Neutral: 0.09768573939800262\n",
      "Contradiction: 0.0021782959811389446\n"
     ]
    }
   ],
   "source": [
    "prob1 = example_pair(sent1, sent2, nli_tokenizer, nli_model)[0].tolist()\n",
    "print(\"Entailment:\", prob1[0])\n",
    "print(\"Neutral:\", prob1[1])\n",
    "print(\"Contradiction:\", prob1[2])"
   ]
  },
  {
   "cell_type": "code",
   "execution_count": 89,
   "id": "29df2507-74da-46f5-8ab7-17a641dacbc5",
   "metadata": {},
   "outputs": [
    {
     "name": "stdout",
     "output_type": "stream",
     "text": [
      "Entailment: 0.9565708637237549\n",
      "Neutral: 0.04204724356532097\n",
      "Contradiction: 0.0013818716397508979\n"
     ]
    }
   ],
   "source": [
    "prob2 = example_pair(sent2, sent1, nli_tokenizer, nli_model)[0].tolist()\n",
    "print(\"Entailment:\", prob2[0])\n",
    "print(\"Neutral:\", prob2[1])\n",
    "print(\"Contradiction:\", prob2[2])"
   ]
  },
  {
   "cell_type": "markdown",
   "id": "3a2fa7c4-ba04-4a62-ac95-7e7b45c6228f",
   "metadata": {},
   "source": [
    "# Example NLI on a batch"
   ]
  },
  {
   "cell_type": "code",
   "execution_count": 90,
   "id": "a6595a48-134e-4ffd-b75d-c1b0221ae72e",
   "metadata": {},
   "outputs": [
    {
     "data": {
      "text/plain": [
       "['A american bison is a mammal.',\n",
       " 'A american bison is a american bison.',\n",
       " 'A american bison is an animal.',\n",
       " 'A american bison is a vertebrate.',\n",
       " 'A american bison is a warm blooded animal.',\n",
       " 'A american bison is able to drink liquids.',\n",
       " 'A american bison is part of a hair.',\n",
       " 'A american bison is a air breathing vertebrate.',\n",
       " 'A american bison is able to mate.',\n",
       " 'A american bison is a amniote.']"
      ]
     },
     "execution_count": 90,
     "metadata": {},
     "output_type": "execute_result"
    }
   ],
   "source": [
    "sents = df.iloc[0:10][0].tolist()\n",
    "sents"
   ]
  },
  {
   "cell_type": "code",
   "execution_count": 112,
   "id": "17061bb3-c5b4-4bd6-a9f5-d5663ab6be1f",
   "metadata": {},
   "outputs": [],
   "source": [
    "def example_batch(sents, nli_tokenizer, nli_model):\n",
    "    B = len(sents)\n",
    "    prem = []\n",
    "    hypo = []\n",
    "    for i1 in range(B):\n",
    "        for i2 in range(B):\n",
    "            prem.append(sents[i1])\n",
    "            hypo.append(sents[i2])\n",
    "\n",
    "    tokenized = nli_tokenizer(prem, hypo, \n",
    "                              max_length=max_length, \n",
    "                              return_token_type_ids=True, \n",
    "                              truncation=True,\n",
    "                              padding=True)\n",
    "    \n",
    "    input_ids = torch.Tensor(tokenized['input_ids']).to(device).long()\n",
    "    token_type_ids = torch.Tensor(tokenized['token_type_ids']).to(device).long()\n",
    "    attention_mask = torch.Tensor(tokenized['attention_mask']).to(device).long()\n",
    "    \n",
    "    nli_outputs = nli_model(input_ids,\n",
    "                            attention_mask=attention_mask,\n",
    "                            token_type_ids=token_type_ids,\n",
    "                            labels=None)\n",
    "    predicted_probability = torch.softmax(nli_outputs.logits, dim=1)\n",
    "    contra_matrix = predicted_probability[..., 2]\n",
    "    contra_matrix = contra_matrix.reshape(B, B)\n",
    "    return contra_matrix"
   ]
  },
  {
   "cell_type": "code",
   "execution_count": 117,
   "id": "828332bd-b8aa-4fa7-b3d8-2bf4ffe2ff78",
   "metadata": {},
   "outputs": [],
   "source": [
    "contra_matrix = example_batch(sents, nli_tokenizer, nli_model)\n",
    "contra_matrix = contra_matrix.detach().cpu().numpy()"
   ]
  },
  {
   "cell_type": "code",
   "execution_count": 132,
   "id": "2dee6f89-672a-4a4a-9fab-9c83df1bdef4",
   "metadata": {},
   "outputs": [
    {
     "data": {
      "image/png": "[encoded data removed]",
      "text/plain": [
       "<Figure size 432x288 with 2 Axes>"
      ]
     },
     "metadata": {
      "needs_background": "light"
     },
     "output_type": "display_data"
    }
   ],
   "source": [
    "fig = plt.figure()\n",
    "ax = fig.add_subplot(111)\n",
    "cax = ax.matshow(contra_matrix)\n",
    "fig.colorbar(cax)\n",
    "\n",
    "ax.set_yticks(range(len(sents)))\n",
    "ax.set_yticklabels(sents)\n",
    "plt.show()"
   ]
  },
  {
   "cell_type": "code",
   "execution_count": null,
   "id": "c71ef9d0-1e59-403c-a597-f74f1959f857",
   "metadata": {},
   "outputs": [],
   "source": []
  }
 ],
 "metadata": {
  "kernelspec": {
   "display_name": "contradiction",
   "language": "python",
   "name": "contradiction"
  },
  "language_info": {
   "codemirror_mode": {
    "name": "ipython",
    "version": 3
   },
   "file_extension": ".py",
   "mimetype": "text/x-python",
   "name": "python",
   "nbconvert_exporter": "python",
   "pygments_lexer": "ipython3",
   "version": "3.9.7"
  }
 },
 "nbformat": 4,
 "nbformat_minor": 5
}
