{
 "cells": [
  {
   "cell_type": "code",
   "execution_count": 61,
   "metadata": {},
   "outputs": [],
   "source": [
    "import numpy as np\n",
    "import torch\n",
    "# Macaw-large, PTLM \n",
    "# https://github.com/allenai/macaw\n",
    "# This was used in the BeliefBank Paper\n",
    "from transformers import AutoTokenizer, AutoModelForSeq2SeqLM"
   ]
  },
  {
   "cell_type": "code",
   "execution_count": null,
   "metadata": {},
   "outputs": [],
   "source": [
    "# Downloads a pretty large model\n",
    "tokenizer = AutoTokenizer.from_pretrained(\"allenai/macaw-large\")\n",
    "model = AutoModelForSeq2SeqLM.from_pretrained(\"allenai/macaw-large\")"
   ]
  },
  {
   "cell_type": "markdown",
   "metadata": {},
   "source": [
    "Example output for a simple question"
   ]
  },
  {
   "cell_type": "code",
   "execution_count": 83,
   "metadata": {},
   "outputs": [
    {
     "data": {
      "text/plain": [
       "['$answer$ = no']"
      ]
     },
     "execution_count": 83,
     "metadata": {},
     "output_type": "execute_result"
    }
   ],
   "source": [
    "input_string = \"$answer$ ; $mcoptions$ = (A) yes (B) no; $question$ = Is a robin a virus?\"\n",
    "input_ids = tokenizer.encode(input_string, return_tensors=\"pt\")\n",
    "output = model.generate(input_ids, max_length=200)\n",
    "\n",
    "tokenizer.batch_decode(output, skip_special_tokens=True)\n"
   ]
  },
  {
   "cell_type": "code",
   "execution_count": null,
   "metadata": {},
   "outputs": [
    {
     "data": {
      "text/html": [
       "<div>\n",
       "<style scoped>\n",
       "    .dataframe tbody tr th:only-of-type {\n",
       "        vertical-align: middle;\n",
       "    }\n",
       "\n",
       "    .dataframe tbody tr th {\n",
       "        vertical-align: top;\n",
       "    }\n",
       "\n",
       "    .dataframe thead th {\n",
       "        text-align: right;\n",
       "    }\n",
       "</style>\n",
       "<table border=\"1\" class=\"dataframe\">\n",
       "  <thead>\n",
       "    <tr style=\"text-align: right;\">\n",
       "      <th></th>\n",
       "      <th>0</th>\n",
       "    </tr>\n",
       "  </thead>\n",
       "  <tbody>\n",
       "    <tr>\n",
       "      <th>0</th>\n",
       "      <td>Is an albatross a bird?|Yes</td>\n",
       "    </tr>\n",
       "    <tr>\n",
       "      <th>1</th>\n",
       "      <td>Is an albatross a seabird?|Yes</td>\n",
       "    </tr>\n",
       "    <tr>\n",
       "      <th>2</th>\n",
       "      <td>Is an albatross an animal?|Yes</td>\n",
       "    </tr>\n",
       "    <tr>\n",
       "      <th>3</th>\n",
       "      <td>Is an albatross a eukaryotic_organism?|Yes</td>\n",
       "    </tr>\n",
       "    <tr>\n",
       "      <th>4</th>\n",
       "      <td>Is an albatross a pelagic_bird?|Yes</td>\n",
       "    </tr>\n",
       "    <tr>\n",
       "      <th>...</th>\n",
       "      <td>...</td>\n",
       "    </tr>\n",
       "    <tr>\n",
       "      <th>1067</th>\n",
       "      <td>Is a daffodil a palm tree?|No</td>\n",
       "    </tr>\n",
       "    <tr>\n",
       "      <th>1068</th>\n",
       "      <td>Is a daffodil a crustacean?|No</td>\n",
       "    </tr>\n",
       "    <tr>\n",
       "      <th>1069</th>\n",
       "      <td>Is a daffodil a jellyfish?|No</td>\n",
       "    </tr>\n",
       "    <tr>\n",
       "      <th>1070</th>\n",
       "      <td>Is a daffodil an invertebrate?|No</td>\n",
       "    </tr>\n",
       "    <tr>\n",
       "      <th>1071</th>\n",
       "      <td>Is a daffodil a rodent?|No</td>\n",
       "    </tr>\n",
       "  </tbody>\n",
       "</table>\n",
       "<p>1072 rows × 1 columns</p>\n",
       "</div>"
      ],
      "text/plain": [
       "                                               0\n",
       "0                    Is an albatross a bird?|Yes\n",
       "1                 Is an albatross a seabird?|Yes\n",
       "2                 Is an albatross an animal?|Yes\n",
       "3     Is an albatross a eukaryotic_organism?|Yes\n",
       "4            Is an albatross a pelagic_bird?|Yes\n",
       "...                                          ...\n",
       "1067               Is a daffodil a palm tree?|No\n",
       "1068              Is a daffodil a crustacean?|No\n",
       "1069               Is a daffodil a jellyfish?|No\n",
       "1070           Is a daffodil an invertebrate?|No\n",
       "1071                  Is a daffodil a rodent?|No\n",
       "\n",
       "[1072 rows x 1 columns]"
      ]
     },
     "execution_count": 23,
     "metadata": {},
     "output_type": "execute_result"
    }
   ],
   "source": [
    "df = pd.read_csv(\"beliefbank_data/calibration_questions.csv\", header=None)\n",
    "df"
   ]
  },
  {
   "cell_type": "code",
   "execution_count": 31,
   "metadata": {},
   "outputs": [
    {
     "name": "stdout",
     "output_type": "stream",
     "text": [
      "[['Is an albatross a bird?', 'Yes'], ['Is an albatross a seabird?', 'Yes']]\n"
     ]
    }
   ],
   "source": [
    "def load_file(file_name):\n",
    "    with open(file_name, 'r') as file:\n",
    "        return [line.strip().split(sep=\"|\") for line in file]\n",
    "        \n",
    "print(load_file('beliefbank_data/calibration_questions.csv')[0:2])\n"
   ]
  },
  {
   "cell_type": "code",
   "execution_count": 98,
   "metadata": {},
   "outputs": [],
   "source": [
    "def create_question_answer_list(file_name, n):\n",
    "     # n = # of (q, a) pairs to use\n",
    "\n",
    "    q_and_a = load_file(file_name)\n",
    "    questions, answers = np.split(np.array(q_and_a), 2, axis=1)\n",
    "    questions = [\"$answer$ ; $mcoptions$ = (A) yes (B) no; $question$ = \" + item + \"?\"\\\n",
    "         for sublist in questions for item in sublist]\n",
    "    answers = [item for sublist in answers for item in sublist]\n",
    "\n",
    "    question_list = list(questions)[:n]\n",
    "    answer_list = list(answers)[:n]\n",
    "    # print(question_list, answer_list)\n",
    "    return question_list, answer_list\n"
   ]
  },
  {
   "cell_type": "code",
   "execution_count": 101,
   "metadata": {},
   "outputs": [],
   "source": [
    "# run MACAW on file with questions and answers\n",
    "def batch_eval(file_name, n):\n",
    "    device = torch.device(\"cuda\" if torch.cuda.is_available() else \"cpu\")\n",
    "    \n",
    "    question_list, answer_list = create_question_answer_list(file_name, n)\n",
    "\n",
    "    inputs_dict = tokenizer.batch_encode_plus(question_list, max_length = 200, padding=True, truncation=True, return_tensors=\"pt\")\n",
    "    input_ids = inputs_dict.input_ids.to(device)\n",
    "\n",
    "    output = model.generate(input_ids, max_length=200)\n",
    "    answers = tokenizer.batch_decode(output, skip_special_tokens=True)\n",
    "    return answers\n"
   ]
  },
  {
   "cell_type": "code",
   "execution_count": 111,
   "metadata": {},
   "outputs": [
    {
     "name": "stdout",
     "output_type": "stream",
     "text": [
      "['$answer$ = yes', '$answer$ = yes', '$answer$ = yes', '$answer$ = yes', '$answer$ = yes']\n"
     ]
    }
   ],
   "source": [
    "ans = batch_eval(\"beliefbank_data/calibration_questions.csv\", 5)\n",
    "print(ans)"
   ]
  },
  {
   "cell_type": "markdown",
   "metadata": {},
   "source": [
    "\n",
    "## Basic Evaluation"
   ]
  },
  {
   "cell_type": "code",
   "execution_count": 122,
   "metadata": {},
   "outputs": [],
   "source": [
    "def macaw_evaluate(n):\n",
    "    macaw_pred = batch_eval(\"beliefbank_data/calibration_questions.csv\", n)\n",
    "    macaw_pred = [item[len('$answer$ = '):] for item in macaw_pred] # remove '$answer$ = '\n",
    "    _ , truth = create_question_answer_list(\"beliefbank_data/calibration_questions.csv\", n)\n",
    "    print(macaw_pred, truth)\n",
    "\n",
    "    correct = 0\n",
    "    for idx in range(n):\n",
    "        if(macaw_pred[idx].lower() == truth[idx].lower()):\n",
    "            correct += 1\n",
    "    return correct / n # proportion of correct macaw preds\n",
    "    "
   ]
  },
  {
   "cell_type": "code",
   "execution_count": 123,
   "metadata": {},
   "outputs": [],
   "source": [
    "macaw_evaluate(100)"
   ]
  }
 ],
 "metadata": {
  "interpreter": {
   "hash": "d4a174f9e1d31d9a365b2c26615a8dc2bf9473bcc2483aeb7d2d4cf28f830d3b"
  },
  "kernelspec": {
   "display_name": "Python 3.8.12 ('cs224n_proj')",
   "language": "python",
   "name": "python3"
  },
  "language_info": {
   "codemirror_mode": {
    "name": "ipython",
    "version": 3
   },
   "file_extension": ".py",
   "mimetype": "text/x-python",
   "name": "python",
   "nbconvert_exporter": "python",
   "pygments_lexer": "ipython3",
   "version": "3.8.12"
  },
  "orig_nbformat": 4
 },
 "nbformat": 4,
 "nbformat_minor": 2
}
