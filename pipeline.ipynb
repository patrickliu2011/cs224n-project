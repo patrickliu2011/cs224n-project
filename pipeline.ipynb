{
 "cells": [
  {
   "cell_type": "code",
   "execution_count": 22,
   "id": "f75d45a7-8f30-4cf7-b64e-5645782ef09e",
   "metadata": {},
   "outputs": [],
   "source": [
    "import os, sys\n",
    "import random\n",
    "import json\n",
    "import nltk \n",
    "import csv\n",
    "import torch\n",
    "import nltk  # $ pip install nltk\n",
    "from nltk.stem import PorterStemmer\n",
    "from nltk.corpus import cmudict  # >>> nltk.download('cmudict')\n",
    "from nltk.tokenize import word_tokenize\n",
    "from spellchecker import SpellChecker\n",
    "\n",
    "from beliefbank_data.utils import generate_assertion, generate_question, find_constraints\n"
   ]
  },
  {
   "cell_type": "code",
   "execution_count": 2,
   "id": "03374e1c-dff7-49d5-847b-0a6816c6a5dd",
   "metadata": {},
   "outputs": [],
   "source": [
    "constraints_path = \"beliefbank_data/constraints_v2.json\"\n",
    "facts_path = \"beliefbank_data/silver_facts.json\""
   ]
  },
  {
   "cell_type": "code",
   "execution_count": 3,
   "id": "05c60643-c341-4af6-9459-c8458700b72c",
   "metadata": {},
   "outputs": [],
   "source": [
    "constraints = json.load(open(constraints_path))\n",
    "facts = json.load(open(facts_path))"
   ]
  },
  {
   "cell_type": "code",
   "execution_count": 8,
   "id": "31eb8693-c486-4cbb-9070-4f84b074d8b9",
   "metadata": {},
   "outputs": [
    {
     "data": {
      "text/plain": [
       "[('american bison', 'IsA,mammal', True),\n",
       " ('american bison', 'IsA,american bison', True),\n",
       " ('american bison', 'IsA,animal', True),\n",
       " ('american bison', 'IsA,vertebrate', True),\n",
       " ('american bison', 'IsA,warm blooded animal', True)]"
      ]
     },
     "execution_count": 8,
     "metadata": {},
     "output_type": "execute_result"
    }
   ],
   "source": [
    "statements = [(entity, relation, label == 'yes')\n",
    "              for entity, relations in facts.items() \n",
    "              for relation, label in relations.items()]\n",
    "statements[:5]"
   ]
  },
  {
   "cell_type": "code",
   "execution_count": 18,
   "id": "88143abe-885c-499c-bcfc-40304aa1edf1",
   "metadata": {},
   "outputs": [
    {
     "name": "stdout",
     "output_type": "stream",
     "text": [
      "('american bison', 'IsA,mammal', True) ('american bison', 'IsA,vegetable', True)\n"
     ]
    }
   ],
   "source": [
    "for base in statements:\n",
    "    entity, relation, true = base\n",
    "    \n",
    "    filter_dict = {\n",
    "        'source': relation,\n",
    "        'direction': 'forward',\n",
    "    }\n",
    "    selected_constraints = find_constraints(constraints, filter_dict=filter_dict)\n",
    "    c = random.choice(selected_constraints)\n",
    "    contra = (entity, c['target'], not c['weight'] == 'yes_yes')\n",
    "    print(base, contra)\n",
    "    break"
   ]
  },
  {
   "cell_type": "code",
   "execution_count": 26,
   "id": "10b483ff-17a4-46f7-ba78-d1e55079316a",
   "metadata": {},
   "outputs": [],
   "source": [
    "questions, answers = zip(*[generate_question(*base), generate_question(*contra)])\n",
    "question_list = list(questions)\n",
    "answer_list = list(answers)"
   ]
  },
  {
   "cell_type": "code",
   "execution_count": 27,
   "id": "d9d1af4e-b948-4758-a4a5-0e79675bea55",
   "metadata": {},
   "outputs": [
    {
     "name": "stdout",
     "output_type": "stream",
     "text": [
      "['Is a american bison a mammal?', 'Is a american bison a vegetable?']\n",
      "['Yes', 'Yes']\n"
     ]
    }
   ],
   "source": [
    "print(question_list)\n",
    "print(answer_list)"
   ]
  },
  {
   "cell_type": "code",
   "execution_count": 21,
   "id": "ec4263a5",
   "metadata": {},
   "outputs": [],
   "source": [
    "# Macaw-large, PTLM \n",
    "# https://github.com/allenai/macaw\n",
    "# This was used in the BeliefBank Paper\n",
    "from transformers import AutoTokenizer, AutoModelForSeq2SeqLM\n",
    "\n",
    "# Downloads a pretty large model\n",
    "tokenizer = AutoTokenizer.from_pretrained(\"allenai/macaw-large\")\n",
    "model = AutoModelForSeq2SeqLM.from_pretrained(\"allenai/macaw-large\")"
   ]
  },
  {
   "cell_type": "code",
   "execution_count": 56,
   "id": "d5f170c9-5046-4905-b309-e7a821357467",
   "metadata": {},
   "outputs": [
    {
     "name": "stdout",
     "output_type": "stream",
     "text": [
      "[['$answer$ = yes'], ['$answer$ = no']] [tensor(0.9998, grad_fn=<ExpBackward0>), tensor(0.5888, grad_fn=<RsubBackward1>)]\n"
     ]
    }
   ],
   "source": [
    "def format_question(question_list):\n",
    "    question_list = [\"$answer$ ; $mcoptions$ = (A) yes (B) no; $question$ = \" + item \\\n",
    "         for item in question_list]\n",
    "\n",
    "    return question_list\n",
    "\n",
    "# run QA model on questions to get answers and confidences\n",
    "def train(question_list, answer_list):\n",
    "    device = torch.device(\"cuda\" if torch.cuda.is_available() else \"cpu\")\n",
    "    \n",
    "    question_list = format_question(question_list)\n",
    "    answer_list_all_yes = [\"$answer$ = yes\"] * len(question_list)     # pass in list of \"yes\"\n",
    "\n",
    "    # train one-by-one (can't calculate individual loss if doing a batch encode/decode)\n",
    "    answers = []\n",
    "    confidences = []\n",
    "    for idx in range(len(question_list)):\n",
    "        input_ids = tokenizer.encode(question_list[idx], return_tensors=\"pt\")\n",
    "        labels = tokenizer.encode(answer_list_all_yes[idx], max_length = 15, padding=True, truncation=True, return_tensors=\"pt\") # max_length is set to len(\"$answer$ = yes\")\n",
    "\n",
    "        output = model.generate(input_ids, max_length=200)\n",
    "\n",
    "        answer = tokenizer.batch_decode(output, skip_special_tokens=True)\n",
    "        answers.append(answer)\n",
    "        fwd = model(input_ids=input_ids, labels=labels)\n",
    "\n",
    "        # loss\n",
    "        loss = fwd.loss # - log(P(y|x))\n",
    "        confidence = torch.exp(-loss)\n",
    "\n",
    "        # if answer is actually a no, then flip the confidence probability (because the probability is P(yes))\n",
    "        if (answer == [\"$answer$ = no\"]):\n",
    "            confidence = 1.0 - confidence\n",
    "\n",
    "        confidences.append(confidence)\n",
    "\n",
    "    print(answers, confidences)\n",
    "\n",
    "\n",
    "train(question_list, answer_list)\n"
   ]
  },
  {
   "cell_type": "code",
   "execution_count": null,
   "id": "e12f80fd-42d2-4d2c-bbeb-6eb350da18ee",
   "metadata": {},
   "outputs": [],
   "source": [
    "\n",
    "# run NLI model on assertions from QA output"
   ]
  }
 ],
 "metadata": {
  "interpreter": {
   "hash": "d4a174f9e1d31d9a365b2c26615a8dc2bf9473bcc2483aeb7d2d4cf28f830d3b"
  },
  "kernelspec": {
   "display_name": "contradiction",
   "language": "python",
   "name": "python3"
  },
  "language_info": {
   "codemirror_mode": {
    "name": "ipython",
    "version": 3
   },
   "file_extension": ".py",
   "mimetype": "text/x-python",
   "name": "python",
   "nbconvert_exporter": "python",
   "pygments_lexer": "ipython3",
   "version": "3.8.12"
  }
 },
 "nbformat": 4,
 "nbformat_minor": 5
}
