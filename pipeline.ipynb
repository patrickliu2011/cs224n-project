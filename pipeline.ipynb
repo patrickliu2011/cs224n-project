{
 "cells": [
  {
   "cell_type": "code",
   "execution_count": 6,
   "id": "f75d45a7-8f30-4cf7-b64e-5645782ef09e",
   "metadata": {},
   "outputs": [],
   "source": [
    "import os, sys\n",
    "import random\n",
    "import json\n",
    "import nltk \n",
    "import csv\n",
    "import nltk  # $ pip install nltk\n",
    "from nltk.stem import PorterStemmer\n",
    "from nltk.corpus import cmudict  # >>> nltk.download('cmudict')\n",
    "from nltk.tokenize import word_tokenize\n",
    "from spellchecker import SpellChecker\n",
    "\n",
    "from beliefbank_data.utils import generate_assertion, generate_question, find_constraints"
   ]
  },
  {
   "cell_type": "code",
   "execution_count": 2,
   "id": "03374e1c-dff7-49d5-847b-0a6816c6a5dd",
   "metadata": {},
   "outputs": [],
   "source": [
    "constraints_path = \"beliefbank_data/constraints_v2.json\"\n",
    "facts_path = \"beliefbank_data/silver_facts.json\""
   ]
  },
  {
   "cell_type": "code",
   "execution_count": 3,
   "id": "05c60643-c341-4af6-9459-c8458700b72c",
   "metadata": {},
   "outputs": [],
   "source": [
    "constraints = json.load(open(constraints_path))\n",
    "facts = json.load(open(facts_path))"
   ]
  },
  {
   "cell_type": "code",
   "execution_count": 4,
   "id": "31eb8693-c486-4cbb-9070-4f84b074d8b9",
   "metadata": {},
   "outputs": [
    {
     "data": {
      "text/plain": [
       "[('american bison', 'IsA,mammal', True),\n",
       " ('american bison', 'IsA,american bison', True)]"
      ]
     },
     "execution_count": 4,
     "metadata": {},
     "output_type": "execute_result"
    }
   ],
   "source": [
    "statements = [(entity, relation, label == 'yes')\n",
    "              for entity, relations in facts.items() \n",
    "              for relation, label in relations.items()]\n",
    "statements[:2]"
   ]
  },
  {
   "cell_type": "code",
   "execution_count": 7,
   "id": "88143abe-885c-499c-bcfc-40304aa1edf1",
   "metadata": {},
   "outputs": [
    {
     "name": "stdout",
     "output_type": "stream",
     "text": [
      "('american bison', 'IsA,mammal', True) ('american bison', 'IsA,sugar', True)\n"
     ]
    }
   ],
   "source": [
    "for base in statements:\n",
    "    entity, relation, true = base\n",
    "    \n",
    "    filter_dict = {\n",
    "        'source': relation,\n",
    "        'direction': 'forward',\n",
    "    }\n",
    "    selected_constraints = find_constraints(constraints, filter_dict=filter_dict)\n",
    "    c = random.choice(selected_constraints)\n",
    "    contra = (entity, c['target'], not c['weight'] == 'yes_yes')\n",
    "    print(base, contra)\n",
    "    break"
   ]
  },
  {
   "cell_type": "code",
   "execution_count": 15,
   "id": "10b483ff-17a4-46f7-ba78-d1e55079316a",
   "metadata": {},
   "outputs": [],
   "source": [
    "questions, answers = zip(*[generate_question(*base), generate_question(*contra)])\n",
    "questions = list(questions)\n",
    "answers = list(answers)"
   ]
  },
  {
   "cell_type": "code",
   "execution_count": 16,
   "id": "d9d1af4e-b948-4758-a4a5-0e79675bea55",
   "metadata": {},
   "outputs": [
    {
     "name": "stdout",
     "output_type": "stream",
     "text": [
      "['Is a american bison a mammal?', 'Is a american bison a sugar?']\n",
      "['Yes', 'Yes']\n"
     ]
    }
   ],
   "source": [
    "print(questions)\n",
    "print(answers)"
   ]
  },
  {
   "cell_type": "code",
   "execution_count": 18,
   "id": "d5f170c9-5046-4905-b309-e7a821357467",
   "metadata": {},
   "outputs": [],
   "source": [
    "# run QA model on questions to get answers and confidences"
   ]
  },
  {
   "cell_type": "code",
   "execution_count": null,
   "id": "e12f80fd-42d2-4d2c-bbeb-6eb350da18ee",
   "metadata": {},
   "outputs": [],
   "source": [
    "# run NLI model on assertions from QA output"
   ]
  }
 ],
 "metadata": {
  "kernelspec": {
   "display_name": "contradiction",
   "language": "python",
   "name": "contradiction"
  },
  "language_info": {
   "codemirror_mode": {
    "name": "ipython",
    "version": 3
   },
   "file_extension": ".py",
   "mimetype": "text/x-python",
   "name": "python",
   "nbconvert_exporter": "python",
   "pygments_lexer": "ipython3",
   "version": "3.9.7"
  }
 },
 "nbformat": 4,
 "nbformat_minor": 5
}
