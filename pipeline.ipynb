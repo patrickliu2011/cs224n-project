{
  "cells": [
    {
      "cell_type": "code",
      "execution_count": 1,
      "id": "f75d45a7-8f30-4cf7-b64e-5645782ef09e",
      "metadata": {
        "gather": {
          "logged": 1647099959422
        }
      },
      "outputs": [],
      "source": [
        "import os, sys\n",
        "import random\n",
        "import json\n",
        "import nltk \n",
        "import csv\n",
        "import time\n",
        "import copy\n",
        "import torch\n",
        "import numpy as np\n",
        "import pandas as pd\n",
        "import nltk  # $ pip install nltk\n",
        "from nltk.stem import PorterStemmer\n",
        "from nltk.corpus import cmudict  # >>> nltk.download('cmudict')\n",
        "from nltk.tokenize import word_tokenize\n",
        "from spellchecker import SpellChecker # $ pip install pyspellchecker\n",
        "import matplotlib.pyplot as plt\n",
        "from datetime import datetime\n",
        "\n",
        "from transformers import AutoTokenizer, AutoModelForSeq2SeqLM, AutoModelForSequenceClassification\n",
        "\n",
        "from beliefbank_data.utils import generate_assertion, generate_question, find_constraints, generate_inverse_question, generate_question_with_context\n",
        "import correction_utils"
      ]
    },
    {
      "cell_type": "markdown",
      "id": "83360dd8-9e5a-48a4-8274-0c70e3a0361d",
      "metadata": {},
      "source": [
        "# Load data"
      ]
    },
    {
      "cell_type": "code",
      "execution_count": 2,
      "id": "03374e1c-dff7-49d5-847b-0a6816c6a5dd",
      "metadata": {
        "gather": {
          "logged": 1647099959676
        }
      },
      "outputs": [],
      "source": [
        "constraints_path = \"beliefbank_data/constraints_v2.json\"\n",
        "facts_path = \"beliefbank_data/silver_facts.json\""
      ]
    },
    {
      "cell_type": "code",
      "execution_count": 3,
      "id": "05c60643-c341-4af6-9459-c8458700b72c",
      "metadata": {
        "gather": {
          "logged": 1647099959896
        }
      },
      "outputs": [],
      "source": [
        "constraints = json.load(open(constraints_path))\n",
        "facts = json.load(open(facts_path))"
      ]
    },
    {
      "cell_type": "code",
      "execution_count": 4,
      "id": "f4a25158-8d99-4088-b240-51b5b6423334",
      "metadata": {
        "gather": {
          "logged": 1647099960077
        }
      },
      "outputs": [
        {
          "name": "stdout",
          "output_type": "stream",
          "text": [
            "['american bison', 'baboon', 'birch', 'buck', 'bull', 'calf', 'camel', 'carnivore', 'carp', 'cheetah', 'chick', 'chimpanzee', 'cock', 'crocodile', 'dog', 'dolphin', 'domestic ass', 'duck', 'earthworm', 'elephant', 'european wolf spider', 'foxhound', 'frog', 'gazelle', 'gecko', 'german shepherd', 'giant panda', 'giraffe', 'gladiolus', 'hen', 'horse', 'hound', 'howler monkey', 'hummingbird', 'jaguar', 'lamb', 'leopard', 'lion', 'livestock', 'llama', 'magpie', 'midge', 'mink', 'mullet', 'myna', 'new world blackbird', 'orchid', 'owl', 'ox', 'penguin', 'peony', 'pigeon', 'poodle', 'puppy', 'rabbit', 'rat', 'reptile', 'robin', 'rose', 'salamander', 'starling', 'tiger', 'turkey', 'whale', 'zebra']\n"
          ]
        }
      ],
      "source": [
        "# entities = list(facts.keys())\n",
        "# random.shuffle(entities)\n",
        "# dev_size = 65\n",
        "# dev_entities = sorted(entities[:dev_size])\n",
        "# eval_entities = sorted(entities[dev_size:])\n",
        "# with open(\"beliefbank_data/dev_entities.txt\", \"w\") as f:\n",
        "#     f.writelines([e + '\\n' for e in dev_entities])\n",
        "# with open(\"beliefbank_data/eval_entities.txt\", \"w\") as f:\n",
        "#     f.writelines([e + '\\n' for e in eval_entities])\n",
        "\n",
        "with open(\"beliefbank_data/dev_entities.txt\", \"r\") as f:\n",
        "    dev_entities = [e.strip() for e in f.readlines()]\n",
        "print(dev_entities)\n",
        "\n",
        "# with open(\"beliefbank_data/eval_entities.txt\", \"r\") as f:\n",
        "#     eval_entities = [e.strip() for e in f.readlines()]\n",
        "# print(eval_entities)"
      ]
    },
    {
      "cell_type": "markdown",
      "id": "a40f96b8-fa0b-4071-8fb3-d649112a23f8",
      "metadata": {},
      "source": [
        "# Constraints checking"
      ]
    },
    {
      "cell_type": "code",
      "execution_count": 5,
      "id": "dc706745-546a-4687-b3a7-5bdf45dc19a0",
      "metadata": {
        "gather": {
          "logged": 1647099960257
        }
      },
      "outputs": [],
      "source": [
        "constraints_yy = set() # A implies B\n",
        "constraints_yn = set() # A implies not B\n",
        "for link in constraints['links']:\n",
        "    s = link['source']\n",
        "    t = link['target']\n",
        "    if link['weight'] == 'yes_yes':\n",
        "        if link['direction'] == 'forward':\n",
        "            constraints_yy.add((s, t))\n",
        "        else:\n",
        "            constraints_yy.add((t, s))\n",
        "    else:\n",
        "        constraints_yn.add((s, t))\n",
        "        constraints_yn.add((t, s))"
      ]
    },
    {
      "cell_type": "code",
      "execution_count": 6,
      "id": "9d49487f-ddd8-42ae-882a-f8d05cc1b708",
      "metadata": {
        "gather": {
          "logged": 1647099960453
        }
      },
      "outputs": [
        {
          "name": "stdout",
          "output_type": "stream",
          "text": [
            "1836\n",
            "774\n"
          ]
        }
      ],
      "source": [
        "print(len(constraints_yy))\n",
        "print(len(constraints_yn))"
      ]
    },
    {
      "cell_type": "markdown",
      "id": "74a268da-7f64-4117-8453-7f734ac8f8e1",
      "metadata": {},
      "source": [
        "AB in yn --> BA in yn\n",
        "AB in yy, BC in yy --> AC in yy\n",
        "AB in yy, BC in yn --> AC in yn\n",
        "# AB in yn, CB in yy --> AC in yn "
      ]
    },
    {
      "cell_type": "code",
      "execution_count": 7,
      "id": "e24c37f9-da8e-4a01-8e8e-a2540facc1ac",
      "metadata": {
        "gather": {
          "logged": 1647099960632
        }
      },
      "outputs": [],
      "source": [
        "dict_yy = {}\n",
        "for s, t in constraints_yy:\n",
        "    if s in dict_yy:\n",
        "        dict_yy[s].add(t)\n",
        "    else:\n",
        "        dict_yy[s] = {t}\n",
        "dict_yn = {}\n",
        "for s, t in constraints_yn:\n",
        "    if s in dict_yn:\n",
        "        dict_yn[s].add(t)\n",
        "    else:\n",
        "        dict_yn[s] = {t}"
      ]
    },
    {
      "cell_type": "code",
      "execution_count": 8,
      "id": "a8b0e11c-5331-4f08-aae0-db6a68157baa",
      "metadata": {
        "gather": {
          "logged": 1647099960819
        }
      },
      "outputs": [],
      "source": [
        "depth = 10\n",
        "len_yy = [len(constraints_yy)]\n",
        "len_yn = [len(constraints_yn)]\n",
        "for d in range(depth-1):\n",
        "    temp_yy = copy.deepcopy(dict_yy)\n",
        "    temp_yn = copy.deepcopy(dict_yn)\n",
        "    for a, bs in dict_yy.items():\n",
        "        for b in bs:\n",
        "            for c in dict_yy.get(b, set()):\n",
        "                if a == c:\n",
        "                    continue\n",
        "                temp_yy[a].add(c)\n",
        "            for c in dict_yn.get(b, set()):\n",
        "                if a == c:\n",
        "                    continue\n",
        "                if a in temp_yn:\n",
        "                    temp_yn[a].add(c)\n",
        "                else:\n",
        "                    temp_yn[a] = {c}\n",
        "                if c in temp_yn:\n",
        "                    temp_yn[c].add(a)\n",
        "                else:\n",
        "                    temp_yn[c] = {a}\n",
        "    del dict_yy\n",
        "    del dict_yn\n",
        "    dict_yy = temp_yy\n",
        "    dict_yn = temp_yn\n",
        "    len_yy.append(sum([len(v) for v in dict_yy.values()]))\n",
        "    len_yn.append(sum([len(v) for v in dict_yn.values()]))"
      ]
    },
    {
      "cell_type": "code",
      "execution_count": 9,
      "id": "5e70cb4a-6fdb-412a-8c04-38a8351842bd",
      "metadata": {
        "gather": {
          "logged": 1647099961006
        }
      },
      "outputs": [],
      "source": [
        "for s, ts in dict_yy.items():\n",
        "    for t in ts:\n",
        "        constraints_yy.add((s, t))\n",
        "for s, ts in dict_yn.items():\n",
        "    for t in ts:\n",
        "        constraints_yn.add((s, t))\n",
        "constraints_nn = set([(t, s) for s, t in constraints_yy])"
      ]
    },
    {
      "cell_type": "code",
      "execution_count": 10,
      "id": "736fe796-8a9f-470f-9f74-4565eb1a953a",
      "metadata": {
        "gather": {
          "logged": 1647099961199
        }
      },
      "outputs": [
        {
          "name": "stdout",
          "output_type": "stream",
          "text": [
            "3931\n",
            "11346\n"
          ]
        }
      ],
      "source": [
        "print(len(constraints_yy))\n",
        "print(len(constraints_yn))"
      ]
    },
    {
      "cell_type": "code",
      "execution_count": 11,
      "id": "09ce6b7f-8ff5-4599-b7bb-5bebeade6c26",
      "metadata": {
        "gather": {
          "logged": 1647099961400
        }
      },
      "outputs": [
        {
          "data": {
            "image/png": "[encoded data removed]",
            "text/plain": [
              "<Figure size 432x288 with 1 Axes>"
            ]
          },
          "metadata": {
            "needs_background": "light"
          },
          "output_type": "display_data"
        }
      ],
      "source": [
        "plt.title(\"Constraints vs depth\")\n",
        "plt.plot(len_yy, label=\"yy\")\n",
        "plt.plot(len_yn, label=\"yn\")\n",
        "plt.legend()\n",
        "plt.show()"
      ]
    },
    {
      "cell_type": "code",
      "execution_count": 12,
      "id": "cfe9b264-1408-4d9e-b50b-4443d6dfbe5a",
      "metadata": {
        "gather": {
          "logged": 1647099961589
        }
      },
      "outputs": [],
      "source": [
        "for c1, c2 in constraints_yn:\n",
        "    if c1 == c2:\n",
        "        print(c1, c2)\n",
        "        break"
      ]
    },
    {
      "cell_type": "code",
      "execution_count": 13,
      "id": "c368e6e7-7bd9-42e7-86f1-6ff58fee48ca",
      "metadata": {
        "gather": {
          "logged": 1647099961771
        }
      },
      "outputs": [],
      "source": [
        "dict_nn = {}\n",
        "for s, t in constraints_nn:\n",
        "    if s in dict_nn:\n",
        "        dict_nn[s].add(t)\n",
        "    else:\n",
        "        dict_nn[s] = {t}"
      ]
    },
    {
      "cell_type": "code",
      "execution_count": 14,
      "id": "a6eb7323-ed08-4431-82c0-db99d05c82a3",
      "metadata": {
        "gather": {
          "logged": 1647099961950
        }
      },
      "outputs": [],
      "source": [
        "neighbors = {}\n",
        "num_neighbors = {}\n",
        "for s in list(dict_yy.keys()) + list(dict_yn.keys()) + list(dict_nn.keys()):\n",
        "    neighbors[s] = dict_yy.get(s, set()).union(dict_yn.get(s, set())).union(dict_nn.get(s, set()))\n",
        "    num_neighbors[s] = len(neighbors[s])"
      ]
    },
    {
      "cell_type": "code",
      "execution_count": 15,
      "id": "3fa7c0ef-3fef-474a-8d3e-741e641844f7",
      "metadata": {
        "gather": {
          "logged": 1647099962238
        }
      },
      "outputs": [
        {
          "data": {
            "image/png": "[encoded data removed]",
            "text/plain": [
              "<Figure size 432x288 with 1 Axes>"
            ]
          },
          "metadata": {
            "needs_background": "light"
          },
          "output_type": "display_data"
        }
      ],
      "source": [
        "plt.hist(num_neighbors.values(), bins=range(0, max(num_neighbors.values()) + 1, 20))\n",
        "plt.show()"
      ]
    },
    {
      "cell_type": "markdown",
      "id": "7d1a220d-4e83-40a4-bb48-2599e043036f",
      "metadata": {},
      "source": [
        "Case | Equivalent implications   | Contradictory case\n",
        "a    | 1 -> not 2 == 2 -> not 1  | 1 & 2\n",
        "b    | 1 -> 2 == not 2 -> not 1  | 1 & not 2\n",
        "c    | 2 -> 1 == not 1 -> not 2  | not 1 & 2\n",
        "d    | not 1 -> 2 == not 2 -> 1  | not 1 & not 2"
      ]
    },
    {
      "cell_type": "code",
      "execution_count": 16,
      "id": "34aa4611-b2e3-46d6-8f7e-dbcebb92bf97",
      "metadata": {
        "gather": {
          "logged": 1647099962428
        }
      },
      "outputs": [],
      "source": [
        "def check_constraints(relation1, true1, relation2, true2):\n",
        "    # Is (relation1, true1) & (relation2, true2)  \n",
        "    if true1 and true2: # Case a\n",
        "        implies12 = (relation1, relation2) in constraints_yy\n",
        "        implies21 = (relation2, relation1) in constraints_yy\n",
        "        contradicts = (relation1, relation2) in constraints_yn or (relation2, relation1) in constraints_yn\n",
        "    elif true1 and not true2: # Case b\n",
        "        implies12 = (relation1, relation2) in constraints_yn or (relation2, relation1) in constraints_yn\n",
        "        implies21 = False\n",
        "        contradicts = (relation1, relation2) in constraints_yy\n",
        "    elif not true1 and true2: # Case c\n",
        "        implies12 = False\n",
        "        implies21 = (relation1, relation2) in constraints_yn or (relation2, relation1) in constraints_yn\n",
        "        contradicts = (relation2, relation1) in constraints_yy\n",
        "    else: # Case d\n",
        "        implies12 = (relation2, relation1) in constraints_yy\n",
        "        implies21 = (relation1, relation2) in constraints_yy\n",
        "        contradicts = False\n",
        "    return implies12, implies21, contradicts"
      ]
    },
    {
      "cell_type": "code",
      "execution_count": 17,
      "id": "3bbd05e6-2234-4a56-9239-6295c3cbfcf1",
      "metadata": {
        "gather": {
          "logged": 1647099962614
        }
      },
      "outputs": [
        {
          "name": "stdout",
          "output_type": "stream",
          "text": [
            "(False, True, False)\n",
            "(False, False, False)\n",
            "(False, False, True)\n",
            "(True, False, False)\n"
          ]
        }
      ],
      "source": [
        "print(check_constraints(\"IsA,animal\", True, \"IsA,mammal\", True))\n",
        "print(check_constraints(\"IsA,animal\", True, \"IsA,mammal\", False))\n",
        "print(check_constraints(\"IsA,animal\", False, \"IsA,mammal\", True))\n",
        "print(check_constraints(\"IsA,animal\", False, \"IsA,mammal\", False))"
      ]
    },
    {
      "cell_type": "code",
      "execution_count": 18,
      "id": "526892fc-dcbc-4010-88a6-52ce2933ac8b",
      "metadata": {
        "gather": {
          "logged": 1647099962795
        }
      },
      "outputs": [
        {
          "name": "stdout",
          "output_type": "stream",
          "text": [
            "(False, False, False)\n",
            "(False, False, False)\n",
            "(False, False, False)\n",
            "(False, False, False)\n"
          ]
        }
      ],
      "source": [
        "print(check_constraints(\"IsA,animal\", True, \"IsA,candy\", True))\n",
        "print(check_constraints(\"IsA,animal\", True, \"IsA,candy\", False))\n",
        "print(check_constraints(\"IsA,animal\", False, \"IsA,candy\", True))\n",
        "print(check_constraints(\"IsA,animal\", False, \"IsA,candy\", False))"
      ]
    },
    {
      "cell_type": "markdown",
      "id": "716ad53a-5ebc-4366-916e-534c78d69f44",
      "metadata": {},
      "source": [
        "# Load models"
      ]
    },
    {
      "cell_type": "code",
      "execution_count": 19,
      "id": "f2dd540c-0d05-4fec-85cc-6309b64a4764",
      "metadata": {
        "gather": {
          "logged": 1647099963000
        }
      },
      "outputs": [
        {
          "data": {
            "text/plain": [
              "device(type='cuda')"
            ]
          },
          "execution_count": 19,
          "metadata": {},
          "output_type": "execute_result"
        }
      ],
      "source": [
        "device = torch.device(\"cuda\" if torch.cuda.is_available() else \"cpu\")\n",
        "device"
      ]
    },
    {
      "cell_type": "code",
      "execution_count": 20,
      "id": "699dba1b-3171-4690-be58-a5fd082e80d8",
      "metadata": {
        "gather": {
          "logged": 1647099976883
        }
      },
      "outputs": [],
      "source": [
        "# Downloads a pretty large model\n",
        "tokenizer = AutoTokenizer.from_pretrained(\"allenai/macaw-large\")\n",
        "model = AutoModelForSeq2SeqLM.from_pretrained(\"allenai/macaw-large\")\n",
        "model = model.to(device=device).eval()"
      ]
    },
    {
      "cell_type": "code",
      "execution_count": 21,
      "id": "d5f170c9-5046-4905-b309-e7a821357467",
      "metadata": {
        "gather": {
          "logged": 1647099977070
        }
      },
      "outputs": [],
      "source": [
        "# QA Model stuff\n",
        "def format_question(question_list):\n",
        "    question_list = [\"$answer$ ; $mcoptions$ = (A) yes (B) no; $question$ = \" + item \\\n",
        "         for item in question_list]\n",
        "    return question_list\n",
        "\n",
        "def predict(question_list, max_bsize=10):\n",
        "    B = len(question_list)\n",
        "    question_list = format_question(question_list)\n",
        "    answer_list_all_yes = [\"$answer$ = yes\"] * B     # pass in list of \"yes\"\n",
        "    \n",
        "    answers_all = []\n",
        "    confidences_all = []\n",
        "    for i in range(0, B, max_bsize):\n",
        "        j = min(i + max_bsize, B)\n",
        "        # print(dir(tokenizer))\n",
        "        inputs = tokenizer.batch_encode_plus(question_list[i:j], max_length = 256, padding=True, truncation=True, return_tensors=\"pt\")\n",
        "        labels = tokenizer.batch_encode_plus(answer_list_all_yes[i:j], max_length = 15, padding=True, truncation=True, return_tensors=\"pt\") # max_length is set to len(\"$answer$ = yes\")\n",
        "\n",
        "        # output = model.generate(input_ids, max_length=200)\n",
        "        # answers = tokenizer.batch_decode(output, skip_special_tokens=True)\n",
        "        fwd = model(input_ids=inputs[\"input_ids\"].to(device), attention_mask=inputs[\"attention_mask\"].to(device),\n",
        "                    labels=labels[\"input_ids\"].to(device))\n",
        "                    # decoder_input_ids=labels[\"input_ids\"], decoder_attention_mask=labels[\"attention_mask\"])\n",
        "        # output_ids = torch.argmax(fwd.logits, dim=-1)\n",
        "        # print(tokenizer.batch_decode(output_ids, skip_special_tokens=True))\n",
        "\n",
        "        # loss\n",
        "        # loss = fwd.loss # - log(P(y|x))\n",
        "        # confidence = torch.exp(-loss)\n",
        "        logits = fwd.logits.reshape((j - i, 7, -1))\n",
        "        logits = logits[:, 5, :] # Index of yes/no token in answer\n",
        "        probs = torch.softmax(logits, dim=-1).detach().cpu().numpy()\n",
        "        # yes has input_id 4273, no has input_id 150\n",
        "        confidence_yes = probs[..., 4273] \n",
        "        confidence_no = probs[..., 150]\n",
        "\n",
        "        answers = (confidence_yes >= confidence_no) # np.array([(ans == \"$answer$ = yes\") for ans in answers])\n",
        "        confidences = np.where(answers, confidence_yes, confidence_no)\n",
        "        answers_all.append(answers)\n",
        "        confidences_all.append(confidences)\n",
        "    answers = np.concatenate(answers_all, axis=0)\n",
        "    confidences = np.concatenate(confidences_all, axis=0)\n",
        "    return answers, confidences\n"
      ]
    },
    {
      "cell_type": "code",
      "execution_count": 22,
      "id": "59effc47-e588-4c7b-8e90-82bf14a9e4f4",
      "metadata": {
        "gather": {
          "logged": 1647099981500
        }
      },
      "outputs": [
        {
          "name": "stderr",
          "output_type": "stream",
          "text": [
            "Some weights of the model checkpoint at ynie/roberta-large-snli_mnli_fever_anli_R1_R2_R3-nli were not used when initializing RobertaForSequenceClassification: ['roberta.pooler.dense.weight', 'roberta.pooler.dense.bias']\n",
            "- This IS expected if you are initializing RobertaForSequenceClassification from the checkpoint of a model trained on another task or with another architecture (e.g. initializing a BertForSequenceClassification model from a BertForPreTraining model).\n",
            "- This IS NOT expected if you are initializing RobertaForSequenceClassification from the checkpoint of a model that you expect to be exactly identical (initializing a BertForSequenceClassification model from a BertForSequenceClassification model).\n"
          ]
        }
      ],
      "source": [
        "nli_tokenizer = AutoTokenizer.from_pretrained(\"ynie/roberta-large-snli_mnli_fever_anli_R1_R2_R3-nli\")\n",
        "nli_model = AutoModelForSequenceClassification.from_pretrained(\"ynie/roberta-large-snli_mnli_fever_anli_R1_R2_R3-nli\")\n",
        "nli_model = nli_model.to(device=device).eval()"
      ]
    },
    {
      "cell_type": "code",
      "execution_count": 23,
      "id": "1970157b-6933-4d87-b772-300891b1b457",
      "metadata": {
        "gather": {
          "logged": 1647099981699
        }
      },
      "outputs": [],
      "source": [
        "def nli(sents, nli_tokenizer, nli_model, max_bsize=20):\n",
        "    \"\"\"Generates contradiction matrix of shape (N, B, B)\"\"\"\n",
        "    if sents.ndim == 1:\n",
        "        sents = sents.reshape(1, -1)\n",
        "    \n",
        "    N, B = sents.shape\n",
        "    prem = []\n",
        "    hypo = []\n",
        "    for i in range(N):\n",
        "        for j in range(B):\n",
        "            for k in range(B):\n",
        "                prem.append(sents[i][j])\n",
        "                hypo.append(sents[i][k])\n",
        "\n",
        "    nli_matrix = []\n",
        "    size = N * B * B\n",
        "    for i in range(0, size, max_bsize):\n",
        "        j = min(i + max_bsize, size)\n",
        "        tokenized = nli_tokenizer(prem[i:j], hypo[i:j], \n",
        "                                  max_length=256, \n",
        "                                  return_token_type_ids=True, \n",
        "                                  truncation=True,\n",
        "                                  padding=True)\n",
        "\n",
        "        input_ids = torch.Tensor(tokenized['input_ids']).to(device).long()\n",
        "        token_type_ids = torch.Tensor(tokenized['token_type_ids']).to(device).long()\n",
        "        attention_mask = torch.Tensor(tokenized['attention_mask']).to(device).long()\n",
        "\n",
        "        nli_outputs = nli_model(input_ids,\n",
        "                                attention_mask=attention_mask,\n",
        "                                token_type_ids=token_type_ids,\n",
        "                                labels=None)\n",
        "        nli_matrix.append(torch.softmax(nli_outputs.logits.detach().cpu(), dim=1))\n",
        "    nli_matrix = torch.cat(nli_matrix, dim=0)\n",
        "    nli_matrix = nli_matrix.reshape(N, B, B, 3)\n",
        "    return nli_matrix.numpy()\n",
        "\n",
        "# TODO: Mimic nli model, but using constraints graph\n",
        "def nli_constraints(big_batch, N, B):\n",
        "    nli_matrix = np.zeros((N, B, B, 3))\n",
        "    pass"
      ]
    },
    {
      "cell_type": "code",
      "execution_count": 24,
      "id": "3588a976",
      "metadata": {},
      "outputs": [
        {
          "data": {
            "text/plain": [
              "array([[[0.9899734, 0.8204754],\n",
              "        [0.9833282, 0.9912497]]], dtype=float32)"
            ]
          },
          "execution_count": 24,
          "metadata": {},
          "output_type": "execute_result"
        }
      ],
      "source": [
        "sents = np.array([\"A buffalo is an animal\", \"A buffalo is a mammal\"]) # shape: N, B, B, 3\n",
        "nli(sents, nli_tokenizer, nli_model, max_bsize=20)[:,:,:,0]"
      ]
    },
    {
      "cell_type": "code",
      "execution_count": 25,
      "id": "9566f12a-18af-4d2a-a705-b56d55ca9f26",
      "metadata": {
        "gather": {
          "logged": 1647099981923
        }
      },
      "outputs": [],
      "source": [
        "def evaluate(predictions, answers, pred_batch):\n",
        "    if predictions.ndim == 1:\n",
        "        predictions = predictions.reshape(1, -1)\n",
        "    answers = answers.reshape(predictions.shape)\n",
        "    relations = np.array([rel for ent, rel, pred in pred_batch]).reshape(predictions.shape)\n",
        "    N, B = predictions.shape\n",
        "    # predictions, answers, relations should be size (N, B)\n",
        "    \n",
        "    # Calculate accurate examples\n",
        "    correct = (predictions == answers)\n",
        "    acc = np.sum(correct)\n",
        "    \n",
        "    # Calculate metrics for F1\n",
        "    TP = np.sum(correct * answers)\n",
        "    TN = acc - TP\n",
        "    FN = np.sum((1 - correct) * answers)\n",
        "    FP = np.sum((1 - correct) * (1 - answers))\n",
        "    \n",
        "    # Calculate contradictions\n",
        "    con = 0\n",
        "    conacc = 0\n",
        "    relevant = 0 # Number of pairs that imply or contradict each other\n",
        "    for i in range(N):\n",
        "        for j in range(B):\n",
        "            for k in range(j+1, B):\n",
        "                impl12, impl21, contra = check_constraints( \\\n",
        "                    relations[i, j], predictions[i, j], relations[i, k], predictions[i, k])\n",
        "                if impl12 or impl21 or contra:\n",
        "                    relevant += 1\n",
        "                if contra:\n",
        "                    con += 1\n",
        "                else:\n",
        "                    conacc += (correct[i, j] and correct[i, k])\n",
        "    \n",
        "    total = predictions.size\n",
        "    bsize = predictions.shape[0]\n",
        "    return {\n",
        "        \"accurate\": acc,\n",
        "        \"TP\": TP,\n",
        "        \"TN\": TN,\n",
        "        \"FN\": FN,\n",
        "        \"FP\": FP,\n",
        "        \"contradictory_pairs\": con,\n",
        "        \"consistent_acc_pairs\": conacc,\n",
        "        \"relevant_pairs\": relevant,\n",
        "        \"total_questions\": predictions.size,\n",
        "        \"num_batches\": bsize,\n",
        "    }"
      ]
    },
    {
      "cell_type": "code",
      "execution_count": 26,
      "id": "e007a148-9d3a-4e20-9b65-abbc38d3c9b1",
      "metadata": {
        "gather": {
          "logged": 1647099982134
        }
      },
      "outputs": [],
      "source": [
        "def counts_tostr(counts, i):\n",
        "    lines = []\n",
        "    N = counts[\"num_batches\"][i]\n",
        "    total = counts[\"total_questions\"][i]\n",
        "    B = total // N\n",
        "    total_pairs = N * B * (B - 1) // 2 # pairs per batch\n",
        "    accurate = counts['accurate'][i]\n",
        "    contradictions = counts['contradictory_pairs'][i]\n",
        "    relevant = counts['relevant_pairs'][i]\n",
        "    con_acc = counts['consistent_acc_pairs'][i]\n",
        "    flips = counts['flips'][i]\n",
        "    TP = counts['TP'][i]\n",
        "    FP = counts['FP'][i]\n",
        "    FN = counts['FN'][i]\n",
        "    precision = TP / (TP + FP)\n",
        "    recall = TP / (TP + FN)\n",
        "    f1 = 0 if precision == 0 and recall == 0 else 2 * precision * recall / (precision + recall)\n",
        "    lines.append(f\"Accurate {accurate} / {total} = {accurate / total}\")\n",
        "    lines.append(f\"Precision {precision}, recall {recall} ==> F1 {f1}\")\n",
        "    lines.append(f\"Contradictions {contradictions} / {total_pairs} pairs = {contradictions / total_pairs}\")\n",
        "    lines.append(f\"Contradictions {contradictions} / {relevant} relevant pairs = {contradictions / relevant}\")\n",
        "    lines.append(f\"Consistent+Accurate {con_acc} / {total_pairs} pairs = {con_acc / total_pairs}\")\n",
        "    lines.append(f\"Corrections {flips} / {N} batches = {flips / N}\")\n",
        "    return \"\\n\".join(lines)"
      ]
    },
    {
      "cell_type": "markdown",
      "id": "7ce59221-7942-4c06-9573-7bbe274c8da0",
      "metadata": {},
      "source": [
        "Sampling methods\n",
        "1. base fact -> relation(s) on graph (must be downstream, or upstream if false)\n",
        "    Pro: Facts are close together\n",
        "    Con: Limited to guaranteed relations, so asymmetric\n",
        "2. base fact -> sample given facts that are nearby (not necessarily downstream)\n",
        "    Pro: Symmetric since all facts are given, facts are close together\n",
        "    Con: Contradictions may be a bit dense\n",
        "3. sample facts randomly (then just check afterwards)\n",
        "    Pro: Symmetric since all facts are given, sparser contradictions\n",
        "    Con: Facts may be distant, and constraints aren't complete, so will miss some constraints"
      ]
    },
    {
      "cell_type": "code",
      "execution_count": 27,
      "id": "df5538a5",
      "metadata": {
        "gather": {
          "logged": 1647099982358
        }
      },
      "outputs": [
        {
          "name": "stdout",
          "output_type": "stream",
          "text": [
            "(array([ True, False]), array([0.9846942, 0.9998914], dtype=float32))\n",
            "(array([ True, False]), array([0.92805856, 0.9997551 ], dtype=float32))\n"
          ]
        },
        {
          "data": {
            "text/plain": [
              "('Is a buffalo not a mammal?', 'Yes')"
            ]
          },
          "execution_count": 27,
          "metadata": {},
          "output_type": "execute_result"
        }
      ],
      "source": [
        "print(predict([\"Is a buffalo a mammal?\", \"Is a buffalo not a mammal?\"], max_bsize=20))  # QA Model\n",
        "print(predict([\"Is a buffalo a water animal?\", \"Is a buffalo not a water animal?\"], max_bsize=20))  # QA Model\n",
        "generate_inverse_question(\"buffalo\", \"IsA,mammal\", \"true\")\n"
      ]
    },
    {
      "cell_type": "markdown",
      "id": "fdc5ada2",
      "metadata": {},
      "source": [
        "### QA Requerying"
      ]
    },
    {
      "cell_type": "code",
      "execution_count": 28,
      "id": "c8baf725",
      "metadata": {
        "gather": {
          "logged": 1647102131502
        }
      },
      "outputs": [],
      "source": [
        "def C_11(old_predictions, old_confidences, questions, nli_matrix, entities, relations, return_flip_mask=False):\n",
        "    contra_matrix = nli_matrix[:, :, :, 2]\n",
        "    contra_matrix = (contra_matrix + contra_matrix.transpose((0, 2, 1))) / 2\n",
        "    contra_matrix[:, range(B), range(B)] = 0 # Set diagonals to 0\n",
        "\n",
        "    entities = np.array(entities).reshape(N,B) \n",
        "    relations = np.array(relations).reshape(N,B)\n",
        "    questions = np.array(questions).reshape(N,B)\n",
        "     \n",
        "    correction_fn = getattr(correction_utils, 'C_1') # Apply C_1 correction function first\n",
        "    _, flip = correction_fn(old_predictions, old_confidences, nli_matrix, return_flip_mask=True)\n",
        "\n",
        "    my_batch = np.stack((entities, relations, flip), axis = -1)\n",
        "\n",
        "    # Requery QA model with context if flipped    \n",
        "    new_predictions = np.zeros(old_predictions.shape)\n",
        "    new_confidences = np.zeros(old_confidences.shape)\n",
        "    for ij in np.ndindex(my_batch.shape[:2]):\n",
        "        entity, relation, flipped = tuple(my_batch[ij])\n",
        "        \n",
        "        if(flipped): # flipped\n",
        "            #print(\"Target tuple:\", tuple(big_batch[ij]))\n",
        "            requeried_questions = []\n",
        "            #go through list of other relations to find contradictory ones\n",
        "\n",
        "            # for each B, B. A?\n",
        "            for relation2 in range(B): \n",
        "                second_relation = my_batch[(ij[0], relation2)]\n",
        "                \n",
        "                requeried_questions.append(generate_question_with_context(second_relation[0], second_relation[1], second_relation[2], \\\n",
        "                    my_batch[ij][0], my_batch[ij][1], my_batch[ij][2]))\n",
        "            total = 0\n",
        "            totalContradictions = 0\n",
        "            predictions, confidences = predict(requeried_questions)\n",
        "            \n",
        "            #print(contra_matrix[ij[0], ij[1]])\n",
        "            \n",
        "            ### Approach 1: check contra_matrix probs between this statement and all other statements\n",
        "            # for relation2 in range(B):\n",
        "                ### Find statements that this statement is contradictory to. \n",
        "                # if (contra_matrix[ij[0], ij[1], relation2] >= 0.5):\n",
        "                #     #take average confidence in the query with that relation as confidence\n",
        "                #     totalContradictions += 1\n",
        "                #     total += confidences[relation2]\n",
        "\n",
        "            ### Approach 2: use requeries that were false, and with high contradiction probability: \n",
        "            for pred_idx, pred in enumerate(predictions):\n",
        "                if (contra_matrix[ij[0], ij[1], relation2] >= 0.5 and not pred): # if contra prob is high, AND predicted is false\n",
        "                    totalContradictions += 1\n",
        "                    total += confidences[pred_idx]\n",
        "\n",
        "\n",
        "            if (totalContradictions > 0):\n",
        "                new_confidences[ij] = total/totalContradictions\n",
        "            else:\n",
        "                new_confidences[ij] = 0\n",
        "                \n",
        "    #if average confidence in contradictory queries is higher than old confidence, we flip\n",
        "    new_predictions = np.where(new_confidences > old_confidences, np.logical_not(old_predictions), old_predictions)\n",
        "\n",
        "    changed_predictions = np.logical_xor(new_predictions, old_predictions)\n",
        "    corrected = new_predictions.copy()\n",
        "\n",
        "    #\n",
        "    flip = np.logical_xor(corrected, old_predictions)\n",
        "    if return_flip_mask:\n",
        "        return corrected, flip\n",
        "    return corrected\n"
      ]
    },
    {
      "cell_type": "code",
      "execution_count": 29,
      "id": "0e250974",
      "metadata": {
        "gather": {
          "logged": 1647099982765
        }
      },
      "outputs": [],
      "source": [
        "### Re-querying NLI/QA models\n",
        "# Patrick Liu the goat's sage advice:\n",
        "'''\n",
        "If A and B contradict, and you decide to flip B, then you have the same batch but with ~B\n",
        "Get the NLI with ~B (not entire matrix, just corresponding row/col -- compare ~B with the rest of batch)\n",
        "Then, if it contradicts with anything else in the batch, repeat\n",
        "'''\n",
        "\n",
        "def C_12(old_predictions, old_confidences, questions, nli_matrix, entities, relations, return_flip_mask=False):\n",
        "    entities = np.array(entities).reshape(N,B) \n",
        "    relations = np.array(relations).reshape(N,B)\n",
        "    questions = np.array(questions).reshape(N,B)\n",
        "\n",
        "    correction_fn = getattr(correction_utils, 'C_1') # Apply C_1 correction function first\n",
        "    corrected, flip = correction_fn(old_predictions, old_confidences, nli_matrix, return_flip_mask=True)\n",
        " \n",
        "\n",
        "    # For each elem in big_batch that should be flipped, invert question (answer remains same)\n",
        "    # big_batch[:, :, 2] = np.logical_xor(big_batch[:, :, 2] == \"True\", flip)\n",
        "    my_batch = np.stack((entities, relations, flip), axis = -1)\n",
        "\n",
        "    # Current answer | Flip? -> New Answer (XOR)\n",
        "    # 0 1 -> 1\n",
        "    # 0 0 -> 0\n",
        "    # 1 0 -> 1\n",
        "    # 1 1 -> 0\n",
        "\n",
        "    # Requery QA model with inverted question if flipped\n",
        "    requeried_questions = []\n",
        "    for ij in np.ndindex(my_batch.shape[:2]): # convert to orig big_batch format\n",
        "        entity, relation, flipped = tuple(my_batch[ij])\n",
        "        # print(entity, relation, flipped)\n",
        "        if(flipped): # flipped\n",
        "            new_q, _ = generate_inverse_question(entity, relation, flipped)\n",
        "        else: \n",
        "            new_q, _ = generate_question(entity, relation, flipped)\n",
        "        requeried_questions.append(new_q)\n",
        "    \n",
        "    new_predictions, new_confidences = predict(requeried_questions, max_bsize=20) # QA Model\n",
        "    new_predictions = new_predictions.reshape(N,B)\n",
        "    new_confidences = new_confidences.reshape(N,B)\n",
        "    changed_predictions = np.logical_xor(new_predictions, old_predictions) # Predictions that have changed with requery\n",
        "    # print(\"Predictions that have changed with QA requery: \" + changed_predictions)\n",
        "    # print(new_confidences, old_confidences, new_predictions, old_predictions)\n",
        "\n",
        "    # Take the prediction with the higher confidence score\n",
        "    combined_max_predictions = np.where(new_confidences > old_confidences, new_predictions, old_predictions)\n",
        "    # print(combined_max_confidences)\n",
        "\n",
        "    # Output stage\n",
        "    corrected = combined_max_predictions.copy()\n",
        "    flip = np.logical_xor(corrected, old_predictions)\n",
        "    if return_flip_mask:\n",
        "        return corrected, flip\n",
        "    return corrected\n",
        "\n"
      ]
    },
    {
      "cell_type": "markdown",
      "id": "03723186",
      "metadata": {},
      "source": [
        "### NLI Requerying / Using Entailment Scores"
      ]
    },
    {
      "cell_type": "code",
      "execution_count": 37,
      "id": "a8cbdb36",
      "metadata": {},
      "outputs": [],
      "source": [
        "def C_13(predictions, confidences, nli_matrix, entities, relations, return_flip_mask = False):\n",
        "    '''\n",
        "    Use predictions to requery NLI and generate new entailment scores.\n",
        "    Given prediction of (A true, B false), and A entails B (A->B), query NLI to generate new entailment score\n",
        "    of (A, not B) and/or (B, not A). \n",
        "    If A entails not B (A-> ~B) is high, and B's conf is low, flip B.\n",
        "    '''\n",
        "    N, B = predictions.shape\n",
        "    entailment_threshold = 0.5\n",
        "    confidence_threshold = 0.75 # must be in range (0.5, 1)\n",
        "\n",
        "    entailment_matrix = nli_matrix[:, :, :, 0] # N x B x B\n",
        "    N_idxs, A_idxs, B_idxs = np.where(entailment_matrix > 0) # indices\n",
        "        \n",
        "    \n",
        "    for N_idx, A_idx, B_idx in zip(N_idxs, A_idxs, B_idxs):\n",
        "        # Query NLI with (A, not B)\n",
        "        A = generate_assertion(entities[N_idx, A_idx], relations[N_idx, A_idx], predictions[N_idx, A_idx])\n",
        "        Not_B = generate_assertion(entities[N_idx, B_idx], relations[N_idx, B_idx], not predictions[N_idx, B_idx])\n",
        "        \n",
        "        assertions = np.array([A, Not_B])\n",
        "        requeried_nli_matrix = nli(assertions, nli_tokenizer, nli_model).squeeze() # 2 x 2 x 3\n",
        "        entail_matrix = requeried_nli_matrix[:, :, 0]\n",
        "        # print(entail_matrix)\n",
        "        if(entail_matrix[0,1] > entailment_threshold): # score of A entails ~B\n",
        "            if confidences[N_idx, B_idx] < confidence_threshold: # if B has low conf\n",
        "                print(\"FLIP!-------\")\n",
        "                predictions[N_idx, B_idx] = not predictions[N_idx, B_idx] # flip B\n",
        "                confidences[N_idx, B_idx] = 1 - confidences[N_idx, B_idx]\n",
        "\n",
        "    correction_fn = getattr(correction_utils, 'C_1') # Finally, apply C_1 correction function\n",
        "    return correction_fn(predictions, confidences, nli_matrix, return_flip_mask=True)\n"
      ]
    },
    {
      "cell_type": "code",
      "execution_count": 31,
      "id": "42afb100",
      "metadata": {},
      "outputs": [
        {
          "data": {
            "text/plain": [
              "'\\ndef C_13(predictions, confidences, nli_matrix, entities, relations, return_flip_mask = False):\\n    # make entailment matrix where M[i, j] = i entails not j\\n    for N_idx, A_idx, B_idx in zip(N_idxs, A_idxs, B_idxs):\\n        A = generate_assertion(entities[N_idx, A_idx], relations[N_idx, A_idx], predictions[N_idx, A_idx])\\n        Not_B = generate_assertion(entities[N_idx, B_idx], relations[N_idx, B_idx], not predictions[N_idx, B_idx])\\n    pred_batch = [(ent, rel, predictions[i]) for i, (ent, rel, true) in enumerate(zip(entities, relations))]\\n    assertions = [generate_assertion(*tup) for tup in pred_batch]\\n    \\n    assertions = np.array(assertions).reshape(N, B)\\n    nli_matrix = nli(assertions, nli_tokenizer, nli_model, max_bsize=20)\\n\\n'"
            ]
          },
          "execution_count": 31,
          "metadata": {},
          "output_type": "execute_result"
        }
      ],
      "source": [
        "\n",
        "'''\n",
        "def C_13(predictions, confidences, nli_matrix, entities, relations, return_flip_mask = False):\n",
        "    # make entailment matrix where M[i, j] = i entails not j\n",
        "    for N_idx, A_idx, B_idx in zip(N_idxs, A_idxs, B_idxs):\n",
        "        A = generate_assertion(entities[N_idx, A_idx], relations[N_idx, A_idx], predictions[N_idx, A_idx])\n",
        "        Not_B = generate_assertion(entities[N_idx, B_idx], relations[N_idx, B_idx], not predictions[N_idx, B_idx])\n",
        "    pred_batch = [(ent, rel, predictions[i]) for i, (ent, rel, true) in enumerate(zip(entities, relations))]\n",
        "    assertions = [generate_assertion(*tup) for tup in pred_batch]\n",
        "    \n",
        "    assertions = np.array(assertions).reshape(N, B)\n",
        "    nli_matrix = nli(assertions, nli_tokenizer, nli_model, max_bsize=20)\n",
        "\n",
        "'''"
      ]
    },
    {
      "cell_type": "markdown",
      "id": "460c83c0",
      "metadata": {},
      "source": [
        "### Correction Function Eval"
      ]
    },
    {
      "cell_type": "code",
      "execution_count": 39,
      "id": "88143abe-885c-499c-bcfc-40304aa1edf1",
      "metadata": {
        "gather": {
          "logged": 1647105927288
        }
      },
      "outputs": [
        {
          "name": "stdout",
          "output_type": "stream",
          "text": [
            "FLIP!-------\n",
            "FLIP!-------\n",
            "FLIP!-------\n",
            "FLIP!-------\n",
            "FLIP!-------\n",
            "FLIP!-------\n",
            "FLIP!-------\n",
            "FLIP!-------\n",
            "FLIP!-------\n",
            "FLIP!-------\n",
            "FLIP!-------\n",
            "FLIP!-------\n",
            "FLIP!-------\n",
            "FLIP!-------\n",
            "{'accurate': 81, 'TP': 10, 'TN': 71, 'FN': 0, 'FP': 19, 'contradictory_pairs': 14, 'consistent_acc_pairs': 294, 'relevant_pairs': 148, 'total_questions': 100, 'num_batches': 10}\n",
            "\n",
            "==================== Final Results ====================\n",
            "End on iter 10: 10 10x10 batches, 100 questions\n",
            "Correction function C_0:\n",
            "\tAccurate 75 / 100 = 0.75\n",
            "\tPrecision 0.2857142857142857, recall 1.0 ==> F1 0.4444444444444445\n",
            "\tContradictions 30 / 450 pairs = 0.06666666666666667\n",
            "\tContradictions 30 / 180 relevant pairs = 0.16666666666666666\n",
            "\tConsistent+Accurate 256 / 450 pairs = 0.5688888888888889\n",
            "\tCorrections 0 / 10 batches = 0.0\n",
            "Correction function C_1:\n",
            "\tAccurate 88 / 100 = 0.88\n",
            "\tPrecision 0.45454545454545453, recall 1.0 ==> F1 0.625\n",
            "\tContradictions 4 / 450 pairs = 0.008888888888888889\n",
            "\tContradictions 4 / 100 relevant pairs = 0.04\n",
            "\tConsistent+Accurate 348 / 450 pairs = 0.7733333333333333\n",
            "\tCorrections 13 / 10 batches = 1.3\n",
            "Correction function C_2:\n",
            "\tAccurate 82 / 100 = 0.82\n",
            "\tPrecision 0.35714285714285715, recall 1.0 ==> F1 0.5263157894736842\n",
            "\tContradictions 12 / 450 pairs = 0.02666666666666667\n",
            "\tContradictions 12 / 137 relevant pairs = 0.08759124087591241\n",
            "\tConsistent+Accurate 302 / 450 pairs = 0.6711111111111111\n",
            "\tCorrections 7 / 10 batches = 0.7\n",
            "Correction function C_3:\n",
            "\tAccurate 86 / 100 = 0.86\n",
            "\tPrecision 0.4166666666666667, recall 1.0 ==> F1 0.5882352941176471\n",
            "\tContradictions 7 / 450 pairs = 0.015555555555555555\n",
            "\tContradictions 7 / 112 relevant pairs = 0.0625\n",
            "\tConsistent+Accurate 332 / 450 pairs = 0.7377777777777778\n",
            "\tCorrections 11 / 10 batches = 1.1\n",
            "Correction function C_4:\n",
            "\tAccurate 86 / 100 = 0.86\n",
            "\tPrecision 0.4166666666666667, recall 1.0 ==> F1 0.5882352941176471\n",
            "\tContradictions 7 / 450 pairs = 0.015555555555555555\n",
            "\tContradictions 7 / 112 relevant pairs = 0.0625\n",
            "\tConsistent+Accurate 332 / 450 pairs = 0.7377777777777778\n",
            "\tCorrections 11 / 10 batches = 1.1\n",
            "Correction function C_5:\n",
            "\tAccurate 85 / 100 = 0.85\n",
            "\tPrecision 0.4, recall 1.0 ==> F1 0.5714285714285715\n",
            "\tContradictions 7 / 450 pairs = 0.015555555555555555\n",
            "\tContradictions 7 / 117 relevant pairs = 0.05982905982905983\n",
            "\tConsistent+Accurate 323 / 450 pairs = 0.7177777777777777\n",
            "\tCorrections 10 / 10 batches = 1.0\n",
            "Correction function C_6:\n",
            "\tAccurate 85 / 100 = 0.85\n",
            "\tPrecision 0.4, recall 1.0 ==> F1 0.5714285714285715\n",
            "\tContradictions 6 / 450 pairs = 0.013333333333333334\n",
            "\tContradictions 6 / 121 relevant pairs = 0.049586776859504134\n",
            "\tConsistent+Accurate 324 / 450 pairs = 0.72\n",
            "\tCorrections 14 / 10 batches = 1.4\n",
            "Correction function C_7:\n",
            "\tAccurate 87 / 100 = 0.87\n",
            "\tPrecision 0.43478260869565216, recall 1.0 ==> F1 0.6060606060606061\n",
            "\tContradictions 4 / 450 pairs = 0.008888888888888889\n",
            "\tContradictions 4 / 105 relevant pairs = 0.0380952380952381\n",
            "\tConsistent+Accurate 339 / 450 pairs = 0.7533333333333333\n",
            "\tCorrections 12 / 10 batches = 1.2\n",
            "Correction function C_8:\n",
            "\tAccurate 58 / 100 = 0.58\n",
            "\tPrecision 0.16666666666666666, recall 0.8 ==> F1 0.27586206896551724\n",
            "\tContradictions 71 / 450 pairs = 0.15777777777777777\n",
            "\tContradictions 71 / 271 relevant pairs = 0.26199261992619927\n",
            "\tConsistent+Accurate 159 / 450 pairs = 0.35333333333333333\n",
            "\tCorrections 55 / 10 batches = 5.5\n",
            "Correction function C_9:\n",
            "\tAccurate 81 / 100 = 0.81\n",
            "\tPrecision 0.3448275862068966, recall 1.0 ==> F1 0.5128205128205129\n",
            "\tContradictions 14 / 450 pairs = 0.03111111111111111\n",
            "\tContradictions 14 / 148 relevant pairs = 0.0945945945945946\n",
            "\tConsistent+Accurate 294 / 450 pairs = 0.6533333333333333\n",
            "\tCorrections 13 / 10 batches = 1.3\n",
            "Correction function C_11:\n",
            "\tAccurate 82 / 100 = 0.82\n",
            "\tPrecision 0.35714285714285715, recall 1.0 ==> F1 0.5263157894736842\n",
            "\tContradictions 14 / 450 pairs = 0.03111111111111111\n",
            "\tContradictions 14 / 136 relevant pairs = 0.10294117647058823\n",
            "\tConsistent+Accurate 304 / 450 pairs = 0.6755555555555556\n",
            "\tCorrections 7 / 10 batches = 0.7\n",
            "Correction function C_12:\n",
            "\tAccurate 95 / 100 = 0.95\n",
            "\tPrecision 1.0, recall 0.5 ==> F1 0.6666666666666666\n",
            "\tContradictions 1 / 450 pairs = 0.0022222222222222222\n",
            "\tContradictions 1 / 34 relevant pairs = 0.029411764705882353\n",
            "\tConsistent+Accurate 406 / 450 pairs = 0.9022222222222223\n",
            "\tCorrections 30 / 10 batches = 3.0\n",
            "Correction function C_13:\n",
            "\tAccurate 81 / 100 = 0.81\n",
            "\tPrecision 0.3448275862068966, recall 1.0 ==> F1 0.5128205128205129\n",
            "\tContradictions 14 / 450 pairs = 0.03111111111111111\n",
            "\tContradictions 14 / 148 relevant pairs = 0.0945945945945946\n",
            "\tConsistent+Accurate 294 / 450 pairs = 0.6533333333333333\n",
            "\tCorrections 14 / 10 batches = 1.4\n",
            "Runtime: 128.07229852676392\n"
          ]
        }
      ],
      "source": [
        "start = time.time()\n",
        "\n",
        "correction_fn_names = ['C_0', 'MaxSAT', 'C_1', 'C_2', 'C_3', 'C_4', 'C_5', 'C_6', 'C_7', 'C_8', 'C_9', \"C_11\", \"C_12\", \"C_13\"]\n",
        "\n",
        "\n",
        "counts = { \n",
        "    k: np.zeros(len(correction_fn_names), dtype=int) \n",
        "    for k in [\n",
        "        \"accurate\", \"TP\", \"TN\", \"FN\", \"FP\", \"contradictory_pairs\", \"consistent_acc_pairs\", \n",
        "        \"relevant_pairs\", \"total_questions\", \"num_batches\", \"flips\"\n",
        "    ]\n",
        "}\n",
        "\n",
        "N = 10 # Number of entities to sample in a big batch\n",
        "batch_counter = 0\n",
        "num_batches = 0\n",
        "num_big_batches = 0\n",
        "big_batch = []\n",
        "\n",
        "B = 10 # Number of facts for each entity\n",
        "random.shuffle(dev_entities)\n",
        "idx_count = 0\n",
        "idx = 0\n",
        "while num_batches < 10:\n",
        "    if idx == len(dev_entities):\n",
        "        random.shuffle(dev_entities)\n",
        "        idx = 0\n",
        "    entity = dev_entities[idx]\n",
        "    idx += 1\n",
        "    idx_count += 1\n",
        "    \n",
        "    # Sample set of facts for an entity\n",
        "    # Sampling method 2\n",
        "    entity_facts = list(facts[entity].items())\n",
        "    base = random.choice(entity_facts)\n",
        "    relation, label = base\n",
        "    nearby = neighbors.get(relation, set())\n",
        "    allowed_facts = [f for f in entity_facts if f[0] in nearby]\n",
        "    if len(allowed_facts) < B - 1:\n",
        "        continue\n",
        "    batch = random.sample(allowed_facts, min(B - 1, len(allowed_facts)))\n",
        "    batch = [base] + batch\n",
        "    batch = [(entity, rel, label == \"yes\") for rel, label in batch]\n",
        "    \n",
        "\n",
        "    # # Random sampling (method 3)\n",
        "    # batch = random.sample(list(facts[entity].items()), B)\n",
        "    # batch = [(entity, relation, true == \"yes\") for relation, yes in batch]\n",
        "    \n",
        "    # Collect batches in big batches\n",
        "    if batch_counter == 0:\n",
        "        big_batch = []\n",
        "    batch_counter += 1\n",
        "    big_batch.extend(batch)\n",
        "    if batch_counter < N: # Big batch not full yet, keep accumulating examples\n",
        "        continue\n",
        "    # We have a full batch\n",
        "    batch_counter = 0\n",
        "    num_batches += N\n",
        "    num_big_batches += 1\n",
        "    \n",
        "    questions, answers = zip(*[generate_question(*tup) for tup in big_batch])\n",
        "    questions = list(questions)\n",
        "    answers = np.array(answers) == \"Yes\"\n",
        "    # print(\"Questions:\", questions)\n",
        "    # print(\"Labels (for contradiction):\", answers)\n",
        "    \n",
        "    predictions, confidences = predict(questions, max_bsize=20)\n",
        "    predictions = predictions.flatten()\n",
        "    confidences = confidences.flatten()\n",
        "    # print(\"QA predictions:\", predictions)\n",
        "    # print(\"QA confidences:\", confidences)\n",
        "    \n",
        "    pred_batch = [(ent, rel, predictions[i]) for i, (ent, rel, true) in enumerate(big_batch)]\n",
        "    assertions = [generate_assertion(*tup) for tup in pred_batch]\n",
        "    #print(\"Assertons:\", assertions)\n",
        "    \n",
        "    assertions = np.array(assertions).reshape(N, B)\n",
        "    nli_matrix = nli(assertions, nli_tokenizer, nli_model, max_bsize=20)\n",
        "    # print(\"NLI probability matrix:\\n\", nli_matrix)\n",
        "    \n",
        "    predictions = predictions.reshape(N, B)\n",
        "    confidences = confidences.reshape(N, B)\n",
        "\n",
        "\n",
        "    ### Evaluate with correction/ requerying functions\n",
        "    for i, correction_fn in enumerate(correction_fn_names):\n",
        "        my_batch = np.array(big_batch.copy()).reshape(N,B,3)\n",
        "        entities = my_batch[:,:,0]\n",
        "        relations = my_batch[:,:,1]\n",
        "        if correction_fn == \"C_11\":\n",
        "            corrected, flip_mask = C_11(predictions.copy(), confidences.copy(), questions.copy(), nli_matrix.copy(), entities.copy(), relations.copy(), return_flip_mask=True)\n",
        "        elif correction_fn == \"C_12\":\n",
        "            corrected, flip_mask = C_12(predictions.copy(), confidences.copy(), questions.copy(), nli_matrix.copy(), entities.copy(), relations.copy(), return_flip_mask=True)\n",
        "        elif correction_fn == \"C_13\":\n",
        "            corrected, flip_mask = C_13(predictions.copy(), confidences.copy(), nli_matrix.copy(), entities.copy(), relations.copy(), return_flip_mask=True)\n",
        "        else: # normal correction function\n",
        "            fn_name = getattr(correction_utils, correction_fn)\n",
        "            corrected, flip_mask = fn_name(predictions.copy(), confidences.copy(), nli_matrix.copy(), return_flip_mask=True)\n",
        "\n",
        "        counts['flips'][i] += np.count_nonzero(flip_mask)\n",
        "        eval_dict = evaluate(corrected, answers, pred_batch)\n",
        "        for k, v in eval_dict.items():\n",
        "            counts[k][i] += v\n",
        "    print(eval_dict)\n",
        "    \n",
        "    if num_batches % 100 == 0:\n",
        "        print(f\"Iter {idx_count}: {num_batches} batches, {counts['total_questions'][0]} questions\")\n",
        "        for i, fn_name in enumerate(correction_fn_names):\n",
        "            print(f\"Correction function {fn_name}:\")\n",
        "            print('\\t' + counts_tostr(counts, i).replace('\\n', '\\n\\t'))\n",
        "            \n",
        "print(\"\\n==================== Final Results ====================\")\n",
        "print(f\"End on iter {idx_count}: {num_batches} {B}x{B} batches, {counts['total_questions'][0]} questions\")\n",
        "for i, fn_name in enumerate(correction_fn_names):\n",
        "    print(f\"Correction function {fn_name}:\")\n",
        "    print('\\t' + counts_tostr(counts, i).replace('\\n', '\\n\\t'))\n",
        "\n",
        "end = time.time()\n",
        "print(\"Runtime:\", end - start)\n"
      ]
    },
    {
      "cell_type": "code",
      "execution_count": null,
      "id": "d406c953-eab3-4d91-af3b-adfa2780528f",
      "metadata": {
        "gather": {
          "logged": 1647086152880
        }
      },
      "outputs": [
        {
          "name": "stdout",
          "output_type": "stream",
          "text": [
            "2022-03-14T11:03:25\n"
          ]
        }
      ],
      "source": [
        "now = datetime.now().strftime(\"%Y-%m-%dT%H:%M:%S\")\n",
        "print(now)"
      ]
    },
    {
      "cell_type": "code",
      "execution_count": null,
      "id": "3334bdb7-69e0-45b0-8778-b06c4aebd869",
      "metadata": {
        "gather": {
          "logged": 1647086154017
        }
      },
      "outputs": [],
      "source": [
        "df_dict = counts.copy()\n",
        "df_dict['correction_fn'] = correction_fn_names\n",
        "df = pd.DataFrame(df_dict)\n",
        "df = df[['correction_fn'] + [k for k in counts.keys()]]\n",
        "df.to_csv(f'results/{now}.csv', index=False)"
      ]
    },
    {
      "cell_type": "code",
      "execution_count": null,
      "id": "42ba4e0b-ee37-4ce1-a7b1-78c0b7e0531a",
      "metadata": {
        "gather": {
          "logged": 1647086155937
        }
      },
      "outputs": [
        {
          "data": {
            "text/html": [
              "<div>\n",
              "<style scoped>\n",
              "    .dataframe tbody tr th:only-of-type {\n",
              "        vertical-align: middle;\n",
              "    }\n",
              "\n",
              "    .dataframe tbody tr th {\n",
              "        vertical-align: top;\n",
              "    }\n",
              "\n",
              "    .dataframe thead th {\n",
              "        text-align: right;\n",
              "    }\n",
              "</style>\n",
              "<table border=\"1\" class=\"dataframe\">\n",
              "  <thead>\n",
              "    <tr style=\"text-align: right;\">\n",
              "      <th></th>\n",
              "      <th>correction_fn</th>\n",
              "      <th>accurate</th>\n",
              "      <th>TP</th>\n",
              "      <th>TN</th>\n",
              "      <th>FN</th>\n",
              "      <th>FP</th>\n",
              "      <th>contradictory_pairs</th>\n",
              "      <th>consistent_acc_pairs</th>\n",
              "      <th>relevant_pairs</th>\n",
              "      <th>total_questions</th>\n",
              "      <th>num_batches</th>\n",
              "      <th>flips</th>\n",
              "    </tr>\n",
              "  </thead>\n",
              "  <tbody>\n",
              "    <tr>\n",
              "      <th>0</th>\n",
              "      <td>C_0</td>\n",
              "      <td>76</td>\n",
              "      <td>4</td>\n",
              "      <td>72</td>\n",
              "      <td>1</td>\n",
              "      <td>23</td>\n",
              "      <td>34</td>\n",
              "      <td>272</td>\n",
              "      <td>173</td>\n",
              "      <td>100</td>\n",
              "      <td>10</td>\n",
              "      <td>0</td>\n",
              "    </tr>\n",
              "    <tr>\n",
              "      <th>1</th>\n",
              "      <td>C_1</td>\n",
              "      <td>87</td>\n",
              "      <td>4</td>\n",
              "      <td>83</td>\n",
              "      <td>1</td>\n",
              "      <td>12</td>\n",
              "      <td>7</td>\n",
              "      <td>341</td>\n",
              "      <td>110</td>\n",
              "      <td>100</td>\n",
              "      <td>10</td>\n",
              "      <td>11</td>\n",
              "    </tr>\n",
              "    <tr>\n",
              "      <th>2</th>\n",
              "      <td>C_2</td>\n",
              "      <td>82</td>\n",
              "      <td>4</td>\n",
              "      <td>78</td>\n",
              "      <td>1</td>\n",
              "      <td>17</td>\n",
              "      <td>22</td>\n",
              "      <td>312</td>\n",
              "      <td>136</td>\n",
              "      <td>100</td>\n",
              "      <td>10</td>\n",
              "      <td>6</td>\n",
              "    </tr>\n",
              "    <tr>\n",
              "      <th>3</th>\n",
              "      <td>C_3</td>\n",
              "      <td>83</td>\n",
              "      <td>4</td>\n",
              "      <td>79</td>\n",
              "      <td>1</td>\n",
              "      <td>16</td>\n",
              "      <td>13</td>\n",
              "      <td>312</td>\n",
              "      <td>138</td>\n",
              "      <td>100</td>\n",
              "      <td>10</td>\n",
              "      <td>7</td>\n",
              "    </tr>\n",
              "    <tr>\n",
              "      <th>4</th>\n",
              "      <td>C_4</td>\n",
              "      <td>84</td>\n",
              "      <td>4</td>\n",
              "      <td>80</td>\n",
              "      <td>1</td>\n",
              "      <td>15</td>\n",
              "      <td>12</td>\n",
              "      <td>320</td>\n",
              "      <td>131</td>\n",
              "      <td>100</td>\n",
              "      <td>10</td>\n",
              "      <td>8</td>\n",
              "    </tr>\n",
              "    <tr>\n",
              "      <th>5</th>\n",
              "      <td>C_5</td>\n",
              "      <td>85</td>\n",
              "      <td>4</td>\n",
              "      <td>81</td>\n",
              "      <td>1</td>\n",
              "      <td>14</td>\n",
              "      <td>11</td>\n",
              "      <td>327</td>\n",
              "      <td>123</td>\n",
              "      <td>100</td>\n",
              "      <td>10</td>\n",
              "      <td>9</td>\n",
              "    </tr>\n",
              "    <tr>\n",
              "      <th>6</th>\n",
              "      <td>C_6</td>\n",
              "      <td>79</td>\n",
              "      <td>4</td>\n",
              "      <td>75</td>\n",
              "      <td>1</td>\n",
              "      <td>20</td>\n",
              "      <td>25</td>\n",
              "      <td>290</td>\n",
              "      <td>161</td>\n",
              "      <td>100</td>\n",
              "      <td>10</td>\n",
              "      <td>11</td>\n",
              "    </tr>\n",
              "    <tr>\n",
              "      <th>7</th>\n",
              "      <td>C_7</td>\n",
              "      <td>78</td>\n",
              "      <td>4</td>\n",
              "      <td>74</td>\n",
              "      <td>1</td>\n",
              "      <td>21</td>\n",
              "      <td>29</td>\n",
              "      <td>283</td>\n",
              "      <td>163</td>\n",
              "      <td>100</td>\n",
              "      <td>10</td>\n",
              "      <td>2</td>\n",
              "    </tr>\n",
              "    <tr>\n",
              "      <th>8</th>\n",
              "      <td>C_8</td>\n",
              "      <td>60</td>\n",
              "      <td>5</td>\n",
              "      <td>55</td>\n",
              "      <td>0</td>\n",
              "      <td>40</td>\n",
              "      <td>97</td>\n",
              "      <td>176</td>\n",
              "      <td>283</td>\n",
              "      <td>100</td>\n",
              "      <td>10</td>\n",
              "      <td>60</td>\n",
              "    </tr>\n",
              "    <tr>\n",
              "      <th>9</th>\n",
              "      <td>C_9</td>\n",
              "      <td>80</td>\n",
              "      <td>4</td>\n",
              "      <td>76</td>\n",
              "      <td>1</td>\n",
              "      <td>19</td>\n",
              "      <td>22</td>\n",
              "      <td>294</td>\n",
              "      <td>152</td>\n",
              "      <td>100</td>\n",
              "      <td>10</td>\n",
              "      <td>11</td>\n",
              "    </tr>\n",
              "    <tr>\n",
              "      <th>10</th>\n",
              "      <td>requery_with_entailment_scores</td>\n",
              "      <td>80</td>\n",
              "      <td>4</td>\n",
              "      <td>76</td>\n",
              "      <td>1</td>\n",
              "      <td>19</td>\n",
              "      <td>20</td>\n",
              "      <td>293</td>\n",
              "      <td>154</td>\n",
              "      <td>100</td>\n",
              "      <td>10</td>\n",
              "      <td>11</td>\n",
              "    </tr>\n",
              "    <tr>\n",
              "      <th>11</th>\n",
              "      <td>requery_with_context</td>\n",
              "      <td>78</td>\n",
              "      <td>4</td>\n",
              "      <td>74</td>\n",
              "      <td>1</td>\n",
              "      <td>21</td>\n",
              "      <td>33</td>\n",
              "      <td>287</td>\n",
              "      <td>156</td>\n",
              "      <td>100</td>\n",
              "      <td>10</td>\n",
              "      <td>2</td>\n",
              "    </tr>\n",
              "    <tr>\n",
              "      <th>12</th>\n",
              "      <td>requery_inverted</td>\n",
              "      <td>96</td>\n",
              "      <td>1</td>\n",
              "      <td>95</td>\n",
              "      <td>4</td>\n",
              "      <td>0</td>\n",
              "      <td>0</td>\n",
              "      <td>415</td>\n",
              "      <td>24</td>\n",
              "      <td>100</td>\n",
              "      <td>10</td>\n",
              "      <td>26</td>\n",
              "    </tr>\n",
              "  </tbody>\n",
              "</table>\n",
              "</div>"
            ],
            "text/plain": [
              "                     correction_fn  accurate  TP  TN  FN  FP  \\\n",
              "0                              C_0        76   4  72   1  23   \n",
              "1                              C_1        87   4  83   1  12   \n",
              "2                              C_2        82   4  78   1  17   \n",
              "3                              C_3        83   4  79   1  16   \n",
              "4                              C_4        84   4  80   1  15   \n",
              "5                              C_5        85   4  81   1  14   \n",
              "6                              C_6        79   4  75   1  20   \n",
              "7                              C_7        78   4  74   1  21   \n",
              "8                              C_8        60   5  55   0  40   \n",
              "9                              C_9        80   4  76   1  19   \n",
              "10  requery_with_entailment_scores        80   4  76   1  19   \n",
              "11            requery_with_context        78   4  74   1  21   \n",
              "12                requery_inverted        96   1  95   4   0   \n",
              "\n",
              "    contradictory_pairs  consistent_acc_pairs  relevant_pairs  \\\n",
              "0                    34                   272             173   \n",
              "1                     7                   341             110   \n",
              "2                    22                   312             136   \n",
              "3                    13                   312             138   \n",
              "4                    12                   320             131   \n",
              "5                    11                   327             123   \n",
              "6                    25                   290             161   \n",
              "7                    29                   283             163   \n",
              "8                    97                   176             283   \n",
              "9                    22                   294             152   \n",
              "10                   20                   293             154   \n",
              "11                   33                   287             156   \n",
              "12                    0                   415              24   \n",
              "\n",
              "    total_questions  num_batches  flips  \n",
              "0               100           10      0  \n",
              "1               100           10     11  \n",
              "2               100           10      6  \n",
              "3               100           10      7  \n",
              "4               100           10      8  \n",
              "5               100           10      9  \n",
              "6               100           10     11  \n",
              "7               100           10      2  \n",
              "8               100           10     60  \n",
              "9               100           10     11  \n",
              "10              100           10     11  \n",
              "11              100           10      2  \n",
              "12              100           10     26  "
            ]
          },
          "execution_count": 70,
          "metadata": {},
          "output_type": "execute_result"
        }
      ],
      "source": [
        "# now = \"2022-02-26T06:34:50\"\n",
        "df = pd.read_csv(f'results/{now}.csv')\n",
        "df"
      ]
    },
    {
      "cell_type": "code",
      "execution_count": null,
      "id": "47cc106a-acfc-4cef-8e91-7ee9eb0cec26",
      "metadata": {
        "gather": {
          "logged": 1647086157364
        }
      },
      "outputs": [
        {
          "name": "stdout",
          "output_type": "stream",
          "text": [
            "accurate\n",
            "TP\n",
            "TN\n",
            "FN\n",
            "FP\n",
            "contradictory_pairs\n",
            "consistent_acc_pairs\n",
            "relevant_pairs\n",
            "total_questions\n",
            "num_batches\n",
            "flips\n"
          ]
        }
      ],
      "source": [
        "correction_fn_names = df['correction_fn'].to_numpy()\n",
        "for k in df.columns:\n",
        "    if k == 'correction_fn':\n",
        "        continue\n",
        "    print(k)\n",
        "    exec(f\"{k} = df['{k}'].to_numpy()\")"
      ]
    },
    {
      "cell_type": "code",
      "execution_count": null,
      "id": "be471021-3425-4462-8644-5e43347b7669",
      "metadata": {
        "gather": {
          "logged": 1647086164468
        }
      },
      "outputs": [
        {
          "data": {
            "image/png": "[encoded data removed]",
            "text/plain": [
              "<Figure size 720x720 with 1 Axes>"
            ]
          },
          "metadata": {
            "needs_background": "light"
          },
          "output_type": "display_data"
        },
        {
          "data": {
            "image/png": "[encoded data removed]",
            "text/plain": [
              "<Figure size 720x720 with 1 Axes>"
            ]
          },
          "metadata": {
            "needs_background": "light"
          },
          "output_type": "display_data"
        },
        {
          "data": {
            "image/png": "[encoded data removed]",
            "text/plain": [
              "<Figure size 720x720 with 1 Axes>"
            ]
          },
          "metadata": {
            "needs_background": "light"
          },
          "output_type": "display_data"
        },
        {
          "data": {
            "image/png": "[encoded data removed]",
            "text/plain": [
              "<Figure size 720x720 with 1 Axes>"
            ]
          },
          "metadata": {
            "needs_background": "light"
          },
          "output_type": "display_data"
        },
        {
          "data": {
            "image/png": "[encoded data removed]",
            "text/plain": [
              "<Figure size 720x720 with 1 Axes>"
            ]
          },
          "metadata": {
            "needs_background": "light"
          },
          "output_type": "display_data"
        },
        {
          "data": {
            "image/png": "[encoded data removed]",
            "text/plain": [
              "<Figure size 720x720 with 1 Axes>"
            ]
          },
          "metadata": {
            "needs_background": "light"
          },
          "output_type": "display_data"
        },
        {
          "data": {
            "image/png": "[encoded data removed]",
            "text/plain": [
              "<Figure size 720x720 with 1 Axes>"
            ]
          },
          "metadata": {
            "needs_background": "light"
          },
          "output_type": "display_data"
        },
        {
          "data": {
            "image/png": "[encoded data removed]",
            "text/plain": [
              "<Figure size 720x720 with 1 Axes>"
            ]
          },
          "metadata": {
            "needs_background": "light"
          },
          "output_type": "display_data"
        }
      ],
      "source": [
        "accuracies = accurate / total_questions * 100\n",
        "precisions = TP / (TP + FP)\n",
        "recalls = TP / (TP + FN)\n",
        "f1_scores = 2 * TP / (2 * TP + FP + FN)\n",
        "contra_rates = contradictory_pairs / (num_batches * B * (B - 1) / 2) * 100\n",
        "relevant_contra_rates = contradictory_pairs / relevant_pairs * 100\n",
        "conacc_rates = consistent_acc_pairs / (num_batches * B * (B - 1) / 2) * 100\n",
        "flip_rates = (flips / total_questions) * 100\n",
        "if not os.path.isdir(f\"figures/{now}\"):\n",
        "    os.mkdir(f\"figures/{now}\")\n",
        "\n",
        "\n",
        "figsize = (10,10)\n",
        "fig, ax = plt.subplots(figsize=figsize)\n",
        "for i, v in enumerate(accuracies):\n",
        "\n",
        "    if i == 0:\n",
        "        color = \"green\"\n",
        "    elif i <= 8:\n",
        "        color = \"#0096FF\"\n",
        "    elif i <= 9:\n",
        "        color = \"#4682B4\"\n",
        "    else:\n",
        "        color = \"#0818A8\"\n",
        "    ax.bar(correction_fn_names[i], accuracies[i], color = color)\n",
        "\n",
        "    ax.text(i, v + 1 + max(accuracies) // 25, str(round(v, 1)), color=\"#0967a2\", fontweight='semibold', ha='center', va='center')\n",
        "ax.set_ylim(0, 100)\n",
        "ax.set_xlabel(\"Correction method\")\n",
        "ax.set_ylabel(\"Percent accuracy\")\n",
        "plt.show()\n",
        "fig.savefig(f\"figures/{now}/accuracy.png\")\n",
        "\n",
        "fig, ax = plt.subplots(figsize=figsize)\n",
        "for i, v in enumerate(precisions):\n",
        "    if i == 0:\n",
        "        color = \"green\"\n",
        "    elif i <= 8:\n",
        "        color = \"#0096FF\"\n",
        "    elif i <= 9:\n",
        "        color = \"#4682B4\"\n",
        "    else:\n",
        "        color = \"#0818A8\"\n",
        "    ax.bar(correction_fn_names[i], precisions[i], color = color)\n",
        "    ax.text(i, v + 0.02, str(round(v, 2)), color=\"#0967a2\", fontweight='semibold', ha='center', va='center')\n",
        "ax.set_ylim(0, min(max(precisions + 0.1), 1.05))\n",
        "ax.set_xlabel(\"Correction method\")\n",
        "ax.set_ylabel(\"Precision\")\n",
        "plt.show()\n",
        "fig.savefig(f\"figures/{now}/precision.png\")\n",
        "\n",
        "fig, ax = plt.subplots(figsize=figsize)\n",
        "for i, v in enumerate(recalls):\n",
        "    if i == 0:\n",
        "        color = \"green\"\n",
        "    elif i <= 8:\n",
        "        color = \"#0096FF\"\n",
        "    elif i <= 9:\n",
        "        color = \"#4682B4\"\n",
        "    else:\n",
        "        color = \"#0818A8\"\n",
        "    ax.bar(correction_fn_names[i], recalls[i], color = color)\n",
        "    ax.text(i, v + 0.05, str(round(v, 2)), color=\"#0967a2\", fontweight='semibold', ha='center', va='center')\n",
        "ax.set_ylim(0, min(max(recalls + 0.1), 1.05))\n",
        "ax.set_xlabel(\"Correction method\")\n",
        "ax.set_ylabel(\"Recall\")\n",
        "plt.show()\n",
        "fig.savefig(f\"figures/{now}/recall.png\")\n",
        "\n",
        "fig, ax = plt.subplots(figsize=figsize)\n",
        "for i, v in enumerate(f1_scores):\n",
        "    if i == 0:\n",
        "        color = \"green\"\n",
        "    elif i <= 8:\n",
        "        color = \"#0096FF\"\n",
        "    elif i <= 9:\n",
        "        color = \"#4682B4\"\n",
        "    else:\n",
        "        color = \"#0818A8\"\n",
        "    ax.bar(correction_fn_names[i], f1_scores[i], color = color)\n",
        "    ax.text(i, v + 0.02, str(round(v, 2)), color=\"#0967a2\", fontweight='semibold', ha='center', va='center')\n",
        "ax.set_ylim(0, min(max(f1_scores + 0.1), 1.05))\n",
        "ax.set_xlabel(\"Correction method\")\n",
        "ax.set_ylabel(\"F1 score\")\n",
        "plt.show()\n",
        "fig.savefig(f\"figures/{now}/f1_score.png\")\n",
        "\n",
        "fig, ax = plt.subplots(figsize=figsize)\n",
        "for i, v in enumerate(contra_rates):\n",
        "    if i == 0:\n",
        "        color = \"green\"\n",
        "    elif i <= 8:\n",
        "        color = \"#0096FF\"\n",
        "    elif i <= 9:\n",
        "        color = \"#4682B4\"\n",
        "    else:\n",
        "        color = \"#0818A8\"\n",
        "    ax.bar(correction_fn_names[i], contra_rates[i], color = color)\n",
        "    ax.text(i, v + 1 + max(contra_rates) // 25, str(round(v, 1)), color=\"#0967a2\", fontweight='semibold', ha='center', va='center')\n",
        "ax.set_ylim(0, min(max(contra_rates) + 5, 100))\n",
        "ax.set_xlabel(\"Correction method\")\n",
        "ax.set_ylabel(\"Percent contradictory pairs\")\n",
        "plt.show()\n",
        "fig.savefig(f\"figures/{now}/contradict.png\")\n",
        "\n",
        "fig, ax = plt.subplots(figsize=figsize)\n",
        "for i, v in enumerate(relevant_contra_rates):\n",
        "    if i == 0:\n",
        "        color = \"green\"\n",
        "    elif i <= 8:\n",
        "        color = \"#0096FF\"\n",
        "    elif i <= 9:\n",
        "        color = \"#4682B4\"\n",
        "    else:\n",
        "        color = \"#0818A8\"\n",
        "    ax.bar(correction_fn_names[i], relevant_contra_rates[i], color = color)\n",
        "    ax.text(i, v + 1 + max(relevant_contra_rates) // 25, str(round(v, 1)), color=\"#0967a2\", fontweight='semibold', ha='center', va='center')\n",
        "ax.set_ylim(0, min(max(relevant_contra_rates) + 5, 100))\n",
        "ax.set_xlabel(\"Correction method\")\n",
        "ax.set_ylabel(\"Percent contradictory relevant pairs\")\n",
        "plt.show()\n",
        "fig.savefig(f\"figures/{now}/contradict_relevant.png\") \n",
        "\n",
        "fig, ax = plt.subplots(figsize=figsize)\n",
        "for i, v in enumerate(conacc_rates):\n",
        "    if i == 0:\n",
        "        color = \"green\"\n",
        "    elif i <= 8:\n",
        "        color = \"#0096FF\"\n",
        "    elif i <= 9:\n",
        "        color = \"#4682B4\"\n",
        "    else:\n",
        "        color = \"#0818A8\"\n",
        "    ax.bar(correction_fn_names[i], conacc_rates[i], color = color)\n",
        "    ax.text(i, v + 1 + max(accuracies) // 25, str(round(v, 1)), color=\"#0967a2\", fontweight='semibold', ha='center', va='center')\n",
        "ax.set_ylim(0, min(max(conacc_rates) + 10, 100))\n",
        "ax.set_xlabel(\"Correction method\")\n",
        "ax.set_ylabel(\"Percent consistent accuracy\")\n",
        "plt.show()\n",
        "fig.savefig(f\"figures/{now}/consistent_accuracy.png\")\n",
        "\n",
        "fig, ax = plt.subplots(figsize=figsize)\n",
        "for i, v in enumerate(flip_rates):\n",
        "    if i == 0:\n",
        "        color = \"green\"\n",
        "    elif i <= 8:\n",
        "        color = \"#0096FF\"\n",
        "    elif i <= 9:\n",
        "        color = \"#4682B4\"\n",
        "    else:\n",
        "        color = \"#0818A8\"\n",
        "    ax.bar(correction_fn_names[i], flip_rates[i], color = color)\n",
        "    ax.text(i, v + 1 + max(accuracies) // 25, str(round(v, 1)), color=\"#0967a2\", fontweight='semibold', ha='center', va='center')\n",
        "ax.set_ylim(0, min(max(flip_rates) + 10, 100))\n",
        "ax.set_xlabel(\"Correction method\")\n",
        "ax.set_ylabel(\"Percent flipped predictions\")\n",
        "plt.show()\n",
        "fig.savefig(f\"figures/{now}/flipped.png\")"
      ]
    },
    {
      "cell_type": "code",
      "execution_count": null,
      "id": "a291a04e",
      "metadata": {},
      "outputs": [],
      "source": []
    }
  ],
  "metadata": {
    "interpreter": {
      "hash": "9169f1d4e16acc976bbb73e323b0dbdf23f1c55e833fb2befffc4fb50ac2de2f"
    },
    "kernel_info": {
      "name": "azureml_py38_pt_tf"
    },
    "kernelspec": {
      "display_name": "Python 3.8 - Pytorch and Tensorflow",
      "language": "python",
      "name": "python3"
    },
    "language_info": {
      "codemirror_mode": {
        "name": "ipython",
        "version": 3
      },
      "file_extension": ".py",
      "mimetype": "text/x-python",
      "name": "python",
      "nbconvert_exporter": "python",
      "pygments_lexer": "ipython3",
      "version": "3.8.1"
    },
    "microsoft": {
      "host": {
        "AzureML": {
          "notebookHasBeenCompleted": true
        }
      }
    },
    "nteract": {
      "version": "nteract-front-end@1.0.0"
    }
  },
  "nbformat": 4,
  "nbformat_minor": 5
}
