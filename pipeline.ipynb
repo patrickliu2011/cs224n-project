{
  "cells": [
    {
      "cell_type": "code",
      "execution_count": 1,
      "id": "f75d45a7-8f30-4cf7-b64e-5645782ef09e",
      "metadata": {
        "gather": {
          "logged": 1646710479608
        }
      },
      "outputs": [],
      "source": [
        "import os, sys\n",
        "import random\n",
        "import json\n",
        "import nltk \n",
        "import csv\n",
        "import time\n",
        "import copy\n",
        "import torch\n",
        "import numpy as np\n",
        "import pandas as pd\n",
        "import nltk  # $ pip install nltk\n",
        "from nltk.stem import PorterStemmer\n",
        "from nltk.corpus import cmudict  # >>> nltk.download('cmudict')\n",
        "from nltk.tokenize import word_tokenize\n",
        "from spellchecker import SpellChecker # $ pip install pyspellchecker\n",
        "import matplotlib.pyplot as plt\n",
        "from datetime import datetime\n",
        "\n",
        "from transformers import AutoTokenizer, AutoModelForSeq2SeqLM, AutoModelForSequenceClassification\n",
        "\n",
        "from beliefbank_data.utils import generate_assertion, generate_question, find_constraints\n",
        "import correction_utils"
      ]
    },
    {
      "cell_type": "markdown",
      "id": "83360dd8-9e5a-48a4-8274-0c70e3a0361d",
      "metadata": {},
      "source": [
        "# Load data"
      ]
    },
    {
      "cell_type": "code",
      "execution_count": 2,
      "id": "03374e1c-dff7-49d5-847b-0a6816c6a5dd",
      "metadata": {
        "gather": {
          "logged": 1646710479697
        }
      },
      "outputs": [],
      "source": [
        "constraints_path = \"beliefbank_data/constraints_v2.json\"\n",
        "facts_path = \"beliefbank_data/silver_facts.json\""
      ]
    },
    {
      "cell_type": "code",
      "execution_count": 3,
      "id": "05c60643-c341-4af6-9459-c8458700b72c",
      "metadata": {
        "gather": {
          "logged": 1646710479776
        }
      },
      "outputs": [],
      "source": [
        "constraints = json.load(open(constraints_path))\n",
        "facts = json.load(open(facts_path))"
      ]
    },
    {
      "cell_type": "code",
      "execution_count": 4,
      "id": "f4a25158-8d99-4088-b240-51b5b6423334",
      "metadata": {
        "gather": {
          "logged": 1646710479855
        }
      },
      "outputs": [
        {
          "name": "stdout",
          "output_type": "stream",
          "text": [
            "['american bison', 'baboon', 'birch', 'buck', 'bull', 'calf', 'camel', 'carnivore', 'carp', 'cheetah', 'chick', 'chimpanzee', 'cock', 'crocodile', 'dog', 'dolphin', 'domestic ass', 'duck', 'earthworm', 'elephant', 'european wolf spider', 'foxhound', 'frog', 'gazelle', 'gecko', 'german shepherd', 'giant panda', 'giraffe', 'gladiolus', 'hen', 'horse', 'hound', 'howler monkey', 'hummingbird', 'jaguar', 'lamb', 'leopard', 'lion', 'livestock', 'llama', 'magpie', 'midge', 'mink', 'mullet', 'myna', 'new world blackbird', 'orchid', 'owl', 'ox', 'penguin', 'peony', 'pigeon', 'poodle', 'puppy', 'rabbit', 'rat', 'reptile', 'robin', 'rose', 'salamander', 'starling', 'tiger', 'turkey', 'whale', 'zebra']\n"
          ]
        }
      ],
      "source": [
        "# entities = list(facts.keys())\n",
        "# random.shuffle(entities)\n",
        "# dev_size = 65\n",
        "# dev_entities = sorted(entities[:dev_size])\n",
        "# eval_entities = sorted(entities[dev_size:])\n",
        "# with open(\"beliefbank_data/dev_entities.txt\", \"w\") as f:\n",
        "#     f.writelines([e + '\\n' for e in dev_entities])\n",
        "# with open(\"beliefbank_data/eval_entities.txt\", \"w\") as f:\n",
        "#     f.writelines([e + '\\n' for e in eval_entities])\n",
        "\n",
        "with open(\"beliefbank_data/dev_entities.txt\", \"r\") as f:\n",
        "    dev_entities = [e.strip() for e in f.readlines()]\n",
        "print(dev_entities)\n",
        "\n",
        "# with open(\"beliefbank_data/eval_entities.txt\", \"r\") as f:\n",
        "#     eval_entities = [e.strip() for e in f.readlines()]\n",
        "# print(eval_entities)"
      ]
    },
    {
      "cell_type": "markdown",
      "id": "a40f96b8-fa0b-4071-8fb3-d649112a23f8",
      "metadata": {},
      "source": [
        "# Constraints checking"
      ]
    },
    {
      "cell_type": "code",
      "execution_count": 5,
      "id": "dc706745-546a-4687-b3a7-5bdf45dc19a0",
      "metadata": {
        "gather": {
          "logged": 1646710479928
        }
      },
      "outputs": [],
      "source": [
        "constraints_yy = set() # A implies B\n",
        "constraints_yn = set() # A implies not B\n",
        "for link in constraints['links']:\n",
        "    s = link['source']\n",
        "    t = link['target']\n",
        "    if link['weight'] == 'yes_yes':\n",
        "        if link['direction'] == 'forward':\n",
        "            constraints_yy.add((s, t))\n",
        "        else:\n",
        "            constraints_yy.add((t, s))\n",
        "    else:\n",
        "        constraints_yn.add((s, t))\n",
        "        constraints_yn.add((t, s))"
      ]
    },
    {
      "cell_type": "code",
      "execution_count": 6,
      "id": "9d49487f-ddd8-42ae-882a-f8d05cc1b708",
      "metadata": {
        "gather": {
          "logged": 1646710480031
        }
      },
      "outputs": [
        {
          "name": "stdout",
          "output_type": "stream",
          "text": [
            "1836\n",
            "774\n"
          ]
        }
      ],
      "source": [
        "print(len(constraints_yy))\n",
        "print(len(constraints_yn))"
      ]
    },
    {
      "cell_type": "markdown",
      "id": "74a268da-7f64-4117-8453-7f734ac8f8e1",
      "metadata": {},
      "source": [
        "AB in yn --> BA in yn\n",
        "AB in yy, BC in yy --> AC in yy\n",
        "AB in yy, BC in yn --> AC in yn\n",
        "# AB in yn, CB in yy --> AC in yn "
      ]
    },
    {
      "cell_type": "code",
      "execution_count": 7,
      "id": "e24c37f9-da8e-4a01-8e8e-a2540facc1ac",
      "metadata": {
        "gather": {
          "logged": 1646710480148
        }
      },
      "outputs": [],
      "source": [
        "dict_yy = {}\n",
        "for s, t in constraints_yy:\n",
        "    if s in dict_yy:\n",
        "        dict_yy[s].add(t)\n",
        "    else:\n",
        "        dict_yy[s] = {t}\n",
        "dict_yn = {}\n",
        "for s, t in constraints_yn:\n",
        "    if s in dict_yn:\n",
        "        dict_yn[s].add(t)\n",
        "    else:\n",
        "        dict_yn[s] = {t}"
      ]
    },
    {
      "cell_type": "code",
      "execution_count": 8,
      "id": "a8b0e11c-5331-4f08-aae0-db6a68157baa",
      "metadata": {
        "gather": {
          "logged": 1646710481078
        }
      },
      "outputs": [],
      "source": [
        "depth = 10\n",
        "len_yy = [len(constraints_yy)]\n",
        "len_yn = [len(constraints_yn)]\n",
        "for d in range(depth-1):\n",
        "    temp_yy = copy.deepcopy(dict_yy)\n",
        "    temp_yn = copy.deepcopy(dict_yn)\n",
        "    for a, bs in dict_yy.items():\n",
        "        for b in bs:\n",
        "            for c in dict_yy.get(b, set()):\n",
        "                if a == c:\n",
        "                    continue\n",
        "                temp_yy[a].add(c)\n",
        "            for c in dict_yn.get(b, set()):\n",
        "                if a == c:\n",
        "                    continue\n",
        "                if a in temp_yn:\n",
        "                    temp_yn[a].add(c)\n",
        "                else:\n",
        "                    temp_yn[a] = {c}\n",
        "                if c in temp_yn:\n",
        "                    temp_yn[c].add(a)\n",
        "                else:\n",
        "                    temp_yn[c] = {a}\n",
        "    del dict_yy\n",
        "    del dict_yn\n",
        "    dict_yy = temp_yy\n",
        "    dict_yn = temp_yn\n",
        "    len_yy.append(sum([len(v) for v in dict_yy.values()]))\n",
        "    len_yn.append(sum([len(v) for v in dict_yn.values()]))"
      ]
    },
    {
      "cell_type": "code",
      "execution_count": 9,
      "id": "5e70cb4a-6fdb-412a-8c04-38a8351842bd",
      "metadata": {
        "gather": {
          "logged": 1646710482097
        }
      },
      "outputs": [],
      "source": [
        "for s, ts in dict_yy.items():\n",
        "    for t in ts:\n",
        "        constraints_yy.add((s, t))\n",
        "for s, ts in dict_yn.items():\n",
        "    for t in ts:\n",
        "        constraints_yn.add((s, t))\n",
        "constraints_nn = set([(t, s) for s, t in constraints_yy])"
      ]
    },
    {
      "cell_type": "code",
      "execution_count": 10,
      "id": "736fe796-8a9f-470f-9f74-4565eb1a953a",
      "metadata": {
        "gather": {
          "logged": 1646710482905
        }
      },
      "outputs": [
        {
          "name": "stdout",
          "output_type": "stream",
          "text": [
            "3931\n",
            "11346\n"
          ]
        }
      ],
      "source": [
        "print(len(constraints_yy))\n",
        "print(len(constraints_yn))"
      ]
    },
    {
      "cell_type": "code",
      "execution_count": 11,
      "id": "09ce6b7f-8ff5-4599-b7bb-5bebeade6c26",
      "metadata": {
        "gather": {
          "logged": 1646710484283
        }
      },
      "outputs": [
        {
          "data": {
            "image/png": "[encoded data removed]",
            "text/plain": [
              "<Figure size 432x288 with 1 Axes>"
            ]
          },
          "metadata": {
            "needs_background": "light"
          },
          "output_type": "display_data"
        }
      ],
      "source": [
        "plt.title(\"Constraints vs depth\")\n",
        "plt.plot(len_yy, label=\"yy\")\n",
        "plt.plot(len_yn, label=\"yn\")\n",
        "plt.legend()\n",
        "plt.show()"
      ]
    },
    {
      "cell_type": "code",
      "execution_count": 12,
      "id": "cfe9b264-1408-4d9e-b50b-4443d6dfbe5a",
      "metadata": {
        "gather": {
          "logged": 1646710484983
        }
      },
      "outputs": [],
      "source": [
        "for c1, c2 in constraints_yn:\n",
        "    if c1 == c2:\n",
        "        print(c1, c2)\n",
        "        break"
      ]
    },
    {
      "cell_type": "code",
      "execution_count": 13,
      "id": "c368e6e7-7bd9-42e7-86f1-6ff58fee48ca",
      "metadata": {
        "gather": {
          "logged": 1646710485899
        }
      },
      "outputs": [],
      "source": [
        "dict_nn = {}\n",
        "for s, t in constraints_nn:\n",
        "    if s in dict_nn:\n",
        "        dict_nn[s].add(t)\n",
        "    else:\n",
        "        dict_nn[s] = {t}"
      ]
    },
    {
      "cell_type": "code",
      "execution_count": 14,
      "id": "a6eb7323-ed08-4431-82c0-db99d05c82a3",
      "metadata": {
        "gather": {
          "logged": 1646710486873
        }
      },
      "outputs": [],
      "source": [
        "neighbors = {}\n",
        "num_neighbors = {}\n",
        "for s in list(dict_yy.keys()) + list(dict_yn.keys()) + list(dict_nn.keys()):\n",
        "    neighbors[s] = dict_yy.get(s, set()).union(dict_yn.get(s, set())).union(dict_nn.get(s, set()))\n",
        "    num_neighbors[s] = len(neighbors[s])"
      ]
    },
    {
      "cell_type": "code",
      "execution_count": 15,
      "id": "3fa7c0ef-3fef-474a-8d3e-741e641844f7",
      "metadata": {
        "gather": {
          "logged": 1646710488158
        }
      },
      "outputs": [
        {
          "data": {
            "image/png": "[encoded data removed]",
            "text/plain": [
              "<Figure size 432x288 with 1 Axes>"
            ]
          },
          "metadata": {
            "needs_background": "light"
          },
          "output_type": "display_data"
        }
      ],
      "source": [
        "plt.hist(num_neighbors.values(), bins=range(0, max(num_neighbors.values()) + 1, 20))\n",
        "plt.show()"
      ]
    },
    {
      "cell_type": "markdown",
      "id": "7d1a220d-4e83-40a4-bb48-2599e043036f",
      "metadata": {},
      "source": [
        "Case | Equivalent implications   | Contradictory case\n",
        "a    | 1 -> not 2 == 2 -> not 1  | 1 & 2\n",
        "b    | 1 -> 2 == not 2 -> not 1  | 1 & not 2\n",
        "c    | 2 -> 1 == not 1 -> not 2  | not 1 & 2\n",
        "d    | not 1 -> 2 == not 2 -> 1  | not 1 & not 2"
      ]
    },
    {
      "cell_type": "code",
      "execution_count": 16,
      "id": "34aa4611-b2e3-46d6-8f7e-dbcebb92bf97",
      "metadata": {
        "gather": {
          "logged": 1646710488891
        }
      },
      "outputs": [],
      "source": [
        "def check_constraints(relation1, true1, relation2, true2):\n",
        "    # Is (relation1, true1) & (relation2, true2)  \n",
        "    if true1 and true2: # Case a\n",
        "        implies12 = (relation1, relation2) in constraints_yy\n",
        "        implies21 = (relation2, relation1) in constraints_yy\n",
        "        contradicts = (relation1, relation2) in constraints_yn or (relation2, relation1) in constraints_yn\n",
        "    elif true1 and not true2: # Case b\n",
        "        implies12 = (relation1, relation2) in constraints_yn or (relation2, relation1) in constraints_yn\n",
        "        implies21 = False\n",
        "        contradicts = (relation1, relation2) in constraints_yy\n",
        "    elif not true1 and true2: # Case c\n",
        "        implies12 = False\n",
        "        implies21 = (relation1, relation2) in constraints_yn or (relation2, relation1) in constraints_yn\n",
        "        contradicts = (relation2, relation1) in constraints_yy\n",
        "    else: # Case d\n",
        "        implies12 = (relation2, relation1) in constraints_yy\n",
        "        implies21 = (relation1, relation2) in constraints_yy\n",
        "        contradicts = False\n",
        "    return implies12, implies21, contradicts"
      ]
    },
    {
      "cell_type": "code",
      "execution_count": 17,
      "id": "3bbd05e6-2234-4a56-9239-6295c3cbfcf1",
      "metadata": {
        "gather": {
          "logged": 1646710489989
        }
      },
      "outputs": [
        {
          "name": "stdout",
          "output_type": "stream",
          "text": [
            "(False, True, False)\n",
            "(False, False, False)\n",
            "(False, False, True)\n",
            "(True, False, False)\n"
          ]
        }
      ],
      "source": [
        "print(check_constraints(\"IsA,animal\", True, \"IsA,mammal\", True))\n",
        "print(check_constraints(\"IsA,animal\", True, \"IsA,mammal\", False))\n",
        "print(check_constraints(\"IsA,animal\", False, \"IsA,mammal\", True))\n",
        "print(check_constraints(\"IsA,animal\", False, \"IsA,mammal\", False))"
      ]
    },
    {
      "cell_type": "code",
      "execution_count": 18,
      "id": "526892fc-dcbc-4010-88a6-52ce2933ac8b",
      "metadata": {
        "gather": {
          "logged": 1646710490874
        }
      },
      "outputs": [
        {
          "name": "stdout",
          "output_type": "stream",
          "text": [
            "(False, False, False)\n",
            "(False, False, False)\n",
            "(False, False, False)\n",
            "(False, False, False)\n"
          ]
        }
      ],
      "source": [
        "print(check_constraints(\"IsA,animal\", True, \"IsA,candy\", True))\n",
        "print(check_constraints(\"IsA,animal\", True, \"IsA,candy\", False))\n",
        "print(check_constraints(\"IsA,animal\", False, \"IsA,candy\", True))\n",
        "print(check_constraints(\"IsA,animal\", False, \"IsA,candy\", False))"
      ]
    },
    {
      "cell_type": "markdown",
      "id": "716ad53a-5ebc-4366-916e-534c78d69f44",
      "metadata": {},
      "source": [
        "# Load models"
      ]
    },
    {
      "cell_type": "code",
      "execution_count": 19,
      "id": "f2dd540c-0d05-4fec-85cc-6309b64a4764",
      "metadata": {
        "gather": {
          "logged": 1646710492242
        }
      },
      "outputs": [
        {
          "data": {
            "text/plain": [
              "device(type='cuda')"
            ]
          },
          "execution_count": 19,
          "metadata": {},
          "output_type": "execute_result"
        }
      ],
      "source": [
        "device = torch.device(\"cuda\" if torch.cuda.is_available() else \"cpu\")\n",
        "device"
      ]
    },
    {
      "cell_type": "code",
      "execution_count": 20,
      "id": "699dba1b-3171-4690-be58-a5fd082e80d8",
      "metadata": {
        "gather": {
          "logged": 1646710507987
        }
      },
      "outputs": [],
      "source": [
        "# Downloads a pretty large model\n",
        "tokenizer = AutoTokenizer.from_pretrained(\"allenai/macaw-large\")\n",
        "model = AutoModelForSeq2SeqLM.from_pretrained(\"allenai/macaw-large\")\n",
        "model = model.to(device=device).eval()"
      ]
    },
    {
      "cell_type": "code",
      "execution_count": 21,
      "id": "d5f170c9-5046-4905-b309-e7a821357467",
      "metadata": {
        "gather": {
          "logged": 1646710508062
        }
      },
      "outputs": [],
      "source": [
        "# QA Model stuff\n",
        "def format_question(question_list):\n",
        "    question_list = [\"$answer$ ; $mcoptions$ = (A) yes (B) no; $question$ = \" + item \\\n",
        "         for item in question_list]\n",
        "    return question_list\n",
        "\n",
        "def predict(question_list, max_bsize=10):\n",
        "    B = len(question_list)\n",
        "    question_list = format_question(question_list)\n",
        "    answer_list_all_yes = [\"$answer$ = yes\"] * B     # pass in list of \"yes\"\n",
        "    \n",
        "    answers_all = []\n",
        "    confidences_all = []\n",
        "    for i in range(0, B, max_bsize):\n",
        "        j = min(i + max_bsize, B)\n",
        "        # print(dir(tokenizer))\n",
        "        inputs = tokenizer.batch_encode_plus(question_list[i:j], max_length = 256, padding=True, truncation=True, return_tensors=\"pt\")\n",
        "        labels = tokenizer.batch_encode_plus(answer_list_all_yes[i:j], max_length = 15, padding=True, truncation=True, return_tensors=\"pt\") # max_length is set to len(\"$answer$ = yes\")\n",
        "\n",
        "        # output = model.generate(input_ids, max_length=200)\n",
        "        # answers = tokenizer.batch_decode(output, skip_special_tokens=True)\n",
        "        fwd = model(input_ids=inputs[\"input_ids\"].to(device), attention_mask=inputs[\"attention_mask\"].to(device),\n",
        "                    labels=labels[\"input_ids\"].to(device))\n",
        "                    # decoder_input_ids=labels[\"input_ids\"], decoder_attention_mask=labels[\"attention_mask\"])\n",
        "        # output_ids = torch.argmax(fwd.logits, dim=-1)\n",
        "        # print(tokenizer.batch_decode(output_ids, skip_special_tokens=True))\n",
        "\n",
        "        # loss\n",
        "        # loss = fwd.loss # - log(P(y|x))\n",
        "        # confidence = torch.exp(-loss)\n",
        "        logits = fwd.logits.reshape((j - i, 7, -1))\n",
        "        logits = logits[:, 5, :] # Index of yes/no token in answer\n",
        "        probs = torch.softmax(logits, dim=-1).detach().cpu().numpy()\n",
        "        # yes has input_id 4273, no has input_id 150\n",
        "        confidence_yes = probs[..., 4273] \n",
        "        confidence_no = probs[..., 150]\n",
        "\n",
        "        answers = (confidence_yes >= confidence_no) # np.array([(ans == \"$answer$ = yes\") for ans in answers])\n",
        "        confidences = np.where(answers, confidence_yes, confidence_no)\n",
        "        answers_all.append(answers)\n",
        "        confidences_all.append(confidences)\n",
        "    answers = np.concatenate(answers_all, axis=0)\n",
        "    confidences = np.concatenate(confidences_all, axis=0)\n",
        "    return answers, confidences\n"
      ]
    },
    {
      "cell_type": "code",
      "execution_count": 22,
      "id": "59effc47-e588-4c7b-8e90-82bf14a9e4f4",
      "metadata": {
        "gather": {
          "logged": 1646710512578
        }
      },
      "outputs": [
        {
          "name": "stderr",
          "output_type": "stream",
          "text": [
            "Some weights of the model checkpoint at ynie/roberta-large-snli_mnli_fever_anli_R1_R2_R3-nli were not used when initializing RobertaForSequenceClassification: ['roberta.pooler.dense.weight', 'roberta.pooler.dense.bias']\n",
            "- This IS expected if you are initializing RobertaForSequenceClassification from the checkpoint of a model trained on another task or with another architecture (e.g. initializing a BertForSequenceClassification model from a BertForPreTraining model).\n",
            "- This IS NOT expected if you are initializing RobertaForSequenceClassification from the checkpoint of a model that you expect to be exactly identical (initializing a BertForSequenceClassification model from a BertForSequenceClassification model).\n"
          ]
        }
      ],
      "source": [
        "nli_tokenizer = AutoTokenizer.from_pretrained(\"ynie/roberta-large-snli_mnli_fever_anli_R1_R2_R3-nli\")\n",
        "nli_model = AutoModelForSequenceClassification.from_pretrained(\"ynie/roberta-large-snli_mnli_fever_anli_R1_R2_R3-nli\")\n",
        "nli_model = nli_model.to(device=device).eval()"
      ]
    },
    {
      "cell_type": "code",
      "execution_count": 23,
      "id": "1970157b-6933-4d87-b772-300891b1b457",
      "metadata": {
        "gather": {
          "logged": 1646710512658
        }
      },
      "outputs": [],
      "source": [
        "def nli(sents, nli_tokenizer, nli_model, max_bsize=20):\n",
        "    \"\"\"Generates contradiction matrix of shape (N, B, B)\"\"\"\n",
        "    if sents.ndim == 1:\n",
        "        sents = sents.reshape(1, -1)\n",
        "    \n",
        "    N, B = sents.shape\n",
        "    prem = []\n",
        "    hypo = []\n",
        "    for i in range(N):\n",
        "        for j in range(B):\n",
        "            for k in range(B):\n",
        "                prem.append(sents[i][j])\n",
        "                hypo.append(sents[i][k])\n",
        "\n",
        "    nli_matrix = []\n",
        "    size = N * B * B\n",
        "    for i in range(0, size, max_bsize):\n",
        "        j = min(i + max_bsize, size)\n",
        "        tokenized = nli_tokenizer(prem[i:j], hypo[i:j], \n",
        "                                  max_length=256, \n",
        "                                  return_token_type_ids=True, \n",
        "                                  truncation=True,\n",
        "                                  padding=True)\n",
        "\n",
        "        input_ids = torch.Tensor(tokenized['input_ids']).to(device).long()\n",
        "        token_type_ids = torch.Tensor(tokenized['token_type_ids']).to(device).long()\n",
        "        attention_mask = torch.Tensor(tokenized['attention_mask']).to(device).long()\n",
        "\n",
        "        nli_outputs = nli_model(input_ids,\n",
        "                                attention_mask=attention_mask,\n",
        "                                token_type_ids=token_type_ids,\n",
        "                                labels=None)\n",
        "        nli_matrix.append(torch.softmax(nli_outputs.logits.detach().cpu(), dim=1))\n",
        "    nli_matrix = torch.cat(nli_matrix, dim=0)\n",
        "    nli_matrix = nli_matrix.reshape(N, B, B, 3)\n",
        "    return nli_matrix.numpy()\n",
        "\n",
        "# TODO: Mimic nli model, but using constraints graph\n",
        "def nli_constraints(big_batch, N, B):\n",
        "    nli_matrix = np.zeros((N, B, B, 3))\n",
        "    pass"
      ]
    },
    {
      "cell_type": "code",
      "execution_count": 24,
      "id": "9566f12a-18af-4d2a-a705-b56d55ca9f26",
      "metadata": {
        "gather": {
          "logged": 1646710512734
        }
      },
      "outputs": [],
      "source": [
        "def evaluate(predictions, answers, pred_batch):\n",
        "    if predictions.ndim == 1:\n",
        "        predictions = predictions.reshape(1, -1)\n",
        "    answers = answers.reshape(predictions.shape)\n",
        "    relations = np.array([rel for ent, rel, pred in pred_batch]).reshape(predictions.shape)\n",
        "    N, B = predictions.shape\n",
        "    # predictions, answers, relations should be size (N, B)\n",
        "    \n",
        "    # Calculate accurate examples\n",
        "    correct = (predictions == answers)\n",
        "    acc = np.sum(correct)\n",
        "    \n",
        "    # Calculate metrics for F1\n",
        "    TP = np.sum(correct * answers)\n",
        "    TN = acc - TP\n",
        "    FN = np.sum((1 - correct) * answers)\n",
        "    FP = np.sum((1 - correct) * (1 - answers))\n",
        "    \n",
        "    # Calculate contradictions\n",
        "    con = 0\n",
        "    conacc = 0\n",
        "    relevant = 0 # Number of pairs that imply or contradict each other\n",
        "    for i in range(N):\n",
        "        for j in range(B):\n",
        "            for k in range(j+1, B):\n",
        "                impl12, impl21, contra = check_constraints( \\\n",
        "                    relations[i, j], predictions[i, j], relations[i, k], predictions[i, k])\n",
        "                if impl12 or impl21 or contra:\n",
        "                    relevant += 1\n",
        "                if contra:\n",
        "                    con += 1\n",
        "                else:\n",
        "                    conacc += (correct[i, j] and correct[i, k])\n",
        "    \n",
        "    total = predictions.size\n",
        "    bsize = predictions.shape[0]\n",
        "    return {\n",
        "        \"accurate\": acc,\n",
        "        \"TP\": TP,\n",
        "        \"TN\": TN,\n",
        "        \"FN\": FN,\n",
        "        \"FP\": FP,\n",
        "        \"contradictory_pairs\": con,\n",
        "        \"consistent_acc_pairs\": conacc,\n",
        "        \"relevant_pairs\": relevant,\n",
        "        \"total_questions\": predictions.size,\n",
        "        \"num_batches\": bsize,\n",
        "    }"
      ]
    },
    {
      "cell_type": "code",
      "execution_count": 25,
      "id": "e007a148-9d3a-4e20-9b65-abbc38d3c9b1",
      "metadata": {
        "gather": {
          "logged": 1646710512808
        }
      },
      "outputs": [],
      "source": [
        "def counts_tostr(counts, i):\n",
        "    lines = []\n",
        "    N = counts[\"num_batches\"][i]\n",
        "    total = counts[\"total_questions\"][i]\n",
        "    B = total // N\n",
        "    total_pairs = N * B * (B - 1) // 2 # pairs per batch\n",
        "    accurate = counts['accurate'][i]\n",
        "    contradictions = counts['contradictory_pairs'][i]\n",
        "    relevant = counts['relevant_pairs'][i]\n",
        "    con_acc = counts['consistent_acc_pairs'][i]\n",
        "    flips = counts['flips'][i]\n",
        "    TP = counts['TP'][i]\n",
        "    FP = counts['FP'][i]\n",
        "    FN = counts['FN'][i]\n",
        "    precision = TP / (TP + FP)\n",
        "    recall = TP / (TP + FN)\n",
        "    f1 = 0 if precision == 0 and recall == 0 else 2 * precision * recall / (precision + recall)\n",
        "    lines.append(f\"Accurate {accurate} / {total} = {accurate / total}\")\n",
        "    lines.append(f\"Precision {precision}, recall {recall} ==> F1 {f1}\")\n",
        "    lines.append(f\"Contradictions {contradictions} / {total_pairs} pairs = {contradictions / total_pairs}\")\n",
        "    lines.append(f\"Contradictions {contradictions} / {relevant} relevant pairs = {contradictions / relevant}\")\n",
        "    lines.append(f\"Consistent+Accurate {con_acc} / {total_pairs} pairs = {con_acc / total_pairs}\")\n",
        "    lines.append(f\"Corrections {flips} / {N} batches = {flips / N}\")\n",
        "    return \"\\n\".join(lines)"
      ]
    },
    {
      "cell_type": "markdown",
      "id": "7ce59221-7942-4c06-9573-7bbe274c8da0",
      "metadata": {},
      "source": [
        "Sampling methods\n",
        "1. base fact -> relation(s) on graph (must be downstream, or upstream if false)\n",
        "    Pro: Facts are close together\n",
        "    Con: Limited to guaranteed relations, so asymmetric\n",
        "2. base fact -> sample given facts that are nearby (not necessarily downstream)\n",
        "    Pro: Symmetric since all facts are given, facts are close together\n",
        "    Con: Contradictions may be a bit dense\n",
        "3. sample facts randomly (then just check afterwards)\n",
        "    Pro: Symmetric since all facts are given, sparser contradictions\n",
        "    Con: Facts may be distant, and constraints aren't complete, so will miss some constraints"
      ]
    },
    {
      "cell_type": "code",
      "execution_count": 46,
      "id": "0e250974",
      "metadata": {},
      "outputs": [],
      "source": [
        "# Kevin's in-prog code\n",
        "def requery_correction_fn(predictions, confidences, assertions, questions, answers, nli_matrix, return_flip_mask=False):\n",
        "    print(predictions, confidences, assertions, questions, answers, nli_matrix)\n"
      ]
    },
    {
      "cell_type": "code",
      "execution_count": 48,
      "id": "88143abe-885c-499c-bcfc-40304aa1edf1",
      "metadata": {},
      "outputs": [
        {
          "name": "stdout",
          "output_type": "stream",
          "text": [
            "[[False False False False False False False False  True False]\n",
            " [False False  True False  True False False False  True  True]\n",
            " [False False False False False False False False False False]\n",
            " [ True False False  True False False  True False False False]\n",
            " [False  True False False  True False  True False False False]\n",
            " [False  True False  True False False False False False False]\n",
            " [False False  True  True False False False  True  True False]\n",
            " [False False False False False False False  True False False]\n",
            " [False  True False False False False  True  True  True False]\n",
            " [False False False False  True False False False False False]] [[0.9999888  0.9999907  0.9978441  0.9806214  0.99997175 0.9999652\n",
            "  0.9999783  0.9996209  0.9998745  0.9998191 ]\n",
            " [0.7080633  0.99551386 0.9996284  0.99999964 0.99196273 0.9994717\n",
            "  0.9552754  0.6768024  0.9991716  0.99722713]\n",
            " [0.75378823 0.9140249  0.99921954 0.9990171  0.999788   0.8892114\n",
            "  0.99995565 0.9295139  0.9605247  0.9997166 ]\n",
            " [0.9999001  0.83963    0.999358   0.54076725 0.9999187  0.9961479\n",
            "  0.9952904  0.9999486  0.9994935  0.99835974]\n",
            " [0.99990594 0.8930841  0.9847712  0.99995506 0.6037035  0.99991834\n",
            "  0.6957661  0.9995685  0.97326994 0.9938968 ]\n",
            " [0.89204705 0.6976623  0.99374855 0.9480398  0.7987636  0.9998056\n",
            "  0.99888474 0.9919716  0.8876229  0.9848964 ]\n",
            " [0.99999535 0.9999267  0.99986136 0.9983557  0.51210684 0.99997747\n",
            "  0.98881847 0.54522693 0.612079   0.9998615 ]\n",
            " [0.99806434 0.98182803 0.9999751  0.95910186 0.9999229  0.9979651\n",
            "  0.9577214  0.99750286 0.9990206  0.9998443 ]\n",
            " [0.9697165  0.8780287  0.9999939  0.90074265 0.92504215 0.9992079\n",
            "  0.9836516  0.9994729  0.9356871  0.6805735 ]\n",
            " [0.9539739  0.8618009  0.99672866 0.99991536 0.55749077 0.99999785\n",
            "  0.89875984 0.9993407  0.97222733 0.9927412 ]] [['A llama is not an ocean.' 'A llama is not a virus.'\n",
            "  'A llama is not a mineral.' 'A llama is not a continent.'\n",
            "  'A llama is not a fish.' 'A llama is not a tree.'\n",
            "  'A llama is not a wasp.' 'A llama is not a fungus.'\n",
            "  'A llama is an organism.' 'A llama is not a vegetable.']\n",
            " ['A cheetah is not an invertebrate.' 'A cheetah is not a kitchen.'\n",
            "  'A cheetah is able to live.' 'A cheetah is not a computer.'\n",
            "  'A cheetah has a head.' 'A cheetah is not a doctor.'\n",
            "  'A cheetah is not a metal.' 'A cheetah is not a bathroom.'\n",
            "  'A cheetah is an organism.' 'A cheetah is made of cells.']\n",
            " ['A reptile is not a molecule.' 'A reptile is not a wasp.'\n",
            "  'A reptile is not a dog.' 'A reptile is not a cat.'\n",
            "  'A reptile is not a fungus.' 'A reptile is not a president.'\n",
            "  'A reptile is not a fish.' 'A reptile is not a doctor.'\n",
            "  'A reptile is not a river.' 'A reptile is not a metal.']\n",
            " ['A whale is a living thing.' 'A whale is not a fish.'\n",
            "  'A whale is not a turtle.' 'A whale is a student.'\n",
            "  'A whale is not a horse.' 'A whale is not a rodent.'\n",
            "  'A whale is a leader.' 'A whale is not a virus.'\n",
            "  'A whale is not a dog.' 'A whale is not a fungus.']\n",
            " ['A pigeon is not a salad.' 'A pigeon is an action.'\n",
            "  'A pigeon is not a soup.' 'A pigeon is not a dog.'\n",
            "  'A pigeon is a hair.' 'A pigeon is not a building.'\n",
            "  'A pigeon is a food.' 'A pigeon is not a mineral.'\n",
            "  'A pigeon is not a sugar.' 'A pigeon is not a lake.']\n",
            " ['A chick is not a wheel.' 'A chick is a kitchen utensil.'\n",
            "  'A chick is not a toy.' 'A chick is a publication.'\n",
            "  'A chick is not a boat.' 'A chick is not a computer.'\n",
            "  'A chick is not an airplane.' 'A chick is not a machine.'\n",
            "  'A chick is not a bridge.' 'A chick is not a building.']\n",
            " ['An orchid is not a snake.' 'An orchid is not a religion.'\n",
            "  'An orchid has the property of being alive.'\n",
            "  'An orchid is made of cells.' 'An orchid is not a room.'\n",
            "  'An orchid is not a turtle.' 'An orchid is not a sugar.'\n",
            "  'An orchid is a molecule.' 'An orchid is a sound.'\n",
            "  'An orchid is not an ant.']\n",
            " ['A dolphin is not a machine.' 'A dolphin is not a sugar.'\n",
            "  'A dolphin is not a horse.' 'A dolphin is not an acid.'\n",
            "  'A dolphin is not a religion.' 'A dolphin is not a jellyfish.'\n",
            "  'A dolphin is not a shop.' 'A dolphin is an animal.'\n",
            "  'A dolphin is not a country.' 'A dolphin is not a deer.']\n",
            " ['A turkey is not a crustacean.' 'A turkey is a molecule.'\n",
            "  'A turkey is not an airplane.' 'A turkey is not an insect.'\n",
            "  'A turkey is not a science.' 'A turkey is not a deer.'\n",
            "  'A turkey is a leader.' 'A turkey is an organism.'\n",
            "  'A turkey is a liquid.' 'A turkey is not a metal.']\n",
            " ['An owl is not a jewelry.' 'An owl is not a kitchen utensil.'\n",
            "  'An owl is not a school.' 'An owl is not a bicycle.'\n",
            "  'An owl is a publication.' 'An owl is not a computer.'\n",
            "  'An owl is not a movie.' 'An owl is not a boat.'\n",
            "  'An owl is not a house.' 'An owl is not a bridge.']] ['Is a llama an ocean?', 'Is a llama a virus?', 'Is a llama a mineral?', 'Is a llama a continent?', 'Is a llama a fish?', 'Is a llama a tree?', 'Is a llama a wasp?', 'Is a llama a fungus?', 'Is a llama an organism?', 'Is a llama a vegetable?', 'Is a cheetah an invertebrate?', 'Is a cheetah a kitchen?', 'Is a cheetah capable of live?', 'Is a cheetah a computer?', 'Does a cheetah have a head?', 'Is a cheetah a doctor?', 'Is a cheetah a metal?', 'Is a cheetah a bathroom?', 'Is a cheetah an organism?', 'Is a cheetah made of cells?', 'Is a reptile a molecule?', 'Is a reptile a wasp?', 'Is a reptile a dog?', 'Is a reptile a cat?', 'Is a reptile a fungus?', 'Is a reptile a president?', 'Is a reptile a fish?', 'Is a reptile a doctor?', 'Is a reptile a river?', 'Is a reptile a metal?', 'Is a whale a living thing?', 'Is a whale a fish?', 'Is a whale a turtle?', 'Is a whale a student?', 'Is a whale a horse?', 'Is a whale a rodent?', 'Is a whale a leader?', 'Is a whale a virus?', 'Is a whale a dog?', 'Is a whale a fungus?', 'Is a pigeon a salad?', 'Is a pigeon an action?', 'Is a pigeon a soup?', 'Is a pigeon a dog?', 'Is a pigeon a hair?', 'Is a pigeon a building?', 'Is a pigeon a food?', 'Is a pigeon a mineral?', 'Is a pigeon a sugar?', 'Is a pigeon a lake?', 'Is a chick a wheel?', 'Is a chick a kitchen utensil?', 'Is a chick a toy?', 'Is a chick a publication?', 'Is a chick a boat?', 'Is a chick a computer?', 'Is a chick an airplane?', 'Is a chick a machine?', 'Is a chick a bridge?', 'Is a chick a building?', 'Is an orchid a snake?', 'Is an orchid a religion?', 'Does an orchid have the property of being alive?', 'Is an orchid made of cells?', 'Is an orchid a room?', 'Is an orchid a turtle?', 'Is an orchid a sugar?', 'Is an orchid a molecule?', 'Is an orchid a sound?', 'Is an orchid an ant?', 'Is a dolphin a machine?', 'Is a dolphin a sugar?', 'Is a dolphin a horse?', 'Is a dolphin an acid?', 'Is a dolphin a religion?', 'Is a dolphin a jellyfish?', 'Is a dolphin a shop?', 'Is a dolphin an animal?', 'Is a dolphin a country?', 'Is a dolphin a deer?', 'Is a turkey a crustacean?', 'Is a turkey a molecule?', 'Is a turkey an airplane?', 'Is a turkey an insect?', 'Is a turkey a science?', 'Is a turkey a deer?', 'Is a turkey a leader?', 'Is a turkey an organism?', 'Is a turkey a liquid?', 'Is a turkey a metal?', 'Is an owl a jewelry?', 'Is an owl a kitchen utensil?', 'Is an owl a school?', 'Is an owl a bicycle?', 'Is an owl a publication?', 'Is an owl a computer?', 'Is an owl a movie?', 'Is an owl a boat?', 'Is an owl a house?', 'Is an owl a bridge?'] [False False False False False False False False  True False False False\n",
            "  True False  True False False False  True  True False False False False\n",
            " False False False False False False  True False False False False False\n",
            " False False False False False False False False False False False False\n",
            " False False False False False False False False False False False False\n",
            " False False  True  True False False False False False False False False\n",
            " False False False False False  True False False False False False False\n",
            " False False False  True False False False False False False False False\n",
            " False False False False] [[[[9.90000069e-01 8.81063100e-03 1.18933257e-03]\n",
            "   [2.15098962e-01 7.35356450e-01 4.95446324e-02]\n",
            "   [7.91252196e-01 1.37492001e-01 7.12558031e-02]\n",
            "   ...\n",
            "   [3.06320518e-01 5.27465224e-01 1.66214198e-01]\n",
            "   [9.06862795e-01 7.73843452e-02 1.57528855e-02]\n",
            "   [4.72130835e-01 4.43431735e-01 8.44374225e-02]]\n",
            "\n",
            "  [[5.28530002e-01 2.32855856e-01 2.38614187e-01]\n",
            "   [9.89149988e-01 9.61906835e-03 1.23090541e-03]\n",
            "   [5.31663954e-01 2.33858347e-01 2.34477699e-01]\n",
            "   ...\n",
            "   [5.92871070e-01 2.66061306e-01 1.41067624e-01]\n",
            "   [9.61079419e-01 3.47503126e-02 4.17025201e-03]\n",
            "   [4.90277916e-01 3.41757268e-01 1.67964831e-01]]\n",
            "\n",
            "  [[7.27956474e-01 1.91262886e-01 8.07806328e-02]\n",
            "   [5.95835626e-01 3.47959697e-01 5.62046282e-02]\n",
            "   [9.89137113e-01 9.54563543e-03 1.31721899e-03]\n",
            "   ...\n",
            "   [6.29958570e-01 2.92127758e-01 7.79136568e-02]\n",
            "   [9.12654996e-01 7.93747753e-02 7.97026139e-03]\n",
            "   [7.69370794e-01 1.69038147e-01 6.15910254e-02]]\n",
            "\n",
            "  ...\n",
            "\n",
            "  [[6.37542307e-01 1.93620250e-01 1.68837473e-01]\n",
            "   [7.89459527e-01 1.42333880e-01 6.82065710e-02]\n",
            "   [7.54839897e-01 1.29313901e-01 1.15846165e-01]\n",
            "   ...\n",
            "   [9.88608479e-01 1.02217877e-02 1.16970169e-03]\n",
            "   [9.24815774e-01 6.51619062e-02 1.00222500e-02]\n",
            "   [7.75008202e-01 1.65344298e-01 5.96475117e-02]]\n",
            "\n",
            "  [[9.08518136e-01 6.35700300e-02 2.79118568e-02]\n",
            "   [9.55020428e-01 4.01615389e-02 4.81800921e-03]\n",
            "   [9.63639021e-01 3.09357625e-02 5.42517332e-03]\n",
            "   ...\n",
            "   [9.42641497e-01 5.06236814e-02 6.73489133e-03]\n",
            "   [9.91105735e-01 7.30427960e-03 1.58990442e-03]\n",
            "   [9.78836358e-01 1.93203893e-02 1.84330193e-03]]\n",
            "\n",
            "  [[6.51442230e-01 1.35989726e-01 2.12568030e-01]\n",
            "   [6.27936184e-01 3.04598898e-01 6.74648806e-02]\n",
            "   [7.48054385e-01 1.41974002e-01 1.09971628e-01]\n",
            "   ...\n",
            "   [6.14394903e-01 3.28723878e-01 5.68812005e-02]\n",
            "   [9.61942255e-01 3.49502787e-02 3.10738082e-03]\n",
            "   [9.92448211e-01 6.61666179e-03 9.35112592e-04]]]\n",
            "\n",
            "\n",
            " [[[9.92398202e-01 6.55029016e-03 1.05145318e-03]\n",
            "   [8.20025802e-01 1.36080921e-01 4.38933372e-02]\n",
            "   [9.20188427e-01 7.20178038e-02 7.79368216e-03]\n",
            "   ...\n",
            "   [8.15801263e-01 1.52074441e-01 3.21242511e-02]\n",
            "   [9.62525606e-01 3.41288298e-02 3.34557053e-03]\n",
            "   [7.58052766e-01 2.31036663e-01 1.09106302e-02]]\n",
            "\n",
            "  [[8.75872374e-01 1.04028530e-01 2.00990848e-02]\n",
            "   [9.89108801e-01 9.64873284e-03 1.24239922e-03]\n",
            "   [6.06778085e-01 3.75232935e-01 1.79889668e-02]\n",
            "   ...\n",
            "   [2.06593409e-01 4.82359767e-01 3.11046869e-01]\n",
            "   [9.72268701e-01 2.49408130e-02 2.79048318e-03]\n",
            "   [7.66559958e-01 2.16707572e-01 1.67324971e-02]]\n",
            "\n",
            "  [[4.29088920e-01 2.04372361e-01 3.66538644e-01]\n",
            "   [9.31050956e-01 6.10585473e-02 7.89051410e-03]\n",
            "   [9.90312696e-01 8.77838302e-03 9.08941787e-04]\n",
            "   ...\n",
            "   [8.96884978e-01 8.03742260e-02 2.27408316e-02]\n",
            "   [9.80422199e-01 1.81316640e-02 1.44612684e-03]\n",
            "   [8.87957692e-01 1.07647091e-01 4.39517060e-03]]\n",
            "\n",
            "  ...\n",
            "\n",
            "  [[8.47321153e-01 1.30467981e-01 2.22109091e-02]\n",
            "   [3.80137116e-01 3.32317889e-01 2.87545025e-01]\n",
            "   [7.71829724e-01 2.14132190e-01 1.40380850e-02]\n",
            "   ...\n",
            "   [9.88623977e-01 1.00602042e-02 1.31578883e-03]\n",
            "   [9.65299070e-01 3.11546084e-02 3.54628009e-03]\n",
            "   [8.37736070e-01 1.50154054e-01 1.21099083e-02]]\n",
            "\n",
            "  [[9.89831388e-01 8.24477617e-03 1.92384853e-03]\n",
            "   [9.76880312e-01 1.88102517e-02 4.30951919e-03]\n",
            "   [9.66413140e-01 3.22981775e-02 1.28871668e-03]\n",
            "   ...\n",
            "   [9.73131180e-01 2.16321684e-02 5.23658749e-03]\n",
            "   [9.92043197e-01 6.33772649e-03 1.61909987e-03]\n",
            "   [8.01032126e-01 1.95492685e-01 3.47514357e-03]]\n",
            "\n",
            "  [[9.75588441e-01 1.98045615e-02 4.60699527e-03]\n",
            "   [9.63815510e-01 2.33006366e-02 1.28838886e-02]\n",
            "   [8.89841139e-01 1.02262482e-01 7.89638422e-03]\n",
            "   ...\n",
            "   [9.51659143e-01 3.34898233e-02 1.48510803e-02]\n",
            "   [9.56321597e-01 3.56648192e-02 8.01354181e-03]\n",
            "   [9.88633454e-01 9.54560749e-03 1.82095123e-03]]]\n",
            "\n",
            "\n",
            " [[[9.90003407e-01 8.78271274e-03 1.21384882e-03]\n",
            "   [4.65469271e-01 4.33826685e-01 1.00704134e-01]\n",
            "   [3.63199085e-01 5.22383571e-01 1.14417374e-01]\n",
            "   ...\n",
            "   [4.92331564e-01 4.55336273e-01 5.23322187e-02]\n",
            "   [5.35737038e-01 3.68424535e-01 9.58384573e-02]\n",
            "   [7.26404428e-01 2.05259889e-01 6.83357269e-02]]\n",
            "\n",
            "  [[8.60383093e-01 8.48919228e-02 5.47249205e-02]\n",
            "   [9.90842581e-01 8.18394404e-03 9.73529764e-04]\n",
            "   [1.68357030e-01 4.81746852e-01 3.49896073e-01]\n",
            "   ...\n",
            "   [3.23757827e-01 6.03443086e-01 7.27990568e-02]\n",
            "   [2.08126754e-01 6.19940937e-01 1.71932310e-01]\n",
            "   [3.73206139e-01 3.19236368e-01 3.07557464e-01]]\n",
            "\n",
            "  [[5.96630514e-01 1.22123338e-01 2.81246156e-01]\n",
            "   [1.88431684e-02 6.68757498e-01 3.12399238e-01]\n",
            "   [9.93446171e-01 5.75796282e-03 7.95836502e-04]\n",
            "   ...\n",
            "   [8.23741630e-02 8.69683266e-01 4.79426868e-02]\n",
            "   [2.34033726e-02 7.10837901e-01 2.65758634e-01]\n",
            "   [1.26520678e-01 2.70109832e-01 6.03369474e-01]]\n",
            "\n",
            "  ...\n",
            "\n",
            "  [[5.13263345e-01 1.44457459e-01 3.42279166e-01]\n",
            "   [2.57365793e-01 6.25168264e-01 1.17465913e-01]\n",
            "   [2.85664111e-01 6.53480530e-01 6.08553998e-02]\n",
            "   ...\n",
            "   [9.92567658e-01 6.57652644e-03 8.55793187e-04]\n",
            "   [1.82893932e-01 6.25383854e-01 1.91722244e-01]\n",
            "   [2.97918826e-01 4.66675729e-01 2.35405520e-01]]\n",
            "\n",
            "  [[7.22356677e-01 1.21804528e-01 1.55838802e-01]\n",
            "   [1.32520512e-01 6.91583872e-01 1.75895587e-01]\n",
            "   [1.40827924e-01 6.33597434e-01 2.25574628e-01]\n",
            "   ...\n",
            "   [2.08410636e-01 7.35311031e-01 5.62782139e-02]\n",
            "   [9.90711153e-01 8.14914983e-03 1.13967573e-03]\n",
            "   [2.18288854e-01 3.68049562e-01 4.13661599e-01]]\n",
            "\n",
            "  [[8.63944590e-01 8.68735313e-02 4.91819680e-02]\n",
            "   [1.65132195e-01 7.09848583e-01 1.25019252e-01]\n",
            "   [3.60285938e-01 5.42840958e-01 9.68730822e-02]\n",
            "   ...\n",
            "   [3.28420341e-01 6.27197862e-01 4.43817787e-02]\n",
            "   [3.27577800e-01 5.93042970e-01 7.93792233e-02]\n",
            "   [9.90759492e-01 8.21660645e-03 1.02389837e-03]]]\n",
            "\n",
            "\n",
            " ...\n",
            "\n",
            "\n",
            " [[[9.91772711e-01 7.52026774e-03 7.06979656e-04]\n",
            "   [4.06027943e-01 4.19548959e-01 1.74423099e-01]\n",
            "   [6.23718023e-01 3.13985169e-01 6.22967631e-02]\n",
            "   ...\n",
            "   [9.32713211e-01 6.43795803e-02 2.90720002e-03]\n",
            "   [5.55161655e-01 4.02176589e-01 4.26617824e-02]\n",
            "   [4.11085755e-01 4.48508888e-01 1.40405327e-01]]\n",
            "\n",
            "  [[7.20836580e-01 2.15608582e-01 6.35547861e-02]\n",
            "   [9.91496205e-01 7.66467722e-03 8.39236251e-04]\n",
            "   [5.54116011e-01 1.95474029e-01 2.50409931e-01]\n",
            "   ...\n",
            "   [9.50631917e-01 4.63463590e-02 3.02164792e-03]\n",
            "   [5.78325450e-01 3.43465239e-01 7.82092437e-02]\n",
            "   [2.54112154e-01 3.42826426e-01 4.03061390e-01]]\n",
            "\n",
            "  [[6.98767424e-01 2.63376832e-01 3.78557742e-02]\n",
            "   [1.80475920e-01 2.32850194e-01 5.86673856e-01]\n",
            "   [9.94866371e-01 4.54440992e-03 5.89235278e-04]\n",
            "   ...\n",
            "   [9.81437564e-01 1.75319258e-02 1.03047909e-03]\n",
            "   [4.05876487e-01 5.03585458e-01 9.05380175e-02]\n",
            "   [1.89792171e-01 4.62855190e-01 3.47352594e-01]]\n",
            "\n",
            "  ...\n",
            "\n",
            "  [[9.87650692e-01 1.16211874e-02 7.28041283e-04]\n",
            "   [9.55321789e-01 3.46911475e-02 9.98715870e-03]\n",
            "   [8.99841547e-01 9.76915956e-02 2.46688724e-03]\n",
            "   ...\n",
            "   [9.92473364e-01 6.25828374e-03 1.26838032e-03]\n",
            "   [9.62471247e-01 3.37626711e-02 3.76606593e-03]\n",
            "   [8.83499980e-01 1.09977886e-01 6.52213488e-03]]\n",
            "\n",
            "  [[5.65517306e-01 3.90380830e-01 4.41018455e-02]\n",
            "   [2.98760563e-01 4.89102244e-01 2.12137148e-01]\n",
            "   [5.82833529e-01 3.56844306e-01 6.03221208e-02]\n",
            "   ...\n",
            "   [9.27510500e-01 6.80191442e-02 4.47039539e-03]\n",
            "   [9.92104530e-01 6.88383169e-03 1.01168011e-03]\n",
            "   [3.89236718e-01 5.08610368e-01 1.02152973e-01]]\n",
            "\n",
            "  [[4.13530111e-01 4.99798924e-01 8.66710320e-02]\n",
            "   [2.00732052e-01 2.38887250e-01 5.60380697e-01]\n",
            "   [6.47316754e-01 2.02023923e-01 1.50659323e-01]\n",
            "   ...\n",
            "   [9.77602184e-01 2.12032404e-02 1.19454844e-03]\n",
            "   [3.39358449e-01 5.67335010e-01 9.33064967e-02]\n",
            "   [9.94224131e-01 5.16857812e-03 6.07331982e-04]]]\n",
            "\n",
            "\n",
            " [[[9.92046356e-01 7.12371944e-03 8.29984434e-04]\n",
            "   [5.49009323e-01 1.91221684e-01 2.59769022e-01]\n",
            "   [7.61151612e-01 1.25968769e-01 1.12879649e-01]\n",
            "   ...\n",
            "   [9.74641502e-01 2.31976546e-02 2.16083485e-03]\n",
            "   [6.95151687e-01 2.00731277e-01 1.04117051e-01]\n",
            "   [6.18674159e-01 1.13686852e-01 2.67639011e-01]]\n",
            "\n",
            "  [[9.87420022e-01 1.06891375e-02 1.89084548e-03]\n",
            "   [9.86241579e-01 9.86011606e-03 3.89820058e-03]\n",
            "   [9.02085721e-01 6.62486777e-02 3.16655971e-02]\n",
            "   ...\n",
            "   [1.34767920e-01 5.92846088e-02 8.05947423e-01]\n",
            "   [4.16170657e-02 3.19726542e-02 9.26410258e-01]\n",
            "   [9.32917833e-01 5.39189428e-02 1.31631643e-02]]\n",
            "\n",
            "  [[7.43508577e-01 1.92597017e-01 6.38943464e-02]\n",
            "   [4.00938392e-01 2.13674918e-01 3.85386676e-01]\n",
            "   [9.90999341e-01 7.78980041e-03 1.21086102e-03]\n",
            "   ...\n",
            "   [9.56004322e-01 4.01705652e-02 3.82510945e-03]\n",
            "   [4.80825692e-01 2.19352543e-01 2.99821824e-01]\n",
            "   [8.74423683e-01 1.09652124e-01 1.59241483e-02]]\n",
            "\n",
            "  ...\n",
            "\n",
            "  [[9.88387167e-01 1.05743185e-02 1.03850022e-03]\n",
            "   [5.81757486e-01 1.05040558e-01 3.13201964e-01]\n",
            "   [9.73524809e-01 2.24056318e-02 4.06958116e-03]\n",
            "   ...\n",
            "   [9.90840614e-01 7.71625433e-03 1.44320854e-03]\n",
            "   [8.35228264e-02 5.00308909e-02 8.66446257e-01]\n",
            "   [9.54910517e-01 4.07976098e-02 4.29191254e-03]]\n",
            "\n",
            "  [[9.81843412e-01 1.60579793e-02 2.09863903e-03]\n",
            "   [5.51498652e-01 7.76610896e-02 3.70840222e-01]\n",
            "   [9.26410496e-01 5.87909408e-02 1.47984913e-02]\n",
            "   ...\n",
            "   [1.63791999e-01 4.79772836e-02 7.88230717e-01]\n",
            "   [9.81285691e-01 1.45954099e-02 4.11889376e-03]\n",
            "   [9.62772071e-01 3.01873498e-02 7.04050669e-03]]\n",
            "\n",
            "  [[8.65624726e-01 1.08005866e-01 2.63693947e-02]\n",
            "   [2.43343592e-01 2.11369216e-01 5.45287192e-01]\n",
            "   [6.08609378e-01 3.28531832e-01 6.28587902e-02]\n",
            "   ...\n",
            "   [9.18323219e-01 7.64827579e-02 5.19403396e-03]\n",
            "   [5.14893472e-01 3.43400508e-01 1.41705975e-01]\n",
            "   [9.91024017e-01 7.97951408e-03 9.96459043e-04]]]\n",
            "\n",
            "\n",
            " [[[9.91379380e-01 7.63773359e-03 9.82944504e-04]\n",
            "   [4.24658298e-01 5.06095290e-01 6.92464411e-02]\n",
            "   [3.26945722e-01 5.72658002e-01 1.00396261e-01]\n",
            "   ...\n",
            "   [4.10424113e-01 4.21063930e-01 1.68511972e-01]\n",
            "   [6.28683567e-01 2.90052950e-01 8.12634453e-02]\n",
            "   [3.68897468e-01 3.69055420e-01 2.62047142e-01]]\n",
            "\n",
            "  [[3.35481524e-01 3.86927485e-01 2.77590930e-01]\n",
            "   [9.92004693e-01 7.01145409e-03 9.83855454e-04]\n",
            "   [2.08445281e-01 6.79126441e-01 1.12428211e-01]\n",
            "   ...\n",
            "   [2.90483177e-01 4.31060016e-01 2.78456777e-01]\n",
            "   [4.06169593e-01 4.61118877e-01 1.32711545e-01]\n",
            "   [2.90902227e-01 4.68084365e-01 2.41013423e-01]]\n",
            "\n",
            "  [[2.30131313e-01 4.72240180e-01 2.97628522e-01]\n",
            "   [3.16726595e-01 6.29501760e-01 5.37717044e-02]\n",
            "   [9.89897251e-01 8.90118070e-03 1.20147329e-03]\n",
            "   ...\n",
            "   [2.06773788e-01 4.84332502e-01 3.08893740e-01]\n",
            "   [7.31741548e-01 2.01418266e-01 6.68402314e-02]\n",
            "   [2.28153408e-01 4.40515786e-01 3.31330776e-01]]\n",
            "\n",
            "  ...\n",
            "\n",
            "  [[2.89546251e-01 4.12719578e-01 2.97734171e-01]\n",
            "   [3.38150263e-01 5.45006573e-01 1.16843186e-01]\n",
            "   [1.32644430e-01 6.75036907e-01 1.92318663e-01]\n",
            "   ...\n",
            "   [9.91283655e-01 7.40947109e-03 1.30681007e-03]\n",
            "   [4.75701362e-01 3.18645656e-01 2.05653012e-01]\n",
            "   [2.91367233e-01 4.48191911e-01 2.60440886e-01]]\n",
            "\n",
            "  [[1.83922380e-01 3.92751187e-01 4.23326433e-01]\n",
            "   [2.29731455e-01 6.96856022e-01 7.34124929e-02]\n",
            "   [1.42018348e-01 7.72184968e-01 8.57966915e-02]\n",
            "   ...\n",
            "   [5.43733165e-02 6.73729956e-01 2.71896750e-01]\n",
            "   [9.92185652e-01 6.75146002e-03 1.06293510e-03]\n",
            "   [1.06769502e-01 4.77981627e-01 4.15248871e-01]]\n",
            "\n",
            "  [[3.65231931e-01 3.74658734e-01 2.60109365e-01]\n",
            "   [3.27879816e-01 5.46321809e-01 1.25798434e-01]\n",
            "   [1.24639712e-01 6.99060619e-01 1.76299691e-01]\n",
            "   ...\n",
            "   [5.58836818e-01 2.75037199e-01 1.66125953e-01]\n",
            "   [4.69970316e-01 3.39162439e-01 1.90867290e-01]\n",
            "   [9.89189148e-01 9.37692914e-03 1.43390545e-03]]]]\n",
            "\n",
            "==================== Final Results ====================\n",
            "End on iter 11: 10 10x10 batches, 100 questions\n",
            "Correction function C_0:\n",
            "\tAccurate 87 / 100 = 0.87\n",
            "\tPrecision 0.43478260869565216, recall 1.0 ==> F1 0.6060606060606061\n",
            "\tContradictions 11 / 450 pairs = 0.024444444444444446\n",
            "\tContradictions 11 / 114 relevant pairs = 0.09649122807017543\n",
            "\tConsistent+Accurate 342 / 450 pairs = 0.76\n",
            "\tCorrections 0 / 10 batches = 0.0\n",
            "Correction function C_1:\n",
            "\tAccurate 92 / 100 = 0.92\n",
            "\tPrecision 0.5555555555555556, recall 1.0 ==> F1 0.7142857142857143\n",
            "\tContradictions 7 / 450 pairs = 0.015555555555555555\n",
            "\tContradictions 7 / 81 relevant pairs = 0.08641975308641975\n",
            "\tConsistent+Accurate 383 / 450 pairs = 0.8511111111111112\n",
            "\tCorrections 5 / 10 batches = 0.5\n",
            "Runtime: 12.148862361907959\n"
          ]
        }
      ],
      "source": [
        "start = time.time()\n",
        "\n",
        "# correction_fn_names = ['C_0', 'C_1', 'C_2', 'C_3', 'C_4', 'C_5', 'C_6', 'C_7', 'C_8']\n",
        "correction_fn_names = ['C_0', 'C_1']\n",
        "correction_fns = [getattr(correction_utils, fn_name) for fn_name in correction_fn_names]\n",
        "\n",
        "\n",
        "counts = { \n",
        "    k: np.zeros(len(correction_fns), dtype=int) \n",
        "    for k in [\n",
        "        \"accurate\", \"TP\", \"TN\", \"FN\", \"FP\", \"contradictory_pairs\", \"consistent_acc_pairs\", \n",
        "        \"relevant_pairs\", \"total_questions\", \"num_batches\", \"flips\"\n",
        "    ]\n",
        "}\n",
        "\n",
        "N = 10 # Number of entities to sample in a big batch\n",
        "batch_counter = 0\n",
        "num_batches = 0\n",
        "num_big_batches = 0\n",
        "big_batch = []\n",
        "\n",
        "B = 10 # Number of facts for each entity\n",
        "random.shuffle(dev_entities)\n",
        "idx_count = 0\n",
        "idx = 0\n",
        "while num_batches < 1000:\n",
        "    if idx == len(dev_entities):\n",
        "        random.shuffle(dev_entities)\n",
        "        idx = 0\n",
        "    entity = dev_entities[idx]\n",
        "    idx += 1\n",
        "    idx_count += 1\n",
        "    \n",
        "    # Sample set of facts for an entity\n",
        "    # Sampling method 2\n",
        "    entity_facts = list(facts[entity].items())\n",
        "    base = random.choice(entity_facts)\n",
        "    relation, label = base\n",
        "    nearby = neighbors.get(relation, set())\n",
        "    allowed_facts = [f for f in entity_facts if f[0] in nearby]\n",
        "    if len(allowed_facts) < B - 1:\n",
        "        continue\n",
        "    batch = random.sample(allowed_facts, min(B - 1, len(allowed_facts)))\n",
        "    batch = [base] + batch\n",
        "    batch = [(entity, rel, label == \"yes\") for rel, label in batch]\n",
        "    \n",
        "    # # Random sampling (method 3)\n",
        "    # batch = random.sample(list(facts[entity].items()), B)\n",
        "    # batch = [(entity, relation, true == \"yes\") for relation, yes in batch]\n",
        "    \n",
        "    # Collect batches in big batches\n",
        "    if batch_counter == 0:\n",
        "        big_batch = []\n",
        "    batch_counter += 1\n",
        "    big_batch.extend(batch)\n",
        "    if batch_counter < N: # Big batch not full yet, keep accumulating examples\n",
        "        continue\n",
        "    # We have a full batch\n",
        "    batch_counter = 0\n",
        "    num_batches += N\n",
        "    num_big_batches += 1\n",
        "    \n",
        "    questions, answers = zip(*[generate_question(*tup) for tup in big_batch])\n",
        "    questions = list(questions)\n",
        "    answers = np.array([ans == \"Yes\" for ans in answers])\n",
        "    # print(\"Questions:\", questions)\n",
        "    # print(\"Labels (for contradiction):\", answers)\n",
        "    \n",
        "    predictions, confidences = predict(questions, max_bsize=20)\n",
        "    predictions = predictions.flatten()\n",
        "    confidences = confidences.flatten()\n",
        "    # print(\"QA predictions:\", predictions)\n",
        "    # print(\"QA confidences:\", confidences)\n",
        "    \n",
        "    pred_batch = [(ent, rel, predictions[i]) for i, (ent, rel, true) in enumerate(big_batch)]\n",
        "    assertions = [generate_assertion(*tup) for tup in pred_batch]\n",
        "    # print(\"Assertions:\", assertions)\n",
        "    \n",
        "    assertions = np.array(assertions).reshape(N, B)\n",
        "    nli_matrix = nli(assertions, nli_tokenizer, nli_model, max_bsize=20)\n",
        "    # print(\"NLI probability matrix:\\n\", nli_matrix)\n",
        "    \n",
        "    predictions = predictions.reshape(N, B)\n",
        "    confidences = confidences.reshape(N, B)\n",
        "\n",
        "    ### TEST -- Kevin's code\n",
        "    # requery_correction_fn(predictions.copy(), confidences.copy(), assertions.copy(), questions.copy(), answers.copy(), nli_matrix.copy(), return_flip_mask = True)\n",
        "\n",
        "    ### TEST\n",
        "\n",
        "    # Evaluate with correction functions\n",
        "    for i, correction_fn in enumerate(correction_fns):\n",
        "        corrected, flip_mask = correction_fn(predictions.copy(), confidences.copy(), nli_matrix.copy(), return_flip_mask=True)\n",
        "        counts['flips'][i] += np.count_nonzero(flip_mask)\n",
        "        eval_dict = evaluate(corrected, answers, pred_batch)\n",
        "        for k, v in eval_dict.items():\n",
        "            counts[k][i] += v\n",
        "    # print(eval_dict)\n",
        "    \n",
        "    if num_batches % 100 == 0:\n",
        "        print(f\"Iter {idx_count}: {num_batches} batches, {counts['total_questions'][0]} questions\")\n",
        "        for i, fn_name in enumerate(correction_fn_names):\n",
        "            print(f\"Correction function {fn_name}:\")\n",
        "            print('\\t' + counts_tostr(counts, i).replace('\\n', '\\n\\t'))\n",
        "            \n",
        "print(\"\\n==================== Final Results ====================\")\n",
        "print(f\"End on iter {idx_count}: {num_batches} {B}x{B} batches, {counts['total_questions'][0]} questions\")\n",
        "for i, fn_name in enumerate(correction_fn_names):\n",
        "    print(f\"Correction function {fn_name}:\")\n",
        "    print('\\t' + counts_tostr(counts, i).replace('\\n', '\\n\\t'))\n",
        "\n",
        "end = time.time()\n",
        "print(\"Runtime:\", end - start)\n"
      ]
    },
    {
      "cell_type": "code",
      "execution_count": 34,
      "id": "d406c953-eab3-4d91-af3b-adfa2780528f",
      "metadata": {},
      "outputs": [
        {
          "name": "stdout",
          "output_type": "stream",
          "text": [
            "2022-03-11T23:31:33\n"
          ]
        }
      ],
      "source": [
        "now = datetime.now().strftime(\"%Y-%m-%dT%H:%M:%S\")\n",
        "print(now)"
      ]
    },
    {
      "cell_type": "code",
      "execution_count": 35,
      "id": "3334bdb7-69e0-45b0-8778-b06c4aebd869",
      "metadata": {},
      "outputs": [],
      "source": [
        "df_dict = counts.copy()\n",
        "df_dict['correction_fn'] = correction_fn_names\n",
        "df = pd.DataFrame(df_dict)\n",
        "df = df[['correction_fn'] + [k for k in counts.keys()]]\n",
        "df.to_csv(f'results/{now}.csv', index=False)"
      ]
    },
    {
      "cell_type": "code",
      "execution_count": 36,
      "id": "42ba4e0b-ee37-4ce1-a7b1-78c0b7e0531a",
      "metadata": {},
      "outputs": [
        {
          "data": {
            "text/html": [
              "<div>\n",
              "<style scoped>\n",
              "    .dataframe tbody tr th:only-of-type {\n",
              "        vertical-align: middle;\n",
              "    }\n",
              "\n",
              "    .dataframe tbody tr th {\n",
              "        vertical-align: top;\n",
              "    }\n",
              "\n",
              "    .dataframe thead th {\n",
              "        text-align: right;\n",
              "    }\n",
              "</style>\n",
              "<table border=\"1\" class=\"dataframe\">\n",
              "  <thead>\n",
              "    <tr style=\"text-align: right;\">\n",
              "      <th></th>\n",
              "      <th>correction_fn</th>\n",
              "      <th>accurate</th>\n",
              "      <th>TP</th>\n",
              "      <th>TN</th>\n",
              "      <th>FN</th>\n",
              "      <th>FP</th>\n",
              "      <th>contradictory_pairs</th>\n",
              "      <th>consistent_acc_pairs</th>\n",
              "      <th>relevant_pairs</th>\n",
              "      <th>total_questions</th>\n",
              "      <th>num_batches</th>\n",
              "      <th>flips</th>\n",
              "    </tr>\n",
              "  </thead>\n",
              "  <tbody>\n",
              "    <tr>\n",
              "      <th>0</th>\n",
              "      <td>MaxSAT</td>\n",
              "      <td>8712</td>\n",
              "      <td>852</td>\n",
              "      <td>7860</td>\n",
              "      <td>61</td>\n",
              "      <td>1227</td>\n",
              "      <td>751</td>\n",
              "      <td>34100</td>\n",
              "      <td>11922</td>\n",
              "      <td>10000</td>\n",
              "      <td>1000</td>\n",
              "      <td>928</td>\n",
              "    </tr>\n",
              "    <tr>\n",
              "      <th>1</th>\n",
              "      <td>C_0</td>\n",
              "      <td>7998</td>\n",
              "      <td>867</td>\n",
              "      <td>7131</td>\n",
              "      <td>46</td>\n",
              "      <td>1956</td>\n",
              "      <td>2336</td>\n",
              "      <td>29057</td>\n",
              "      <td>16209</td>\n",
              "      <td>10000</td>\n",
              "      <td>1000</td>\n",
              "      <td>0</td>\n",
              "    </tr>\n",
              "    <tr>\n",
              "      <th>2</th>\n",
              "      <td>C_1</td>\n",
              "      <td>8800</td>\n",
              "      <td>875</td>\n",
              "      <td>7925</td>\n",
              "      <td>38</td>\n",
              "      <td>1162</td>\n",
              "      <td>774</td>\n",
              "      <td>34860</td>\n",
              "      <td>11441</td>\n",
              "      <td>10000</td>\n",
              "      <td>1000</td>\n",
              "      <td>964</td>\n",
              "    </tr>\n",
              "  </tbody>\n",
              "</table>\n",
              "</div>"
            ],
            "text/plain": [
              "  correction_fn  accurate   TP    TN  FN    FP  contradictory_pairs  \\\n",
              "0        MaxSAT      8712  852  7860  61  1227                  751   \n",
              "1           C_0      7998  867  7131  46  1956                 2336   \n",
              "2           C_1      8800  875  7925  38  1162                  774   \n",
              "\n",
              "   consistent_acc_pairs  relevant_pairs  total_questions  num_batches  flips  \n",
              "0                 34100           11922            10000         1000    928  \n",
              "1                 29057           16209            10000         1000      0  \n",
              "2                 34860           11441            10000         1000    964  "
            ]
          },
          "execution_count": 36,
          "metadata": {},
          "output_type": "execute_result"
        }
      ],
      "source": [
        "# now = \"2022-02-26T06:34:50\"\n",
        "df = pd.read_csv(f'results/{now}.csv')\n",
        "df"
      ]
    },
    {
      "cell_type": "code",
      "execution_count": 37,
      "id": "47cc106a-acfc-4cef-8e91-7ee9eb0cec26",
      "metadata": {},
      "outputs": [
        {
          "name": "stdout",
          "output_type": "stream",
          "text": [
            "accurate\n",
            "TP\n",
            "TN\n",
            "FN\n",
            "FP\n",
            "contradictory_pairs\n",
            "consistent_acc_pairs\n",
            "relevant_pairs\n",
            "total_questions\n",
            "num_batches\n",
            "flips\n"
          ]
        }
      ],
      "source": [
        "correction_fn_names = df['correction_fn'].to_numpy()\n",
        "for k in df.columns:\n",
        "    if k == 'correction_fn':\n",
        "        continue\n",
        "    print(k)\n",
        "    exec(f\"{k} = df['{k}'].to_numpy()\")"
      ]
    },
    {
      "cell_type": "code",
      "execution_count": 38,
      "id": "be471021-3425-4462-8644-5e43347b7669",
      "metadata": {},
      "outputs": [
        {
          "data": {
            "image/png": "[encoded data removed]",
            "text/plain": [
              "<Figure size 360x360 with 1 Axes>"
            ]
          },
          "metadata": {
            "needs_background": "light"
          },
          "output_type": "display_data"
        },
        {
          "data": {
            "image/png": "[encoded data removed]",
            "text/plain": [
              "<Figure size 360x360 with 1 Axes>"
            ]
          },
          "metadata": {
            "needs_background": "light"
          },
          "output_type": "display_data"
        },
        {
          "data": {
            "image/png": "[encoded data removed]",
            "text/plain": [
              "<Figure size 360x360 with 1 Axes>"
            ]
          },
          "metadata": {
            "needs_background": "light"
          },
          "output_type": "display_data"
        },
        {
          "data": {
            "image/png": "[encoded data removed]",
            "text/plain": [
              "<Figure size 360x360 with 1 Axes>"
            ]
          },
          "metadata": {
            "needs_background": "light"
          },
          "output_type": "display_data"
        },
        {
          "data": {
            "image/png": "[encoded data removed]",
            "text/plain": [
              "<Figure size 360x360 with 1 Axes>"
            ]
          },
          "metadata": {
            "needs_background": "light"
          },
          "output_type": "display_data"
        },
        {
          "data": {
            "image/png": "[encoded data removed]",
            "text/plain": [
              "<Figure size 360x360 with 1 Axes>"
            ]
          },
          "metadata": {
            "needs_background": "light"
          },
          "output_type": "display_data"
        },
        {
          "data": {
            "image/png": "[encoded data removed]",
            "text/plain": [
              "<Figure size 360x360 with 1 Axes>"
            ]
          },
          "metadata": {
            "needs_background": "light"
          },
          "output_type": "display_data"
        },
        {
          "data": {
            "image/png": "[encoded data removed]",
            "text/plain": [
              "<Figure size 360x360 with 1 Axes>"
            ]
          },
          "metadata": {
            "needs_background": "light"
          },
          "output_type": "display_data"
        }
      ],
      "source": [
        "accuracies = accurate / total_questions * 100\n",
        "precisions = TP / (TP + FP)\n",
        "recalls = TP / (TP + FN)\n",
        "f1_scores = 2 * TP / (2 * TP + FP + FN)\n",
        "contra_rates = contradictory_pairs / (num_batches * B * (B - 1) / 2) * 100\n",
        "relevant_contra_rates = contradictory_pairs / relevant_pairs * 100\n",
        "conacc_rates = consistent_acc_pairs / (num_batches * B * (B - 1) / 2) * 100\n",
        "flip_rates = (flips / total_questions) * 100\n",
        "if not os.path.isdir(f\"figures/{now}\"):\n",
        "    os.mkdir(f\"figures/{now}\")\n",
        "\n",
        "figsize = (5,5)\n",
        "fig, ax = plt.subplots(figsize=figsize)\n",
        "ax.bar(correction_fn_names, accuracies)\n",
        "for i, v in enumerate(accuracies):\n",
        "    ax.text(i, v + 1 + max(accuracies) // 25, str(round(v, 1)), color=\"#0967a2\", fontweight='semibold', ha='center', va='center')\n",
        "ax.set_ylim(0, 100)\n",
        "ax.set_xlabel(\"Correction method\")\n",
        "ax.set_ylabel(\"Percent accuracy\")\n",
        "plt.show()\n",
        "fig.savefig(f\"figures/{now}/accuracy.png\")\n",
        "\n",
        "figsize = (5,5)\n",
        "fig, ax = plt.subplots(figsize=figsize)\n",
        "ax.bar(correction_fn_names, precisions)\n",
        "for i, v in enumerate(precisions):\n",
        "    ax.text(i, v + 0.02, str(round(v, 2)), color=\"#0967a2\", fontweight='semibold', ha='center', va='center')\n",
        "ax.set_ylim(0, min(max(precisions + 0.1), 1.05))\n",
        "ax.set_xlabel(\"Correction method\")\n",
        "ax.set_ylabel(\"Precision\")\n",
        "plt.show()\n",
        "fig.savefig(f\"figures/{now}/precision.png\")\n",
        "\n",
        "figsize = (5,5)\n",
        "fig, ax = plt.subplots(figsize=figsize)\n",
        "ax.bar(correction_fn_names, recalls)\n",
        "for i, v in enumerate(recalls):\n",
        "    ax.text(i, v + 0.05, str(round(v, 2)), color=\"#0967a2\", fontweight='semibold', ha='center', va='center')\n",
        "ax.set_ylim(0, min(max(recalls + 0.1), 1.05))\n",
        "ax.set_xlabel(\"Correction method\")\n",
        "ax.set_ylabel(\"Recall\")\n",
        "plt.show()\n",
        "fig.savefig(f\"figures/{now}/recall.png\")\n",
        "\n",
        "figsize = (5,5)\n",
        "fig, ax = plt.subplots(figsize=figsize)\n",
        "ax.bar(correction_fn_names, f1_scores)\n",
        "for i, v in enumerate(f1_scores):\n",
        "    ax.text(i, v + 0.02, str(round(v, 2)), color=\"#0967a2\", fontweight='semibold', ha='center', va='center')\n",
        "ax.set_ylim(0, min(max(f1_scores + 0.1), 1.05))\n",
        "ax.set_xlabel(\"Correction method\")\n",
        "ax.set_ylabel(\"F1 score\")\n",
        "plt.show()\n",
        "fig.savefig(f\"figures/{now}/f1_score.png\")\n",
        "\n",
        "fig, ax = plt.subplots(figsize=figsize)\n",
        "plt.bar(correction_fn_names, contra_rates)\n",
        "for i, v in enumerate(contra_rates):\n",
        "    ax.text(i, v + 1 + max(contra_rates) // 25, str(round(v, 1)), color=\"#0967a2\", fontweight='semibold', ha='center', va='center')\n",
        "ax.set_ylim(0, min(max(contra_rates) + 5, 100))\n",
        "ax.set_xlabel(\"Correction method\")\n",
        "ax.set_ylabel(\"Percent contradictory pairs\")\n",
        "plt.show()\n",
        "fig.savefig(f\"figures/{now}/contradict.png\")\n",
        "\n",
        "fig, ax = plt.subplots(figsize=figsize)\n",
        "plt.bar(correction_fn_names, relevant_contra_rates)\n",
        "for i, v in enumerate(relevant_contra_rates):\n",
        "    ax.text(i, v + 1 + max(relevant_contra_rates) // 25, str(round(v, 1)), color=\"#0967a2\", fontweight='semibold', ha='center', va='center')\n",
        "ax.set_ylim(0, min(max(relevant_contra_rates) + 5, 100))\n",
        "ax.set_xlabel(\"Correction method\")\n",
        "ax.set_ylabel(\"Percent contradictory relevant pairs\")\n",
        "plt.show()\n",
        "fig.savefig(f\"figures/{now}/contradict_relevant.png\") \n",
        "\n",
        "fig, ax = plt.subplots(figsize=figsize)\n",
        "plt.bar(correction_fn_names, conacc_rates)\n",
        "for i, v in enumerate(conacc_rates):\n",
        "    ax.text(i, v + 1 + max(accuracies) // 25, str(round(v, 1)), color=\"#0967a2\", fontweight='semibold', ha='center', va='center')\n",
        "ax.set_ylim(0, min(max(conacc_rates) + 10, 100))\n",
        "ax.set_xlabel(\"Correction method\")\n",
        "ax.set_ylabel(\"Percent consistent accuracy\")\n",
        "plt.show()\n",
        "fig.savefig(f\"figures/{now}/consistent_accuracy.png\")\n",
        "\n",
        "fig, ax = plt.subplots(figsize=figsize)\n",
        "plt.bar(correction_fn_names, flip_rates)\n",
        "for i, v in enumerate(flip_rates):\n",
        "    ax.text(i, v + 1 + max(accuracies) // 25, str(round(v, 1)), color=\"#0967a2\", fontweight='semibold', ha='center', va='center')\n",
        "ax.set_ylim(0, min(max(flip_rates) + 10, 100))\n",
        "ax.set_xlabel(\"Correction method\")\n",
        "ax.set_ylabel(\"Percent flipped predictions\")\n",
        "plt.show()\n",
        "fig.savefig(f\"figures/{now}/flipped.png\")"
      ]
    },
    {
      "cell_type": "code",
      "execution_count": null,
      "id": "4ca2bd2d-3125-4e00-b1c3-b33c6ee04aa0",
      "metadata": {},
      "outputs": [],
      "source": []
    },
    {
      "cell_type": "code",
      "execution_count": null,
      "id": "1fb390e9",
      "metadata": {},
      "outputs": [],
      "source": []
    }
  ],
  "metadata": {
    "interpreter": {
      "hash": "9169f1d4e16acc976bbb73e323b0dbdf23f1c55e833fb2befffc4fb50ac2de2f"
    },
    "kernel_info": {
      "name": "azureml_py38_pt_tf"
    },
    "kernelspec": {
      "display_name": "Python 3.8 - Pytorch and Tensorflow",
      "language": "python",
      "name": "python3"
    },
    "language_info": {
      "codemirror_mode": {
        "name": "ipython",
        "version": 3
      },
      "file_extension": ".py",
      "mimetype": "text/x-python",
      "name": "python",
      "nbconvert_exporter": "python",
      "pygments_lexer": "ipython3",
      "version": "3.8.1"
    },
    "microsoft": {
      "host": {
        "AzureML": {
          "notebookHasBeenCompleted": true
        }
      }
    },
    "nteract": {
      "version": "nteract-front-end@1.0.0"
    }
  },
  "nbformat": 4,
  "nbformat_minor": 5
}
