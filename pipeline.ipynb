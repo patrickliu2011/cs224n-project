{
  "cells": [
    {
      "cell_type": "code",
      "source": [
        "import os, sys\n",
        "import random\n",
        "import json\n",
        "import nltk \n",
        "import csv\n",
        "import time\n",
        "import copy\n",
        "import torch\n",
        "import numpy as np\n",
        "import pandas as pd\n",
        "import nltk  # $ pip install nltk\n",
        "from nltk.stem import PorterStemmer\n",
        "from nltk.corpus import cmudict  # >>> nltk.download('cmudict')\n",
        "from nltk.tokenize import word_tokenize\n",
        "from spellchecker import SpellChecker # $ pip install pyspellchecker\n",
        "import matplotlib.pyplot as plt\n",
        "from datetime import datetime\n",
        "\n",
        "from transformers import AutoTokenizer, AutoModelForSeq2SeqLM, AutoModelForSequenceClassification\n",
        "\n",
        "from beliefbank_data.utils import generate_assertion, generate_question, find_constraints, generate_inverse_question, generate_question_with_context\n",
        "import correction_utils"
      ],
      "outputs": [],
      "execution_count": 1,
      "metadata": {
        "gather": {
          "logged": 1647099959422
        }
      },
      "id": "f75d45a7-8f30-4cf7-b64e-5645782ef09e"
    },
    {
      "cell_type": "markdown",
      "source": [
        "# Load data"
      ],
      "metadata": {},
      "id": "83360dd8-9e5a-48a4-8274-0c70e3a0361d"
    },
    {
      "cell_type": "code",
      "source": [
        "constraints_path = \"beliefbank_data/constraints_v2.json\"\n",
        "facts_path = \"beliefbank_data/silver_facts.json\""
      ],
      "outputs": [],
      "execution_count": 2,
      "metadata": {
        "gather": {
          "logged": 1647099959676
        }
      },
      "id": "03374e1c-dff7-49d5-847b-0a6816c6a5dd"
    },
    {
      "cell_type": "code",
      "source": [
        "constraints = json.load(open(constraints_path))\n",
        "facts = json.load(open(facts_path))"
      ],
      "outputs": [],
      "execution_count": 3,
      "metadata": {
        "gather": {
          "logged": 1647099959896
        }
      },
      "id": "05c60643-c341-4af6-9459-c8458700b72c"
    },
    {
      "cell_type": "code",
      "source": [
        "# entities = list(facts.keys())\n",
        "# random.shuffle(entities)\n",
        "# dev_size = 65\n",
        "# dev_entities = sorted(entities[:dev_size])\n",
        "# eval_entities = sorted(entities[dev_size:])\n",
        "# with open(\"beliefbank_data/dev_entities.txt\", \"w\") as f:\n",
        "#     f.writelines([e + '\\n' for e in dev_entities])\n",
        "# with open(\"beliefbank_data/eval_entities.txt\", \"w\") as f:\n",
        "#     f.writelines([e + '\\n' for e in eval_entities])\n",
        "\n",
        "with open(\"beliefbank_data/dev_entities.txt\", \"r\") as f:\n",
        "    dev_entities = [e.strip() for e in f.readlines()]\n",
        "print(dev_entities)\n",
        "\n",
        "# with open(\"beliefbank_data/eval_entities.txt\", \"r\") as f:\n",
        "#     eval_entities = [e.strip() for e in f.readlines()]\n",
        "# print(eval_entities)"
      ],
      "outputs": [
        {
          "output_type": "stream",
          "name": "stdout",
          "text": "['american bison', 'baboon', 'birch', 'buck', 'bull', 'calf', 'camel', 'carnivore', 'carp', 'cheetah', 'chick', 'chimpanzee', 'cock', 'crocodile', 'dog', 'dolphin', 'domestic ass', 'duck', 'earthworm', 'elephant', 'european wolf spider', 'foxhound', 'frog', 'gazelle', 'gecko', 'german shepherd', 'giant panda', 'giraffe', 'gladiolus', 'hen', 'horse', 'hound', 'howler monkey', 'hummingbird', 'jaguar', 'lamb', 'leopard', 'lion', 'livestock', 'llama', 'magpie', 'midge', 'mink', 'mullet', 'myna', 'new world blackbird', 'orchid', 'owl', 'ox', 'penguin', 'peony', 'pigeon', 'poodle', 'puppy', 'rabbit', 'rat', 'reptile', 'robin', 'rose', 'salamander', 'starling', 'tiger', 'turkey', 'whale', 'zebra']\n"
        }
      ],
      "execution_count": 4,
      "metadata": {
        "gather": {
          "logged": 1647099960077
        }
      },
      "id": "f4a25158-8d99-4088-b240-51b5b6423334"
    },
    {
      "cell_type": "markdown",
      "source": [
        "# Constraints checking"
      ],
      "metadata": {},
      "id": "a40f96b8-fa0b-4071-8fb3-d649112a23f8"
    },
    {
      "cell_type": "code",
      "source": [
        "constraints_yy = set() # A implies B\n",
        "constraints_yn = set() # A implies not B\n",
        "for link in constraints['links']:\n",
        "    s = link['source']\n",
        "    t = link['target']\n",
        "    if link['weight'] == 'yes_yes':\n",
        "        if link['direction'] == 'forward':\n",
        "            constraints_yy.add((s, t))\n",
        "        else:\n",
        "            constraints_yy.add((t, s))\n",
        "    else:\n",
        "        constraints_yn.add((s, t))\n",
        "        constraints_yn.add((t, s))"
      ],
      "outputs": [],
      "execution_count": 5,
      "metadata": {
        "gather": {
          "logged": 1647099960257
        }
      },
      "id": "dc706745-546a-4687-b3a7-5bdf45dc19a0"
    },
    {
      "cell_type": "code",
      "source": [
        "print(len(constraints_yy))\n",
        "print(len(constraints_yn))"
      ],
      "outputs": [
        {
          "output_type": "stream",
          "name": "stdout",
          "text": "1836\n774\n"
        }
      ],
      "execution_count": 6,
      "metadata": {
        "gather": {
          "logged": 1647099960453
        }
      },
      "id": "9d49487f-ddd8-42ae-882a-f8d05cc1b708"
    },
    {
      "cell_type": "markdown",
      "source": [
        "AB in yn --> BA in yn\n",
        "AB in yy, BC in yy --> AC in yy\n",
        "AB in yy, BC in yn --> AC in yn\n",
        "# AB in yn, CB in yy --> AC in yn "
      ],
      "metadata": {},
      "id": "74a268da-7f64-4117-8453-7f734ac8f8e1"
    },
    {
      "cell_type": "code",
      "source": [
        "dict_yy = {}\n",
        "for s, t in constraints_yy:\n",
        "    if s in dict_yy:\n",
        "        dict_yy[s].add(t)\n",
        "    else:\n",
        "        dict_yy[s] = {t}\n",
        "dict_yn = {}\n",
        "for s, t in constraints_yn:\n",
        "    if s in dict_yn:\n",
        "        dict_yn[s].add(t)\n",
        "    else:\n",
        "        dict_yn[s] = {t}"
      ],
      "outputs": [],
      "execution_count": 7,
      "metadata": {
        "gather": {
          "logged": 1647099960632
        }
      },
      "id": "e24c37f9-da8e-4a01-8e8e-a2540facc1ac"
    },
    {
      "cell_type": "code",
      "source": [
        "depth = 10\n",
        "len_yy = [len(constraints_yy)]\n",
        "len_yn = [len(constraints_yn)]\n",
        "for d in range(depth-1):\n",
        "    temp_yy = copy.deepcopy(dict_yy)\n",
        "    temp_yn = copy.deepcopy(dict_yn)\n",
        "    for a, bs in dict_yy.items():\n",
        "        for b in bs:\n",
        "            for c in dict_yy.get(b, set()):\n",
        "                if a == c:\n",
        "                    continue\n",
        "                temp_yy[a].add(c)\n",
        "            for c in dict_yn.get(b, set()):\n",
        "                if a == c:\n",
        "                    continue\n",
        "                if a in temp_yn:\n",
        "                    temp_yn[a].add(c)\n",
        "                else:\n",
        "                    temp_yn[a] = {c}\n",
        "                if c in temp_yn:\n",
        "                    temp_yn[c].add(a)\n",
        "                else:\n",
        "                    temp_yn[c] = {a}\n",
        "    del dict_yy\n",
        "    del dict_yn\n",
        "    dict_yy = temp_yy\n",
        "    dict_yn = temp_yn\n",
        "    len_yy.append(sum([len(v) for v in dict_yy.values()]))\n",
        "    len_yn.append(sum([len(v) for v in dict_yn.values()]))"
      ],
      "outputs": [],
      "execution_count": 8,
      "metadata": {
        "gather": {
          "logged": 1647099960819
        }
      },
      "id": "a8b0e11c-5331-4f08-aae0-db6a68157baa"
    },
    {
      "cell_type": "code",
      "source": [
        "for s, ts in dict_yy.items():\n",
        "    for t in ts:\n",
        "        constraints_yy.add((s, t))\n",
        "for s, ts in dict_yn.items():\n",
        "    for t in ts:\n",
        "        constraints_yn.add((s, t))\n",
        "constraints_nn = set([(t, s) for s, t in constraints_yy])"
      ],
      "outputs": [],
      "execution_count": 9,
      "metadata": {
        "gather": {
          "logged": 1647099961006
        }
      },
      "id": "5e70cb4a-6fdb-412a-8c04-38a8351842bd"
    },
    {
      "cell_type": "code",
      "source": [
        "print(len(constraints_yy))\n",
        "print(len(constraints_yn))"
      ],
      "outputs": [
        {
          "output_type": "stream",
          "name": "stdout",
          "text": "3931\n11346\n"
        }
      ],
      "execution_count": 10,
      "metadata": {
        "gather": {
          "logged": 1647099961199
        }
      },
      "id": "736fe796-8a9f-470f-9f74-4565eb1a953a"
    },
    {
      "cell_type": "code",
      "source": [
        "plt.title(\"Constraints vs depth\")\n",
        "plt.plot(len_yy, label=\"yy\")\n",
        "plt.plot(len_yn, label=\"yn\")\n",
        "plt.legend()\n",
        "plt.show()"
      ],
      "outputs": [
        {
          "output_type": "display_data",
          "data": {
            "image/png": "[encoded data removed]",
            "text/plain": "<Figure size 432x288 with 1 Axes>"
          },
          "metadata": {
            "needs_background": "light"
          }
        }
      ],
      "execution_count": 11,
      "metadata": {
        "gather": {
          "logged": 1647099961400
        }
      },
      "id": "09ce6b7f-8ff5-4599-b7bb-5bebeade6c26"
    },
    {
      "cell_type": "code",
      "source": [
        "for c1, c2 in constraints_yn:\n",
        "    if c1 == c2:\n",
        "        print(c1, c2)\n",
        "        break"
      ],
      "outputs": [],
      "execution_count": 12,
      "metadata": {
        "gather": {
          "logged": 1647099961589
        }
      },
      "id": "cfe9b264-1408-4d9e-b50b-4443d6dfbe5a"
    },
    {
      "cell_type": "code",
      "source": [
        "dict_nn = {}\n",
        "for s, t in constraints_nn:\n",
        "    if s in dict_nn:\n",
        "        dict_nn[s].add(t)\n",
        "    else:\n",
        "        dict_nn[s] = {t}"
      ],
      "outputs": [],
      "execution_count": 13,
      "metadata": {
        "gather": {
          "logged": 1647099961771
        }
      },
      "id": "c368e6e7-7bd9-42e7-86f1-6ff58fee48ca"
    },
    {
      "cell_type": "code",
      "source": [
        "neighbors = {}\n",
        "num_neighbors = {}\n",
        "for s in list(dict_yy.keys()) + list(dict_yn.keys()) + list(dict_nn.keys()):\n",
        "    neighbors[s] = dict_yy.get(s, set()).union(dict_yn.get(s, set())).union(dict_nn.get(s, set()))\n",
        "    num_neighbors[s] = len(neighbors[s])"
      ],
      "outputs": [],
      "execution_count": 14,
      "metadata": {
        "gather": {
          "logged": 1647099961950
        }
      },
      "id": "a6eb7323-ed08-4431-82c0-db99d05c82a3"
    },
    {
      "cell_type": "code",
      "source": [
        "plt.hist(num_neighbors.values(), bins=range(0, max(num_neighbors.values()) + 1, 20))\n",
        "plt.show()"
      ],
      "outputs": [
        {
          "output_type": "display_data",
          "data": {
            "image/png": "[encoded data removed]",
            "text/plain": "<Figure size 432x288 with 1 Axes>"
          },
          "metadata": {
            "needs_background": "light"
          }
        }
      ],
      "execution_count": 15,
      "metadata": {
        "gather": {
          "logged": 1647099962238
        }
      },
      "id": "3fa7c0ef-3fef-474a-8d3e-741e641844f7"
    },
    {
      "cell_type": "markdown",
      "source": [
        "Case | Equivalent implications   | Contradictory case\n",
        "a    | 1 -> not 2 == 2 -> not 1  | 1 & 2\n",
        "b    | 1 -> 2 == not 2 -> not 1  | 1 & not 2\n",
        "c    | 2 -> 1 == not 1 -> not 2  | not 1 & 2\n",
        "d    | not 1 -> 2 == not 2 -> 1  | not 1 & not 2"
      ],
      "metadata": {},
      "id": "7d1a220d-4e83-40a4-bb48-2599e043036f"
    },
    {
      "cell_type": "code",
      "source": [
        "def check_constraints(relation1, true1, relation2, true2):\n",
        "    # Is (relation1, true1) & (relation2, true2)  \n",
        "    if true1 and true2: # Case a\n",
        "        implies12 = (relation1, relation2) in constraints_yy\n",
        "        implies21 = (relation2, relation1) in constraints_yy\n",
        "        contradicts = (relation1, relation2) in constraints_yn or (relation2, relation1) in constraints_yn\n",
        "    elif true1 and not true2: # Case b\n",
        "        implies12 = (relation1, relation2) in constraints_yn or (relation2, relation1) in constraints_yn\n",
        "        implies21 = False\n",
        "        contradicts = (relation1, relation2) in constraints_yy\n",
        "    elif not true1 and true2: # Case c\n",
        "        implies12 = False\n",
        "        implies21 = (relation1, relation2) in constraints_yn or (relation2, relation1) in constraints_yn\n",
        "        contradicts = (relation2, relation1) in constraints_yy\n",
        "    else: # Case d\n",
        "        implies12 = (relation2, relation1) in constraints_yy\n",
        "        implies21 = (relation1, relation2) in constraints_yy\n",
        "        contradicts = False\n",
        "    return implies12, implies21, contradicts"
      ],
      "outputs": [],
      "execution_count": 16,
      "metadata": {
        "gather": {
          "logged": 1647099962428
        }
      },
      "id": "34aa4611-b2e3-46d6-8f7e-dbcebb92bf97"
    },
    {
      "cell_type": "code",
      "source": [
        "print(check_constraints(\"IsA,animal\", True, \"IsA,mammal\", True))\n",
        "print(check_constraints(\"IsA,animal\", True, \"IsA,mammal\", False))\n",
        "print(check_constraints(\"IsA,animal\", False, \"IsA,mammal\", True))\n",
        "print(check_constraints(\"IsA,animal\", False, \"IsA,mammal\", False))"
      ],
      "outputs": [
        {
          "output_type": "stream",
          "name": "stdout",
          "text": "(False, True, False)\n(False, False, False)\n(False, False, True)\n(True, False, False)\n"
        }
      ],
      "execution_count": 17,
      "metadata": {
        "gather": {
          "logged": 1647099962614
        }
      },
      "id": "3bbd05e6-2234-4a56-9239-6295c3cbfcf1"
    },
    {
      "cell_type": "code",
      "source": [
        "print(check_constraints(\"IsA,animal\", True, \"IsA,candy\", True))\n",
        "print(check_constraints(\"IsA,animal\", True, \"IsA,candy\", False))\n",
        "print(check_constraints(\"IsA,animal\", False, \"IsA,candy\", True))\n",
        "print(check_constraints(\"IsA,animal\", False, \"IsA,candy\", False))"
      ],
      "outputs": [
        {
          "output_type": "stream",
          "name": "stdout",
          "text": "(False, False, False)\n(False, False, False)\n(False, False, False)\n(False, False, False)\n"
        }
      ],
      "execution_count": 18,
      "metadata": {
        "gather": {
          "logged": 1647099962795
        }
      },
      "id": "526892fc-dcbc-4010-88a6-52ce2933ac8b"
    },
    {
      "cell_type": "markdown",
      "source": [
        "# Load models"
      ],
      "metadata": {},
      "id": "716ad53a-5ebc-4366-916e-534c78d69f44"
    },
    {
      "cell_type": "code",
      "source": [
        "device = torch.device(\"cuda\" if torch.cuda.is_available() else \"cpu\")\n",
        "device"
      ],
      "outputs": [
        {
          "output_type": "execute_result",
          "execution_count": 19,
          "data": {
            "text/plain": "device(type='cuda')"
          },
          "metadata": {}
        }
      ],
      "execution_count": 19,
      "metadata": {
        "gather": {
          "logged": 1647099963000
        }
      },
      "id": "f2dd540c-0d05-4fec-85cc-6309b64a4764"
    },
    {
      "cell_type": "code",
      "source": [
        "# Downloads a pretty large model\n",
        "tokenizer = AutoTokenizer.from_pretrained(\"allenai/macaw-large\")\n",
        "model = AutoModelForSeq2SeqLM.from_pretrained(\"allenai/macaw-large\")\n",
        "model = model.to(device=device).eval()"
      ],
      "outputs": [],
      "execution_count": 20,
      "metadata": {
        "gather": {
          "logged": 1647099976883
        }
      },
      "id": "699dba1b-3171-4690-be58-a5fd082e80d8"
    },
    {
      "cell_type": "code",
      "source": [
        "# QA Model stuff\n",
        "def format_question(question_list):\n",
        "    question_list = [\"$answer$ ; $mcoptions$ = (A) yes (B) no; $question$ = \" + item \\\n",
        "         for item in question_list]\n",
        "    return question_list\n",
        "\n",
        "def predict(question_list, max_bsize=10):\n",
        "    B = len(question_list)\n",
        "    question_list = format_question(question_list)\n",
        "    answer_list_all_yes = [\"$answer$ = yes\"] * B     # pass in list of \"yes\"\n",
        "    \n",
        "    answers_all = []\n",
        "    confidences_all = []\n",
        "    for i in range(0, B, max_bsize):\n",
        "        j = min(i + max_bsize, B)\n",
        "        # print(dir(tokenizer))\n",
        "        inputs = tokenizer.batch_encode_plus(question_list[i:j], max_length = 256, padding=True, truncation=True, return_tensors=\"pt\")\n",
        "        labels = tokenizer.batch_encode_plus(answer_list_all_yes[i:j], max_length = 15, padding=True, truncation=True, return_tensors=\"pt\") # max_length is set to len(\"$answer$ = yes\")\n",
        "\n",
        "        # output = model.generate(input_ids, max_length=200)\n",
        "        # answers = tokenizer.batch_decode(output, skip_special_tokens=True)\n",
        "        fwd = model(input_ids=inputs[\"input_ids\"].to(device), attention_mask=inputs[\"attention_mask\"].to(device),\n",
        "                    labels=labels[\"input_ids\"].to(device))\n",
        "                    # decoder_input_ids=labels[\"input_ids\"], decoder_attention_mask=labels[\"attention_mask\"])\n",
        "        # output_ids = torch.argmax(fwd.logits, dim=-1)\n",
        "        # print(tokenizer.batch_decode(output_ids, skip_special_tokens=True))\n",
        "\n",
        "        # loss\n",
        "        # loss = fwd.loss # - log(P(y|x))\n",
        "        # confidence = torch.exp(-loss)\n",
        "        logits = fwd.logits.reshape((j - i, 7, -1))\n",
        "        logits = logits[:, 5, :] # Index of yes/no token in answer\n",
        "        probs = torch.softmax(logits, dim=-1).detach().cpu().numpy()\n",
        "        # yes has input_id 4273, no has input_id 150\n",
        "        confidence_yes = probs[..., 4273] \n",
        "        confidence_no = probs[..., 150]\n",
        "\n",
        "        answers = (confidence_yes >= confidence_no) # np.array([(ans == \"$answer$ = yes\") for ans in answers])\n",
        "        confidences = np.where(answers, confidence_yes, confidence_no)\n",
        "        answers_all.append(answers)\n",
        "        confidences_all.append(confidences)\n",
        "    answers = np.concatenate(answers_all, axis=0)\n",
        "    confidences = np.concatenate(confidences_all, axis=0)\n",
        "    return answers, confidences\n"
      ],
      "outputs": [],
      "execution_count": 21,
      "metadata": {
        "gather": {
          "logged": 1647099977070
        }
      },
      "id": "d5f170c9-5046-4905-b309-e7a821357467"
    },
    {
      "cell_type": "code",
      "source": [
        "nli_tokenizer = AutoTokenizer.from_pretrained(\"ynie/roberta-large-snli_mnli_fever_anli_R1_R2_R3-nli\")\n",
        "nli_model = AutoModelForSequenceClassification.from_pretrained(\"ynie/roberta-large-snli_mnli_fever_anli_R1_R2_R3-nli\")\n",
        "nli_model = nli_model.to(device=device).eval()"
      ],
      "outputs": [
        {
          "output_type": "stream",
          "name": "stderr",
          "text": "Some weights of the model checkpoint at ynie/roberta-large-snli_mnli_fever_anli_R1_R2_R3-nli were not used when initializing RobertaForSequenceClassification: ['roberta.pooler.dense.bias', 'roberta.pooler.dense.weight']\n- This IS expected if you are initializing RobertaForSequenceClassification from the checkpoint of a model trained on another task or with another architecture (e.g. initializing a BertForSequenceClassification model from a BertForPreTraining model).\n- This IS NOT expected if you are initializing RobertaForSequenceClassification from the checkpoint of a model that you expect to be exactly identical (initializing a BertForSequenceClassification model from a BertForSequenceClassification model).\n"
        }
      ],
      "execution_count": 22,
      "metadata": {
        "gather": {
          "logged": 1647099981500
        }
      },
      "id": "59effc47-e588-4c7b-8e90-82bf14a9e4f4"
    },
    {
      "cell_type": "code",
      "source": [
        "def nli(sents, nli_tokenizer, nli_model, max_bsize=20):\n",
        "    \"\"\"Generates contradiction matrix of shape (N, B, B)\"\"\"\n",
        "    if sents.ndim == 1:\n",
        "        sents = sents.reshape(1, -1)\n",
        "    \n",
        "    N, B = sents.shape\n",
        "    prem = []\n",
        "    hypo = []\n",
        "    for i in range(N):\n",
        "        for j in range(B):\n",
        "            for k in range(B):\n",
        "                prem.append(sents[i][j])\n",
        "                hypo.append(sents[i][k])\n",
        "\n",
        "    nli_matrix = []\n",
        "    size = N * B * B\n",
        "    for i in range(0, size, max_bsize):\n",
        "        j = min(i + max_bsize, size)\n",
        "        tokenized = nli_tokenizer(prem[i:j], hypo[i:j], \n",
        "                                  max_length=256, \n",
        "                                  return_token_type_ids=True, \n",
        "                                  truncation=True,\n",
        "                                  padding=True)\n",
        "\n",
        "        input_ids = torch.Tensor(tokenized['input_ids']).to(device).long()\n",
        "        token_type_ids = torch.Tensor(tokenized['token_type_ids']).to(device).long()\n",
        "        attention_mask = torch.Tensor(tokenized['attention_mask']).to(device).long()\n",
        "\n",
        "        nli_outputs = nli_model(input_ids,\n",
        "                                attention_mask=attention_mask,\n",
        "                                token_type_ids=token_type_ids,\n",
        "                                labels=None)\n",
        "        nli_matrix.append(torch.softmax(nli_outputs.logits.detach().cpu(), dim=1))\n",
        "    nli_matrix = torch.cat(nli_matrix, dim=0)\n",
        "    nli_matrix = nli_matrix.reshape(N, B, B, 3)\n",
        "    return nli_matrix.numpy()\n",
        "\n",
        "# TODO: Mimic nli model, but using constraints graph\n",
        "def nli_constraints(big_batch, N, B):\n",
        "    nli_matrix = np.zeros((N, B, B, 3))\n",
        "    pass"
      ],
      "outputs": [],
      "execution_count": 23,
      "metadata": {
        "gather": {
          "logged": 1647099981699
        }
      },
      "id": "1970157b-6933-4d87-b772-300891b1b457"
    },
    {
      "cell_type": "code",
      "source": [
        "def evaluate(predictions, answers, pred_batch):\n",
        "    if predictions.ndim == 1:\n",
        "        predictions = predictions.reshape(1, -1)\n",
        "    answers = answers.reshape(predictions.shape)\n",
        "    relations = np.array([rel for ent, rel, pred in pred_batch]).reshape(predictions.shape)\n",
        "    N, B = predictions.shape\n",
        "    # predictions, answers, relations should be size (N, B)\n",
        "    \n",
        "    # Calculate accurate examples\n",
        "    correct = (predictions == answers)\n",
        "    acc = np.sum(correct)\n",
        "    \n",
        "    # Calculate metrics for F1\n",
        "    TP = np.sum(correct * answers)\n",
        "    TN = acc - TP\n",
        "    FN = np.sum((1 - correct) * answers)\n",
        "    FP = np.sum((1 - correct) * (1 - answers))\n",
        "    \n",
        "    # Calculate contradictions\n",
        "    con = 0\n",
        "    conacc = 0\n",
        "    relevant = 0 # Number of pairs that imply or contradict each other\n",
        "    for i in range(N):\n",
        "        for j in range(B):\n",
        "            for k in range(j+1, B):\n",
        "                impl12, impl21, contra = check_constraints( \\\n",
        "                    relations[i, j], predictions[i, j], relations[i, k], predictions[i, k])\n",
        "                if impl12 or impl21 or contra:\n",
        "                    relevant += 1\n",
        "                if contra:\n",
        "                    con += 1\n",
        "                else:\n",
        "                    conacc += (correct[i, j] and correct[i, k])\n",
        "    \n",
        "    total = predictions.size\n",
        "    bsize = predictions.shape[0]\n",
        "    return {\n",
        "        \"accurate\": acc,\n",
        "        \"TP\": TP,\n",
        "        \"TN\": TN,\n",
        "        \"FN\": FN,\n",
        "        \"FP\": FP,\n",
        "        \"contradictory_pairs\": con,\n",
        "        \"consistent_acc_pairs\": conacc,\n",
        "        \"relevant_pairs\": relevant,\n",
        "        \"total_questions\": predictions.size,\n",
        "        \"num_batches\": bsize,\n",
        "    }"
      ],
      "outputs": [],
      "execution_count": 24,
      "metadata": {
        "gather": {
          "logged": 1647099981923
        }
      },
      "id": "9566f12a-18af-4d2a-a705-b56d55ca9f26"
    },
    {
      "cell_type": "code",
      "source": [
        "def counts_tostr(counts, i):\n",
        "    lines = []\n",
        "    N = counts[\"num_batches\"][i]\n",
        "    total = counts[\"total_questions\"][i]\n",
        "    B = total // N\n",
        "    total_pairs = N * B * (B - 1) // 2 # pairs per batch\n",
        "    accurate = counts['accurate'][i]\n",
        "    contradictions = counts['contradictory_pairs'][i]\n",
        "    relevant = counts['relevant_pairs'][i]\n",
        "    con_acc = counts['consistent_acc_pairs'][i]\n",
        "    flips = counts['flips'][i]\n",
        "    TP = counts['TP'][i]\n",
        "    FP = counts['FP'][i]\n",
        "    FN = counts['FN'][i]\n",
        "    precision = TP / (TP + FP)\n",
        "    recall = TP / (TP + FN)\n",
        "    f1 = 0 if precision == 0 and recall == 0 else 2 * precision * recall / (precision + recall)\n",
        "    lines.append(f\"Accurate {accurate} / {total} = {accurate / total}\")\n",
        "    lines.append(f\"Precision {precision}, recall {recall} ==> F1 {f1}\")\n",
        "    lines.append(f\"Contradictions {contradictions} / {total_pairs} pairs = {contradictions / total_pairs}\")\n",
        "    lines.append(f\"Contradictions {contradictions} / {relevant} relevant pairs = {contradictions / relevant}\")\n",
        "    lines.append(f\"Consistent+Accurate {con_acc} / {total_pairs} pairs = {con_acc / total_pairs}\")\n",
        "    lines.append(f\"Corrections {flips} / {N} batches = {flips / N}\")\n",
        "    return \"\\n\".join(lines)"
      ],
      "outputs": [],
      "execution_count": 25,
      "metadata": {
        "gather": {
          "logged": 1647099982134
        }
      },
      "id": "e007a148-9d3a-4e20-9b65-abbc38d3c9b1"
    },
    {
      "cell_type": "markdown",
      "source": [
        "Sampling methods\n",
        "1. base fact -> relation(s) on graph (must be downstream, or upstream if false)\n",
        "    Pro: Facts are close together\n",
        "    Con: Limited to guaranteed relations, so asymmetric\n",
        "2. base fact -> sample given facts that are nearby (not necessarily downstream)\n",
        "    Pro: Symmetric since all facts are given, facts are close together\n",
        "    Con: Contradictions may be a bit dense\n",
        "3. sample facts randomly (then just check afterwards)\n",
        "    Pro: Symmetric since all facts are given, sparser contradictions\n",
        "    Con: Facts may be distant, and constraints aren't complete, so will miss some constraints"
      ],
      "metadata": {},
      "id": "7ce59221-7942-4c06-9573-7bbe274c8da0"
    },
    {
      "cell_type": "code",
      "source": [
        "print(predict([\"Is a buffalo a mammal?\", \"Is a buffalo not a mammal?\"], max_bsize=20))  # QA Model\n",
        "print(predict([\"Is a buffalo a water animal?\", \"Is a buffalo not a water animal?\"], max_bsize=20))  # QA Model\n",
        "generate_inverse_question(\"buffalo\", \"IsA,mammal\", \"true\")\n"
      ],
      "outputs": [
        {
          "output_type": "stream",
          "name": "stdout",
          "text": "(array([ True, False]), array([0.9846942, 0.9998914], dtype=float32))\n(array([ True, False]), array([0.92805856, 0.9997551 ], dtype=float32))\n"
        },
        {
          "output_type": "execute_result",
          "execution_count": 26,
          "data": {
            "text/plain": "('Is a buffalo not a mammal?', 'Yes')"
          },
          "metadata": {}
        }
      ],
      "execution_count": 26,
      "metadata": {
        "gather": {
          "logged": 1647099982358
        }
      },
      "id": "df5538a5"
    },
    {
      "cell_type": "markdown",
      "source": [
        "### QA Requerying"
      ],
      "metadata": {},
      "id": "fdc5ada2"
    },
    {
      "cell_type": "code",
      "source": [
        "def requery_with_context(old_predictions, old_confidences, questions, nli_matrix, big_batch, return_flip_mask=False):\n",
        "    contra_matrix = nli_matrix[:, :, :, 2]\n",
        "    contra_matrix = (contra_matrix + contra_matrix.transpose((0, 2, 1))) / 2\n",
        "    contra_matrix[:, range(B), range(B)] = 0 # Set diagonals to 0\n",
        "\n",
        "    big_batch = np.array(big_batch).reshape(N,B,3) # (entity, rel, label) in last axis\n",
        "    questions = np.array(questions).reshape(N,B)\n",
        "     \n",
        "    correction_fn = getattr(correction_utils, 'C_1') # Apply C_1 correction function first\n",
        "    corrected, flip = correction_fn(old_predictions, old_confidences, nli_matrix, return_flip_mask=True)\n",
        "    \n",
        "    # For each elem in big_batch that should be flipped, invert question (answer remains same)\n",
        "    big_batch[:, :, 2] = np.logical_xor(big_batch[:, :, 2] == \"True\", flip) # Note: big_batch is modified\n",
        "    # Current answer | Flip? -> New Answer (XOR)\n",
        "    # 0 1 -> 1\n",
        "    # 0 0 -> 0\n",
        "    # 1 0 -> 1\n",
        "    # 1 1 -> 0\n",
        "\n",
        "    # Requery QA model with context if flipped\n",
        "    \n",
        "    new_predictions = np.zeros(old_predictions.shape)\n",
        "    new_confidences = np.zeros(old_confidences.shape)\n",
        "    for ij in np.ndindex(big_batch.shape[:2]): # convert to orig big_batch format\n",
        "        entity, relation, flipped = tuple(big_batch[ij])\n",
        "        \n",
        "        if(flipped): # flipped\n",
        "            #print(\"Target tuple:\", tuple(big_batch[ij]))\n",
        "            requeried_questions = []\n",
        "            #go through list of other relations to find contradictory ones\n",
        "            for relation2 in range(B): \n",
        "                second_relation = big_batch[(ij[0], relation2)]\n",
        "\n",
        "                requeried_questions.append(generate_question_with_context(second_relation[0], second_relation[1], second_relation[2], \\\n",
        "                    big_batch[ij][0], big_batch[ij][1], big_batch[ij][2]))\n",
        "            total = 0\n",
        "            totalContradictions = 0\n",
        "            predictions, confidences = predict(requeried_questions)\n",
        "            \n",
        "            #print(contra_matrix[ij[0], ij[1]])\n",
        "            for relation2 in range(B):\n",
        "\n",
        "                #if the relation is contradictory to our statement\n",
        "                if (contra_matrix[ij[0], ij[1], relation2] >= 0.5):\n",
        "\n",
        "                    #take average confidence in the query with that relation as confidence\n",
        "                    totalContradictions += 1\n",
        "                    total += confidences[relation2]\n",
        "\n",
        "\n",
        "            if (totalContradictions > 0):\n",
        "                new_confidences[ij] = total/totalContradictions\n",
        "            else:\n",
        "                new_confidences[ij] = 0\n",
        "                \n",
        "    #if average confidence in contradictory queries is higher than old confidence, we flip\n",
        "    new_predictions = np.where(new_confidences > old_confidences, np.logical_not(old_predictions), old_predictions)\n",
        "\n",
        "    changed_predictions = np.logical_xor(new_predictions, old_predictions)\n",
        "    corrected = new_predictions.copy()\n",
        "\n",
        "    #\n",
        "    flip = np.logical_xor(corrected, old_predictions)\n",
        "    if return_flip_mask:\n",
        "        return corrected, flip\n",
        "    return corrected\n"
      ],
      "outputs": [],
      "execution_count": 27,
      "metadata": {
        "gather": {
          "logged": 1647102131502
        }
      },
      "id": "c8baf725"
    },
    {
      "cell_type": "code",
      "source": [
        "### Re-querying NLI/QA models\n",
        "# Patrick Liu the goat's sage advice:\n",
        "'''\n",
        "If A and B contradict, and you decide to flip B, then you have the same batch but with ~B\n",
        "Get the NLI with ~B (not entire matrix, just corresponding row/col -- compare ~B with the rest of batch)\n",
        "Then, if it contradicts with anything else in the batch, repeat\n",
        "'''\n",
        "\n",
        "def requery_inverted(old_predictions, old_confidences, questions, nli_matrix, entities, relations, return_flip_mask=False):\n",
        "    entities = np.array(entities).reshape(N,B) \n",
        "    relations = np.array(relations).reshape(N,B)\n",
        "    questions = np.array(questions).reshape(N,B)\n",
        "\n",
        "    correction_fn = getattr(correction_utils, 'C_1') # Apply C_1 correction function first\n",
        "    corrected, flip = correction_fn(old_predictions, old_confidences, nli_matrix, return_flip_mask=True)\n",
        " \n",
        "\n",
        "    # For each elem in big_batch that should be flipped, invert question (answer remains same)\n",
        "    # big_batch[:, :, 2] = np.logical_xor(big_batch[:, :, 2] == \"True\", flip)\n",
        "    my_batch = np.stack((entities, relations, flip), axis = -1)\n",
        "\n",
        "    # Current answer | Flip? -> New Answer (XOR)\n",
        "    # 0 1 -> 1\n",
        "    # 0 0 -> 0\n",
        "    # 1 0 -> 1\n",
        "    # 1 1 -> 0\n",
        "\n",
        "    # Requery QA model with inverted question if flipped\n",
        "    requeried_questions = []\n",
        "    for ij in np.ndindex(my_batch.shape[:2]): # convert to orig big_batch format\n",
        "        entity, relation, flipped = tuple(my_batch[ij])\n",
        "        # print(entity, relation, flipped)\n",
        "        if(flipped): # flipped\n",
        "            new_q, _ = generate_inverse_question(entity, relation, flipped)\n",
        "        else: \n",
        "            new_q, _ = generate_question(entity, relation, flipped)\n",
        "        requeried_questions.append(new_q)\n",
        "    \n",
        "    new_predictions, new_confidences = predict(requeried_questions, max_bsize=20) # QA Model\n",
        "    new_predictions = new_predictions.reshape(N,B)\n",
        "    new_confidences = new_confidences.reshape(N,B)\n",
        "    changed_predictions = np.logical_xor(new_predictions, old_predictions) # Predictions that have changed with requery\n",
        "    # print(\"Predictions that have changed with QA requery: \" + changed_predictions)\n",
        "    # print(new_confidences, old_confidences, new_predictions, old_predictions)\n",
        "\n",
        "    # Take the prediction with the higher confidence score\n",
        "    combined_max_predictions = np.where(new_confidences > old_confidences, new_predictions, old_predictions)\n",
        "    # print(combined_max_confidences)\n",
        "\n",
        "    # Output stage\n",
        "    corrected = combined_max_predictions.copy()\n",
        "    flip = np.logical_xor(corrected, old_predictions)\n",
        "    if return_flip_mask:\n",
        "        return corrected, flip\n",
        "    return corrected\n",
        "\n"
      ],
      "outputs": [],
      "execution_count": 28,
      "metadata": {
        "gather": {
          "logged": 1647099982765
        }
      },
      "id": "0e250974"
    },
    {
      "cell_type": "markdown",
      "source": [
        "### QA Requerying Eval"
      ],
      "metadata": {},
      "id": "53b32e47"
    },
    {
      "cell_type": "code",
      "source": [
        "start = time.time()\n",
        "\n",
        "# correction_fn_names = ['C_0', 'C_1', 'C_2', 'C_3', 'C_4', 'C_5', 'C_6', 'C_7', 'C_8']\n",
        "correction_fn_names = [\"C_0\", \"C_1\", \"C_10\"]\n",
        "correction_fns = [getattr(correction_utils, fn_name) for fn_name in correction_fn_names]\n",
        "\n",
        "\n",
        "counts = { \n",
        "    k: np.zeros(len(correction_fns), dtype=int) \n",
        "    for k in [\n",
        "        \"accurate\", \"TP\", \"TN\", \"FN\", \"FP\", \"contradictory_pairs\", \"consistent_acc_pairs\", \n",
        "        \"relevant_pairs\", \"total_questions\", \"num_batches\", \"flips\"\n",
        "    ]\n",
        "}\n",
        "\n",
        "N = 10 # Number of entities to sample in a big batch\n",
        "batch_counter = 0\n",
        "num_batches = 0\n",
        "num_big_batches = 0\n",
        "big_batch = []\n",
        "\n",
        "B = 10 # Number of facts for each entity\n",
        "random.shuffle(dev_entities)\n",
        "idx_count = 0\n",
        "idx = 0\n",
        "while num_batches < 100:\n",
        "    if idx == len(dev_entities):\n",
        "        random.shuffle(dev_entities)\n",
        "        idx = 0\n",
        "    entity = dev_entities[idx]\n",
        "    idx += 1\n",
        "    idx_count += 1\n",
        "    \n",
        "    # Sample set of facts for an entity\n",
        "    # Sampling method 2\n",
        "    entity_facts = list(facts[entity].items())\n",
        "    base = random.choice(entity_facts)\n",
        "    relation, label = base\n",
        "    nearby = neighbors.get(relation, set())\n",
        "    allowed_facts = [f for f in entity_facts if f[0] in nearby]\n",
        "    if len(allowed_facts) < B - 1:\n",
        "        continue\n",
        "    batch = random.sample(allowed_facts, min(B - 1, len(allowed_facts)))\n",
        "    batch = [base] + batch\n",
        "    batch = [(entity, rel, label == \"yes\") for rel, label in batch]\n",
        "    \n",
        "\n",
        "    # # Random sampling (method 3)\n",
        "    # batch = random.sample(list(facts[entity].items()), B)\n",
        "    # batch = [(entity, relation, true == \"yes\") for relation, yes in batch]\n",
        "    \n",
        "    # Collect batches in big batches\n",
        "    if batch_counter == 0:\n",
        "        big_batch = []\n",
        "    batch_counter += 1\n",
        "    big_batch.extend(batch)\n",
        "    if batch_counter < N: # Big batch not full yet, keep accumulating examples\n",
        "        continue\n",
        "    # We have a full batch\n",
        "    batch_counter = 0\n",
        "    num_batches += N\n",
        "    num_big_batches += 1\n",
        "    \n",
        "    questions, answers = zip(*[generate_question(*tup) for tup in big_batch])\n",
        "    questions = list(questions)\n",
        "    answers = np.array(answers) == \"Yes\"\n",
        "    # print(\"Questions:\", questions)\n",
        "    # print(\"Labels (for contradiction):\", answers)\n",
        "    \n",
        "    predictions, confidences = predict(questions, max_bsize=20)\n",
        "    predictions = predictions.flatten()\n",
        "    confidences = confidences.flatten()\n",
        "    # print(\"QA predictions:\", predictions)\n",
        "    # print(\"QA confidences:\", confidences)\n",
        "    \n",
        "    pred_batch = [(ent, rel, predictions[i]) for i, (ent, rel, true) in enumerate(big_batch)]\n",
        "    assertions = [generate_assertion(*tup) for tup in pred_batch]\n",
        "    #print(\"Assertons:\", assertions)\n",
        "    \n",
        "    assertions = np.array(assertions).reshape(N, B)\n",
        "    nli_matrix = nli(assertions, nli_tokenizer, nli_model, max_bsize=20)\n",
        "    # print(\"NLI probability matrix:\\n\", nli_matrix)\n",
        "    \n",
        "    predictions = predictions.reshape(N, B)\n",
        "    confidences = confidences.reshape(N, B)\n",
        "\n",
        "    print(\"FT:\")\n",
        "    corrected, flip_mask = correction_fn(predictions.copy(), confidences.copy(), nli_matrix.copy(), true_false = False, true_true = True, delta = 0.25, return_flip_mask=True)\n",
        "    counts['flips'][i] += np.count_nonzero(flip_mask)\n",
        "    eval_dict = evaluate(corrected, answers, pred_batch)\n",
        "    for k, v in eval_dict.items():\n",
        "        counts[k][i] += v\n",
        "    print(eval_dict)\n",
        "\n",
        "    print(\"TF:\")\n",
        "    corrected, flip_mask = correction_fn(predictions.copy(), confidences.copy(), nli_matrix.copy(), true_false = True, true_true = False, delta = 0.25, return_flip_mask=True)\n",
        "    counts['flips'][i] += np.count_nonzero(flip_mask)\n",
        "    eval_dict = evaluate(corrected, answers, pred_batch)\n",
        "    for k, v in eval_dict.items():\n",
        "        counts[k][i] += v\n",
        "    print(eval_dict)\n",
        "    \n",
        "    print(\"TT:\")\n",
        "    corrected, flip_mask = correction_fn(predictions.copy(), confidences.copy(), nli_matrix.copy(), true_false = True, true_true = True, delta = 0.25, return_flip_mask=True)\n",
        "    counts['flips'][i] += np.count_nonzero(flip_mask)\n",
        "    eval_dict = evaluate(corrected, answers, pred_batch)\n",
        "    for k, v in eval_dict.items():\n",
        "        counts[k][i] += v\n",
        "    print(eval_dict)\n",
        "\n",
        "    print(\"Control:\")\n",
        "    corrected, flip_mask = correction_fn(predictions.copy(), confidences.copy(), nli_matrix.copy(), true_false = True, true_true = True, delta = 0.25, return_flip_mask=True)\n",
        "    counts['flips'][i] += np.count_nonzero(flip_mask)\n",
        "    eval_dict = evaluate(corrected, answers, pred_batch)\n",
        "    for k, v in eval_dict.items():\n",
        "        counts[k][i] += v\n",
        "    print(eval_dict)\n",
        "\n",
        "\n",
        "\n",
        "    ### Evaluate with correction functions\n",
        "    # for i, correction_fn in enumerate(correction_fns):\n",
        "    #     if correction_fn == \"C_10\":\n",
        "    #         corrected, flip_mask = correction_fn(predictions.copy(), confidences.copy(), nli_matrix.copy(), true_false = False, true_true = True, delta = 0.25, return_flip_mask=True)\n",
        "    #     else:\n",
        "    #         corrected, flip_mask = correction_fn(predictions.copy(), confidences.copy(), nli_matrix.copy(), return_flip_mask=True)\n",
        "    #     counts['flips'][i] += np.count_nonzero(flip_mask)\n",
        "    #     eval_dict = evaluate(corrected, answers, pred_batch)\n",
        "    #     for k, v in eval_dict.items():\n",
        "    #         counts[k][i] += v\n",
        "    # print(eval_dict)\n",
        "    \n",
        "    if num_batches % 100 == 0:\n",
        "        print(f\"Iter {idx_count}: {num_batches} batches, {counts['total_questions'][0]} questions\")\n",
        "        for i, fn_name in enumerate(correction_fn_names):\n",
        "            print(f\"Correction function {fn_name}:\")\n",
        "            print('\\t' + counts_tostr(counts, i).replace('\\n', '\\n\\t'))\n",
        "            \n",
        "print(\"\\n==================== Final Results ====================\")\n",
        "print(f\"End on iter {idx_count}: {num_batches} {B}x{B} batches, {counts['total_questions'][0]} questions\")\n",
        "for i, fn_name in enumerate(correction_fn_names):\n",
        "    print(f\"Correction function {fn_name}:\")\n",
        "    print('\\t' + counts_tostr(counts, i).replace('\\n', '\\n\\t'))\n",
        "\n",
        "end = time.time()\n",
        "print(\"Runtime:\", end - start)\n"
      ],
      "outputs": [
        {
          "output_type": "stream",
          "name": "stdout",
          "text": "FT:\n{'accurate': 85, 'TP': 14, 'TN': 71, 'FN': 1, 'FP': 14, 'contradictory_pairs': 11, 'consistent_acc_pairs': 324, 'relevant_pairs': 134, 'total_questions': 100, 'num_batches': 10}\nTF:\n{'accurate': 84, 'TP': 1, 'TN': 83, 'FN': 14, 'FP': 2, 'contradictory_pairs': 1, 'consistent_acc_pairs': 317, 'relevant_pairs': 102, 'total_questions': 100, 'num_batches': 10}\nTT:\n{'accurate': 85, 'TP': 4, 'TN': 81, 'FN': 11, 'FP': 4, 'contradictory_pairs': 4, 'consistent_acc_pairs': 322, 'relevant_pairs': 98, 'total_questions': 100, 'num_batches': 10}\nFT:\n{'accurate': 81, 'TP': 7, 'TN': 74, 'FN': 0, 'FP': 19, 'contradictory_pairs': 19, 'consistent_acc_pairs': 297, 'relevant_pairs': 160, 'total_questions': 100, 'num_batches': 10}\nTF:\n{'accurate': 92, 'TP': 0, 'TN': 92, 'FN': 7, 'FP': 1, 'contradictory_pairs': 2, 'consistent_acc_pairs': 382, 'relevant_pairs': 59, 'total_questions': 100, 'num_batches': 10}\nTT:\n{'accurate': 92, 'TP': 1, 'TN': 91, 'FN': 6, 'FP': 2, 'contradictory_pairs': 2, 'consistent_acc_pairs': 380, 'relevant_pairs': 62, 'total_questions': 100, 'num_batches': 10}\nFT:\n{'accurate': 84, 'TP': 6, 'TN': 78, 'FN': 1, 'FP': 15, 'contradictory_pairs': 13, 'consistent_acc_pairs': 316, 'relevant_pairs': 129, 'total_questions': 100, 'num_batches': 10}\nTF:\n{'accurate': 92, 'TP': 1, 'TN': 91, 'FN': 6, 'FP': 2, 'contradictory_pairs': 3, 'consistent_acc_pairs': 381, 'relevant_pairs': 56, 'total_questions': 100, 'num_batches': 10}\nTT:\n{'accurate': 93, 'TP': 3, 'TN': 90, 'FN': 4, 'FP': 3, 'contradictory_pairs': 2, 'consistent_acc_pairs': 389, 'relevant_pairs': 56, 'total_questions': 100, 'num_batches': 10}\nFT:\n{'accurate': 90, 'TP': 15, 'TN': 75, 'FN': 0, 'FP': 10, 'contradictory_pairs': 5, 'consistent_acc_pairs': 363, 'relevant_pairs': 128, 'total_questions': 100, 'num_batches': 10}\nTF:\n{'accurate': 86, 'TP': 3, 'TN': 83, 'FN': 12, 'FP': 2, 'contradictory_pairs': 3, 'consistent_acc_pairs': 333, 'relevant_pairs': 106, 'total_questions': 100, 'num_batches': 10}\nTT:\n{'accurate': 85, 'TP': 6, 'TN': 79, 'FN': 9, 'FP': 6, 'contradictory_pairs': 9, 'consistent_acc_pairs': 327, 'relevant_pairs': 98, 'total_questions': 100, 'num_batches': 10}\nFT:\n{'accurate': 88, 'TP': 16, 'TN': 72, 'FN': 0, 'FP': 12, 'contradictory_pairs': 9, 'consistent_acc_pairs': 352, 'relevant_pairs': 122, 'total_questions': 100, 'num_batches': 10}\nTF:\n{'accurate': 88, 'TP': 5, 'TN': 83, 'FN': 11, 'FP': 1, 'contradictory_pairs': 0, 'consistent_acc_pairs': 349, 'relevant_pairs': 76, 'total_questions': 100, 'num_batches': 10}\nTT:\n{'accurate': 92, 'TP': 10, 'TN': 82, 'FN': 6, 'FP': 2, 'contradictory_pairs': 2, 'consistent_acc_pairs': 380, 'relevant_pairs': 71, 'total_questions': 100, 'num_batches': 10}\nFT:\n{'accurate': 83, 'TP': 9, 'TN': 74, 'FN': 2, 'FP': 15, 'contradictory_pairs': 6, 'consistent_acc_pairs': 305, 'relevant_pairs': 128, 'total_questions': 100, 'num_batches': 10}\nTF:\n{'accurate': 89, 'TP': 0, 'TN': 89, 'FN': 11, 'FP': 0, 'contradictory_pairs': 0, 'consistent_acc_pairs': 357, 'relevant_pairs': 59, 'total_questions': 100, 'num_batches': 10}\nTT:\n{'accurate': 89, 'TP': 3, 'TN': 86, 'FN': 8, 'FP': 3, 'contradictory_pairs': 6, 'consistent_acc_pairs': 359, 'relevant_pairs': 64, 'total_questions': 100, 'num_batches': 10}\nFT:\n{'accurate': 85, 'TP': 6, 'TN': 79, 'FN': 0, 'FP': 15, 'contradictory_pairs': 15, 'consistent_acc_pairs': 326, 'relevant_pairs': 139, 'total_questions': 100, 'num_batches': 10}\nTF:\n{'accurate': 94, 'TP': 1, 'TN': 93, 'FN': 5, 'FP': 1, 'contradictory_pairs': 1, 'consistent_acc_pairs': 396, 'relevant_pairs': 33, 'total_questions': 100, 'num_batches': 10}\nTT:\n{'accurate': 95, 'TP': 2, 'TN': 93, 'FN': 4, 'FP': 1, 'contradictory_pairs': 0, 'consistent_acc_pairs': 405, 'relevant_pairs': 29, 'total_questions': 100, 'num_batches': 10}\nFT:\n{'accurate': 89, 'TP': 11, 'TN': 78, 'FN': 0, 'FP': 11, 'contradictory_pairs': 8, 'consistent_acc_pairs': 355, 'relevant_pairs': 123, 'total_questions': 100, 'num_batches': 10}\nTF:\n{'accurate': 88, 'TP': 0, 'TN': 88, 'FN': 11, 'FP': 1, 'contradictory_pairs': 0, 'consistent_acc_pairs': 348, 'relevant_pairs': 83, 'total_questions': 100, 'num_batches': 10}\nTT:\n{'accurate': 91, 'TP': 4, 'TN': 87, 'FN': 7, 'FP': 2, 'contradictory_pairs': 3, 'consistent_acc_pairs': 373, 'relevant_pairs': 67, 'total_questions': 100, 'num_batches': 10}\nFT:\n{'accurate': 80, 'TP': 4, 'TN': 76, 'FN': 1, 'FP': 19, 'contradictory_pairs': 18, 'consistent_acc_pairs': 288, 'relevant_pairs': 166, 'total_questions': 100, 'num_batches': 10}\nTF:\n{'accurate': 92, 'TP': 0, 'TN': 92, 'FN': 5, 'FP': 3, 'contradictory_pairs': 3, 'consistent_acc_pairs': 384, 'relevant_pairs': 47, 'total_questions': 100, 'num_batches': 10}\nTT:\n{'accurate': 92, 'TP': 1, 'TN': 91, 'FN': 4, 'FP': 4, 'contradictory_pairs': 6, 'consistent_acc_pairs': 382, 'relevant_pairs': 60, 'total_questions': 100, 'num_batches': 10}\nFT:\n{'accurate': 86, 'TP': 14, 'TN': 72, 'FN': 0, 'FP': 14, 'contradictory_pairs': 14, 'consistent_acc_pairs': 333, 'relevant_pairs': 146, 'total_questions': 100, 'num_batches': 10}\nTF:\n{'accurate': 85, 'TP': 1, 'TN': 84, 'FN': 13, 'FP': 2, 'contradictory_pairs': 1, 'consistent_acc_pairs': 325, 'relevant_pairs': 62, 'total_questions': 100, 'num_batches': 10}\nTT:\n{'accurate': 88, 'TP': 8, 'TN': 80, 'FN': 6, 'FP': 6, 'contradictory_pairs': 6, 'consistent_acc_pairs': 353, 'relevant_pairs': 93, 'total_questions': 100, 'num_batches': 10}\nIter 111: 100 batches, 0 questions\nCorrection function C_0:\n\tAccurate 0 / 0 = nan\n\tPrecision nan, recall nan ==> F1 nan\n\tContradictions 0 / 0 pairs = nan\n\tContradictions 0 / 0 relevant pairs = nan\n\tConsistent+Accurate 0 / 0 pairs = nan\n\tCorrections 0 / 0 batches = nan\nCorrection function C_1:\n\tAccurate 0 / 0 = nan\n\tPrecision nan, recall nan ==> F1 nan\n\tContradictions 0 / 0 pairs = nan\n\tContradictions 0 / 0 relevant pairs = nan\n\tConsistent+Accurate 0 / 0 pairs = nan\n\tCorrections 0 / 0 batches = nan\nCorrection function C_10:\n\tAccurate 2643 / 3000 = 0.881\n\tPrecision 0.4482758620689655, recall 0.48598130841121495 ==> F1 0.4663677130044843\n\tContradictions 172 / 13500 pairs = 0.01274074074074074\n\tContradictions 172 / 2756 relevant pairs = 0.062409288824383166\n\tConsistent+Accurate 10501 / 13500 pairs = 0.7778518518518519\n\tCorrections 559 / 300 batches = 1.8633333333333333\n\n==================== Final Results ====================\nEnd on iter 111: 100 10x10 batches, 0 questions\nCorrection function C_0:\n\tAccurate 0 / 0 = nan\n\tPrecision nan, recall nan ==> F1 nan\n\tContradictions 0 / 0 pairs = nan\n\tContradictions 0 / 0 relevant pairs = nan\n\tConsistent+Accurate 0 / 0 pairs = nan\n\tCorrections 0 / 0 batches = nan\nCorrection function C_1:\n\tAccurate 0 / 0 = nan\n\tPrecision nan, recall nan ==> F1 nan\n\tContradictions 0 / 0 pairs = nan\n\tContradictions 0 / 0 relevant pairs = nan\n\tConsistent+Accurate 0 / 0 pairs = nan\n\tCorrections 0 / 0 batches = nan\nCorrection function C_10:\n\tAccurate 2643 / 3000 = 0.881\n\tPrecision 0.4482758620689655, recall 0.48598130841121495 ==> F1 0.4663677130044843\n\tContradictions 172 / 13500 pairs = 0.01274074074074074\n\tContradictions 172 / 2756 relevant pairs = 0.062409288824383166\n\tConsistent+Accurate 10501 / 13500 pairs = 0.7778518518518519\n\tCorrections 559 / 300 batches = 1.8633333333333333\nRuntime: 122.81542158126831\n"
        },
        {
          "output_type": "stream",
          "name": "stderr",
          "text": "<ipython-input-25-4878af98b403>:5: RuntimeWarning: divide by zero encountered in long_scalars\n  B = total // N\n<ipython-input-25-4878af98b403>:15: RuntimeWarning: invalid value encountered in long_scalars\n  precision = TP / (TP + FP)\n<ipython-input-25-4878af98b403>:16: RuntimeWarning: invalid value encountered in long_scalars\n  recall = TP / (TP + FN)\n<ipython-input-25-4878af98b403>:18: RuntimeWarning: invalid value encountered in long_scalars\n  lines.append(f\"Accurate {accurate} / {total} = {accurate / total}\")\n<ipython-input-25-4878af98b403>:20: RuntimeWarning: invalid value encountered in long_scalars\n  lines.append(f\"Contradictions {contradictions} / {total_pairs} pairs = {contradictions / total_pairs}\")\n<ipython-input-25-4878af98b403>:21: RuntimeWarning: invalid value encountered in long_scalars\n  lines.append(f\"Contradictions {contradictions} / {relevant} relevant pairs = {contradictions / relevant}\")\n<ipython-input-25-4878af98b403>:22: RuntimeWarning: invalid value encountered in long_scalars\n  lines.append(f\"Consistent+Accurate {con_acc} / {total_pairs} pairs = {con_acc / total_pairs}\")\n<ipython-input-25-4878af98b403>:23: RuntimeWarning: invalid value encountered in long_scalars\n  lines.append(f\"Corrections {flips} / {N} batches = {flips / N}\")\n"
        }
      ],
      "execution_count": 46,
      "metadata": {
        "gather": {
          "logged": 1647105927288
        }
      },
      "id": "88143abe-885c-499c-bcfc-40304aa1edf1"
    },
    {
      "cell_type": "markdown",
      "source": [
        "### Correction Function Eval"
      ],
      "metadata": {},
      "id": "460c83c0"
    },
    {
      "cell_type": "code",
      "source": [
        "start = time.time()\n",
        "\n",
        "# correction_fn_names = ['C_0', 'C_1', 'C_2', 'C_3', 'C_4', 'C_5', 'C_6', 'C_7', 'C_8']\n",
        "correction_fn_names = [\"C_0\", \"C_1\", \"C_10\"]\n",
        "correction_fns = [getattr(correction_utils, fn_name) for fn_name in correction_fn_names]\n",
        "\n",
        "\n",
        "counts = { \n",
        "    k: np.zeros(len(correction_fns), dtype=int) \n",
        "    for k in [\n",
        "        \"accurate\", \"TP\", \"TN\", \"FN\", \"FP\", \"contradictory_pairs\", \"consistent_acc_pairs\", \n",
        "        \"relevant_pairs\", \"total_questions\", \"num_batches\", \"flips\"\n",
        "    ]\n",
        "}\n",
        "\n",
        "N = 10 # Number of entities to sample in a big batch\n",
        "batch_counter = 0\n",
        "num_batches = 0\n",
        "num_big_batches = 0\n",
        "big_batch = []\n",
        "\n",
        "B = 10 # Number of facts for each entity\n",
        "random.shuffle(dev_entities)\n",
        "idx_count = 0\n",
        "idx = 0\n",
        "while num_batches < 100:\n",
        "    if idx == len(dev_entities):\n",
        "        random.shuffle(dev_entities)\n",
        "        idx = 0\n",
        "    entity = dev_entities[idx]\n",
        "    idx += 1\n",
        "    idx_count += 1\n",
        "    \n",
        "    # Sample set of facts for an entity\n",
        "    # Sampling method 2\n",
        "    entity_facts = list(facts[entity].items())\n",
        "    base = random.choice(entity_facts)\n",
        "    relation, label = base\n",
        "    nearby = neighbors.get(relation, set())\n",
        "    allowed_facts = [f for f in entity_facts if f[0] in nearby]\n",
        "    if len(allowed_facts) < B - 1:\n",
        "        continue\n",
        "    batch = random.sample(allowed_facts, min(B - 1, len(allowed_facts)))\n",
        "    batch = [base] + batch\n",
        "    batch = [(entity, rel, label == \"yes\") for rel, label in batch]\n",
        "    \n",
        "\n",
        "    # # Random sampling (method 3)\n",
        "    # batch = random.sample(list(facts[entity].items()), B)\n",
        "    # batch = [(entity, relation, true == \"yes\") for relation, yes in batch]\n",
        "    \n",
        "    # Collect batches in big batches\n",
        "    if batch_counter == 0:\n",
        "        big_batch = []\n",
        "    batch_counter += 1\n",
        "    big_batch.extend(batch)\n",
        "    if batch_counter < N: # Big batch not full yet, keep accumulating examples\n",
        "        continue\n",
        "    # We have a full batch\n",
        "    batch_counter = 0\n",
        "    num_batches += N\n",
        "    num_big_batches += 1\n",
        "    \n",
        "    questions, answers = zip(*[generate_question(*tup) for tup in big_batch])\n",
        "    questions = list(questions)\n",
        "    answers = np.array(answers) == \"Yes\"\n",
        "    # print(\"Questions:\", questions)\n",
        "    # print(\"Labels (for contradiction):\", answers)\n",
        "    \n",
        "    predictions, confidences = predict(questions, max_bsize=20)\n",
        "    predictions = predictions.flatten()\n",
        "    confidences = confidences.flatten()\n",
        "    # print(\"QA predictions:\", predictions)\n",
        "    # print(\"QA confidences:\", confidences)\n",
        "    \n",
        "    pred_batch = [(ent, rel, predictions[i]) for i, (ent, rel, true) in enumerate(big_batch)]\n",
        "    assertions = [generate_assertion(*tup) for tup in pred_batch]\n",
        "    #print(\"Assertons:\", assertions)\n",
        "    \n",
        "    assertions = np.array(assertions).reshape(N, B)\n",
        "    nli_matrix = nli(assertions, nli_tokenizer, nli_model, max_bsize=20)\n",
        "    # print(\"NLI probability matrix:\\n\", nli_matrix)\n",
        "    \n",
        "    predictions = predictions.reshape(N, B)\n",
        "    confidences = confidences.reshape(N, B)\n",
        "\n",
        "    print(\"FT:\")\n",
        "    corrected, flip_mask = correction_fn(predictions.copy(), confidences.copy(), nli_matrix.copy(), true_false = False, true_true = True, delta = 0.25, return_flip_mask=True)\n",
        "    counts['flips'][i] += np.count_nonzero(flip_mask)\n",
        "    eval_dict = evaluate(corrected, answers, pred_batch)\n",
        "    for k, v in eval_dict.items():\n",
        "        counts[k][i] += v\n",
        "    print(eval_dict)\n",
        "\n",
        "    print(\"TF:\")\n",
        "    corrected, flip_mask = correction_fn(predictions.copy(), confidences.copy(), nli_matrix.copy(), true_false = True, true_true = False, delta = 0.25, return_flip_mask=True)\n",
        "    counts['flips'][i] += np.count_nonzero(flip_mask)\n",
        "    eval_dict = evaluate(corrected, answers, pred_batch)\n",
        "    for k, v in eval_dict.items():\n",
        "        counts[k][i] += v\n",
        "    print(eval_dict)\n",
        "    \n",
        "    print(\"TT:\")\n",
        "    corrected, flip_mask = correction_fn(predictions.copy(), confidences.copy(), nli_matrix.copy(), true_false = True, true_true = True, delta = 0.25, return_flip_mask=True)\n",
        "    counts['flips'][i] += np.count_nonzero(flip_mask)\n",
        "    eval_dict = evaluate(corrected, answers, pred_batch)\n",
        "    for k, v in eval_dict.items():\n",
        "        counts[k][i] += v\n",
        "    print(eval_dict)\n",
        "\n",
        "    print(\"Control:\")\n",
        "    corrected, flip_mask = correction_fn(predictions.copy(), confidences.copy(), nli_matrix.copy(), true_false = True, true_true = True, delta = 0.25, return_flip_mask=True)\n",
        "    counts['flips'][i] += np.count_nonzero(flip_mask)\n",
        "    eval_dict = evaluate(corrected, answers, pred_batch)\n",
        "    for k, v in eval_dict.items():\n",
        "        counts[k][i] += v\n",
        "    print(eval_dict)\n",
        "\n",
        "\n",
        "\n",
        "    ### Evaluate with correction functions\n",
        "    # for i, correction_fn in enumerate(correction_fns):\n",
        "    #     if correction_fn == \"C_10\":\n",
        "    #         corrected, flip_mask = correction_fn(predictions.copy(), confidences.copy(), nli_matrix.copy(), true_false = False, true_true = True, delta = 0.25, return_flip_mask=True)\n",
        "    #     else:\n",
        "    #         corrected, flip_mask = correction_fn(predictions.copy(), confidences.copy(), nli_matrix.copy(), return_flip_mask=True)\n",
        "    #     counts['flips'][i] += np.count_nonzero(flip_mask)\n",
        "    #     eval_dict = evaluate(corrected, answers, pred_batch)\n",
        "    #     for k, v in eval_dict.items():\n",
        "    #         counts[k][i] += v\n",
        "    # print(eval_dict)\n",
        "    \n",
        "    if num_batches % 100 == 0:\n",
        "        print(f\"Iter {idx_count}: {num_batches} batches, {counts['total_questions'][0]} questions\")\n",
        "        for i, fn_name in enumerate(correction_fn_names):\n",
        "            print(f\"Correction function {fn_name}:\")\n",
        "            print('\\t' + counts_tostr(counts, i).replace('\\n', '\\n\\t'))\n",
        "            \n",
        "print(\"\\n==================== Final Results ====================\")\n",
        "print(f\"End on iter {idx_count}: {num_batches} {B}x{B} batches, {counts['total_questions'][0]} questions\")\n",
        "for i, fn_name in enumerate(correction_fn_names):\n",
        "    print(f\"Correction function {fn_name}:\")\n",
        "    print('\\t' + counts_tostr(counts, i).replace('\\n', '\\n\\t'))\n",
        "\n",
        "end = time.time()\n",
        "print(\"Runtime:\", end - start)\n"
      ],
      "outputs": [
        {
          "output_type": "stream",
          "name": "stdout",
          "text": "FT:\n{'accurate': 85, 'TP': 14, 'TN': 71, 'FN': 1, 'FP': 14, 'contradictory_pairs': 11, 'consistent_acc_pairs': 324, 'relevant_pairs': 134, 'total_questions': 100, 'num_batches': 10}\nTF:\n{'accurate': 84, 'TP': 1, 'TN': 83, 'FN': 14, 'FP': 2, 'contradictory_pairs': 1, 'consistent_acc_pairs': 317, 'relevant_pairs': 102, 'total_questions': 100, 'num_batches': 10}\nTT:\n{'accurate': 85, 'TP': 4, 'TN': 81, 'FN': 11, 'FP': 4, 'contradictory_pairs': 4, 'consistent_acc_pairs': 322, 'relevant_pairs': 98, 'total_questions': 100, 'num_batches': 10}\nFT:\n{'accurate': 81, 'TP': 7, 'TN': 74, 'FN': 0, 'FP': 19, 'contradictory_pairs': 19, 'consistent_acc_pairs': 297, 'relevant_pairs': 160, 'total_questions': 100, 'num_batches': 10}\nTF:\n{'accurate': 92, 'TP': 0, 'TN': 92, 'FN': 7, 'FP': 1, 'contradictory_pairs': 2, 'consistent_acc_pairs': 382, 'relevant_pairs': 59, 'total_questions': 100, 'num_batches': 10}\nTT:\n{'accurate': 92, 'TP': 1, 'TN': 91, 'FN': 6, 'FP': 2, 'contradictory_pairs': 2, 'consistent_acc_pairs': 380, 'relevant_pairs': 62, 'total_questions': 100, 'num_batches': 10}\nFT:\n{'accurate': 84, 'TP': 6, 'TN': 78, 'FN': 1, 'FP': 15, 'contradictory_pairs': 13, 'consistent_acc_pairs': 316, 'relevant_pairs': 129, 'total_questions': 100, 'num_batches': 10}\nTF:\n{'accurate': 92, 'TP': 1, 'TN': 91, 'FN': 6, 'FP': 2, 'contradictory_pairs': 3, 'consistent_acc_pairs': 381, 'relevant_pairs': 56, 'total_questions': 100, 'num_batches': 10}\nTT:\n{'accurate': 93, 'TP': 3, 'TN': 90, 'FN': 4, 'FP': 3, 'contradictory_pairs': 2, 'consistent_acc_pairs': 389, 'relevant_pairs': 56, 'total_questions': 100, 'num_batches': 10}\nFT:\n{'accurate': 90, 'TP': 15, 'TN': 75, 'FN': 0, 'FP': 10, 'contradictory_pairs': 5, 'consistent_acc_pairs': 363, 'relevant_pairs': 128, 'total_questions': 100, 'num_batches': 10}\nTF:\n{'accurate': 86, 'TP': 3, 'TN': 83, 'FN': 12, 'FP': 2, 'contradictory_pairs': 3, 'consistent_acc_pairs': 333, 'relevant_pairs': 106, 'total_questions': 100, 'num_batches': 10}\nTT:\n{'accurate': 85, 'TP': 6, 'TN': 79, 'FN': 9, 'FP': 6, 'contradictory_pairs': 9, 'consistent_acc_pairs': 327, 'relevant_pairs': 98, 'total_questions': 100, 'num_batches': 10}\nFT:\n{'accurate': 88, 'TP': 16, 'TN': 72, 'FN': 0, 'FP': 12, 'contradictory_pairs': 9, 'consistent_acc_pairs': 352, 'relevant_pairs': 122, 'total_questions': 100, 'num_batches': 10}\nTF:\n{'accurate': 88, 'TP': 5, 'TN': 83, 'FN': 11, 'FP': 1, 'contradictory_pairs': 0, 'consistent_acc_pairs': 349, 'relevant_pairs': 76, 'total_questions': 100, 'num_batches': 10}\nTT:\n{'accurate': 92, 'TP': 10, 'TN': 82, 'FN': 6, 'FP': 2, 'contradictory_pairs': 2, 'consistent_acc_pairs': 380, 'relevant_pairs': 71, 'total_questions': 100, 'num_batches': 10}\nFT:\n{'accurate': 83, 'TP': 9, 'TN': 74, 'FN': 2, 'FP': 15, 'contradictory_pairs': 6, 'consistent_acc_pairs': 305, 'relevant_pairs': 128, 'total_questions': 100, 'num_batches': 10}\nTF:\n{'accurate': 89, 'TP': 0, 'TN': 89, 'FN': 11, 'FP': 0, 'contradictory_pairs': 0, 'consistent_acc_pairs': 357, 'relevant_pairs': 59, 'total_questions': 100, 'num_batches': 10}\nTT:\n{'accurate': 89, 'TP': 3, 'TN': 86, 'FN': 8, 'FP': 3, 'contradictory_pairs': 6, 'consistent_acc_pairs': 359, 'relevant_pairs': 64, 'total_questions': 100, 'num_batches': 10}\nFT:\n{'accurate': 85, 'TP': 6, 'TN': 79, 'FN': 0, 'FP': 15, 'contradictory_pairs': 15, 'consistent_acc_pairs': 326, 'relevant_pairs': 139, 'total_questions': 100, 'num_batches': 10}\nTF:\n{'accurate': 94, 'TP': 1, 'TN': 93, 'FN': 5, 'FP': 1, 'contradictory_pairs': 1, 'consistent_acc_pairs': 396, 'relevant_pairs': 33, 'total_questions': 100, 'num_batches': 10}\nTT:\n{'accurate': 95, 'TP': 2, 'TN': 93, 'FN': 4, 'FP': 1, 'contradictory_pairs': 0, 'consistent_acc_pairs': 405, 'relevant_pairs': 29, 'total_questions': 100, 'num_batches': 10}\nFT:\n{'accurate': 89, 'TP': 11, 'TN': 78, 'FN': 0, 'FP': 11, 'contradictory_pairs': 8, 'consistent_acc_pairs': 355, 'relevant_pairs': 123, 'total_questions': 100, 'num_batches': 10}\nTF:\n{'accurate': 88, 'TP': 0, 'TN': 88, 'FN': 11, 'FP': 1, 'contradictory_pairs': 0, 'consistent_acc_pairs': 348, 'relevant_pairs': 83, 'total_questions': 100, 'num_batches': 10}\nTT:\n{'accurate': 91, 'TP': 4, 'TN': 87, 'FN': 7, 'FP': 2, 'contradictory_pairs': 3, 'consistent_acc_pairs': 373, 'relevant_pairs': 67, 'total_questions': 100, 'num_batches': 10}\nFT:\n{'accurate': 80, 'TP': 4, 'TN': 76, 'FN': 1, 'FP': 19, 'contradictory_pairs': 18, 'consistent_acc_pairs': 288, 'relevant_pairs': 166, 'total_questions': 100, 'num_batches': 10}\nTF:\n{'accurate': 92, 'TP': 0, 'TN': 92, 'FN': 5, 'FP': 3, 'contradictory_pairs': 3, 'consistent_acc_pairs': 384, 'relevant_pairs': 47, 'total_questions': 100, 'num_batches': 10}\nTT:\n{'accurate': 92, 'TP': 1, 'TN': 91, 'FN': 4, 'FP': 4, 'contradictory_pairs': 6, 'consistent_acc_pairs': 382, 'relevant_pairs': 60, 'total_questions': 100, 'num_batches': 10}\nFT:\n{'accurate': 86, 'TP': 14, 'TN': 72, 'FN': 0, 'FP': 14, 'contradictory_pairs': 14, 'consistent_acc_pairs': 333, 'relevant_pairs': 146, 'total_questions': 100, 'num_batches': 10}\nTF:\n{'accurate': 85, 'TP': 1, 'TN': 84, 'FN': 13, 'FP': 2, 'contradictory_pairs': 1, 'consistent_acc_pairs': 325, 'relevant_pairs': 62, 'total_questions': 100, 'num_batches': 10}\nTT:\n{'accurate': 88, 'TP': 8, 'TN': 80, 'FN': 6, 'FP': 6, 'contradictory_pairs': 6, 'consistent_acc_pairs': 353, 'relevant_pairs': 93, 'total_questions': 100, 'num_batches': 10}\nIter 111: 100 batches, 0 questions\nCorrection function C_0:\n\tAccurate 0 / 0 = nan\n\tPrecision nan, recall nan ==> F1 nan\n\tContradictions 0 / 0 pairs = nan\n\tContradictions 0 / 0 relevant pairs = nan\n\tConsistent+Accurate 0 / 0 pairs = nan\n\tCorrections 0 / 0 batches = nan\nCorrection function C_1:\n\tAccurate 0 / 0 = nan\n\tPrecision nan, recall nan ==> F1 nan\n\tContradictions 0 / 0 pairs = nan\n\tContradictions 0 / 0 relevant pairs = nan\n\tConsistent+Accurate 0 / 0 pairs = nan\n\tCorrections 0 / 0 batches = nan\nCorrection function C_10:\n\tAccurate 2643 / 3000 = 0.881\n\tPrecision 0.4482758620689655, recall 0.48598130841121495 ==> F1 0.4663677130044843\n\tContradictions 172 / 13500 pairs = 0.01274074074074074\n\tContradictions 172 / 2756 relevant pairs = 0.062409288824383166\n\tConsistent+Accurate 10501 / 13500 pairs = 0.7778518518518519\n\tCorrections 559 / 300 batches = 1.8633333333333333\n\n==================== Final Results ====================\nEnd on iter 111: 100 10x10 batches, 0 questions\nCorrection function C_0:\n\tAccurate 0 / 0 = nan\n\tPrecision nan, recall nan ==> F1 nan\n\tContradictions 0 / 0 pairs = nan\n\tContradictions 0 / 0 relevant pairs = nan\n\tConsistent+Accurate 0 / 0 pairs = nan\n\tCorrections 0 / 0 batches = nan\nCorrection function C_1:\n\tAccurate 0 / 0 = nan\n\tPrecision nan, recall nan ==> F1 nan\n\tContradictions 0 / 0 pairs = nan\n\tContradictions 0 / 0 relevant pairs = nan\n\tConsistent+Accurate 0 / 0 pairs = nan\n\tCorrections 0 / 0 batches = nan\nCorrection function C_10:\n\tAccurate 2643 / 3000 = 0.881\n\tPrecision 0.4482758620689655, recall 0.48598130841121495 ==> F1 0.4663677130044843\n\tContradictions 172 / 13500 pairs = 0.01274074074074074\n\tContradictions 172 / 2756 relevant pairs = 0.062409288824383166\n\tConsistent+Accurate 10501 / 13500 pairs = 0.7778518518518519\n\tCorrections 559 / 300 batches = 1.8633333333333333\nRuntime: 122.81542158126831\n"
        },
        {
          "output_type": "stream",
          "name": "stderr",
          "text": "<ipython-input-25-4878af98b403>:5: RuntimeWarning: divide by zero encountered in long_scalars\n  B = total // N\n<ipython-input-25-4878af98b403>:15: RuntimeWarning: invalid value encountered in long_scalars\n  precision = TP / (TP + FP)\n<ipython-input-25-4878af98b403>:16: RuntimeWarning: invalid value encountered in long_scalars\n  recall = TP / (TP + FN)\n<ipython-input-25-4878af98b403>:18: RuntimeWarning: invalid value encountered in long_scalars\n  lines.append(f\"Accurate {accurate} / {total} = {accurate / total}\")\n<ipython-input-25-4878af98b403>:20: RuntimeWarning: invalid value encountered in long_scalars\n  lines.append(f\"Contradictions {contradictions} / {total_pairs} pairs = {contradictions / total_pairs}\")\n<ipython-input-25-4878af98b403>:21: RuntimeWarning: invalid value encountered in long_scalars\n  lines.append(f\"Contradictions {contradictions} / {relevant} relevant pairs = {contradictions / relevant}\")\n<ipython-input-25-4878af98b403>:22: RuntimeWarning: invalid value encountered in long_scalars\n  lines.append(f\"Consistent+Accurate {con_acc} / {total_pairs} pairs = {con_acc / total_pairs}\")\n<ipython-input-25-4878af98b403>:23: RuntimeWarning: invalid value encountered in long_scalars\n  lines.append(f\"Corrections {flips} / {N} batches = {flips / N}\")\n"
        }
      ],
      "execution_count": 46,
      "metadata": {
        "gather": {
          "logged": 1647105927288
        }
      },
      "id": "88143abe-885c-499c-bcfc-40304aa1edf1"
    },
    {
      "cell_type": "code",
      "source": [
        "now = datetime.now().strftime(\"%Y-%m-%dT%H:%M:%S\")\n",
        "print(now)"
      ],
      "outputs": [
        {
          "output_type": "stream",
          "name": "stdout",
          "text": "2022-03-13T09:15:03\n"
        }
      ],
      "execution_count": 38,
      "metadata": {
        "gather": {
          "logged": 1647086152880
        }
      },
      "id": "d406c953-eab3-4d91-af3b-adfa2780528f"
    },
    {
      "cell_type": "code",
      "source": [
        "df_dict = counts.copy()\n",
        "df_dict['correction_fn'] = correction_fn_names\n",
        "df = pd.DataFrame(df_dict)\n",
        "df = df[['correction_fn'] + [k for k in counts.keys()]]\n",
        "df.to_csv(f'results/{now}.csv', index=False)"
      ],
      "outputs": [],
      "execution_count": 32,
      "metadata": {
        "gather": {
          "logged": 1647086154017
        }
      },
      "id": "3334bdb7-69e0-45b0-8778-b06c4aebd869"
    },
    {
      "cell_type": "code",
      "source": [
        "# now = \"2022-02-26T06:34:50\"\n",
        "df = pd.read_csv(f'results/{now}.csv')\n",
        "df"
      ],
      "outputs": [
        {
          "output_type": "execute_result",
          "execution_count": 33,
          "data": {
            "text/html": "<div>\n<style scoped>\n    .dataframe tbody tr th:only-of-type {\n        vertical-align: middle;\n    }\n\n    .dataframe tbody tr th {\n        vertical-align: top;\n    }\n\n    .dataframe thead th {\n        text-align: right;\n    }\n</style>\n<table border=\"1\" class=\"dataframe\">\n  <thead>\n    <tr style=\"text-align: right;\">\n      <th></th>\n      <th>correction_fn</th>\n      <th>accurate</th>\n      <th>TP</th>\n      <th>TN</th>\n      <th>FN</th>\n      <th>FP</th>\n      <th>contradictory_pairs</th>\n      <th>consistent_acc_pairs</th>\n      <th>relevant_pairs</th>\n      <th>total_questions</th>\n      <th>num_batches</th>\n      <th>flips</th>\n    </tr>\n  </thead>\n  <tbody>\n    <tr>\n      <th>0</th>\n      <td>C_0</td>\n      <td>811</td>\n      <td>88</td>\n      <td>723</td>\n      <td>6</td>\n      <td>183</td>\n      <td>199</td>\n      <td>2975</td>\n      <td>1528</td>\n      <td>1000</td>\n      <td>100</td>\n      <td>0</td>\n    </tr>\n    <tr>\n      <th>1</th>\n      <td>C_1</td>\n      <td>880</td>\n      <td>89</td>\n      <td>791</td>\n      <td>5</td>\n      <td>115</td>\n      <td>67</td>\n      <td>3473</td>\n      <td>1094</td>\n      <td>1000</td>\n      <td>100</td>\n      <td>81</td>\n    </tr>\n    <tr>\n      <th>2</th>\n      <td>C_10</td>\n      <td>917</td>\n      <td>42</td>\n      <td>875</td>\n      <td>52</td>\n      <td>31</td>\n      <td>22</td>\n      <td>3784</td>\n      <td>590</td>\n      <td>1000</td>\n      <td>100</td>\n      <td>204</td>\n    </tr>\n  </tbody>\n</table>\n</div>",
            "text/plain": "  correction_fn  accurate  TP   TN  FN   FP  contradictory_pairs  \\\n0           C_0       811  88  723   6  183                  199   \n1           C_1       880  89  791   5  115                   67   \n2          C_10       917  42  875  52   31                   22   \n\n   consistent_acc_pairs  relevant_pairs  total_questions  num_batches  flips  \n0                  2975            1528             1000          100      0  \n1                  3473            1094             1000          100     81  \n2                  3784             590             1000          100    204  "
          },
          "metadata": {}
        }
      ],
      "execution_count": 33,
      "metadata": {
        "gather": {
          "logged": 1647086155937
        }
      },
      "id": "42ba4e0b-ee37-4ce1-a7b1-78c0b7e0531a"
    },
    {
      "cell_type": "code",
      "source": [
        "correction_fn_names = df['correction_fn'].to_numpy()\n",
        "for k in df.columns:\n",
        "    if k == 'correction_fn':\n",
        "        continue\n",
        "    print(k)\n",
        "    exec(f\"{k} = df['{k}'].to_numpy()\")"
      ],
      "outputs": [
        {
          "output_type": "stream",
          "name": "stdout",
          "text": "accurate\nTP\nTN\nFN\nFP\ncontradictory_pairs\nconsistent_acc_pairs\nrelevant_pairs\ntotal_questions\nnum_batches\nflips\n"
        }
      ],
      "execution_count": 34,
      "metadata": {
        "gather": {
          "logged": 1647086157364
        }
      },
      "id": "47cc106a-acfc-4cef-8e91-7ee9eb0cec26"
    },
    {
      "cell_type": "code",
      "source": [
        "accuracies = accurate / total_questions * 100\n",
        "precisions = TP / (TP + FP)\n",
        "recalls = TP / (TP + FN)\n",
        "f1_scores = 2 * TP / (2 * TP + FP + FN)\n",
        "contra_rates = contradictory_pairs / (num_batches * B * (B - 1) / 2) * 100\n",
        "relevant_contra_rates = contradictory_pairs / relevant_pairs * 100\n",
        "conacc_rates = consistent_acc_pairs / (num_batches * B * (B - 1) / 2) * 100\n",
        "flip_rates = (flips / total_questions) * 100\n",
        "if not os.path.isdir(f\"figures/{now}\"):\n",
        "    os.mkdir(f\"figures/{now}\")\n",
        "\n",
        "figsize = (5,5)\n",
        "fig, ax = plt.subplots(figsize=figsize)\n",
        "ax.bar(correction_fn_names, accuracies)\n",
        "for i, v in enumerate(accuracies):\n",
        "    ax.text(i, v + 1 + max(accuracies) // 25, str(round(v, 1)), color=\"#0967a2\", fontweight='semibold', ha='center', va='center')\n",
        "ax.set_ylim(0, 100)\n",
        "ax.set_xlabel(\"Correction method\")\n",
        "ax.set_ylabel(\"Percent accuracy\")\n",
        "plt.show()\n",
        "fig.savefig(f\"figures/{now}/accuracy.png\")\n",
        "\n",
        "figsize = (5,5)\n",
        "fig, ax = plt.subplots(figsize=figsize)\n",
        "ax.bar(correction_fn_names, precisions)\n",
        "for i, v in enumerate(precisions):\n",
        "    ax.text(i, v + 0.02, str(round(v, 2)), color=\"#0967a2\", fontweight='semibold', ha='center', va='center')\n",
        "ax.set_ylim(0, min(max(precisions + 0.1), 1.05))\n",
        "ax.set_xlabel(\"Correction method\")\n",
        "ax.set_ylabel(\"Precision\")\n",
        "plt.show()\n",
        "fig.savefig(f\"figures/{now}/precision.png\")\n",
        "\n",
        "figsize = (5,5)\n",
        "fig, ax = plt.subplots(figsize=figsize)\n",
        "ax.bar(correction_fn_names, recalls)\n",
        "for i, v in enumerate(recalls):\n",
        "    ax.text(i, v + 0.05, str(round(v, 2)), color=\"#0967a2\", fontweight='semibold', ha='center', va='center')\n",
        "ax.set_ylim(0, min(max(recalls + 0.1), 1.05))\n",
        "ax.set_xlabel(\"Correction method\")\n",
        "ax.set_ylabel(\"Recall\")\n",
        "plt.show()\n",
        "fig.savefig(f\"figures/{now}/recall.png\")\n",
        "\n",
        "figsize = (5,5)\n",
        "fig, ax = plt.subplots(figsize=figsize)\n",
        "ax.bar(correction_fn_names, f1_scores)\n",
        "for i, v in enumerate(f1_scores):\n",
        "    ax.text(i, v + 0.02, str(round(v, 2)), color=\"#0967a2\", fontweight='semibold', ha='center', va='center')\n",
        "ax.set_ylim(0, min(max(f1_scores + 0.1), 1.05))\n",
        "ax.set_xlabel(\"Correction method\")\n",
        "ax.set_ylabel(\"F1 score\")\n",
        "plt.show()\n",
        "fig.savefig(f\"figures/{now}/f1_score.png\")\n",
        "\n",
        "fig, ax = plt.subplots(figsize=figsize)\n",
        "plt.bar(correction_fn_names, contra_rates)\n",
        "for i, v in enumerate(contra_rates):\n",
        "    ax.text(i, v + 1 + max(contra_rates) // 25, str(round(v, 1)), color=\"#0967a2\", fontweight='semibold', ha='center', va='center')\n",
        "ax.set_ylim(0, min(max(contra_rates) + 5, 100))\n",
        "ax.set_xlabel(\"Correction method\")\n",
        "ax.set_ylabel(\"Percent contradictory pairs\")\n",
        "plt.show()\n",
        "fig.savefig(f\"figures/{now}/contradict.png\")\n",
        "\n",
        "fig, ax = plt.subplots(figsize=figsize)\n",
        "plt.bar(correction_fn_names, relevant_contra_rates)\n",
        "for i, v in enumerate(relevant_contra_rates):\n",
        "    ax.text(i, v + 1 + max(relevant_contra_rates) // 25, str(round(v, 1)), color=\"#0967a2\", fontweight='semibold', ha='center', va='center')\n",
        "ax.set_ylim(0, min(max(relevant_contra_rates) + 5, 100))\n",
        "ax.set_xlabel(\"Correction method\")\n",
        "ax.set_ylabel(\"Percent contradictory relevant pairs\")\n",
        "plt.show()\n",
        "fig.savefig(f\"figures/{now}/contradict_relevant.png\") \n",
        "\n",
        "fig, ax = plt.subplots(figsize=figsize)\n",
        "plt.bar(correction_fn_names, conacc_rates)\n",
        "for i, v in enumerate(conacc_rates):\n",
        "    ax.text(i, v + 1 + max(accuracies) // 25, str(round(v, 1)), color=\"#0967a2\", fontweight='semibold', ha='center', va='center')\n",
        "ax.set_ylim(0, min(max(conacc_rates) + 10, 100))\n",
        "ax.set_xlabel(\"Correction method\")\n",
        "ax.set_ylabel(\"Percent consistent accuracy\")\n",
        "plt.show()\n",
        "fig.savefig(f\"figures/{now}/consistent_accuracy.png\")\n",
        "\n",
        "fig, ax = plt.subplots(figsize=figsize)\n",
        "plt.bar(correction_fn_names, flip_rates)\n",
        "for i, v in enumerate(flip_rates):\n",
        "    ax.text(i, v + 1 + max(accuracies) // 25, str(round(v, 1)), color=\"#0967a2\", fontweight='semibold', ha='center', va='center')\n",
        "ax.set_ylim(0, min(max(flip_rates) + 10, 100))\n",
        "ax.set_xlabel(\"Correction method\")\n",
        "ax.set_ylabel(\"Percent flipped predictions\")\n",
        "plt.show()\n",
        "fig.savefig(f\"figures/{now}/flipped.png\")"
      ],
      "outputs": [
        {
          "output_type": "display_data",
          "data": {
            "image/png": "[encoded data removed]",
            "text/plain": "<Figure size 360x360 with 1 Axes>"
          },
          "metadata": {
            "needs_background": "light"
          }
        },
        {
          "output_type": "display_data",
          "data": {
            "image/png": "[encoded data removed]",
            "text/plain": "<Figure size 360x360 with 1 Axes>"
          },
          "metadata": {
            "needs_background": "light"
          }
        },
        {
          "output_type": "display_data",
          "data": {
            "image/png": "[encoded data removed]",
            "text/plain": "<Figure size 360x360 with 1 Axes>"
          },
          "metadata": {
            "needs_background": "light"
          }
        },
        {
          "output_type": "display_data",
          "data": {
            "image/png": "[encoded data removed]",
            "text/plain": "<Figure size 360x360 with 1 Axes>"
          },
          "metadata": {
            "needs_background": "light"
          }
        },
        {
          "output_type": "display_data",
          "data": {
            "image/png": "[encoded data removed]",
            "text/plain": "<Figure size 360x360 with 1 Axes>"
          },
          "metadata": {
            "needs_background": "light"
          }
        },
        {
          "output_type": "display_data",
          "data": {
            "image/png": "[encoded data removed]",
            "text/plain": "<Figure size 360x360 with 1 Axes>"
          },
          "metadata": {
            "needs_background": "light"
          }
        },
        {
          "output_type": "display_data",
          "data": {
            "image/png": "[encoded data removed]",
            "text/plain": "<Figure size 360x360 with 1 Axes>"
          },
          "metadata": {
            "needs_background": "light"
          }
        },
        {
          "output_type": "display_data",
          "data": {
            "image/png": "[encoded data removed]",
            "text/plain": "<Figure size 360x360 with 1 Axes>"
          },
          "metadata": {
            "needs_background": "light"
          }
        }
      ],
      "execution_count": 35,
      "metadata": {
        "gather": {
          "logged": 1647086164468
        }
      },
      "id": "be471021-3425-4462-8644-5e43347b7669"
    }
  ],
  "metadata": {
    "interpreter": {
      "hash": "9169f1d4e16acc976bbb73e323b0dbdf23f1c55e833fb2befffc4fb50ac2de2f"
    },
    "kernel_info": {
      "name": "azureml_py38_pt_tf"
    },
    "kernelspec": {
      "name": "azureml_py38_pt_tf",
      "language": "python",
      "display_name": "Python 3.8 - Pytorch and Tensorflow"
    },
    "language_info": {
      "name": "python",
      "version": "3.8.1",
      "mimetype": "text/x-python",
      "codemirror_mode": {
        "name": "ipython",
        "version": 3
      },
      "pygments_lexer": "ipython3",
      "nbconvert_exporter": "python",
      "file_extension": ".py"
    },
    "microsoft": {
      "host": {
        "AzureML": {
          "notebookHasBeenCompleted": true
        }
      }
    },
    "nteract": {
      "version": "nteract-front-end@1.0.0"
    }
  },
  "nbformat": 4,
  "nbformat_minor": 5
}