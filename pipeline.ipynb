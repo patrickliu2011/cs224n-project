{
 "cells": [
  {
   "cell_type": "code",
   "execution_count": 1,
   "id": "f75d45a7-8f30-4cf7-b64e-5645782ef09e",
   "metadata": {},
   "outputs": [],
   "source": [
    "import os, sys\n",
    "import random\n",
    "import json\n",
    "import nltk \n",
    "import csv\n",
    "import time\n",
    "import copy\n",
    "import torch\n",
    "import numpy as np\n",
    "import nltk  # $ pip install nltk\n",
    "from nltk.stem import PorterStemmer\n",
    "from nltk.corpus import cmudict  # >>> nltk.download('cmudict')\n",
    "from nltk.tokenize import word_tokenize\n",
    "from spellchecker import SpellChecker\n",
    "import matplotlib.pyplot as plt\n",
    "\n",
    "from transformers import AutoTokenizer, AutoModelForSeq2SeqLM, AutoModelForSequenceClassification\n",
    "\n",
    "from beliefbank_data.utils import generate_assertion, generate_question, find_constraints\n",
    "import correction_utils"
   ]
  },
  {
   "cell_type": "markdown",
   "id": "83360dd8-9e5a-48a4-8274-0c70e3a0361d",
   "metadata": {},
   "source": [
    "# Load data"
   ]
  },
  {
   "cell_type": "code",
   "execution_count": 2,
   "id": "03374e1c-dff7-49d5-847b-0a6816c6a5dd",
   "metadata": {},
   "outputs": [],
   "source": [
    "constraints_path = \"beliefbank_data/constraints_v2.json\"\n",
    "facts_path = \"beliefbank_data/silver_facts.json\""
   ]
  },
  {
   "cell_type": "code",
   "execution_count": 3,
   "id": "05c60643-c341-4af6-9459-c8458700b72c",
   "metadata": {},
   "outputs": [],
   "source": [
    "constraints = json.load(open(constraints_path))\n",
    "facts = json.load(open(facts_path))"
   ]
  },
  {
   "cell_type": "code",
   "execution_count": 4,
   "id": "f4a25158-8d99-4088-b240-51b5b6423334",
   "metadata": {},
   "outputs": [
    {
     "name": "stdout",
     "output_type": "stream",
     "text": [
      "['american bison', 'baboon', 'birch', 'buck', 'bull', 'calf', 'camel', 'carnivore', 'carp', 'cheetah', 'chick', 'chimpanzee', 'cock', 'crocodile', 'dog', 'dolphin', 'domestic ass', 'duck', 'earthworm', 'elephant', 'european wolf spider', 'foxhound', 'frog', 'gazelle', 'gecko', 'german shepherd', 'giant panda', 'giraffe', 'gladiolus', 'hen', 'horse', 'hound', 'howler monkey', 'hummingbird', 'jaguar', 'lamb', 'leopard', 'lion', 'livestock', 'llama', 'magpie', 'midge', 'mink', 'mullet', 'myna', 'new world blackbird', 'orchid', 'owl', 'ox', 'penguin', 'peony', 'pigeon', 'poodle', 'puppy', 'rabbit', 'rat', 'reptile', 'robin', 'rose', 'salamander', 'starling', 'tiger', 'turkey', 'whale', 'zebra']\n"
     ]
    }
   ],
   "source": [
    "# entities = list(facts.keys())\n",
    "# random.shuffle(entities)\n",
    "# dev_size = 65\n",
    "# dev_entities = sorted(entities[:dev_size])\n",
    "# eval_entities = sorted(entities[dev_size:])\n",
    "# with open(\"beliefbank_data/dev_entities.txt\", \"w\") as f:\n",
    "#     f.writelines([e + '\\n' for e in dev_entities])\n",
    "# with open(\"beliefbank_data/eval_entities.txt\", \"w\") as f:\n",
    "#     f.writelines([e + '\\n' for e in eval_entities])\n",
    "\n",
    "with open(\"beliefbank_data/dev_entities.txt\", \"r\") as f:\n",
    "    dev_entities = [e.strip() for e in f.readlines()]\n",
    "print(dev_entities)\n",
    "\n",
    "# with open(\"beliefbank_data/eval_entities.txt\", \"r\") as f:\n",
    "#     eval_entities = [e.strip() for e in f.readlines()]\n",
    "# print(eval_entities)"
   ]
  },
  {
   "cell_type": "markdown",
   "id": "a40f96b8-fa0b-4071-8fb3-d649112a23f8",
   "metadata": {},
   "source": [
    "# Constraints checking"
   ]
  },
  {
   "cell_type": "code",
   "execution_count": 5,
   "id": "dc706745-546a-4687-b3a7-5bdf45dc19a0",
   "metadata": {},
   "outputs": [],
   "source": [
    "constraints_yy = set() # A implies B\n",
    "constraints_yn = set() # A implies not B\n",
    "for link in constraints['links']:\n",
    "    s = link['source']\n",
    "    t = link['target']\n",
    "    if link['weight'] == 'yes_yes':\n",
    "        if link['direction'] == 'forward':\n",
    "            constraints_yy.add((s, t))\n",
    "        else:\n",
    "            constraints_yy.add((t, s))\n",
    "    else:\n",
    "        constraints_yn.add((s, t))\n",
    "        constraints_yn.add((t, s))"
   ]
  },
  {
   "cell_type": "code",
   "execution_count": 6,
   "id": "9d49487f-ddd8-42ae-882a-f8d05cc1b708",
   "metadata": {},
   "outputs": [
    {
     "name": "stdout",
     "output_type": "stream",
     "text": [
      "1836\n",
      "774\n"
     ]
    }
   ],
   "source": [
    "print(len(constraints_yy))\n",
    "print(len(constraints_yn))"
   ]
  },
  {
   "cell_type": "raw",
   "id": "74a268da-7f64-4117-8453-7f734ac8f8e1",
   "metadata": {},
   "source": [
    "AB in yn --> BA in yn\n",
    "AB in yy, BC in yy --> AC in yy\n",
    "AB in yy, BC in yn --> AC in yn\n",
    "# AB in yn, CB in yy --> AC in yn "
   ]
  },
  {
   "cell_type": "code",
   "execution_count": 7,
   "id": "e24c37f9-da8e-4a01-8e8e-a2540facc1ac",
   "metadata": {},
   "outputs": [],
   "source": [
    "dict_yy = {}\n",
    "for s, t in constraints_yy:\n",
    "    if s in dict_yy:\n",
    "        dict_yy[s].add(t)\n",
    "    else:\n",
    "        dict_yy[s] = {t}\n",
    "dict_yn = {}\n",
    "for s, t in constraints_yn:\n",
    "    if s in dict_yn:\n",
    "        dict_yn[s].add(t)\n",
    "    else:\n",
    "        dict_yn[s] = {t}"
   ]
  },
  {
   "cell_type": "code",
   "execution_count": 8,
   "id": "a8b0e11c-5331-4f08-aae0-db6a68157baa",
   "metadata": {},
   "outputs": [],
   "source": [
    "depth = 10\n",
    "len_yy = [len(constraints_yy)]\n",
    "len_yn = [len(constraints_yn)]\n",
    "for d in range(depth-1):\n",
    "    temp_yy = copy.deepcopy(dict_yy)\n",
    "    temp_yn = copy.deepcopy(dict_yn)\n",
    "    for a, bs in dict_yy.items():\n",
    "        for b in bs:\n",
    "            for c in dict_yy.get(b, set()):\n",
    "                if a == c:\n",
    "                    continue\n",
    "                temp_yy[a].add(c)\n",
    "            for c in dict_yn.get(b, set()):\n",
    "                if a == c:\n",
    "                    continue\n",
    "                if a in temp_yn:\n",
    "                    temp_yn[a].add(c)\n",
    "                else:\n",
    "                    temp_yn[a] = {c}\n",
    "                if c in temp_yn:\n",
    "                    temp_yn[c].add(a)\n",
    "                else:\n",
    "                    temp_yn[c] = {a}\n",
    "    del dict_yy\n",
    "    del dict_yn\n",
    "    dict_yy = temp_yy\n",
    "    dict_yn = temp_yn\n",
    "    len_yy.append(sum([len(v) for v in dict_yy.values()]))\n",
    "    len_yn.append(sum([len(v) for v in dict_yn.values()]))"
   ]
  },
  {
   "cell_type": "code",
   "execution_count": 9,
   "id": "5e70cb4a-6fdb-412a-8c04-38a8351842bd",
   "metadata": {},
   "outputs": [],
   "source": [
    "for s, ts in dict_yy.items():\n",
    "    for t in ts:\n",
    "        constraints_yy.add((s, t))\n",
    "for s, ts in dict_yn.items():\n",
    "    for t in ts:\n",
    "        constraints_yn.add((s, t))\n",
    "constraints_nn = set([(t, s) for s, t in constraints_yy])"
   ]
  },
  {
   "cell_type": "code",
   "execution_count": 10,
   "id": "736fe796-8a9f-470f-9f74-4565eb1a953a",
   "metadata": {},
   "outputs": [
    {
     "name": "stdout",
     "output_type": "stream",
     "text": [
      "3931\n",
      "11346\n"
     ]
    }
   ],
   "source": [
    "print(len(constraints_yy))\n",
    "print(len(constraints_yn))"
   ]
  },
  {
   "cell_type": "code",
   "execution_count": 11,
   "id": "09ce6b7f-8ff5-4599-b7bb-5bebeade6c26",
   "metadata": {},
   "outputs": [
    {
     "data": {
      "image/png": "[encoded data removed]",
      "text/plain": [
       "<Figure size 432x288 with 1 Axes>"
      ]
     },
     "metadata": {
      "needs_background": "light"
     },
     "output_type": "display_data"
    }
   ],
   "source": [
    "plt.title(\"Constraints vs depth\")\n",
    "plt.plot(len_yy, label=\"yy\")\n",
    "plt.plot(len_yn, label=\"yn\")\n",
    "plt.legend()\n",
    "plt.show()"
   ]
  },
  {
   "cell_type": "code",
   "execution_count": 12,
   "id": "cfe9b264-1408-4d9e-b50b-4443d6dfbe5a",
   "metadata": {},
   "outputs": [],
   "source": [
    "for c1, c2 in constraints_yn:\n",
    "    if c1 == c2:\n",
    "        print(c1, c2)\n",
    "        break"
   ]
  },
  {
   "cell_type": "code",
   "execution_count": 13,
   "id": "c368e6e7-7bd9-42e7-86f1-6ff58fee48ca",
   "metadata": {},
   "outputs": [],
   "source": [
    "dict_nn = {}\n",
    "for s, t in constraints_nn:\n",
    "    if s in dict_nn:\n",
    "        dict_nn[s].add(t)\n",
    "    else:\n",
    "        dict_nn[s] = {t}"
   ]
  },
  {
   "cell_type": "code",
   "execution_count": 14,
   "id": "a6eb7323-ed08-4431-82c0-db99d05c82a3",
   "metadata": {},
   "outputs": [],
   "source": [
    "neighbors = {}\n",
    "num_neighbors = {}\n",
    "for s in list(dict_yy.keys()) + list(dict_yn.keys()) + list(dict_nn.keys()):\n",
    "    neighbors[s] = dict_yy.get(s, set()).union(dict_yn.get(s, set())).union(dict_nn.get(s, set()))\n",
    "    num_neighbors[s] = len(neighbors[s])"
   ]
  },
  {
   "cell_type": "code",
   "execution_count": 15,
   "id": "3fa7c0ef-3fef-474a-8d3e-741e641844f7",
   "metadata": {},
   "outputs": [
    {
     "data": {
      "image/png": "[encoded data removed]",
      "text/plain": [
       "<Figure size 432x288 with 1 Axes>"
      ]
     },
     "metadata": {
      "needs_background": "light"
     },
     "output_type": "display_data"
    }
   ],
   "source": [
    "plt.hist(num_neighbors.values(), bins=range(0, max(num_neighbors.values()) + 1, 20))\n",
    "plt.show()"
   ]
  },
  {
   "cell_type": "raw",
   "id": "7d1a220d-4e83-40a4-bb48-2599e043036f",
   "metadata": {},
   "source": [
    "Case | Equivalent implications   | Contradictory case\n",
    "a    | 1 -> not 2 == 2 -> not 1  | 1 & 2\n",
    "b    | 1 -> 2 == not 2 -> not 1  | 1 & not 2\n",
    "c    | 2 -> 1 == not 1 -> not 2  | not 1 & 2\n",
    "d    | not 1 -> 2 == not 2 -> 1  | not 1 & not 2"
   ]
  },
  {
   "cell_type": "code",
   "execution_count": 16,
   "id": "34aa4611-b2e3-46d6-8f7e-dbcebb92bf97",
   "metadata": {},
   "outputs": [],
   "source": [
    "def check_constraints(relation1, true1, relation2, true2):\n",
    "    # Is (relation1, true1) & (relation2, true2)  \n",
    "    if true1 and true2: # Case a\n",
    "        implies12 = (relation1, relation2) in constraints_yy\n",
    "        implies21 = (relation2, relation1) in constraints_yy\n",
    "        contradicts = (relation1, relation2) in constraints_yn or (relation2, relation1) in constraints_yn\n",
    "    elif true1 and not true2: # Case b\n",
    "        implies12 = (relation1, relation2) in constraints_yn or (relation2, relation1) in constraints_yn\n",
    "        implies21 = False\n",
    "        contradicts = (relation1, relation2) in constraints_yy\n",
    "    elif not true1 and true2: # Case c\n",
    "        implies12 = False\n",
    "        implies21 = (relation1, relation2) in constraints_yn or (relation2, relation1) in constraints_yn\n",
    "        contradicts = (relation2, relation1) in constraints_yy\n",
    "    else: # Case d\n",
    "        implies12 = (relation2, relation1) in constraints_yy\n",
    "        implies21 = (relation1, relation2) in constraints_yy\n",
    "        contradicts = False\n",
    "    return implies12, implies21, contradicts"
   ]
  },
  {
   "cell_type": "code",
   "execution_count": 17,
   "id": "3bbd05e6-2234-4a56-9239-6295c3cbfcf1",
   "metadata": {},
   "outputs": [
    {
     "name": "stdout",
     "output_type": "stream",
     "text": [
      "(False, True, False)\n",
      "(False, False, False)\n",
      "(False, False, True)\n",
      "(True, False, False)\n"
     ]
    }
   ],
   "source": [
    "print(check_constraints(\"IsA,animal\", True, \"IsA,mammal\", True))\n",
    "print(check_constraints(\"IsA,animal\", True, \"IsA,mammal\", False))\n",
    "print(check_constraints(\"IsA,animal\", False, \"IsA,mammal\", True))\n",
    "print(check_constraints(\"IsA,animal\", False, \"IsA,mammal\", False))"
   ]
  },
  {
   "cell_type": "code",
   "execution_count": 18,
   "id": "526892fc-dcbc-4010-88a6-52ce2933ac8b",
   "metadata": {},
   "outputs": [
    {
     "name": "stdout",
     "output_type": "stream",
     "text": [
      "(False, False, False)\n",
      "(False, False, False)\n",
      "(False, False, False)\n",
      "(False, False, False)\n"
     ]
    }
   ],
   "source": [
    "print(check_constraints(\"IsA,animal\", True, \"IsA,candy\", True))\n",
    "print(check_constraints(\"IsA,animal\", True, \"IsA,candy\", False))\n",
    "print(check_constraints(\"IsA,animal\", False, \"IsA,candy\", True))\n",
    "print(check_constraints(\"IsA,animal\", False, \"IsA,candy\", False))"
   ]
  },
  {
   "cell_type": "markdown",
   "id": "716ad53a-5ebc-4366-916e-534c78d69f44",
   "metadata": {},
   "source": [
    "# Load models"
   ]
  },
  {
   "cell_type": "code",
   "execution_count": 19,
   "id": "f2dd540c-0d05-4fec-85cc-6309b64a4764",
   "metadata": {},
   "outputs": [
    {
     "data": {
      "text/plain": [
       "device(type='cuda')"
      ]
     },
     "execution_count": 19,
     "metadata": {},
     "output_type": "execute_result"
    }
   ],
   "source": [
    "device = torch.device(\"cuda\" if torch.cuda.is_available() else \"cpu\")\n",
    "device"
   ]
  },
  {
   "cell_type": "code",
   "execution_count": 20,
   "id": "699dba1b-3171-4690-be58-a5fd082e80d8",
   "metadata": {},
   "outputs": [],
   "source": [
    "# Downloads a pretty large model\n",
    "tokenizer = AutoTokenizer.from_pretrained(\"allenai/macaw-large\")\n",
    "model = AutoModelForSeq2SeqLM.from_pretrained(\"allenai/macaw-large\")\n",
    "model = model.to(device=device).eval()"
   ]
  },
  {
   "cell_type": "code",
   "execution_count": 21,
   "id": "d5f170c9-5046-4905-b309-e7a821357467",
   "metadata": {},
   "outputs": [],
   "source": [
    "# QA Model stuff\n",
    "def format_question(question_list):\n",
    "    question_list = [\"$answer$ ; $mcoptions$ = (A) yes (B) no; $question$ = \" + item \\\n",
    "         for item in question_list]\n",
    "    return question_list\n",
    "\n",
    "def predict(question_list, max_bsize=10):\n",
    "    B = len(question_list)\n",
    "    question_list = format_question(question_list)\n",
    "    answer_list_all_yes = [\"$answer$ = yes\"] * B     # pass in list of \"yes\"\n",
    "    \n",
    "    answers_all = []\n",
    "    confidences_all = []\n",
    "    for i in range(0, B, max_bsize):\n",
    "        j = min(i + max_bsize, B)\n",
    "        # print(dir(tokenizer))\n",
    "        inputs = tokenizer.batch_encode_plus(question_list[i:j], max_length = 256, padding=True, truncation=True, return_tensors=\"pt\")\n",
    "        labels = tokenizer.batch_encode_plus(answer_list_all_yes[i:j], max_length = 15, padding=True, truncation=True, return_tensors=\"pt\") # max_length is set to len(\"$answer$ = yes\")\n",
    "\n",
    "        # output = model.generate(input_ids, max_length=200)\n",
    "        # answers = tokenizer.batch_decode(output, skip_special_tokens=True)\n",
    "        fwd = model(input_ids=inputs[\"input_ids\"].to(device), attention_mask=inputs[\"attention_mask\"].to(device),\n",
    "                    labels=labels[\"input_ids\"].to(device))\n",
    "                    # decoder_input_ids=labels[\"input_ids\"], decoder_attention_mask=labels[\"attention_mask\"])\n",
    "        # output_ids = torch.argmax(fwd.logits, dim=-1)\n",
    "        # print(tokenizer.batch_decode(output_ids, skip_special_tokens=True))\n",
    "\n",
    "        # loss\n",
    "        # loss = fwd.loss # - log(P(y|x))\n",
    "        # confidence = torch.exp(-loss)\n",
    "        logits = fwd.logits.reshape((j - i, 7, -1))\n",
    "        logits = logits[:, 5, :] # Index of yes/no token in answer\n",
    "        probs = torch.softmax(logits, dim=-1).detach().cpu().numpy()\n",
    "        # yes has input_id 4273, no has input_id 150\n",
    "        confidence_yes = probs[..., 4273] \n",
    "        confidence_no = probs[..., 150]\n",
    "\n",
    "        answers = (confidence_yes >= confidence_no) # np.array([(ans == \"$answer$ = yes\") for ans in answers])\n",
    "        confidences = np.where(answers, confidence_yes, confidence_no)\n",
    "        answers_all.append(answers)\n",
    "        confidences_all.append(confidences)\n",
    "    answers = np.concatenate(answers_all, axis=0)\n",
    "    confidences = np.concatenate(confidences_all, axis=0)\n",
    "    return answers, confidences\n"
   ]
  },
  {
   "cell_type": "code",
   "execution_count": 22,
   "id": "59effc47-e588-4c7b-8e90-82bf14a9e4f4",
   "metadata": {},
   "outputs": [
    {
     "name": "stderr",
     "output_type": "stream",
     "text": [
      "Some weights of the model checkpoint at ynie/roberta-large-snli_mnli_fever_anli_R1_R2_R3-nli were not used when initializing RobertaForSequenceClassification: ['roberta.pooler.dense.bias', 'roberta.pooler.dense.weight']\n",
      "- This IS expected if you are initializing RobertaForSequenceClassification from the checkpoint of a model trained on another task or with another architecture (e.g. initializing a BertForSequenceClassification model from a BertForPreTraining model).\n",
      "- This IS NOT expected if you are initializing RobertaForSequenceClassification from the checkpoint of a model that you expect to be exactly identical (initializing a BertForSequenceClassification model from a BertForSequenceClassification model).\n"
     ]
    }
   ],
   "source": [
    "nli_tokenizer = AutoTokenizer.from_pretrained(\"ynie/roberta-large-snli_mnli_fever_anli_R1_R2_R3-nli\")\n",
    "nli_model = AutoModelForSequenceClassification.from_pretrained(\"ynie/roberta-large-snli_mnli_fever_anli_R1_R2_R3-nli\")\n",
    "nli_model = nli_model.to(device=device).eval()"
   ]
  },
  {
   "cell_type": "code",
   "execution_count": 23,
   "id": "1970157b-6933-4d87-b772-300891b1b457",
   "metadata": {},
   "outputs": [],
   "source": [
    "def nli(sents, nli_tokenizer, nli_model, max_bsize=20):\n",
    "    \"\"\"Generates contradiction matrix of shape (N, B, B)\"\"\"\n",
    "    if sents.ndim == 1:\n",
    "        sents = sents.reshape(1, -1)\n",
    "    \n",
    "    N, B = sents.shape\n",
    "    prem = []\n",
    "    hypo = []\n",
    "    for i in range(N):\n",
    "        for j in range(B):\n",
    "            for k in range(B):\n",
    "                prem.append(sents[i][j])\n",
    "                hypo.append(sents[i][k])\n",
    "\n",
    "    nli_matrix = []\n",
    "    size = N * B * B\n",
    "    for i in range(0, size, max_bsize):\n",
    "        j = min(i + max_bsize, size)\n",
    "        tokenized = nli_tokenizer(prem[i:j], hypo[i:j], \n",
    "                                  max_length=256, \n",
    "                                  return_token_type_ids=True, \n",
    "                                  truncation=True,\n",
    "                                  padding=True)\n",
    "\n",
    "        input_ids = torch.Tensor(tokenized['input_ids']).to(device).long()\n",
    "        token_type_ids = torch.Tensor(tokenized['token_type_ids']).to(device).long()\n",
    "        attention_mask = torch.Tensor(tokenized['attention_mask']).to(device).long()\n",
    "\n",
    "        nli_outputs = nli_model(input_ids,\n",
    "                                attention_mask=attention_mask,\n",
    "                                token_type_ids=token_type_ids,\n",
    "                                labels=None)\n",
    "        nli_matrix.append(torch.softmax(nli_outputs.logits.detach().cpu(), dim=1))\n",
    "    nli_matrix = torch.cat(nli_matrix, dim=0)\n",
    "    nli_matrix = nli_matrix.reshape(N, B, B, 3)\n",
    "    return nli_matrix.numpy()"
   ]
  },
  {
   "cell_type": "code",
   "execution_count": 24,
   "id": "9566f12a-18af-4d2a-a705-b56d55ca9f26",
   "metadata": {},
   "outputs": [],
   "source": [
    "def evaluate(predictions, answers, pred_batch):\n",
    "    if predictions.ndim == 1:\n",
    "        predictions = predictions.reshape(1, -1)\n",
    "    answers = answers.reshape(predictions.shape)\n",
    "    relations = np.array([rel for ent, rel, pred in pred_batch]).reshape(predictions.shape)\n",
    "    N, B = predictions.shape\n",
    "    # predictions, answers, relations hould be size (N, B)\n",
    "    \n",
    "    # Calculate accurate examples\n",
    "    acc = np.sum(predictions == answers)\n",
    "    \n",
    "    # Calculate contradictions\n",
    "    con = 0\n",
    "    for i in range(N):\n",
    "        for j in range(B):\n",
    "            for k in range(j+1, B):\n",
    "                impl12, impl21, contra = check_constraints( \\\n",
    "                    relations[i, j], predictions[i, j], relations[i, k], predictions[i, k])\n",
    "                if contra:\n",
    "                    con += 1\n",
    "    \n",
    "    total = predictions.size\n",
    "    bsize = predictions.shape[0]\n",
    "    return acc, con, total, bsize"
   ]
  },
  {
   "cell_type": "raw",
   "id": "7ce59221-7942-4c06-9573-7bbe274c8da0",
   "metadata": {},
   "source": [
    "Sampling methods\n",
    "1. base fact -> relation(s) on graph (must be downstream, or upstream if false)\n",
    "    Pro: Facts are close together\n",
    "    Con: Limited to guaranteed relations, so asymmetric\n",
    "2. base fact -> sample given facts that are nearby (not necessarily downstream)\n",
    "    Pro: Symmetric since all facts are given, facts are close together\n",
    "    Con: Contradictions may be a bit dense\n",
    "3. sample facts randomly (then just check afterwards)\n",
    "    Pro: Symmetric since all facts are given, sparser contradictions\n",
    "    Con: Facts may be distant, and constraints aren't complete, so will miss some constraints"
   ]
  },
  {
   "cell_type": "code",
   "execution_count": null,
   "id": "88143abe-885c-499c-bcfc-40304aa1edf1",
   "metadata": {},
   "outputs": [
    {
     "name": "stdout",
     "output_type": "stream",
     "text": [
      "Iter 58: 50 batches, 500 facts\n",
      "\tAccurate 391 / 500 questions = 0.782\n",
      "\tContradictions 152 / 50 batches = 3.04\n",
      "\tCorrections 0 / 50 batches = 0.0\n",
      "Iter 116: 100 batches, 1000 facts\n",
      "\tAccurate 798 / 1000 questions = 0.798\n",
      "\tContradictions 241 / 100 batches = 2.41\n",
      "\tCorrections 0 / 100 batches = 0.0\n",
      "Iter 173: 150 batches, 1500 facts\n",
      "\tAccurate 1172 / 1500 questions = 0.7813333333333333\n",
      "\tContradictions 412 / 150 batches = 2.7466666666666666\n",
      "\tCorrections 0 / 150 batches = 0.0\n",
      "Iter 229: 200 batches, 2000 facts\n",
      "\tAccurate 1570 / 2000 questions = 0.785\n",
      "\tContradictions 546 / 200 batches = 2.73\n",
      "\tCorrections 0 / 200 batches = 0.0\n",
      "Iter 287: 250 batches, 2500 facts\n",
      "\tAccurate 1988 / 2500 questions = 0.7952\n",
      "\tContradictions 638 / 250 batches = 2.552\n",
      "\tCorrections 0 / 250 batches = 0.0\n",
      "Iter 342: 300 batches, 3000 facts\n",
      "\tAccurate 2397 / 3000 questions = 0.799\n",
      "\tContradictions 731 / 300 batches = 2.4366666666666665\n",
      "\tCorrections 0 / 300 batches = 0.0\n",
      "Iter 398: 350 batches, 3500 facts\n",
      "\tAccurate 2802 / 3500 questions = 0.8005714285714286\n",
      "\tContradictions 834 / 350 batches = 2.382857142857143\n",
      "\tCorrections 0 / 350 batches = 0.0\n",
      "Iter 454: 400 batches, 4000 facts\n",
      "\tAccurate 3199 / 4000 questions = 0.79975\n",
      "\tContradictions 973 / 400 batches = 2.4325\n",
      "\tCorrections 0 / 400 batches = 0.0\n",
      "Iter 505: 450 batches, 4500 facts\n",
      "\tAccurate 3604 / 4500 questions = 0.8008888888888889\n",
      "\tContradictions 1087 / 450 batches = 2.4155555555555557\n",
      "\tCorrections 0 / 450 batches = 0.0\n",
      "Iter 564: 500 batches, 5000 facts\n",
      "\tAccurate 4004 / 5000 questions = 0.8008\n",
      "\tContradictions 1200 / 500 batches = 2.4\n",
      "\tCorrections 0 / 500 batches = 0.0\n",
      "Iter 625: 550 batches, 5500 facts\n",
      "\tAccurate 4400 / 5500 questions = 0.8\n",
      "\tContradictions 1316 / 550 batches = 2.3927272727272726\n",
      "\tCorrections 0 / 550 batches = 0.0\n",
      "Iter 686: 600 batches, 6000 facts\n",
      "\tAccurate 4792 / 6000 questions = 0.7986666666666666\n",
      "\tContradictions 1442 / 600 batches = 2.4033333333333333\n",
      "\tCorrections 0 / 600 batches = 0.0\n",
      "Iter 738: 650 batches, 6500 facts\n",
      "\tAccurate 5213 / 6500 questions = 0.802\n",
      "\tContradictions 1529 / 650 batches = 2.352307692307692\n",
      "\tCorrections 0 / 650 batches = 0.0\n",
      "Iter 794: 700 batches, 7000 facts\n",
      "\tAccurate 5599 / 7000 questions = 0.7998571428571428\n",
      "\tContradictions 1673 / 700 batches = 2.39\n",
      "\tCorrections 0 / 700 batches = 0.0\n",
      "Iter 851: 750 batches, 7500 facts\n",
      "\tAccurate 6007 / 7500 questions = 0.8009333333333334\n",
      "\tContradictions 1781 / 750 batches = 2.3746666666666667\n",
      "\tCorrections 0 / 750 batches = 0.0\n"
     ]
    }
   ],
   "source": [
    "start = time.time()\n",
    "\n",
    "correction_fn = correction_utils.correction_4\n",
    "\n",
    "acc_count = 0\n",
    "con_count = 0\n",
    "total_count = 0\n",
    "num_batches = 0\n",
    "flip_count = 0\n",
    "\n",
    "N = 10 # Number of entities to sample in a big batch\n",
    "batch_counter = 0\n",
    "num_big_batches = 0\n",
    "big_batch = []\n",
    "\n",
    "B = 10 # Number of facts for each entity\n",
    "\n",
    "random.shuffle(dev_entities)\n",
    "idx_count = 0\n",
    "idx = 0\n",
    "while num_batches < 1000:\n",
    "    if idx == len(dev_entities):\n",
    "        random.shuffle(dev_entities)\n",
    "        idx = 0\n",
    "    entity = dev_entities[idx]\n",
    "    idx += 1\n",
    "    idx_count += 1\n",
    "    \n",
    "    # Sample set of facts for an entity\n",
    "    # Sampling method 2\n",
    "    entity_facts = list(facts[entity].items())\n",
    "    base = random.choice(entity_facts)\n",
    "    relation, label = base\n",
    "    nearby = neighbors.get(relation, set())\n",
    "    allowed_facts = [f for f in entity_facts if f[0] in nearby]\n",
    "    if len(allowed_facts) < B - 1:\n",
    "        continue\n",
    "    batch = random.sample(allowed_facts, min(B - 1, len(allowed_facts)))\n",
    "    batch = [base] + batch\n",
    "    batch = [(entity, rel, label == \"yes\") for rel, label in batch]\n",
    "    \n",
    "    # # Random sampling (method 3)\n",
    "    # batch = random.sample(list(facts[entity].items()), B)\n",
    "    # batch = [(entity, relation, true == \"yes\") for relation, yes in batch]\n",
    "    \n",
    "    # Collect batches in big batches\n",
    "    if batch_counter == 0:\n",
    "        big_batch = []\n",
    "    batch_counter += 1\n",
    "    big_batch.extend(batch)\n",
    "    if batch_counter < N: # Big batch not full yet, keep accumulating examples\n",
    "        continue\n",
    "    # We have a full batch\n",
    "    batch_counter = 0\n",
    "    num_big_batches += 1\n",
    "    \n",
    "    questions, answers = zip(*[generate_question(*tup) for tup in big_batch])\n",
    "    questions = list(questions)\n",
    "    answers = np.array([ans == \"Yes\" for ans in answers])\n",
    "    # print(\"Questions:\", question_list)\n",
    "    # print(\"Labels (for contradiction):\", answer_list)\n",
    "    \n",
    "    predictions, confidences = predict(questions, max_bsize=20)\n",
    "    predictions = predictions.flatten()\n",
    "    confidences = confidences.flatten()\n",
    "    # print(\"QA predictions:\", predictions)\n",
    "    # print(\"QA confidences:\", confidences)\n",
    "    \n",
    "    pred_batch = [(ent, rel, predictions[i]) for i, (ent, rel, true) in enumerate(big_batch)]\n",
    "    assertions = [generate_assertion(*tup) for tup in pred_batch]\n",
    "    # print(\"Assertions:\", assertions)\n",
    "    \n",
    "    assertions = np.array(assertions).reshape(N, B)\n",
    "    nli_matrix = nli(assertions, nli_tokenizer, nli_model, max_bsize=20)\n",
    "    # print(\"NLI probability matrix:\\n\", nli_matrix)\n",
    "    \n",
    "    predictions = predictions.reshape(N, B)\n",
    "    confidences = confidences.reshape(N, B)\n",
    "    corrected, flip_mask = correction_fn(predictions, confidences, nli_matrix, return_flip_mask=True)\n",
    "    flip_count += np.count_nonzero(flip_mask)\n",
    "    acc, con, total, bsize = evaluate(corrected, answers, pred_batch)\n",
    "    acc_count += acc\n",
    "    con_count += con\n",
    "    total_count += total\n",
    "    num_batches += bsize # bsize should be equal to N\n",
    "    # print(acc, con, total, bsize)\n",
    "    \n",
    "    if num_batches % 50 == 0:\n",
    "        num_pairs = num_batches * B * B\n",
    "        print(f\"Iter {idx_count}: {num_batches} batches, {total_count} facts\")\n",
    "        print(f\"\\tAccurate {acc_count} / {total_count} questions = {acc_count / total_count}\")\n",
    "        print(f\"\\tContradictions {con_count} / {num_batches} batches = {con_count / num_batches}\")\n",
    "        print(f\"\\tCorrections {flip_count} / {num_batches} batches = {flip_count / num_batches}\")\n",
    "\n",
    "print(\"\\n==================== Final Results ====================\")\n",
    "num_pairs = num_batches\n",
    "print(f\"End on iter {idx_count}: {num_batches} {B}x{B} batches, {total_count} facts\")\n",
    "print(f\"Accurate {acc_count} / {total_count} questions = {acc_count / total_count}\")\n",
    "print(f\"Contradictions {con_count} / {num_batches} batches = {con_count / num_batches} contradictions per batch\")\n",
    "print(f\"Corrections {flip_count} / {num_batches} batches = {flip_count / num_batches} flips per batch\")\n",
    "\n",
    "end = time.time()\n",
    "print(\"Runtime:\", end - start)"
   ]
  },
  {
   "cell_type": "code",
   "execution_count": null,
   "id": "be471021-3425-4462-8644-5e43347b7669",
   "metadata": {},
   "outputs": [],
   "source": []
  }
 ],
 "metadata": {
  "interpreter": {
   "hash": "d4a174f9e1d31d9a365b2c26615a8dc2bf9473bcc2483aeb7d2d4cf28f830d3b"
  },
  "kernelspec": {
   "display_name": "contradiction",
   "language": "python",
   "name": "contradiction"
  },
  "language_info": {
   "codemirror_mode": {
    "name": "ipython",
    "version": 3
   },
   "file_extension": ".py",
   "mimetype": "text/x-python",
   "name": "python",
   "nbconvert_exporter": "python",
   "pygments_lexer": "ipython3",
   "version": "3.9.7"
  }
 },
 "nbformat": 4,
 "nbformat_minor": 5
}
