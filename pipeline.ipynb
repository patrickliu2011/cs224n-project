{
  "cells": [
    {
      "cell_type": "code",
      "execution_count": 1,
      "id": "f75d45a7-8f30-4cf7-b64e-5645782ef09e",
      "metadata": {
        "gather": {
          "logged": 1646710479608
        }
      },
      "outputs": [],
      "source": [
        "import os, sys\n",
        "import random\n",
        "import json\n",
        "import nltk \n",
        "import csv\n",
        "import time\n",
        "import copy\n",
        "import torch\n",
        "import numpy as np\n",
        "import pandas as pd\n",
        "import nltk  # $ pip install nltk\n",
        "from nltk.stem import PorterStemmer\n",
        "from nltk.corpus import cmudict  # >>> nltk.download('cmudict')\n",
        "from nltk.tokenize import word_tokenize\n",
        "from spellchecker import SpellChecker # $ pip install pyspellchecker\n",
        "import matplotlib.pyplot as plt\n",
        "from datetime import datetime\n",
        "\n",
        "from transformers import AutoTokenizer, AutoModelForSeq2SeqLM, AutoModelForSequenceClassification\n",
        "\n",
        "from beliefbank_data.utils import generate_assertion, generate_question, find_constraints, generate_inverse_question, generate_question_with_context\n",
        "import correction_utils"
      ]
    },
    {
      "cell_type": "markdown",
      "id": "83360dd8-9e5a-48a4-8274-0c70e3a0361d",
      "metadata": {},
      "source": [
        "# Load data"
      ]
    },
    {
      "cell_type": "code",
      "execution_count": 2,
      "id": "03374e1c-dff7-49d5-847b-0a6816c6a5dd",
      "metadata": {
        "gather": {
          "logged": 1646710479697
        }
      },
      "outputs": [],
      "source": [
        "constraints_path = \"beliefbank_data/constraints_v2.json\"\n",
        "facts_path = \"beliefbank_data/silver_facts.json\""
      ]
    },
    {
      "cell_type": "code",
      "execution_count": 3,
      "id": "05c60643-c341-4af6-9459-c8458700b72c",
      "metadata": {
        "gather": {
          "logged": 1646710479776
        }
      },
      "outputs": [],
      "source": [
        "constraints = json.load(open(constraints_path))\n",
        "facts = json.load(open(facts_path))"
      ]
    },
    {
      "cell_type": "code",
      "execution_count": 4,
      "id": "f4a25158-8d99-4088-b240-51b5b6423334",
      "metadata": {
        "gather": {
          "logged": 1646710479855
        }
      },
      "outputs": [
        {
          "name": "stdout",
          "output_type": "stream",
          "text": [
            "['american bison', 'baboon', 'birch', 'buck', 'bull', 'calf', 'camel', 'carnivore', 'carp', 'cheetah', 'chick', 'chimpanzee', 'cock', 'crocodile', 'dog', 'dolphin', 'domestic ass', 'duck', 'earthworm', 'elephant', 'european wolf spider', 'foxhound', 'frog', 'gazelle', 'gecko', 'german shepherd', 'giant panda', 'giraffe', 'gladiolus', 'hen', 'horse', 'hound', 'howler monkey', 'hummingbird', 'jaguar', 'lamb', 'leopard', 'lion', 'livestock', 'llama', 'magpie', 'midge', 'mink', 'mullet', 'myna', 'new world blackbird', 'orchid', 'owl', 'ox', 'penguin', 'peony', 'pigeon', 'poodle', 'puppy', 'rabbit', 'rat', 'reptile', 'robin', 'rose', 'salamander', 'starling', 'tiger', 'turkey', 'whale', 'zebra']\n"
          ]
        }
      ],
      "source": [
        "# entities = list(facts.keys())\n",
        "# random.shuffle(entities)\n",
        "# dev_size = 65\n",
        "# dev_entities = sorted(entities[:dev_size])\n",
        "# eval_entities = sorted(entities[dev_size:])\n",
        "# with open(\"beliefbank_data/dev_entities.txt\", \"w\") as f:\n",
        "#     f.writelines([e + '\\n' for e in dev_entities])\n",
        "# with open(\"beliefbank_data/eval_entities.txt\", \"w\") as f:\n",
        "#     f.writelines([e + '\\n' for e in eval_entities])\n",
        "\n",
        "with open(\"beliefbank_data/dev_entities.txt\", \"r\") as f:\n",
        "    dev_entities = [e.strip() for e in f.readlines()]\n",
        "print(dev_entities)\n",
        "\n",
        "# with open(\"beliefbank_data/eval_entities.txt\", \"r\") as f:\n",
        "#     eval_entities = [e.strip() for e in f.readlines()]\n",
        "# print(eval_entities)"
      ]
    },
    {
      "cell_type": "markdown",
      "id": "a40f96b8-fa0b-4071-8fb3-d649112a23f8",
      "metadata": {},
      "source": [
        "# Constraints checking"
      ]
    },
    {
      "cell_type": "code",
      "execution_count": 5,
      "id": "dc706745-546a-4687-b3a7-5bdf45dc19a0",
      "metadata": {
        "gather": {
          "logged": 1646710479928
        }
      },
      "outputs": [],
      "source": [
        "constraints_yy = set() # A implies B\n",
        "constraints_yn = set() # A implies not B\n",
        "for link in constraints['links']:\n",
        "    s = link['source']\n",
        "    t = link['target']\n",
        "    if link['weight'] == 'yes_yes':\n",
        "        if link['direction'] == 'forward':\n",
        "            constraints_yy.add((s, t))\n",
        "        else:\n",
        "            constraints_yy.add((t, s))\n",
        "    else:\n",
        "        constraints_yn.add((s, t))\n",
        "        constraints_yn.add((t, s))"
      ]
    },
    {
      "cell_type": "code",
      "execution_count": 6,
      "id": "9d49487f-ddd8-42ae-882a-f8d05cc1b708",
      "metadata": {
        "gather": {
          "logged": 1646710480031
        }
      },
      "outputs": [
        {
          "name": "stdout",
          "output_type": "stream",
          "text": [
            "1836\n",
            "774\n"
          ]
        }
      ],
      "source": [
        "print(len(constraints_yy))\n",
        "print(len(constraints_yn))"
      ]
    },
    {
      "cell_type": "markdown",
      "id": "74a268da-7f64-4117-8453-7f734ac8f8e1",
      "metadata": {},
      "source": [
        "AB in yn --> BA in yn\n",
        "AB in yy, BC in yy --> AC in yy\n",
        "AB in yy, BC in yn --> AC in yn\n",
        "# AB in yn, CB in yy --> AC in yn "
      ]
    },
    {
      "cell_type": "code",
      "execution_count": 7,
      "id": "e24c37f9-da8e-4a01-8e8e-a2540facc1ac",
      "metadata": {
        "gather": {
          "logged": 1646710480148
        }
      },
      "outputs": [],
      "source": [
        "dict_yy = {}\n",
        "for s, t in constraints_yy:\n",
        "    if s in dict_yy:\n",
        "        dict_yy[s].add(t)\n",
        "    else:\n",
        "        dict_yy[s] = {t}\n",
        "dict_yn = {}\n",
        "for s, t in constraints_yn:\n",
        "    if s in dict_yn:\n",
        "        dict_yn[s].add(t)\n",
        "    else:\n",
        "        dict_yn[s] = {t}"
      ]
    },
    {
      "cell_type": "code",
      "execution_count": 8,
      "id": "a8b0e11c-5331-4f08-aae0-db6a68157baa",
      "metadata": {
        "gather": {
          "logged": 1646710481078
        }
      },
      "outputs": [],
      "source": [
        "depth = 10\n",
        "len_yy = [len(constraints_yy)]\n",
        "len_yn = [len(constraints_yn)]\n",
        "for d in range(depth-1):\n",
        "    temp_yy = copy.deepcopy(dict_yy)\n",
        "    temp_yn = copy.deepcopy(dict_yn)\n",
        "    for a, bs in dict_yy.items():\n",
        "        for b in bs:\n",
        "            for c in dict_yy.get(b, set()):\n",
        "                if a == c:\n",
        "                    continue\n",
        "                temp_yy[a].add(c)\n",
        "            for c in dict_yn.get(b, set()):\n",
        "                if a == c:\n",
        "                    continue\n",
        "                if a in temp_yn:\n",
        "                    temp_yn[a].add(c)\n",
        "                else:\n",
        "                    temp_yn[a] = {c}\n",
        "                if c in temp_yn:\n",
        "                    temp_yn[c].add(a)\n",
        "                else:\n",
        "                    temp_yn[c] = {a}\n",
        "    del dict_yy\n",
        "    del dict_yn\n",
        "    dict_yy = temp_yy\n",
        "    dict_yn = temp_yn\n",
        "    len_yy.append(sum([len(v) for v in dict_yy.values()]))\n",
        "    len_yn.append(sum([len(v) for v in dict_yn.values()]))"
      ]
    },
    {
      "cell_type": "code",
      "execution_count": 9,
      "id": "5e70cb4a-6fdb-412a-8c04-38a8351842bd",
      "metadata": {
        "gather": {
          "logged": 1646710482097
        }
      },
      "outputs": [],
      "source": [
        "for s, ts in dict_yy.items():\n",
        "    for t in ts:\n",
        "        constraints_yy.add((s, t))\n",
        "for s, ts in dict_yn.items():\n",
        "    for t in ts:\n",
        "        constraints_yn.add((s, t))\n",
        "constraints_nn = set([(t, s) for s, t in constraints_yy])"
      ]
    },
    {
      "cell_type": "code",
      "execution_count": 10,
      "id": "736fe796-8a9f-470f-9f74-4565eb1a953a",
      "metadata": {
        "gather": {
          "logged": 1646710482905
        }
      },
      "outputs": [
        {
          "name": "stdout",
          "output_type": "stream",
          "text": [
            "3931\n",
            "11346\n"
          ]
        }
      ],
      "source": [
        "print(len(constraints_yy))\n",
        "print(len(constraints_yn))"
      ]
    },
    {
      "cell_type": "code",
      "execution_count": 11,
      "id": "09ce6b7f-8ff5-4599-b7bb-5bebeade6c26",
      "metadata": {
        "gather": {
          "logged": 1646710484283
        }
      },
      "outputs": [
        {
          "data": {
            "image/png": "[encoded data removed]",
            "text/plain": [
              "<Figure size 432x288 with 1 Axes>"
            ]
          },
          "metadata": {
            "needs_background": "light"
          },
          "output_type": "display_data"
        }
      ],
      "source": [
        "plt.title(\"Constraints vs depth\")\n",
        "plt.plot(len_yy, label=\"yy\")\n",
        "plt.plot(len_yn, label=\"yn\")\n",
        "plt.legend()\n",
        "plt.show()"
      ]
    },
    {
      "cell_type": "code",
      "execution_count": 12,
      "id": "cfe9b264-1408-4d9e-b50b-4443d6dfbe5a",
      "metadata": {
        "gather": {
          "logged": 1646710484983
        }
      },
      "outputs": [],
      "source": [
        "for c1, c2 in constraints_yn:\n",
        "    if c1 == c2:\n",
        "        print(c1, c2)\n",
        "        break"
      ]
    },
    {
      "cell_type": "code",
      "execution_count": 13,
      "id": "c368e6e7-7bd9-42e7-86f1-6ff58fee48ca",
      "metadata": {
        "gather": {
          "logged": 1646710485899
        }
      },
      "outputs": [],
      "source": [
        "dict_nn = {}\n",
        "for s, t in constraints_nn:\n",
        "    if s in dict_nn:\n",
        "        dict_nn[s].add(t)\n",
        "    else:\n",
        "        dict_nn[s] = {t}"
      ]
    },
    {
      "cell_type": "code",
      "execution_count": 14,
      "id": "a6eb7323-ed08-4431-82c0-db99d05c82a3",
      "metadata": {
        "gather": {
          "logged": 1646710486873
        }
      },
      "outputs": [],
      "source": [
        "neighbors = {}\n",
        "num_neighbors = {}\n",
        "for s in list(dict_yy.keys()) + list(dict_yn.keys()) + list(dict_nn.keys()):\n",
        "    neighbors[s] = dict_yy.get(s, set()).union(dict_yn.get(s, set())).union(dict_nn.get(s, set()))\n",
        "    num_neighbors[s] = len(neighbors[s])"
      ]
    },
    {
      "cell_type": "code",
      "execution_count": 15,
      "id": "3fa7c0ef-3fef-474a-8d3e-741e641844f7",
      "metadata": {
        "gather": {
          "logged": 1646710488158
        }
      },
      "outputs": [
        {
          "data": {
            "image/png": "[encoded data removed]",
            "text/plain": [
              "<Figure size 432x288 with 1 Axes>"
            ]
          },
          "metadata": {
            "needs_background": "light"
          },
          "output_type": "display_data"
        }
      ],
      "source": [
        "plt.hist(num_neighbors.values(), bins=range(0, max(num_neighbors.values()) + 1, 20))\n",
        "plt.show()"
      ]
    },
    {
      "cell_type": "markdown",
      "id": "7d1a220d-4e83-40a4-bb48-2599e043036f",
      "metadata": {},
      "source": [
        "Case | Equivalent implications   | Contradictory case\n",
        "a    | 1 -> not 2 == 2 -> not 1  | 1 & 2\n",
        "b    | 1 -> 2 == not 2 -> not 1  | 1 & not 2\n",
        "c    | 2 -> 1 == not 1 -> not 2  | not 1 & 2\n",
        "d    | not 1 -> 2 == not 2 -> 1  | not 1 & not 2"
      ]
    },
    {
      "cell_type": "code",
      "execution_count": 16,
      "id": "34aa4611-b2e3-46d6-8f7e-dbcebb92bf97",
      "metadata": {
        "gather": {
          "logged": 1646710488891
        }
      },
      "outputs": [],
      "source": [
        "def check_constraints(relation1, true1, relation2, true2):\n",
        "    # Is (relation1, true1) & (relation2, true2)  \n",
        "    if true1 and true2: # Case a\n",
        "        implies12 = (relation1, relation2) in constraints_yy\n",
        "        implies21 = (relation2, relation1) in constraints_yy\n",
        "        contradicts = (relation1, relation2) in constraints_yn or (relation2, relation1) in constraints_yn\n",
        "    elif true1 and not true2: # Case b\n",
        "        implies12 = (relation1, relation2) in constraints_yn or (relation2, relation1) in constraints_yn\n",
        "        implies21 = False\n",
        "        contradicts = (relation1, relation2) in constraints_yy\n",
        "    elif not true1 and true2: # Case c\n",
        "        implies12 = False\n",
        "        implies21 = (relation1, relation2) in constraints_yn or (relation2, relation1) in constraints_yn\n",
        "        contradicts = (relation2, relation1) in constraints_yy\n",
        "    else: # Case d\n",
        "        implies12 = (relation2, relation1) in constraints_yy\n",
        "        implies21 = (relation1, relation2) in constraints_yy\n",
        "        contradicts = False\n",
        "    return implies12, implies21, contradicts"
      ]
    },
    {
      "cell_type": "code",
      "execution_count": 17,
      "id": "3bbd05e6-2234-4a56-9239-6295c3cbfcf1",
      "metadata": {
        "gather": {
          "logged": 1646710489989
        }
      },
      "outputs": [
        {
          "name": "stdout",
          "output_type": "stream",
          "text": [
            "(False, True, False)\n",
            "(False, False, False)\n",
            "(False, False, True)\n",
            "(True, False, False)\n"
          ]
        }
      ],
      "source": [
        "print(check_constraints(\"IsA,animal\", True, \"IsA,mammal\", True))\n",
        "print(check_constraints(\"IsA,animal\", True, \"IsA,mammal\", False))\n",
        "print(check_constraints(\"IsA,animal\", False, \"IsA,mammal\", True))\n",
        "print(check_constraints(\"IsA,animal\", False, \"IsA,mammal\", False))"
      ]
    },
    {
      "cell_type": "code",
      "execution_count": 18,
      "id": "526892fc-dcbc-4010-88a6-52ce2933ac8b",
      "metadata": {
        "gather": {
          "logged": 1646710490874
        }
      },
      "outputs": [
        {
          "name": "stdout",
          "output_type": "stream",
          "text": [
            "(False, False, False)\n",
            "(False, False, False)\n",
            "(False, False, False)\n",
            "(False, False, False)\n"
          ]
        }
      ],
      "source": [
        "print(check_constraints(\"IsA,animal\", True, \"IsA,candy\", True))\n",
        "print(check_constraints(\"IsA,animal\", True, \"IsA,candy\", False))\n",
        "print(check_constraints(\"IsA,animal\", False, \"IsA,candy\", True))\n",
        "print(check_constraints(\"IsA,animal\", False, \"IsA,candy\", False))"
      ]
    },
    {
      "cell_type": "markdown",
      "id": "716ad53a-5ebc-4366-916e-534c78d69f44",
      "metadata": {},
      "source": [
        "# Load models"
      ]
    },
    {
      "cell_type": "code",
      "execution_count": 19,
      "id": "f2dd540c-0d05-4fec-85cc-6309b64a4764",
      "metadata": {
        "gather": {
          "logged": 1646710492242
        }
      },
      "outputs": [
        {
          "data": {
            "text/plain": [
              "device(type='cuda')"
            ]
          },
          "execution_count": 19,
          "metadata": {},
          "output_type": "execute_result"
        }
      ],
      "source": [
        "device = torch.device(\"cuda\" if torch.cuda.is_available() else \"cpu\")\n",
        "device"
      ]
    },
    {
      "cell_type": "code",
      "execution_count": 20,
      "id": "699dba1b-3171-4690-be58-a5fd082e80d8",
      "metadata": {
        "gather": {
          "logged": 1646710507987
        }
      },
      "outputs": [],
      "source": [
        "# Downloads a pretty large model\n",
        "tokenizer = AutoTokenizer.from_pretrained(\"allenai/macaw-large\")\n",
        "model = AutoModelForSeq2SeqLM.from_pretrained(\"allenai/macaw-large\")\n",
        "model = model.to(device=device).eval()"
      ]
    },
    {
      "cell_type": "code",
      "execution_count": 21,
      "id": "d5f170c9-5046-4905-b309-e7a821357467",
      "metadata": {
        "gather": {
          "logged": 1646710508062
        }
      },
      "outputs": [],
      "source": [
        "# QA Model stuff\n",
        "def format_question(question_list):\n",
        "    question_list = [\"$answer$ ; $mcoptions$ = (A) yes (B) no; $question$ = \" + item \\\n",
        "         for item in question_list]\n",
        "    return question_list\n",
        "\n",
        "def predict(question_list, max_bsize=10):\n",
        "    B = len(question_list)\n",
        "    question_list = format_question(question_list)\n",
        "    answer_list_all_yes = [\"$answer$ = yes\"] * B     # pass in list of \"yes\"\n",
        "    \n",
        "    answers_all = []\n",
        "    confidences_all = []\n",
        "    for i in range(0, B, max_bsize):\n",
        "        j = min(i + max_bsize, B)\n",
        "        # print(dir(tokenizer))\n",
        "        inputs = tokenizer.batch_encode_plus(question_list[i:j], max_length = 256, padding=True, truncation=True, return_tensors=\"pt\")\n",
        "        labels = tokenizer.batch_encode_plus(answer_list_all_yes[i:j], max_length = 15, padding=True, truncation=True, return_tensors=\"pt\") # max_length is set to len(\"$answer$ = yes\")\n",
        "\n",
        "        # output = model.generate(input_ids, max_length=200)\n",
        "        # answers = tokenizer.batch_decode(output, skip_special_tokens=True)\n",
        "        fwd = model(input_ids=inputs[\"input_ids\"].to(device), attention_mask=inputs[\"attention_mask\"].to(device),\n",
        "                    labels=labels[\"input_ids\"].to(device))\n",
        "                    # decoder_input_ids=labels[\"input_ids\"], decoder_attention_mask=labels[\"attention_mask\"])\n",
        "        # output_ids = torch.argmax(fwd.logits, dim=-1)\n",
        "        # print(tokenizer.batch_decode(output_ids, skip_special_tokens=True))\n",
        "\n",
        "        # loss\n",
        "        # loss = fwd.loss # - log(P(y|x))\n",
        "        # confidence = torch.exp(-loss)\n",
        "        logits = fwd.logits.reshape((j - i, 7, -1))\n",
        "        logits = logits[:, 5, :] # Index of yes/no token in answer\n",
        "        probs = torch.softmax(logits, dim=-1).detach().cpu().numpy()\n",
        "        # yes has input_id 4273, no has input_id 150\n",
        "        confidence_yes = probs[..., 4273] \n",
        "        confidence_no = probs[..., 150]\n",
        "\n",
        "        answers = (confidence_yes >= confidence_no) # np.array([(ans == \"$answer$ = yes\") for ans in answers])\n",
        "        confidences = np.where(answers, confidence_yes, confidence_no)\n",
        "        answers_all.append(answers)\n",
        "        confidences_all.append(confidences)\n",
        "    answers = np.concatenate(answers_all, axis=0)\n",
        "    confidences = np.concatenate(confidences_all, axis=0)\n",
        "    return answers, confidences\n"
      ]
    },
    {
      "cell_type": "code",
      "execution_count": 22,
      "id": "59effc47-e588-4c7b-8e90-82bf14a9e4f4",
      "metadata": {
        "gather": {
          "logged": 1646710512578
        }
      },
      "outputs": [
        {
          "name": "stderr",
          "output_type": "stream",
          "text": [
            "Some weights of the model checkpoint at ynie/roberta-large-snli_mnli_fever_anli_R1_R2_R3-nli were not used when initializing RobertaForSequenceClassification: ['roberta.pooler.dense.weight', 'roberta.pooler.dense.bias']\n",
            "- This IS expected if you are initializing RobertaForSequenceClassification from the checkpoint of a model trained on another task or with another architecture (e.g. initializing a BertForSequenceClassification model from a BertForPreTraining model).\n",
            "- This IS NOT expected if you are initializing RobertaForSequenceClassification from the checkpoint of a model that you expect to be exactly identical (initializing a BertForSequenceClassification model from a BertForSequenceClassification model).\n"
          ]
        }
      ],
      "source": [
        "nli_tokenizer = AutoTokenizer.from_pretrained(\"ynie/roberta-large-snli_mnli_fever_anli_R1_R2_R3-nli\")\n",
        "nli_model = AutoModelForSequenceClassification.from_pretrained(\"ynie/roberta-large-snli_mnli_fever_anli_R1_R2_R3-nli\")\n",
        "nli_model = nli_model.to(device=device).eval()"
      ]
    },
    {
      "cell_type": "code",
      "execution_count": 23,
      "id": "1970157b-6933-4d87-b772-300891b1b457",
      "metadata": {
        "gather": {
          "logged": 1646710512658
        }
      },
      "outputs": [],
      "source": [
        "def nli(sents, nli_tokenizer, nli_model, max_bsize=20):\n",
        "    \"\"\"Generates contradiction matrix of shape (N, B, B)\"\"\"\n",
        "    if sents.ndim == 1:\n",
        "        sents = sents.reshape(1, -1)\n",
        "    \n",
        "    N, B = sents.shape\n",
        "    prem = []\n",
        "    hypo = []\n",
        "    for i in range(N):\n",
        "        for j in range(B):\n",
        "            for k in range(B):\n",
        "                prem.append(sents[i][j])\n",
        "                hypo.append(sents[i][k])\n",
        "\n",
        "    nli_matrix = []\n",
        "    size = N * B * B\n",
        "    for i in range(0, size, max_bsize):\n",
        "        j = min(i + max_bsize, size)\n",
        "        tokenized = nli_tokenizer(prem[i:j], hypo[i:j], \n",
        "                                  max_length=256, \n",
        "                                  return_token_type_ids=True, \n",
        "                                  truncation=True,\n",
        "                                  padding=True)\n",
        "\n",
        "        input_ids = torch.Tensor(tokenized['input_ids']).to(device).long()\n",
        "        token_type_ids = torch.Tensor(tokenized['token_type_ids']).to(device).long()\n",
        "        attention_mask = torch.Tensor(tokenized['attention_mask']).to(device).long()\n",
        "\n",
        "        nli_outputs = nli_model(input_ids,\n",
        "                                attention_mask=attention_mask,\n",
        "                                token_type_ids=token_type_ids,\n",
        "                                labels=None)\n",
        "        nli_matrix.append(torch.softmax(nli_outputs.logits.detach().cpu(), dim=1))\n",
        "    nli_matrix = torch.cat(nli_matrix, dim=0)\n",
        "    nli_matrix = nli_matrix.reshape(N, B, B, 3)\n",
        "    return nli_matrix.numpy()\n",
        "\n",
        "# TODO: Mimic nli model, but using constraints graph\n",
        "def nli_constraints(big_batch, N, B):\n",
        "    nli_matrix = np.zeros((N, B, B, 3))\n",
        "    pass"
      ]
    },
    {
      "cell_type": "code",
      "execution_count": 24,
      "id": "9566f12a-18af-4d2a-a705-b56d55ca9f26",
      "metadata": {
        "gather": {
          "logged": 1646710512734
        }
      },
      "outputs": [],
      "source": [
        "def evaluate(predictions, answers, pred_batch):\n",
        "    if predictions.ndim == 1:\n",
        "        predictions = predictions.reshape(1, -1)\n",
        "    answers = answers.reshape(predictions.shape)\n",
        "    relations = np.array([rel for ent, rel, pred in pred_batch]).reshape(predictions.shape)\n",
        "    N, B = predictions.shape\n",
        "    # predictions, answers, relations should be size (N, B)\n",
        "    \n",
        "    # Calculate accurate examples\n",
        "    correct = (predictions == answers)\n",
        "    acc = np.sum(correct)\n",
        "    \n",
        "    # Calculate metrics for F1\n",
        "    TP = np.sum(correct * answers)\n",
        "    TN = acc - TP\n",
        "    FN = np.sum((1 - correct) * answers)\n",
        "    FP = np.sum((1 - correct) * (1 - answers))\n",
        "    \n",
        "    # Calculate contradictions\n",
        "    con = 0\n",
        "    conacc = 0\n",
        "    relevant = 0 # Number of pairs that imply or contradict each other\n",
        "    for i in range(N):\n",
        "        for j in range(B):\n",
        "            for k in range(j+1, B):\n",
        "                impl12, impl21, contra = check_constraints( \\\n",
        "                    relations[i, j], predictions[i, j], relations[i, k], predictions[i, k])\n",
        "                if impl12 or impl21 or contra:\n",
        "                    relevant += 1\n",
        "                if contra:\n",
        "                    con += 1\n",
        "                else:\n",
        "                    conacc += (correct[i, j] and correct[i, k])\n",
        "    \n",
        "    total = predictions.size\n",
        "    bsize = predictions.shape[0]\n",
        "    return {\n",
        "        \"accurate\": acc,\n",
        "        \"TP\": TP,\n",
        "        \"TN\": TN,\n",
        "        \"FN\": FN,\n",
        "        \"FP\": FP,\n",
        "        \"contradictory_pairs\": con,\n",
        "        \"consistent_acc_pairs\": conacc,\n",
        "        \"relevant_pairs\": relevant,\n",
        "        \"total_questions\": predictions.size,\n",
        "        \"num_batches\": bsize,\n",
        "    }"
      ]
    },
    {
      "cell_type": "code",
      "execution_count": 25,
      "id": "e007a148-9d3a-4e20-9b65-abbc38d3c9b1",
      "metadata": {
        "gather": {
          "logged": 1646710512808
        }
      },
      "outputs": [],
      "source": [
        "def counts_tostr(counts, i):\n",
        "    lines = []\n",
        "    N = counts[\"num_batches\"][i]\n",
        "    total = counts[\"total_questions\"][i]\n",
        "    B = total // N\n",
        "    total_pairs = N * B * (B - 1) // 2 # pairs per batch\n",
        "    accurate = counts['accurate'][i]\n",
        "    contradictions = counts['contradictory_pairs'][i]\n",
        "    relevant = counts['relevant_pairs'][i]\n",
        "    con_acc = counts['consistent_acc_pairs'][i]\n",
        "    flips = counts['flips'][i]\n",
        "    TP = counts['TP'][i]\n",
        "    FP = counts['FP'][i]\n",
        "    FN = counts['FN'][i]\n",
        "    precision = TP / (TP + FP)\n",
        "    recall = TP / (TP + FN)\n",
        "    f1 = 0 if precision == 0 and recall == 0 else 2 * precision * recall / (precision + recall)\n",
        "    lines.append(f\"Accurate {accurate} / {total} = {accurate / total}\")\n",
        "    lines.append(f\"Precision {precision}, recall {recall} ==> F1 {f1}\")\n",
        "    lines.append(f\"Contradictions {contradictions} / {total_pairs} pairs = {contradictions / total_pairs}\")\n",
        "    lines.append(f\"Contradictions {contradictions} / {relevant} relevant pairs = {contradictions / relevant}\")\n",
        "    lines.append(f\"Consistent+Accurate {con_acc} / {total_pairs} pairs = {con_acc / total_pairs}\")\n",
        "    lines.append(f\"Corrections {flips} / {N} batches = {flips / N}\")\n",
        "    return \"\\n\".join(lines)"
      ]
    },
    {
      "cell_type": "markdown",
      "id": "7ce59221-7942-4c06-9573-7bbe274c8da0",
      "metadata": {},
      "source": [
        "Sampling methods\n",
        "1. base fact -> relation(s) on graph (must be downstream, or upstream if false)\n",
        "    Pro: Facts are close together\n",
        "    Con: Limited to guaranteed relations, so asymmetric\n",
        "2. base fact -> sample given facts that are nearby (not necessarily downstream)\n",
        "    Pro: Symmetric since all facts are given, facts are close together\n",
        "    Con: Contradictions may be a bit dense\n",
        "3. sample facts randomly (then just check afterwards)\n",
        "    Pro: Symmetric since all facts are given, sparser contradictions\n",
        "    Con: Facts may be distant, and constraints aren't complete, so will miss some constraints"
      ]
    },
    {
      "cell_type": "code",
      "execution_count": 26,
      "id": "df5538a5",
      "metadata": {},
      "outputs": [
        {
          "name": "stdout",
          "output_type": "stream",
          "text": [
            "(array([ True, False]), array([0.9846942, 0.9998914], dtype=float32))\n",
            "(array([ True, False]), array([0.92805856, 0.9997551 ], dtype=float32))\n"
          ]
        },
        {
          "data": {
            "text/plain": [
              "('Is a buffalo not a mammal?', 'Yes')"
            ]
          },
          "execution_count": 26,
          "metadata": {},
          "output_type": "execute_result"
        }
      ],
      "source": [
        "print(predict([\"Is a buffalo a mammal?\", \"Is a buffalo not a mammal?\"], max_bsize=20))  # QA Model\n",
        "print(predict([\"Is a buffalo a water animal?\", \"Is a buffalo not a water animal?\"], max_bsize=20))  # QA Model\n",
        "generate_inverse_question(\"buffalo\", \"IsA,mammal\", \"true\")\n"
      ]
    },
    {
      "cell_type": "markdown",
      "id": "fdc5ada2",
      "metadata": {},
      "source": [
        "### QA Requerying"
      ]
    },
    {
      "cell_type": "code",
      "execution_count": null,
      "id": "c8baf725",
      "metadata": {},
      "outputs": [],
      "source": [
        "# def requery_with_context(old_predictions, old_confidences, questions, nli_matrix, big_batch, return_flip_mask=False):\n",
        "#     contra_matrix = nli_matrix[:, :, :, 2]\n",
        "#     contra_matrix = (contra_matrix + contra_matrix.transpose((0, 2, 1))) / 2\n",
        "#     contra_matrix[:, range(B), range(B)] = 0 # Set diagonals to 0\n",
        "\n",
        "    \n",
        "#     correction_fn = getattr(correction_utils, 'C_1') # Apply C_1 correction function first\n",
        "#     corrected, flip = correction_fn(old_predictions, old_confidences, nli_matrix, return_flip_mask=True)\n",
        " \n",
        "#     # For each elem in big_batch that should be flipped, invert question (answer remains same)\n",
        "#     big_batch[:, :, 2] = np.logical_xor(big_batch[:, :, 2] == \"True\", flip) # Note: big_batch is modified\n",
        "#     # Current answer | Flip? -> New Answer (XOR)\n",
        "#     # 0 1 -> 1\n",
        "#     # 0 0 -> 0\n",
        "#     # 1 0 -> 1\n",
        "#     # 1 1 -> 0\n",
        "\n",
        "#     # Requery QA model with inverted question if flipped\n",
        "#     requeried_questions = []\n",
        "#     for ij in np.ndindex(big_batch.shape[:2]): # convert to orig big_batch format\n",
        "#         entity, relation, flipped = tuple(big_batch[ij])\n",
        "#         if(flipped): # flipped\n",
        "            \n"
      ]
    },
    {
      "cell_type": "code",
      "execution_count": 68,
      "id": "0e250974",
      "metadata": {},
      "outputs": [],
      "source": [
        "### Re-querying NLI/QA models\n",
        "# Patrick Liu the goat's sage advice:\n",
        "'''\n",
        "If A and B contradict, and you decide to flip B, then you have the same batch but with ~B\n",
        "Get the NLI with ~B (not entire matrix, just corresponding row/col -- compare ~B with the rest of batch)\n",
        "Then, if it contradicts with anything else in the batch, repeat\n",
        "'''\n",
        "\n",
        "def requery_inverted(old_predictions, old_confidences, questions, nli_matrix, big_batch, return_flip_mask=False):\n",
        "    big_batch = np.array(big_batch).reshape(N,B,3) # (entity, rel, label) in last axis\n",
        "    questions = np.array(questions).reshape(N,B)\n",
        "\n",
        "    correction_fn = getattr(correction_utils, 'C_1') # Apply C_1 correction function first\n",
        "    corrected, flip = correction_fn(old_predictions, old_confidences, nli_matrix, return_flip_mask=True)\n",
        " \n",
        "\n",
        "    # For each elem in big_batch that should be flipped, invert question (answer remains same)\n",
        "    big_batch[:, :, 2] = np.logical_xor(big_batch[:, :, 2] == \"True\", flip) # Note: big_batch is modified\n",
        "    # Current answer | Flip? -> New Answer (XOR)\n",
        "    # 0 1 -> 1\n",
        "    # 0 0 -> 0\n",
        "    # 1 0 -> 1\n",
        "    # 1 1 -> 0\n",
        "\n",
        "    # Requery QA model with inverted question if flipped\n",
        "    requeried_questions = []\n",
        "    for ij in np.ndindex(big_batch.shape[:2]): # convert to orig big_batch format\n",
        "        entity, relation, flipped = tuple(big_batch[ij])\n",
        "        if(flipped): # flipped\n",
        "            new_q, _ = generate_inverse_question(entity, relation, flipped)\n",
        "        else: \n",
        "            new_q, _ = generate_question(entity, relation, flipped)\n",
        "        requeried_questions.append(new_q)\n",
        "    \n",
        "    new_predictions, new_confidences = predict(requeried_questions, max_bsize=20) # QA Model\n",
        "    new_predictions = new_predictions.reshape(N,B)\n",
        "    new_confidences = new_confidences.reshape(N,B)\n",
        "    changed_predictions = np.logical_xor(new_predictions, old_predictions) # Predictions that have changed with requery\n",
        "    # print(\"Predictions that have changed with QA requery: \" + changed_predictions)\n",
        "    # print(new_confidences, old_confidences, new_predictions, old_predictions)\n",
        "\n",
        "    # Take the prediction with the higher confidence score\n",
        "    combined_max_predictions = np.where(new_confidences > old_confidences, new_predictions, old_predictions)\n",
        "    # print(combined_max_confidences)\n",
        "\n",
        "    # Output stage\n",
        "    corrected = combined_max_predictions.copy()\n",
        "    flip = np.logical_xor(corrected, old_predictions)\n",
        "    if return_flip_mask:\n",
        "        return corrected, flip\n",
        "    return corrected\n",
        "\n"
      ]
    },
    {
      "cell_type": "markdown",
      "id": "53b32e47",
      "metadata": {},
      "source": [
        "### QA Requerying Eval"
      ]
    },
    {
      "cell_type": "code",
      "execution_count": 67,
      "id": "88143abe-885c-499c-bcfc-40304aa1edf1",
      "metadata": {},
      "outputs": [
        {
          "name": "stdout",
          "output_type": "stream",
          "text": [
            "Iter 105: 100 batches, 1000 questions\n",
            "Correction function QA Requerying:\n",
            "\tAccurate 940 / 1000 = 0.94\n",
            "\tPrecision 0.9142857142857143, recall 0.3595505617977528 ==> F1 0.5161290322580646\n",
            "\tContradictions 1 / 4500 pairs = 0.00022222222222222223\n",
            "\tContradictions 1 / 362 relevant pairs = 0.0027624309392265192\n",
            "\tConsistent+Accurate 3981 / 4500 pairs = 0.8846666666666667\n",
            "\tCorrections 245 / 100 batches = 2.45\n",
            "Iter 216: 200 batches, 2000 questions\n",
            "Correction function QA Requerying:\n",
            "\tAccurate 1871 / 2000 = 0.9355\n",
            "\tPrecision 0.9193548387096774, recall 0.3149171270718232 ==> F1 0.4691358024691357\n",
            "\tContradictions 9 / 9000 pairs = 0.001\n",
            "\tContradictions 9 / 803 relevant pairs = 0.0112079701120797\n",
            "\tConsistent+Accurate 7890 / 9000 pairs = 0.8766666666666667\n",
            "\tCorrections 498 / 200 batches = 2.49\n",
            "Iter 325: 300 batches, 3000 questions\n",
            "Correction function QA Requerying:\n",
            "\tAccurate 2805 / 3000 = 0.935\n",
            "\tPrecision 0.9186046511627907, recall 0.2958801498127341 ==> F1 0.4475920679886686\n",
            "\tContradictions 15 / 13500 pairs = 0.0011111111111111111\n",
            "\tContradictions 15 / 1252 relevant pairs = 0.011980830670926517\n",
            "\tConsistent+Accurate 11836 / 13500 pairs = 0.8767407407407407\n",
            "\tCorrections 751 / 300 batches = 2.5033333333333334\n",
            "Iter 436: 400 batches, 4000 questions\n",
            "Correction function QA Requerying:\n",
            "\tAccurate 3737 / 4000 = 0.93425\n",
            "\tPrecision 0.9363636363636364, recall 0.28690807799442897 ==> F1 0.4392324093816631\n",
            "\tContradictions 17 / 18000 pairs = 0.0009444444444444445\n",
            "\tContradictions 17 / 1693 relevant pairs = 0.01004134672179563\n",
            "\tConsistent+Accurate 15755 / 18000 pairs = 0.8752777777777778\n",
            "\tCorrections 1002 / 400 batches = 2.505\n",
            "Iter 551: 500 batches, 5000 questions\n",
            "Correction function QA Requerying:\n",
            "\tAccurate 4666 / 5000 = 0.9332\n",
            "\tPrecision 0.9527027027027027, recall 0.30128205128205127 ==> F1 0.4577922077922078\n",
            "\tContradictions 18 / 22500 pairs = 0.0008\n",
            "\tContradictions 18 / 2083 relevant pairs = 0.008641382621219395\n",
            "\tConsistent+Accurate 19641 / 22500 pairs = 0.8729333333333333\n",
            "\tCorrections 1252 / 500 batches = 2.504\n",
            "Iter 662: 600 batches, 6000 questions\n",
            "Correction function QA Requerying:\n",
            "\tAccurate 5591 / 6000 = 0.9318333333333333\n",
            "\tPrecision 0.9567567567567568, recall 0.3062283737024221 ==> F1 0.4639580602883355\n",
            "\tContradictions 22 / 27000 pairs = 0.0008148148148148148\n",
            "\tContradictions 22 / 2511 relevant pairs = 0.008761449621664676\n",
            "\tConsistent+Accurate 23499 / 27000 pairs = 0.8703333333333333\n",
            "\tCorrections 1519 / 600 batches = 2.5316666666666667\n",
            "Iter 774: 700 batches, 7000 questions\n",
            "Correction function QA Requerying:\n",
            "\tAccurate 6516 / 7000 = 0.9308571428571428\n",
            "\tPrecision 0.9403669724770642, recall 0.3032544378698225 ==> F1 0.4586129753914989\n",
            "\tContradictions 25 / 31500 pairs = 0.0007936507936507937\n",
            "\tContradictions 25 / 2982 relevant pairs = 0.008383635144198525\n",
            "\tConsistent+Accurate 27354 / 31500 pairs = 0.8683809523809524\n",
            "\tCorrections 1781 / 700 batches = 2.5442857142857145\n",
            "Iter 882: 800 batches, 8000 questions\n",
            "Correction function QA Requerying:\n",
            "\tAccurate 7462 / 8000 = 0.93275\n",
            "\tPrecision 0.9496124031007752, recall 0.3181818181818182 ==> F1 0.47665369649805445\n",
            "\tContradictions 25 / 36000 pairs = 0.0006944444444444445\n",
            "\tContradictions 25 / 3334 relevant pairs = 0.007498500299940012\n",
            "\tConsistent+Accurate 31395 / 36000 pairs = 0.8720833333333333\n",
            "\tCorrections 2006 / 800 batches = 2.5075\n",
            "Iter 991: 900 batches, 9000 questions\n",
            "Correction function QA Requerying:\n",
            "\tAccurate 8409 / 9000 = 0.9343333333333333\n",
            "\tPrecision 0.9407665505226481, recall 0.31990521327014215 ==> F1 0.47745358090185674\n",
            "\tContradictions 31 / 40500 pairs = 0.0007654320987654321\n",
            "\tContradictions 31 / 3770 relevant pairs = 0.008222811671087533\n",
            "\tConsistent+Accurate 35431 / 40500 pairs = 0.8748395061728395\n",
            "\tCorrections 2244 / 900 batches = 2.493333333333333\n",
            "Iter 1104: 1000 batches, 10000 questions\n",
            "Correction function QA Requerying:\n",
            "\tAccurate 9363 / 10000 = 0.9363\n",
            "\tPrecision 0.9421221864951769, recall 0.32127192982456143 ==> F1 0.4791496320523304\n",
            "\tContradictions 32 / 45000 pairs = 0.0007111111111111111\n",
            "\tContradictions 32 / 4124 relevant pairs = 0.007759456838021339\n",
            "\tConsistent+Accurate 39528 / 45000 pairs = 0.8784\n",
            "\tCorrections 2494 / 1000 batches = 2.494\n",
            "\n",
            "==================== Final Results ====================\n",
            "End on iter 1104: 1000 10x10 batches, 10000 questions\n",
            "Correction function QA Requerying:\n",
            "\tAccurate 9363 / 10000 = 0.9363\n",
            "\tPrecision 0.9421221864951769, recall 0.32127192982456143 ==> F1 0.4791496320523304\n",
            "\tContradictions 32 / 45000 pairs = 0.0007111111111111111\n",
            "\tContradictions 32 / 4124 relevant pairs = 0.007759456838021339\n",
            "\tConsistent+Accurate 39528 / 45000 pairs = 0.8784\n",
            "\tCorrections 2494 / 1000 batches = 2.494\n",
            "Runtime: 1494.7823736667633\n"
          ]
        }
      ],
      "source": [
        "start = time.time()\n",
        "\n",
        "correction_fn_names = ['QA Requerying']\n",
        "\n",
        "\n",
        "counts = { \n",
        "    k: np.zeros(len(correction_fn_names), dtype=int) \n",
        "    for k in [\n",
        "        \"accurate\", \"TP\", \"TN\", \"FN\", \"FP\", \"contradictory_pairs\", \"consistent_acc_pairs\", \n",
        "        \"relevant_pairs\", \"total_questions\", \"num_batches\", \"flips\"\n",
        "    ]\n",
        "}\n",
        "\n",
        "N = 10 # Number of entities to sample in a big batch\n",
        "batch_counter = 0\n",
        "num_batches = 0\n",
        "num_big_batches = 0\n",
        "big_batch = []\n",
        "\n",
        "B = 10 # Number of facts for each entity\n",
        "random.shuffle(dev_entities)\n",
        "idx_count = 0\n",
        "idx = 0\n",
        "while num_batches < 1000:\n",
        "    if idx == len(dev_entities):\n",
        "        random.shuffle(dev_entities)\n",
        "        idx = 0\n",
        "    entity = dev_entities[idx]\n",
        "    idx += 1\n",
        "    idx_count += 1\n",
        "    \n",
        "    # Sample set of facts for an entity\n",
        "    # Sampling method 2\n",
        "    entity_facts = list(facts[entity].items())\n",
        "    base = random.choice(entity_facts)\n",
        "    relation, label = base\n",
        "    nearby = neighbors.get(relation, set())\n",
        "    allowed_facts = [f for f in entity_facts if f[0] in nearby]\n",
        "    if len(allowed_facts) < B - 1:\n",
        "        continue\n",
        "    batch = random.sample(allowed_facts, min(B - 1, len(allowed_facts)))\n",
        "    batch = [base] + batch\n",
        "    batch = [(entity, rel, label == \"yes\") for rel, label in batch]\n",
        "    \n",
        "\n",
        "    # # Random sampling (method 3)\n",
        "    # batch = random.sample(list(facts[entity].items()), B)\n",
        "    # batch = [(entity, relation, true == \"yes\") for relation, yes in batch]\n",
        "    \n",
        "    # Collect batches in big batches\n",
        "    if batch_counter == 0:\n",
        "        big_batch = []\n",
        "    batch_counter += 1\n",
        "    big_batch.extend(batch)\n",
        "    if batch_counter < N: # Big batch not full yet, keep accumulating examples\n",
        "        continue\n",
        "    # We have a full batch\n",
        "    batch_counter = 0\n",
        "    num_batches += N\n",
        "    num_big_batches += 1\n",
        "    \n",
        "    questions, answers = zip(*[generate_question(*tup) for tup in big_batch])\n",
        "    questions = list(questions)\n",
        "    answers = np.array(answers) == \"Yes\"\n",
        "    # print(\"Questions:\", questions)\n",
        "    # print(\"Labels (for contradiction):\", answers)\n",
        "    \n",
        "    predictions, confidences = predict(questions, max_bsize=20)\n",
        "    predictions = predictions.flatten()\n",
        "    confidences = confidences.flatten()\n",
        "    # print(\"QA predictions:\", predictions)\n",
        "    # print(\"QA confidences:\", confidences)\n",
        "    \n",
        "    pred_batch = [(ent, rel, predictions[i]) for i, (ent, rel, true) in enumerate(big_batch)]\n",
        "    assertions = [generate_assertion(*tup) for tup in pred_batch]\n",
        "    # print(\"Assertions:\", assertions)\n",
        "    \n",
        "    assertions = np.array(assertions).reshape(N, B)\n",
        "    nli_matrix = nli(assertions, nli_tokenizer, nli_model, max_bsize=20)\n",
        "    # print(\"NLI probability matrix:\\n\", nli_matrix)\n",
        "    \n",
        "    predictions = predictions.reshape(N, B)\n",
        "    confidences = confidences.reshape(N, B)\n",
        "\n",
        "    ### Evaluate with NLI Requerying\n",
        "    for i, _ in enumerate(correction_fn_names):\n",
        "        corrected, flip_mask = requery_inverted(predictions.copy(), confidences.copy(), questions.copy(), nli_matrix.copy(), big_batch.copy(), return_flip_mask = True)\n",
        "        counts['flips'][i] += np.count_nonzero(flip_mask)\n",
        "        eval_dict = evaluate(corrected, answers, pred_batch)\n",
        "        for k, v in eval_dict.items():\n",
        "            counts[k][i] += v\n",
        "    # print(eval_dict)\n",
        "    \n",
        "    if num_batches % 100 == 0:\n",
        "        print(f\"Iter {idx_count}: {num_batches} batches, {counts['total_questions'][0]} questions\")\n",
        "        for i, correction_fn in enumerate(correction_fn_names):\n",
        "            print(f\"Correction function {correction_fn}:\")\n",
        "            print('\\t' + counts_tostr(counts, i).replace('\\n', '\\n\\t'))\n",
        "            \n",
        "print(\"\\n==================== Final Results ====================\")\n",
        "print(f\"End on iter {idx_count}: {num_batches} {B}x{B} batches, {counts['total_questions'][0]} questions\")\n",
        "for i, correction_fn in enumerate(correction_fn_names):\n",
        "    print(f\"Correction function {correction_fn}:\")\n",
        "    print('\\t' + counts_tostr(counts, i).replace('\\n', '\\n\\t'))\n",
        "\n",
        "end = time.time()\n",
        "print(\"Runtime:\", end - start)\n"
      ]
    },
    {
      "cell_type": "markdown",
      "id": "460c83c0",
      "metadata": {},
      "source": [
        "### Other Evaluation Function Eval"
      ]
    },
    {
      "cell_type": "code",
      "execution_count": 65,
      "id": "88143abe-885c-499c-bcfc-40304aa1edf1",
      "metadata": {},
      "outputs": [
        {
          "name": "stdout",
          "output_type": "stream",
          "text": [
            "\n",
            "==================== Final Results ====================\n",
            "End on iter 17: 16 10x10 batches, 160 questions\n",
            "Correction function C_0:\n",
            "\tAccurate 135 / 160 = 0.84375\n",
            "\tPrecision 0.2857142857142857, recall 1.0 ==> F1 0.4444444444444445\n",
            "\tContradictions 21 / 720 pairs = 0.029166666666666667\n",
            "\tContradictions 21 / 216 relevant pairs = 0.09722222222222222\n",
            "\tConsistent+Accurate 514 / 720 pairs = 0.7138888888888889\n",
            "\tCorrections 0 / 16 batches = 0.0\n",
            "Correction function C_1:\n",
            "\tAccurate 147 / 160 = 0.91875\n",
            "\tPrecision 0.43478260869565216, recall 1.0 ==> F1 0.6060606060606061\n",
            "\tContradictions 4 / 720 pairs = 0.005555555555555556\n",
            "\tContradictions 4 / 139 relevant pairs = 0.02877697841726619\n",
            "\tConsistent+Accurate 609 / 720 pairs = 0.8458333333333333\n",
            "\tCorrections 14 / 16 batches = 0.875\n",
            "Runtime: 19.188462018966675\n"
          ]
        }
      ],
      "source": [
        "start = time.time()\n",
        "\n",
        "# correction_fn_names = ['C_0', 'C_1', 'C_2', 'C_3', 'C_4', 'C_5', 'C_6', 'C_7', 'C_8']\n",
        "correction_fn_names = ['C_0', 'C_1']\n",
        "correction_fns = [getattr(correction_utils, fn_name) for fn_name in correction_fn_names]\n",
        "\n",
        "\n",
        "counts = { \n",
        "    k: np.zeros(len(correction_fns), dtype=int) \n",
        "    for k in [\n",
        "        \"accurate\", \"TP\", \"TN\", \"FN\", \"FP\", \"contradictory_pairs\", \"consistent_acc_pairs\", \n",
        "        \"relevant_pairs\", \"total_questions\", \"num_batches\", \"flips\"\n",
        "    ]\n",
        "}\n",
        "\n",
        "N = 10 # Number of entities to sample in a big batch\n",
        "batch_counter = 0\n",
        "num_batches = 0\n",
        "num_big_batches = 0\n",
        "big_batch = []\n",
        "\n",
        "B = 10 # Number of facts for each entity\n",
        "random.shuffle(dev_entities)\n",
        "idx_count = 0\n",
        "idx = 0\n",
        "while num_batches < 10:\n",
        "    if idx == len(dev_entities):\n",
        "        random.shuffle(dev_entities)\n",
        "        idx = 0\n",
        "    entity = dev_entities[idx]\n",
        "    idx += 1\n",
        "    idx_count += 1\n",
        "    \n",
        "    # Sample set of facts for an entity\n",
        "    # Sampling method 2\n",
        "    entity_facts = list(facts[entity].items())\n",
        "    base = random.choice(entity_facts)\n",
        "    relation, label = base\n",
        "    nearby = neighbors.get(relation, set())\n",
        "    allowed_facts = [f for f in entity_facts if f[0] in nearby]\n",
        "    if len(allowed_facts) < B - 1:\n",
        "        continue\n",
        "    batch = random.sample(allowed_facts, min(B - 1, len(allowed_facts)))\n",
        "    batch = [base] + batch\n",
        "    batch = [(entity, rel, label == \"yes\") for rel, label in batch]\n",
        "    \n",
        "\n",
        "    # # Random sampling (method 3)\n",
        "    # batch = random.sample(list(facts[entity].items()), B)\n",
        "    # batch = [(entity, relation, true == \"yes\") for relation, yes in batch]\n",
        "    \n",
        "    # Collect batches in big batches\n",
        "    if batch_counter == 0:\n",
        "        big_batch = []\n",
        "    batch_counter += 1\n",
        "    big_batch.extend(batch)\n",
        "    if batch_counter < N: # Big batch not full yet, keep accumulating examples\n",
        "        continue\n",
        "    # We have a full batch\n",
        "    batch_counter = 0\n",
        "    num_batches += N\n",
        "    num_big_batches += 1\n",
        "    \n",
        "    questions, answers = zip(*[generate_question(*tup) for tup in big_batch])\n",
        "    questions = list(questions)\n",
        "    answers = np.array(answers) == \"Yes\"\n",
        "    # print(\"Questions:\", questions)\n",
        "    # print(\"Labels (for contradiction):\", answers)\n",
        "    \n",
        "    predictions, confidences = predict(questions, max_bsize=20)\n",
        "    predictions = predictions.flatten()\n",
        "    confidences = confidences.flatten()\n",
        "    # print(\"QA predictions:\", predictions)\n",
        "    # print(\"QA confidences:\", confidences)\n",
        "    \n",
        "    pred_batch = [(ent, rel, predictions[i]) for i, (ent, rel, true) in enumerate(big_batch)]\n",
        "    assertions = [generate_assertion(*tup) for tup in pred_batch]\n",
        "    # print(\"Assertions:\", assertions)\n",
        "    \n",
        "    assertions = np.array(assertions).reshape(N, B)\n",
        "    nli_matrix = nli(assertions, nli_tokenizer, nli_model, max_bsize=20)\n",
        "    # print(\"NLI probability matrix:\\n\", nli_matrix)\n",
        "    \n",
        "    predictions = predictions.reshape(N, B)\n",
        "    confidences = confidences.reshape(N, B)\n",
        "\n",
        "    ### Evaluate with NLI Requerying\n",
        "    # corrected, flip_mask = requery_correction_fn(predictions.copy(), confidences.copy(), questions.copy(), nli_matrix.copy(), big_batch.copy(), return_flip_mask = True)\n",
        "    # counts['flips'][i] += np.count_nonzero(flip_mask)\n",
        "    # eval_dict = evaluate(corrected, answers, pred_batch)\n",
        "    # for k, v in eval_dict.items():\n",
        "    #     counts[k][i] += v\n",
        "\n",
        "\n",
        "    ### Evaluate with correction functions\n",
        "    for i, correction_fn in enumerate(correction_fns):\n",
        "        corrected, flip_mask = correction_fn(predictions.copy(), confidences.copy(), nli_matrix.copy(), return_flip_mask=True)\n",
        "        counts['flips'][i] += np.count_nonzero(flip_mask)\n",
        "        eval_dict = evaluate(corrected, answers, pred_batch)\n",
        "        for k, v in eval_dict.items():\n",
        "            counts[k][i] += v\n",
        "    # print(eval_dict)\n",
        "    \n",
        "    if num_batches % 100 == 0:\n",
        "        print(f\"Iter {idx_count}: {num_batches} batches, {counts['total_questions'][0]} questions\")\n",
        "        for i, fn_name in enumerate(correction_fn_names):\n",
        "            print(f\"Correction function {fn_name}:\")\n",
        "            print('\\t' + counts_tostr(counts, i).replace('\\n', '\\n\\t'))\n",
        "            \n",
        "print(\"\\n==================== Final Results ====================\")\n",
        "print(f\"End on iter {idx_count}: {num_batches} {B}x{B} batches, {counts['total_questions'][0]} questions\")\n",
        "for i, fn_name in enumerate(correction_fn_names):\n",
        "    print(f\"Correction function {fn_name}:\")\n",
        "    print('\\t' + counts_tostr(counts, i).replace('\\n', '\\n\\t'))\n",
        "\n",
        "end = time.time()\n",
        "print(\"Runtime:\", end - start)\n"
      ]
    },
    {
      "cell_type": "code",
      "execution_count": 29,
      "id": "d406c953-eab3-4d91-af3b-adfa2780528f",
      "metadata": {},
      "outputs": [
        {
          "name": "stdout",
          "output_type": "stream",
          "text": [
            "2022-03-12T08:08:16\n"
          ]
        }
      ],
      "source": [
        "now = datetime.now().strftime(\"%Y-%m-%dT%H:%M:%S\")\n",
        "print(now)"
      ]
    },
    {
      "cell_type": "code",
      "execution_count": 30,
      "id": "3334bdb7-69e0-45b0-8778-b06c4aebd869",
      "metadata": {},
      "outputs": [],
      "source": [
        "df_dict = counts.copy()\n",
        "df_dict['correction_fn'] = correction_fn_names\n",
        "df = pd.DataFrame(df_dict)\n",
        "df = df[['correction_fn'] + [k for k in counts.keys()]]\n",
        "df.to_csv(f'results/{now}.csv', index=False)"
      ]
    },
    {
      "cell_type": "code",
      "execution_count": 31,
      "id": "42ba4e0b-ee37-4ce1-a7b1-78c0b7e0531a",
      "metadata": {},
      "outputs": [
        {
          "data": {
            "text/html": [
              "<div>\n",
              "<style scoped>\n",
              "    .dataframe tbody tr th:only-of-type {\n",
              "        vertical-align: middle;\n",
              "    }\n",
              "\n",
              "    .dataframe tbody tr th {\n",
              "        vertical-align: top;\n",
              "    }\n",
              "\n",
              "    .dataframe thead th {\n",
              "        text-align: right;\n",
              "    }\n",
              "</style>\n",
              "<table border=\"1\" class=\"dataframe\">\n",
              "  <thead>\n",
              "    <tr style=\"text-align: right;\">\n",
              "      <th></th>\n",
              "      <th>correction_fn</th>\n",
              "      <th>accurate</th>\n",
              "      <th>TP</th>\n",
              "      <th>TN</th>\n",
              "      <th>FN</th>\n",
              "      <th>FP</th>\n",
              "      <th>contradictory_pairs</th>\n",
              "      <th>consistent_acc_pairs</th>\n",
              "      <th>relevant_pairs</th>\n",
              "      <th>total_questions</th>\n",
              "      <th>num_batches</th>\n",
              "      <th>flips</th>\n",
              "    </tr>\n",
              "  </thead>\n",
              "  <tbody>\n",
              "    <tr>\n",
              "      <th>0</th>\n",
              "      <td>C_0</td>\n",
              "      <td>136</td>\n",
              "      <td>19</td>\n",
              "      <td>117</td>\n",
              "      <td>2</td>\n",
              "      <td>22</td>\n",
              "      <td>14</td>\n",
              "      <td>517</td>\n",
              "      <td>195</td>\n",
              "      <td>160</td>\n",
              "      <td>16</td>\n",
              "      <td>0</td>\n",
              "    </tr>\n",
              "    <tr>\n",
              "      <th>1</th>\n",
              "      <td>C_1</td>\n",
              "      <td>146</td>\n",
              "      <td>19</td>\n",
              "      <td>127</td>\n",
              "      <td>2</td>\n",
              "      <td>12</td>\n",
              "      <td>8</td>\n",
              "      <td>601</td>\n",
              "      <td>125</td>\n",
              "      <td>160</td>\n",
              "      <td>16</td>\n",
              "      <td>16</td>\n",
              "    </tr>\n",
              "  </tbody>\n",
              "</table>\n",
              "</div>"
            ],
            "text/plain": [
              "  correction_fn  accurate  TP   TN  FN  FP  contradictory_pairs  \\\n",
              "0           C_0       136  19  117   2  22                   14   \n",
              "1           C_1       146  19  127   2  12                    8   \n",
              "\n",
              "   consistent_acc_pairs  relevant_pairs  total_questions  num_batches  flips  \n",
              "0                   517             195              160           16      0  \n",
              "1                   601             125              160           16     16  "
            ]
          },
          "execution_count": 31,
          "metadata": {},
          "output_type": "execute_result"
        }
      ],
      "source": [
        "# now = \"2022-02-26T06:34:50\"\n",
        "df = pd.read_csv(f'results/{now}.csv')\n",
        "df"
      ]
    },
    {
      "cell_type": "code",
      "execution_count": 32,
      "id": "47cc106a-acfc-4cef-8e91-7ee9eb0cec26",
      "metadata": {},
      "outputs": [
        {
          "name": "stdout",
          "output_type": "stream",
          "text": [
            "accurate\n",
            "TP\n",
            "TN\n",
            "FN\n",
            "FP\n",
            "contradictory_pairs\n",
            "consistent_acc_pairs\n",
            "relevant_pairs\n",
            "total_questions\n",
            "num_batches\n",
            "flips\n"
          ]
        }
      ],
      "source": [
        "correction_fn_names = df['correction_fn'].to_numpy()\n",
        "for k in df.columns:\n",
        "    if k == 'correction_fn':\n",
        "        continue\n",
        "    print(k)\n",
        "    exec(f\"{k} = df['{k}'].to_numpy()\")"
      ]
    },
    {
      "cell_type": "code",
      "execution_count": 33,
      "id": "be471021-3425-4462-8644-5e43347b7669",
      "metadata": {},
      "outputs": [
        {
          "data": {
            "image/png": "[encoded data removed]",
            "text/plain": [
              "<Figure size 360x360 with 1 Axes>"
            ]
          },
          "metadata": {
            "needs_background": "light"
          },
          "output_type": "display_data"
        },
        {
          "data": {
            "image/png": "[encoded data removed]",
            "text/plain": [
              "<Figure size 360x360 with 1 Axes>"
            ]
          },
          "metadata": {
            "needs_background": "light"
          },
          "output_type": "display_data"
        },
        {
          "data": {
            "image/png": "[encoded data removed]",
            "text/plain": [
              "<Figure size 360x360 with 1 Axes>"
            ]
          },
          "metadata": {
            "needs_background": "light"
          },
          "output_type": "display_data"
        },
        {
          "data": {
            "image/png": "[encoded data removed]",
            "text/plain": [
              "<Figure size 360x360 with 1 Axes>"
            ]
          },
          "metadata": {
            "needs_background": "light"
          },
          "output_type": "display_data"
        },
        {
          "data": {
            "image/png": "[encoded data removed]",
            "text/plain": [
              "<Figure size 360x360 with 1 Axes>"
            ]
          },
          "metadata": {
            "needs_background": "light"
          },
          "output_type": "display_data"
        },
        {
          "data": {
            "image/png": "[encoded data removed]",
            "text/plain": [
              "<Figure size 360x360 with 1 Axes>"
            ]
          },
          "metadata": {
            "needs_background": "light"
          },
          "output_type": "display_data"
        },
        {
          "data": {
            "image/png": "[encoded data removed]",
            "text/plain": [
              "<Figure size 360x360 with 1 Axes>"
            ]
          },
          "metadata": {
            "needs_background": "light"
          },
          "output_type": "display_data"
        },
        {
          "data": {
            "image/png": "[encoded data removed]",
            "text/plain": [
              "<Figure size 360x360 with 1 Axes>"
            ]
          },
          "metadata": {
            "needs_background": "light"
          },
          "output_type": "display_data"
        }
      ],
      "source": [
        "accuracies = accurate / total_questions * 100\n",
        "precisions = TP / (TP + FP)\n",
        "recalls = TP / (TP + FN)\n",
        "f1_scores = 2 * TP / (2 * TP + FP + FN)\n",
        "contra_rates = contradictory_pairs / (num_batches * B * (B - 1) / 2) * 100\n",
        "relevant_contra_rates = contradictory_pairs / relevant_pairs * 100\n",
        "conacc_rates = consistent_acc_pairs / (num_batches * B * (B - 1) / 2) * 100\n",
        "flip_rates = (flips / total_questions) * 100\n",
        "if not os.path.isdir(f\"figures/{now}\"):\n",
        "    os.mkdir(f\"figures/{now}\")\n",
        "\n",
        "figsize = (5,5)\n",
        "fig, ax = plt.subplots(figsize=figsize)\n",
        "ax.bar(correction_fn_names, accuracies)\n",
        "for i, v in enumerate(accuracies):\n",
        "    ax.text(i, v + 1 + max(accuracies) // 25, str(round(v, 1)), color=\"#0967a2\", fontweight='semibold', ha='center', va='center')\n",
        "ax.set_ylim(0, 100)\n",
        "ax.set_xlabel(\"Correction method\")\n",
        "ax.set_ylabel(\"Percent accuracy\")\n",
        "plt.show()\n",
        "fig.savefig(f\"figures/{now}/accuracy.png\")\n",
        "\n",
        "figsize = (5,5)\n",
        "fig, ax = plt.subplots(figsize=figsize)\n",
        "ax.bar(correction_fn_names, precisions)\n",
        "for i, v in enumerate(precisions):\n",
        "    ax.text(i, v + 0.02, str(round(v, 2)), color=\"#0967a2\", fontweight='semibold', ha='center', va='center')\n",
        "ax.set_ylim(0, min(max(precisions + 0.1), 1.05))\n",
        "ax.set_xlabel(\"Correction method\")\n",
        "ax.set_ylabel(\"Precision\")\n",
        "plt.show()\n",
        "fig.savefig(f\"figures/{now}/precision.png\")\n",
        "\n",
        "figsize = (5,5)\n",
        "fig, ax = plt.subplots(figsize=figsize)\n",
        "ax.bar(correction_fn_names, recalls)\n",
        "for i, v in enumerate(recalls):\n",
        "    ax.text(i, v + 0.05, str(round(v, 2)), color=\"#0967a2\", fontweight='semibold', ha='center', va='center')\n",
        "ax.set_ylim(0, min(max(recalls + 0.1), 1.05))\n",
        "ax.set_xlabel(\"Correction method\")\n",
        "ax.set_ylabel(\"Recall\")\n",
        "plt.show()\n",
        "fig.savefig(f\"figures/{now}/recall.png\")\n",
        "\n",
        "figsize = (5,5)\n",
        "fig, ax = plt.subplots(figsize=figsize)\n",
        "ax.bar(correction_fn_names, f1_scores)\n",
        "for i, v in enumerate(f1_scores):\n",
        "    ax.text(i, v + 0.02, str(round(v, 2)), color=\"#0967a2\", fontweight='semibold', ha='center', va='center')\n",
        "ax.set_ylim(0, min(max(f1_scores + 0.1), 1.05))\n",
        "ax.set_xlabel(\"Correction method\")\n",
        "ax.set_ylabel(\"F1 score\")\n",
        "plt.show()\n",
        "fig.savefig(f\"figures/{now}/f1_score.png\")\n",
        "\n",
        "fig, ax = plt.subplots(figsize=figsize)\n",
        "plt.bar(correction_fn_names, contra_rates)\n",
        "for i, v in enumerate(contra_rates):\n",
        "    ax.text(i, v + 1 + max(contra_rates) // 25, str(round(v, 1)), color=\"#0967a2\", fontweight='semibold', ha='center', va='center')\n",
        "ax.set_ylim(0, min(max(contra_rates) + 5, 100))\n",
        "ax.set_xlabel(\"Correction method\")\n",
        "ax.set_ylabel(\"Percent contradictory pairs\")\n",
        "plt.show()\n",
        "fig.savefig(f\"figures/{now}/contradict.png\")\n",
        "\n",
        "fig, ax = plt.subplots(figsize=figsize)\n",
        "plt.bar(correction_fn_names, relevant_contra_rates)\n",
        "for i, v in enumerate(relevant_contra_rates):\n",
        "    ax.text(i, v + 1 + max(relevant_contra_rates) // 25, str(round(v, 1)), color=\"#0967a2\", fontweight='semibold', ha='center', va='center')\n",
        "ax.set_ylim(0, min(max(relevant_contra_rates) + 5, 100))\n",
        "ax.set_xlabel(\"Correction method\")\n",
        "ax.set_ylabel(\"Percent contradictory relevant pairs\")\n",
        "plt.show()\n",
        "fig.savefig(f\"figures/{now}/contradict_relevant.png\") \n",
        "\n",
        "fig, ax = plt.subplots(figsize=figsize)\n",
        "plt.bar(correction_fn_names, conacc_rates)\n",
        "for i, v in enumerate(conacc_rates):\n",
        "    ax.text(i, v + 1 + max(accuracies) // 25, str(round(v, 1)), color=\"#0967a2\", fontweight='semibold', ha='center', va='center')\n",
        "ax.set_ylim(0, min(max(conacc_rates) + 10, 100))\n",
        "ax.set_xlabel(\"Correction method\")\n",
        "ax.set_ylabel(\"Percent consistent accuracy\")\n",
        "plt.show()\n",
        "fig.savefig(f\"figures/{now}/consistent_accuracy.png\")\n",
        "\n",
        "fig, ax = plt.subplots(figsize=figsize)\n",
        "plt.bar(correction_fn_names, flip_rates)\n",
        "for i, v in enumerate(flip_rates):\n",
        "    ax.text(i, v + 1 + max(accuracies) // 25, str(round(v, 1)), color=\"#0967a2\", fontweight='semibold', ha='center', va='center')\n",
        "ax.set_ylim(0, min(max(flip_rates) + 10, 100))\n",
        "ax.set_xlabel(\"Correction method\")\n",
        "ax.set_ylabel(\"Percent flipped predictions\")\n",
        "plt.show()\n",
        "fig.savefig(f\"figures/{now}/flipped.png\")"
      ]
    },
    {
      "cell_type": "code",
      "execution_count": null,
      "id": "4ca2bd2d-3125-4e00-b1c3-b33c6ee04aa0",
      "metadata": {},
      "outputs": [],
      "source": []
    },
    {
      "cell_type": "code",
      "execution_count": null,
      "id": "1fb390e9",
      "metadata": {},
      "outputs": [],
      "source": []
    }
  ],
  "metadata": {
    "interpreter": {
      "hash": "9169f1d4e16acc976bbb73e323b0dbdf23f1c55e833fb2befffc4fb50ac2de2f"
    },
    "kernel_info": {
      "name": "azureml_py38_pt_tf"
    },
    "kernelspec": {
      "display_name": "Python 3.8 - Pytorch and Tensorflow",
      "language": "python",
      "name": "python3"
    },
    "language_info": {
      "codemirror_mode": {
        "name": "ipython",
        "version": 3
      },
      "file_extension": ".py",
      "mimetype": "text/x-python",
      "name": "python",
      "nbconvert_exporter": "python",
      "pygments_lexer": "ipython3",
      "version": "3.8.1"
    },
    "microsoft": {
      "host": {
        "AzureML": {
          "notebookHasBeenCompleted": true
        }
      }
    },
    "nteract": {
      "version": "nteract-front-end@1.0.0"
    }
  },
  "nbformat": 4,
  "nbformat_minor": 5
}
