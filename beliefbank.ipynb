{
 "cells": [
  {
   "cell_type": "code",
   "execution_count": 2,
   "id": "4f1f5c83-8aef-487e-a992-d831e97571d1",
   "metadata": {},
   "outputs": [],
   "source": [
    "import os, sys\n",
    "import json\n",
    "import nltk \n",
    "import csv\n",
    "import random\n",
    "import nltk  # $ pip install nltk\n",
    "from nltk.stem import PorterStemmer\n",
    "from nltk.corpus import cmudict  # >>> nltk.download('cmudict')\n",
    "from nltk.tokenize import word_tokenize\n",
    "from spellchecker import SpellChecker\n",
    "\n",
    "from beliefbank_data.utils import generate_assertion, generate_question"
   ]
  },
  {
   "cell_type": "code",
   "execution_count": 3,
   "id": "b572655b-1de1-4350-93a1-393667bc93fc",
   "metadata": {},
   "outputs": [
    {
     "name": "stdout",
     "output_type": "stream",
     "text": [
      "calibration_facts.json     convert_to_sentences.py  silver_facts.json\n",
      "calibration_questions.csv  dev_entities.txt         silver_questions.csv\n",
      "calibration_sentences.csv  eval_entities.txt        silver_sentences.csv\n",
      "constraints_v2.json        \u001b[0m\u001b[01;34m__pycache__\u001b[0m/             utils.py\n"
     ]
    }
   ],
   "source": [
    "%ls beliefbank_data"
   ]
  },
  {
   "cell_type": "code",
   "execution_count": 4,
   "id": "576811b6-64e9-4775-8575-c81d3f16dc66",
   "metadata": {},
   "outputs": [],
   "source": [
    "constraints_path = \"beliefbank_data/constraints_v2.json\"\n",
    "facts_path = \"beliefbank_data/silver_facts.json\""
   ]
  },
  {
   "cell_type": "code",
   "execution_count": 5,
   "id": "22599fe6-b642-40fb-aabd-8ac8e42c77c6",
   "metadata": {},
   "outputs": [],
   "source": [
    "constraints = json.load(open(constraints_path))\n",
    "facts = json.load(open(facts_path))"
   ]
  },
  {
   "cell_type": "raw",
   "id": "a6591f4d-6c1b-4792-a7c9-f24fad0bef93",
   "metadata": {},
   "source": [
    "Facts format:\n",
    "Dict[ entity : Dict[ relation : yes/no ]]\n",
    "{\n",
    "    'entity1': {\n",
    "        'relation1,object1': 'yes',\n",
    "        'relation2,object2': 'yes',\n",
    "    }\n",
    "}"
   ]
  },
  {
   "cell_type": "code",
   "execution_count": 5,
   "id": "ad70b611-89f3-4b65-b14a-882d9e959447",
   "metadata": {},
   "outputs": [
    {
     "data": {
      "text/plain": [
       "'yes'"
      ]
     },
     "execution_count": 5,
     "metadata": {},
     "output_type": "execute_result"
    }
   ],
   "source": [
    "facts['american bison']['IsA,mammal']"
   ]
  },
  {
   "cell_type": "code",
   "execution_count": 6,
   "id": "c46dc3e8-7e56-4801-90e9-cfb59781cd35",
   "metadata": {},
   "outputs": [
    {
     "data": {
      "text/plain": [
       "[{'id': 'IsA,tree'}, {'id': 'IsA,living thing'}]"
      ]
     },
     "execution_count": 6,
     "metadata": {},
     "output_type": "execute_result"
    }
   ],
   "source": [
    "constraints['nodes'][:2]"
   ]
  },
  {
   "cell_type": "code",
   "execution_count": 7,
   "id": "42e41729-4e38-4bf7-99e7-22d22217146b",
   "metadata": {},
   "outputs": [
    {
     "data": {
      "text/plain": [
       "[{'weight': 'yes_yes',\n",
       "  'direction': 'forward',\n",
       "  'score': 10,\n",
       "  'source': 'IsA,tree',\n",
       "  'target': 'IsA,living thing'},\n",
       " {'weight': 'yes_yes',\n",
       "  'direction': 'forward',\n",
       "  'score': 10,\n",
       "  'source': 'IsA,tree',\n",
       "  'target': 'CapableOf,grow'}]"
      ]
     },
     "execution_count": 7,
     "metadata": {},
     "output_type": "execute_result"
    }
   ],
   "source": [
    "constraints['links'][:2]"
   ]
  },
  {
   "cell_type": "code",
   "execution_count": 40,
   "id": "065b245a-8913-495c-82fd-844cc5ec5fd9",
   "metadata": {},
   "outputs": [
    {
     "data": {
      "text/plain": [
       "{'IsA,mammal': 'yes',\n",
       " 'IsA,american bison': 'yes',\n",
       " 'IsA,animal': 'yes',\n",
       " 'IsA,vertebrate': 'yes',\n",
       " 'IsA,warm blooded animal': 'yes',\n",
       " 'CapableOf,drink liquids': 'yes',\n",
       " 'HasPart,hair': 'yes',\n",
       " 'IsA,air breathing vertebrate': 'yes',\n",
       " 'CapableOf,mate': 'yes',\n",
       " 'IsA,amniote': 'yes',\n",
       " 'IsA,candy': 'no',\n",
       " 'IsA,cheese': 'no',\n",
       " 'IsA,salad': 'no',\n",
       " 'IsA,sugar': 'no',\n",
       " 'IsA,cake': 'no',\n",
       " 'IsA,fruit': 'no',\n",
       " 'IsA,meal': 'no',\n",
       " 'IsA,soup': 'no',\n",
       " 'IsA,vegetable': 'no',\n",
       " 'IsA,fish': 'no',\n",
       " 'IsA,bird': 'no',\n",
       " 'IsA,reptile': 'no',\n",
       " 'IsA,herb': 'no',\n",
       " 'MadeOf,cells molecules and atoms': 'yes',\n",
       " 'IsA,living creature': 'yes',\n",
       " 'IsA,organism': 'yes',\n",
       " 'CapableOf,eating': 'yes',\n",
       " 'CapableOf,live': 'yes',\n",
       " 'HasPart,face': 'yes',\n",
       " 'IsA,living organism': 'yes',\n",
       " 'HasProperty,alive': 'yes',\n",
       " 'CapableOf,move itself about': 'yes',\n",
       " 'HasPart,head': 'yes',\n",
       " 'CapableOf,fight for life': 'yes',\n",
       " 'CapableOf,note food': 'yes',\n",
       " 'IsA,bacterium': 'no',\n",
       " 'IsA,virus': 'no',\n",
       " 'IsA,fungus': 'no',\n",
       " 'IsA,plant': 'no',\n",
       " 'IsA,invertebrate': 'no',\n",
       " 'IsA,living thing': 'yes',\n",
       " 'HasPart,cell': 'yes',\n",
       " 'MadeOf,cells': 'yes',\n",
       " 'HasPart,body part': 'yes',\n",
       " 'IsA,mineral': 'no',\n",
       " 'IsA,artifact': 'no',\n",
       " 'IsA,sound': 'no',\n",
       " 'IsA,religion': 'no',\n",
       " 'IsA,science': 'no',\n",
       " 'IsA,government': 'no',\n",
       " 'IsA,art': 'no',\n",
       " 'IsA,company': 'no',\n",
       " 'IsA,hair': 'no',\n",
       " 'IsA,action': 'no',\n",
       " 'IsA,sport': 'no',\n",
       " 'IsA,disease': 'no',\n",
       " 'IsA,fire': 'no',\n",
       " 'IsA,liquid': 'no',\n",
       " 'IsA,molecule': 'no',\n",
       " 'IsA,location': 'no',\n",
       " 'CapableOf,die no more than once': 'yes',\n",
       " 'IsA,planet': 'no',\n",
       " 'IsA,insect': 'no',\n",
       " 'IsA,lizard': 'no',\n",
       " 'IsA,bridge': 'no',\n",
       " 'IsA,politician': 'no',\n",
       " 'IsA,boat': 'no',\n",
       " 'IsA,carbohydrate': 'no',\n",
       " 'IsA,water': 'no',\n",
       " 'IsA,palm tree': 'no',\n",
       " 'IsA,jellyfish': 'no',\n",
       " 'IsA,car': 'no',\n",
       " 'IsA,country': 'no',\n",
       " 'IsA,wine': 'no',\n",
       " 'IsA,kitchen utensil': 'no',\n",
       " 'IsA,plastic': 'no',\n",
       " 'IsA,restaurant': 'no',\n",
       " 'IsA,river': 'no',\n",
       " 'IsA,road': 'no',\n",
       " 'IsA,town': 'no',\n",
       " 'IsA,asia': 'no',\n",
       " 'IsA,continent': 'no',\n",
       " 'IsA,clothes': 'no',\n",
       " 'IsA,flower': 'no',\n",
       " 'IsA,metal': 'no',\n",
       " 'IsA,building': 'no',\n",
       " 'IsA,acid': 'no',\n",
       " 'IsA,tree': 'no',\n",
       " 'IsA,food': 'no',\n",
       " 'IsA,protein': 'no',\n",
       " 'IsA,dog': 'no',\n",
       " 'IsA,ocean': 'no',\n",
       " 'IsA,deer': 'no',\n",
       " 'IsA,doctor': 'no',\n",
       " 'IsA,movie': 'no',\n",
       " 'IsA,bathroom': 'no',\n",
       " 'IsA,jewelry': 'no',\n",
       " 'IsA,student': 'no',\n",
       " 'IsA,publication': 'no',\n",
       " 'IsA,cat': 'no',\n",
       " 'IsA,horse': 'no',\n",
       " 'IsA,city': 'no',\n",
       " 'IsA,computer': 'no',\n",
       " 'IsA,house': 'no',\n",
       " 'IsA,vehicle': 'no',\n",
       " 'IsA,ant': 'no',\n",
       " 'IsA,door': 'no',\n",
       " 'IsA,human being': 'no',\n",
       " 'IsA,structure': 'no',\n",
       " 'IsA,school': 'no',\n",
       " 'IsA,turtle': 'no',\n",
       " 'IsA,europe': 'no',\n",
       " 'IsA,crustacean': 'no',\n",
       " 'IsA,shop': 'no',\n",
       " 'IsA,body of water': 'no',\n",
       " 'IsA,bicycle': 'no',\n",
       " 'IsA,president': 'no',\n",
       " 'IsA,leader': 'no',\n",
       " 'IsA,wheel': 'no',\n",
       " 'IsA,snake': 'no',\n",
       " 'IsA,wasp': 'no',\n",
       " 'IsA,drug': 'no',\n",
       " 'IsA,airplane': 'no',\n",
       " 'IsA,kitchen': 'no',\n",
       " 'IsA,toy': 'no',\n",
       " 'IsA,rodent': 'no',\n",
       " 'IsA,machine': 'no',\n",
       " 'IsA,grass': 'no',\n",
       " 'IsA,africa': 'no',\n",
       " 'IsA,forest': 'no',\n",
       " 'IsA,lake': 'no',\n",
       " 'IsA,soda': 'no',\n",
       " 'IsA,room': 'no',\n",
       " 'IsA,expert': 'no'}"
      ]
     },
     "execution_count": 40,
     "metadata": {},
     "output_type": "execute_result"
    }
   ],
   "source": [
    "facts['american bison']"
   ]
  },
  {
   "cell_type": "code",
   "execution_count": 41,
   "id": "a6055772-eacb-494d-93d6-524c5094570b",
   "metadata": {},
   "outputs": [
    {
     "data": {
      "text/plain": [
       "('american bison', 'IsA,plant', False)"
      ]
     },
     "execution_count": 41,
     "metadata": {},
     "output_type": "execute_result"
    }
   ],
   "source": [
    "entity = 'american bison'\n",
    "relation = 'IsA,plant'\n",
    "label = facts[entity][relation]\n",
    "true = (label == 'yes')\n",
    "\n",
    "base = (entity, relation, true)\n",
    "base"
   ]
  },
  {
   "cell_type": "code",
   "execution_count": 55,
   "id": "38deb519-aa54-47f8-925d-b15dd3303c58",
   "metadata": {},
   "outputs": [
    {
     "data": {
      "text/plain": [
       "[('IsA,science', 'no'),\n",
       " ('IsA,grass', 'no'),\n",
       " ('IsA,expert', 'no'),\n",
       " ('IsA,politician', 'no'),\n",
       " ('IsA,student', 'no'),\n",
       " ('IsA,room', 'no'),\n",
       " ('IsA,living creature', 'yes'),\n",
       " ('IsA,rodent', 'no'),\n",
       " ('IsA,herb', 'no'),\n",
       " ('IsA,human being', 'no')]"
      ]
     },
     "execution_count": 55,
     "metadata": {},
     "output_type": "execute_result"
    }
   ],
   "source": [
    "random.sample(list(facts[entity].items()), 10)"
   ]
  },
  {
   "cell_type": "code",
   "execution_count": 6,
   "id": "d01ec537-6d6c-4810-addc-5f06b99f15df",
   "metadata": {},
   "outputs": [],
   "source": [
    "# TODO: add depth for deeper iteration of constraints tree\n",
    "def find_constraints(constraints, filter_dict={}):\n",
    "    def filter_fn(link):\n",
    "        for k, v in filter_dict.items():\n",
    "            if link[k] != v:\n",
    "                return False\n",
    "        return True\n",
    "    \n",
    "    return list(filter(filter_fn, constraints['links']))"
   ]
  },
  {
   "cell_type": "raw",
   "id": "0983d674-7576-44cc-83c6-9913041537c5",
   "metadata": {},
   "source": [
    "Given fact, other\n",
    "if fact is True:\n",
    "    if constraint is yes_yes: fact -> other\n",
    "        correct answer is (yes, yes)\n",
    "        contradiction is (yes, no)\n",
    "    if constraint is yes_no: fact -> other\n",
    "        correct answer is (yes, no)\n",
    "        contradiction is (yes, yes)\n",
    "if fact is False:\n",
    "    if constraint is yes_yes: fact <- other\n",
    "        correct answer is (no, no)\n",
    "        contradiction is (no, yes)\n",
    "    if constraint is yes_no: fact <- other\n",
    "        correct answer is unknown\n",
    "        contradiction is (yes, yes)"
   ]
  },
  {
   "cell_type": "code",
   "execution_count": 45,
   "id": "b25c137a-be4e-43f9-94b2-f9b56fb98f28",
   "metadata": {},
   "outputs": [],
   "source": [
    "if true:\n",
    "    filter_dict = {\n",
    "        'source': relation,\n",
    "        'direction': 'forward',\n",
    "    }\n",
    "    selected_constraints = find_constraints(constraints, filter_dict=filter_dict)\n",
    "else:\n",
    "    filter_dict = {\n",
    "        'weight': 'yes_yes',\n",
    "        'target': relation,\n",
    "        'direction': 'forward',\n",
    "    }\n",
    "    selected_constraints = find_constraints(constraints, filter_dict=filter_dict)"
   ]
  },
  {
   "cell_type": "code",
   "execution_count": 46,
   "id": "97ee125e-4036-46a8-a951-687ea9da81ac",
   "metadata": {},
   "outputs": [
    {
     "data": {
      "text/plain": [
       "[{'weight': 'yes_yes',\n",
       "  'direction': 'forward',\n",
       "  'score': 10,\n",
       "  'source': 'IsA,tree',\n",
       "  'target': 'IsA,plant'},\n",
       " {'weight': 'yes_yes',\n",
       "  'direction': 'forward',\n",
       "  'score': 10,\n",
       "  'source': 'IsA,grass',\n",
       "  'target': 'IsA,plant'},\n",
       " {'weight': 'yes_yes',\n",
       "  'direction': 'forward',\n",
       "  'score': 10,\n",
       "  'source': 'IsA,fruit',\n",
       "  'target': 'IsA,plant'},\n",
       " {'weight': 'yes_yes',\n",
       "  'direction': 'forward',\n",
       "  'score': 10,\n",
       "  'source': 'IsA,flower',\n",
       "  'target': 'IsA,plant'},\n",
       " {'weight': 'yes_yes',\n",
       "  'direction': 'forward',\n",
       "  'score': 10,\n",
       "  'source': 'IsA,rose',\n",
       "  'target': 'IsA,plant'},\n",
       " {'weight': 'yes_yes',\n",
       "  'direction': 'forward',\n",
       "  'score': 10,\n",
       "  'source': 'IsA,vegetable',\n",
       "  'target': 'IsA,plant'},\n",
       " {'weight': 'yes_yes',\n",
       "  'direction': 'forward',\n",
       "  'score': 10,\n",
       "  'source': 'IsA,herb',\n",
       "  'target': 'IsA,plant'}]"
      ]
     },
     "execution_count": 46,
     "metadata": {},
     "output_type": "execute_result"
    }
   ],
   "source": [
    "selected_constraints"
   ]
  },
  {
   "cell_type": "code",
   "execution_count": 47,
   "id": "fb1b82f2-89a2-4b2e-9f5e-3b39352433f4",
   "metadata": {},
   "outputs": [
    {
     "name": "stdout",
     "output_type": "stream",
     "text": [
      "Base: ('american bison', 'IsA,plant', False)\n"
     ]
    },
    {
     "data": {
      "text/plain": [
       "[('american bison', 'IsA,tree', True),\n",
       " ('american bison', 'IsA,grass', True),\n",
       " ('american bison', 'IsA,fruit', True),\n",
       " ('american bison', 'IsA,flower', True),\n",
       " ('american bison', 'IsA,rose', True),\n",
       " ('american bison', 'IsA,vegetable', True),\n",
       " ('american bison', 'IsA,herb', True)]"
      ]
     },
     "execution_count": 47,
     "metadata": {},
     "output_type": "execute_result"
    }
   ],
   "source": [
    "contradictions = []\n",
    "for c in selected_constraints:\n",
    "    contra = (entity, c['target'] if true else c['source'], true != (c['weight'] == 'yes_yes'))\n",
    "    contradictions.append(contra)\n",
    "print(\"Base:\", base)\n",
    "contradictions"
   ]
  },
  {
   "cell_type": "code",
   "execution_count": 20,
   "id": "07ca3299-3b26-4752-96e0-4b6814daac95",
   "metadata": {},
   "outputs": [
    {
     "data": {
      "text/plain": [
       "'A american bison is a mammal.'"
      ]
     },
     "execution_count": 20,
     "metadata": {},
     "output_type": "execute_result"
    }
   ],
   "source": [
    "generate_assertion(*base)"
   ]
  },
  {
   "cell_type": "code",
   "execution_count": 21,
   "id": "7f39f187-74ad-4552-af63-54d45e48c109",
   "metadata": {},
   "outputs": [
    {
     "data": {
      "text/plain": [
       "('Is a american bison a mammal?', 'Yes')"
      ]
     },
     "execution_count": 21,
     "metadata": {},
     "output_type": "execute_result"
    }
   ],
   "source": [
    "generate_question(*base)"
   ]
  },
  {
   "cell_type": "code",
   "execution_count": null,
   "id": "910ab5ff-13ac-4c51-bb91-995b8bb2ad91",
   "metadata": {},
   "outputs": [],
   "source": []
  }
 ],
 "metadata": {
  "kernelspec": {
   "display_name": "contradiction",
   "language": "python",
   "name": "contradiction"
  },
  "language_info": {
   "codemirror_mode": {
    "name": "ipython",
    "version": 3
   },
   "file_extension": ".py",
   "mimetype": "text/x-python",
   "name": "python",
   "nbconvert_exporter": "python",
   "pygments_lexer": "ipython3",
   "version": "3.9.7"
  }
 },
 "nbformat": 4,
 "nbformat_minor": 5
}
