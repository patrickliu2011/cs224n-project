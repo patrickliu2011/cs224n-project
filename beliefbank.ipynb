{
 "cells": [
  {
   "cell_type": "code",
   "execution_count": 1,
   "id": "4f1f5c83-8aef-487e-a992-d831e97571d1",
   "metadata": {},
   "outputs": [],
   "source": [
    "import os, sys\n",
    "import json\n",
    "import nltk \n",
    "import csv\n",
    "import nltk  # $ pip install nltk\n",
    "from nltk.stem import PorterStemmer\n",
    "from nltk.corpus import cmudict  # >>> nltk.download('cmudict')\n",
    "from nltk.tokenize import word_tokenize\n",
    "from spellchecker import SpellChecker\n",
    "\n",
    "from beliefbank_data.utils import generate_assertion, generate_question"
   ]
  },
  {
   "cell_type": "code",
   "execution_count": 2,
   "id": "b572655b-1de1-4350-93a1-393667bc93fc",
   "metadata": {},
   "outputs": [
    {
     "name": "stdout",
     "output_type": "stream",
     "text": [
      "calibration_facts.json     convert_to_sentences.py  silver_sentences.csv\n",
      "calibration_questions.csv  \u001b[0m\u001b[01;34m__pycache__\u001b[0m/             utils.py\n",
      "calibration_sentences.csv  silver_facts.json\n",
      "constraints_v2.json        silver_questions.csv\n"
     ]
    }
   ],
   "source": [
    "%ls beliefbank_data"
   ]
  },
  {
   "cell_type": "code",
   "execution_count": 3,
   "id": "576811b6-64e9-4775-8575-c81d3f16dc66",
   "metadata": {},
   "outputs": [],
   "source": [
    "constraints_path = \"beliefbank_data/constraints_v2.json\"\n",
    "facts_path = \"beliefbank_data/silver_facts.json\""
   ]
  },
  {
   "cell_type": "code",
   "execution_count": 4,
   "id": "22599fe6-b642-40fb-aabd-8ac8e42c77c6",
   "metadata": {},
   "outputs": [],
   "source": [
    "constraints = json.load(open(constraints_path))\n",
    "facts = json.load(open(facts_path))"
   ]
  },
  {
   "cell_type": "raw",
   "id": "a6591f4d-6c1b-4792-a7c9-f24fad0bef93",
   "metadata": {},
   "source": [
    "Facts format:\n",
    "Dict[ entity : Dict[ relation : yes/no ]]\n",
    "{\n",
    "    'entity1': {\n",
    "        'relation1,object1': 'yes',\n",
    "        'relation2,object2': 'yes',\n",
    "    }\n",
    "}"
   ]
  },
  {
   "cell_type": "code",
   "execution_count": 5,
   "id": "ad70b611-89f3-4b65-b14a-882d9e959447",
   "metadata": {},
   "outputs": [
    {
     "data": {
      "text/plain": [
       "'yes'"
      ]
     },
     "execution_count": 5,
     "metadata": {},
     "output_type": "execute_result"
    }
   ],
   "source": [
    "facts['american bison']['IsA,mammal']"
   ]
  },
  {
   "cell_type": "code",
   "execution_count": 6,
   "id": "c46dc3e8-7e56-4801-90e9-cfb59781cd35",
   "metadata": {},
   "outputs": [
    {
     "data": {
      "text/plain": [
       "[{'id': 'IsA,tree'}, {'id': 'IsA,living thing'}]"
      ]
     },
     "execution_count": 6,
     "metadata": {},
     "output_type": "execute_result"
    }
   ],
   "source": [
    "constraints['nodes'][:2]"
   ]
  },
  {
   "cell_type": "code",
   "execution_count": 7,
   "id": "42e41729-4e38-4bf7-99e7-22d22217146b",
   "metadata": {},
   "outputs": [
    {
     "data": {
      "text/plain": [
       "[{'weight': 'yes_yes',\n",
       "  'direction': 'forward',\n",
       "  'score': 10,\n",
       "  'source': 'IsA,tree',\n",
       "  'target': 'IsA,living thing'},\n",
       " {'weight': 'yes_yes',\n",
       "  'direction': 'forward',\n",
       "  'score': 10,\n",
       "  'source': 'IsA,tree',\n",
       "  'target': 'CapableOf,grow'}]"
      ]
     },
     "execution_count": 7,
     "metadata": {},
     "output_type": "execute_result"
    }
   ],
   "source": [
    "constraints['links'][:2]"
   ]
  },
  {
   "cell_type": "code",
   "execution_count": 14,
   "id": "a6055772-eacb-494d-93d6-524c5094570b",
   "metadata": {},
   "outputs": [
    {
     "data": {
      "text/plain": [
       "('american bison', 'IsA,mammal', True)"
      ]
     },
     "execution_count": 14,
     "metadata": {},
     "output_type": "execute_result"
    }
   ],
   "source": [
    "entity = 'american bison'\n",
    "relation = 'IsA,mammal'\n",
    "label = facts[entity][relation]\n",
    "true = (label == 'yes')\n",
    "\n",
    "base = (entity, relation, true)\n",
    "base"
   ]
  },
  {
   "cell_type": "code",
   "execution_count": 15,
   "id": "d01ec537-6d6c-4810-addc-5f06b99f15df",
   "metadata": {},
   "outputs": [],
   "source": [
    "# TODO: add depth for deeper iteration of constraints tree\n",
    "def find_constraints(constraints, filter_dict={}):\n",
    "    def filter_fn(link):\n",
    "        for k, v in filter_dict.items():\n",
    "            if link[k] != v:\n",
    "                return False\n",
    "        return True\n",
    "    \n",
    "    return list(filter(filter_fn, constraints['links']))"
   ]
  },
  {
   "cell_type": "code",
   "execution_count": 18,
   "id": "b25c137a-be4e-43f9-94b2-f9b56fb98f28",
   "metadata": {},
   "outputs": [],
   "source": [
    "filter_dict = {\n",
    "    'source': relation,\n",
    "    'direction': 'forward',\n",
    "}\n",
    "selected_constraints = find_constraints(constraints, filter_dict=filter_dict)"
   ]
  },
  {
   "cell_type": "code",
   "execution_count": 19,
   "id": "fb1b82f2-89a2-4b2e-9f5e-3b39352433f4",
   "metadata": {},
   "outputs": [
    {
     "name": "stdout",
     "output_type": "stream",
     "text": [
      "Base: ('american bison', 'IsA,mammal', True)\n"
     ]
    },
    {
     "data": {
      "text/plain": [
       "[('american bison', 'IsA,warm blooded animal', False),\n",
       " ('american bison', 'CapableOf,drink liquids', False),\n",
       " ('american bison', 'IsA,vertebrate', False),\n",
       " ('american bison', 'HasPart,hair', False),\n",
       " ('american bison', 'IsA,air breathing vertebrate', False),\n",
       " ('american bison', 'IsA,animal', False),\n",
       " ('american bison', 'CapableOf,mate', False),\n",
       " ('american bison', 'IsA,amniote', False),\n",
       " ('american bison', 'IsA,candy', True),\n",
       " ('american bison', 'IsA,cheese', True),\n",
       " ('american bison', 'IsA,salad', True),\n",
       " ('american bison', 'IsA,sugar', True),\n",
       " ('american bison', 'IsA,cake', True),\n",
       " ('american bison', 'IsA,fruit', True),\n",
       " ('american bison', 'IsA,meal', True),\n",
       " ('american bison', 'IsA,soup', True),\n",
       " ('american bison', 'IsA,vegetable', True)]"
      ]
     },
     "execution_count": 19,
     "metadata": {},
     "output_type": "execute_result"
    }
   ],
   "source": [
    "contradictions = []\n",
    "for c in selected_constraints:\n",
    "    contra = (entity, c['target'], not c['weight'] == 'yes_yes')\n",
    "    contradictions.append(contra)\n",
    "print(\"Base:\", base)\n",
    "contradictions"
   ]
  },
  {
   "cell_type": "code",
   "execution_count": 20,
   "id": "07ca3299-3b26-4752-96e0-4b6814daac95",
   "metadata": {},
   "outputs": [
    {
     "data": {
      "text/plain": [
       "'A american bison is a mammal.'"
      ]
     },
     "execution_count": 20,
     "metadata": {},
     "output_type": "execute_result"
    }
   ],
   "source": [
    "generate_assertion(*base)"
   ]
  },
  {
   "cell_type": "code",
   "execution_count": 21,
   "id": "7f39f187-74ad-4552-af63-54d45e48c109",
   "metadata": {},
   "outputs": [
    {
     "data": {
      "text/plain": [
       "('Is a american bison a mammal?', 'Yes')"
      ]
     },
     "execution_count": 21,
     "metadata": {},
     "output_type": "execute_result"
    }
   ],
   "source": [
    "generate_question(*base)"
   ]
  },
  {
   "cell_type": "code",
   "execution_count": null,
   "id": "910ab5ff-13ac-4c51-bb91-995b8bb2ad91",
   "metadata": {},
   "outputs": [],
   "source": []
  }
 ],
 "metadata": {
  "kernelspec": {
   "display_name": "contradiction",
   "language": "python",
   "name": "contradiction"
  },
  "language_info": {
   "codemirror_mode": {
    "name": "ipython",
    "version": 3
   },
   "file_extension": ".py",
   "mimetype": "text/x-python",
   "name": "python",
   "nbconvert_exporter": "python",
   "pygments_lexer": "ipython3",
   "version": "3.9.7"
  }
 },
 "nbformat": 4,
 "nbformat_minor": 5
}
